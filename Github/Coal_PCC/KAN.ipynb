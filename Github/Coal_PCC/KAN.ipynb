{
 "cells": [
  {
   "cell_type": "code",
   "execution_count": 1,
   "metadata": {
    "execution": {
     "iopub.execute_input": "2024-08-14T02:02:21.687981Z",
     "iopub.status.busy": "2024-08-14T02:02:21.687981Z",
     "iopub.status.idle": "2024-08-14T02:02:24.764845Z",
     "shell.execute_reply": "2024-08-14T02:02:24.764845Z"
    }
   },
   "outputs": [],
   "source": [
    "import pandas as pd\n",
    "import torch\n",
    "from sklearn.model_selection import train_test_split\n",
    "import numpy as np\n",
    "from sklearn.metrics import mean_squared_error as mse, r2_score\n",
    "from hyperopt import fmin, tpe, hp, Trials,SparkTrials, STATUS_OK\n",
    "import pyspark\n",
    "\n",
    "from sklearn.preprocessing import MinMaxScaler\n",
    "from kan_p import *\n",
    "import torch.nn as nn\n",
    "import random\n",
    "import torch.optim as optim\n",
    "\n",
    "torch.set_default_dtype(torch.float64)\n",
    "dtype = torch.get_default_dtype()"
   ]
  },
  {
   "cell_type": "code",
   "execution_count": 2,
   "metadata": {
    "execution": {
     "iopub.execute_input": "2024-08-14T02:02:24.764845Z",
     "iopub.status.busy": "2024-08-14T02:02:24.764845Z",
     "iopub.status.idle": "2024-08-14T02:02:24.780159Z",
     "shell.execute_reply": "2024-08-14T02:02:24.780159Z"
    }
   },
   "outputs": [
    {
     "data": {
      "text/plain": [
       "['te', 'thr', 'power']"
      ]
     },
     "execution_count": 2,
     "metadata": {},
     "output_type": "execute_result"
    }
   ],
   "source": [
    "['te','thr','power']"
   ]
  },
  {
   "cell_type": "code",
   "execution_count": 3,
   "metadata": {
    "execution": {
     "iopub.execute_input": "2024-08-14T02:02:24.811484Z",
     "iopub.status.busy": "2024-08-14T02:02:24.811484Z",
     "iopub.status.idle": "2024-08-14T02:02:24.856303Z",
     "shell.execute_reply": "2024-08-14T02:02:24.856303Z"
    }
   },
   "outputs": [],
   "source": [
    "df=pd.read_csv('data.csv',header=1)\n",
    "df=df.drop(columns=['thr','te'])\n",
    "current_target='power'"
   ]
  },
  {
   "cell_type": "code",
   "execution_count": 4,
   "metadata": {
    "execution": {
     "iopub.execute_input": "2024-08-14T02:02:24.856303Z",
     "iopub.status.busy": "2024-08-14T02:02:24.856303Z",
     "iopub.status.idle": "2024-08-14T02:02:24.873051Z",
     "shell.execute_reply": "2024-08-14T02:02:24.873051Z"
    }
   },
   "outputs": [],
   "source": [
    "df = df.sort_index()\n",
    "x = df.drop(columns=current_target)\n",
    "y = df[current_target]\n",
    "x_train, x_test, y_train, y_test = train_test_split(x, y, test_size=0.3, random_state=59) #59 power, 80 thr, 70 te"
   ]
  },
  {
   "cell_type": "markdown",
   "metadata": {},
   "source": [
    "for n in range(100):\n",
    "    df = df.sort_index()\n",
    "    x = df.drop(columns=current_target)\n",
    "    y = df[current_target]\n",
    "    x_train, x_test, y_train, y_test = train_test_split(x, y, test_size=0.3, random_state=n)\n",
    "    model=CatBoostRegressor(verbose=False)\n",
    "    model.fit(x_train,y_train)\n",
    "    print(f\"{n},{mse(model.predict(x_test),y_test)}\")\n",
    "\n",
    "1. Power\n",
    "0,11.41076332145832\n",
    "1,14.318056318234506\n",
    "2,12.615432677258951\n",
    "3,10.9692100087263\n",
    "4,10.801517687064011\n",
    "5,12.931889573120856\n",
    "6,11.165391570447097\n",
    "7,12.16917434260467\n",
    "8,10.917127820213212\n",
    "9,13.57935839615522\n",
    "10,12.432077945680346\n",
    "11,12.732707904845228\n",
    "12,11.0327850528215\n",
    "13,11.352214648250026\n",
    "14,12.481151958841847\n",
    "15,10.153587045462821\n",
    "16,11.763529866459137\n",
    "17,11.574598214644269\n",
    "18,11.86273517180898\n",
    "19,12.820310809775904\n",
    "20,11.584763546706546\n",
    "21,13.044937043699003\n",
    "22,11.758697121516974\n",
    "23,11.507046552519425\n",
    "24,12.619511216698237\n",
    "25,12.444032479758212\n",
    "26,12.83678085135937\n",
    "27,12.16733444132914\n",
    "28,10.477083000524711\n",
    "29,10.13846558623491\n",
    "30,10.769794438586501\n",
    "31,14.325811735855702\n",
    "32,11.96672275368764\n",
    "33,13.465696966404627\n",
    "34,12.083252253261369\n",
    "35,11.216962449702478\n",
    "36,12.31491864162777\n",
    "37,12.705542868757869\n",
    "38,13.444925737482796\n",
    "39,12.488122783940815\n",
    "40,10.693394400966886\n",
    "41,10.911616612947489\n",
    "42,14.900715718684118\n",
    "43,11.083119052178247\n",
    "44,11.601977449220461\n",
    "45,13.053408411244328\n",
    "46,9.899147141321839\n",
    "47,13.39057280005873\n",
    "48,10.766648703492976\n",
    "49,10.980290294937715\n",
    "50,11.153880477145165\n",
    "51,14.606199682745059\n",
    "52,11.213925566348417\n",
    "53,9.542522717059787\n",
    "54,13.567374737730795\n",
    "55,10.164773511928361\n",
    "56,11.105287654265268\n",
    "57,13.718719052701877\n",
    "58,11.333540670353608\n",
    "59,8.497001911326796\n",
    "60,11.592424241690653\n",
    "61,13.5395966025784\n",
    "62,13.852712974886401\n",
    "63,11.423705747028754\n",
    "64,10.710872019194232\n",
    "65,12.743530395528891\n",
    "66,11.573257758357832\n",
    "67,10.84146119086138\n",
    "68,10.467392989379448\n",
    "69,9.922823143106037\n",
    "70,9.493745530032145\n",
    "71,11.27202842133312\n",
    "72,11.694136676152718\n",
    "73,12.221674327283248\n",
    "74,15.035725746620779\n",
    "75,12.914080086013572\n",
    "76,11.991917552718007\n",
    "77,10.672710500953265\n",
    "78,12.553205170616755\n",
    "79,11.502409588056507\n",
    "80,10.990264842503139\n",
    "81,10.701090721830576\n",
    "82,13.345973717809267\n",
    "83,12.270014988052035\n",
    "84,10.698777741688778\n",
    "85,14.022644787847042\n",
    "86,14.003823575109015\n",
    "87,13.484354357882074\n",
    "88,16.74424161345748\n",
    "89,9.0584365100587\n",
    "90,11.301090321941386\n",
    "91,12.863339937586238\n",
    "92,11.337603778800208\n",
    "93,12.967600159536852\n",
    "94,12.614455759261125\n",
    "95,12.738102727813791\n",
    "96,14.523567952695963\n",
    "97,12.113701126343665\n",
    "98,12.909167771026341\n",
    "99,10.18505805373564\n",
    "\n",
    "2. thr\n",
    "0,4724.232213861554\n",
    "1,4610.825216184579\n",
    "2,6055.330869032593\n",
    "3,5114.488568205936\n",
    "4,4738.928403766669\n",
    "5,5314.402333946792\n",
    "6,4669.131045370651\n",
    "7,5643.249412000004\n",
    "8,5104.478731674154\n",
    "9,5528.6730198652\n",
    "10,4562.4420540945775\n",
    "11,5578.509452385982\n",
    "12,4427.96414514507\n",
    "13,5267.3296545328785\n",
    "14,5430.059025260408\n",
    "15,5339.038242094627\n",
    "16,4463.802918118435\n",
    "17,5423.283793005328\n",
    "18,5614.826095396864\n",
    "19,5092.581278663082\n",
    "20,5402.7800971575025\n",
    "21,4948.794864466815\n",
    "22,5393.849578325779\n",
    "23,4550.629594567171\n",
    "24,4528.144235806636\n",
    "25,4805.273713130066\n",
    "26,5320.834926601629\n",
    "27,5805.092561170168\n",
    "28,5120.893517645038\n",
    "29,5160.893511994251\n",
    "30,5028.491613660232\n",
    "31,5184.732443553403\n",
    "32,4867.605548440525\n",
    "33,5182.0971366363765\n",
    "34,4642.394448333459\n",
    "35,5416.064049485922\n",
    "36,5710.881021144854\n",
    "37,4770.765487367637\n",
    "38,4764.385871061131\n",
    "39,5448.845713328467\n",
    "40,6343.888120215704\n",
    "41,4764.415809691513\n",
    "42,5362.37910733152\n",
    "43,6248.051196241974\n",
    "44,5555.349469577085\n",
    "45,6074.959778640582\n",
    "46,4936.474122027513\n",
    "47,5160.211503713981\n",
    "48,5004.150353288729\n",
    "49,5066.024879125629\n",
    "50,4591.952487347261\n",
    "51,4960.987063514835\n",
    "52,5556.015570281714\n",
    "53,5431.919631876493\n",
    "54,5024.144923284437\n",
    "55,5246.384037513113\n",
    "56,5592.080987565693\n",
    "57,5218.366282843651\n",
    "58,6106.796134887011\n",
    "59,4343.505385016025\n",
    "60,4893.600718824523\n",
    "61,5367.805360770601\n",
    "62,4560.21509775607\n",
    "63,4412.1453051095505\n",
    "64,4932.0284364170375\n",
    "65,4905.036682250197\n",
    "66,4266.206574155548\n",
    "67,4761.769036425087\n",
    "68,5043.469324060581\n",
    "69,5200.119529082677\n",
    "70,4758.819409553396\n",
    "71,5371.898288429307\n",
    "72,4947.394348120425\n",
    "73,5203.300931651352\n",
    "74,5038.537048240991\n",
    "75,4448.045517703519\n",
    "76,5673.410203217506\n",
    "77,5047.3068752314175\n",
    "78,5238.677834437368\n",
    "79,5422.726050005841\n",
    "80,4088.1381828730496\n",
    "81,4967.992270545817\n",
    "82,5015.697481475353\n",
    "83,5120.817700584382\n",
    "84,4315.799646068533\n",
    "85,4835.938888056308\n",
    "86,5893.133444219054\n",
    "87,4509.974195101194\n",
    "88,5154.981033043408\n",
    "89,4756.304894399503\n",
    "90,5035.578782220435\n",
    "91,4971.97205399659\n",
    "92,5264.229189323557\n",
    "93,5810.324473518437\n",
    "94,5195.027891079441\n",
    "95,5145.7653791843\n",
    "96,4897.259184556639\n",
    "97,5429.938909988875\n",
    "98,5443.355097107537\n",
    "99,4765.177934832559\n",
    "\n",
    "3. te\n",
    "0,0.1120665629226885\n",
    "1,0.1448484494235634\n",
    "2,0.12802071068611762\n",
    "3,0.12686616074333174\n",
    "4,0.11417722238927171\n",
    "5,0.14431783573811893\n",
    "6,0.14927099367427174\n",
    "7,0.11835518695834683\n",
    "8,0.104540652241308\n",
    "9,0.11813934608260267\n",
    "10,0.11991176406630617\n",
    "11,0.13935801491379995\n",
    "12,0.12374758565800831\n",
    "13,0.11918252980861\n",
    "14,0.12535937011174983\n",
    "15,0.13809263378907097\n",
    "16,0.13622218322144897\n",
    "17,0.11861752775220653\n",
    "18,0.12837964124466744\n",
    "19,0.13310270474790162\n",
    "20,0.11414667967166336\n",
    "21,0.15738185286949172\n",
    "22,0.13846191369281916\n",
    "23,0.1309763419731059\n",
    "24,0.11918574149788443\n",
    "25,0.10849208544440343\n",
    "26,0.12144241220933953\n",
    "27,0.12429918742904165\n",
    "28,0.12401341228278658\n",
    "29,0.11909251835848811\n",
    "30,0.12534313540457342\n",
    "31,0.13772528292676176\n",
    "32,0.14237334597556348\n",
    "33,0.1149908016804011\n",
    "34,0.11663034108936716\n",
    "35,0.13345979870563054\n",
    "36,0.13792373891235485\n",
    "37,0.12592205404551512\n",
    "38,0.11618716582806277\n",
    "39,0.1236946549074161\n",
    "40,0.1518154428950952\n",
    "41,0.11899933800978037\n",
    "42,0.1334104334260782\n",
    "43,0.12044933316350703\n",
    "44,0.15644423187185139\n",
    "45,0.11238427912355291\n",
    "46,0.1093926661253089\n",
    "47,0.1201130262486998\n",
    "48,0.12220893490988512\n",
    "49,0.12923868597048924\n",
    "50,0.11605447718880331\n",
    "51,0.12517486697614424\n",
    "52,0.134278481833615\n",
    "53,0.13259484396574414\n",
    "54,0.11609140521030992\n",
    "55,0.12742532655420236\n",
    "56,0.13499314819457234\n",
    "57,0.10859403980356808\n",
    "58,0.15071660643412657\n",
    "59,0.10887781628174753\n",
    "60,0.11741377662171941\n",
    "61,0.11678822582000394\n",
    "62,0.12946897402312088\n",
    "63,0.10815875501883998\n",
    "64,0.11519665336219592\n",
    "65,0.14072289953879782\n",
    "66,0.10680208387507033\n",
    "67,0.11679001282570174\n",
    "68,0.1458084399189047\n",
    "69,0.12329664410950791\n",
    "70,0.09896124419806995\n",
    "71,0.110764527136708\n",
    "72,0.11448840912744525\n",
    "73,0.1157901878695587\n",
    "74,0.12369770030845129\n",
    "75,0.10520201257422472\n",
    "76,0.11679178685757112\n",
    "77,0.12821726185318374\n",
    "78,0.10458019441962925\n",
    "79,0.14107570991744922\n",
    "80,0.1360445272398059\n",
    "81,0.12478398220148712\n",
    "82,0.13266027506933073\n",
    "83,0.10607844562993962\n",
    "84,0.10196898152963019\n",
    "85,0.14104560101320465\n",
    "86,0.1599296473332828\n",
    "87,0.13068769078279674\n",
    "88,0.11409966917269443\n",
    "89,0.13619639359241678\n",
    "90,0.12978284004793805\n",
    "91,0.13149475644232786\n",
    "92,0.14751679652468772\n",
    "93,0.1440229546456236\n",
    "94,0.14031287935662107\n",
    "95,0.13745168842971403\n",
    "96,0.12711315749420327\n",
    "97,0.13488508250140588\n",
    "98,0.12329059784840886\n",
    "99,0.11539854443483825"
   ]
  },
  {
   "cell_type": "code",
   "execution_count": 5,
   "metadata": {
    "execution": {
     "iopub.execute_input": "2024-08-14T02:02:24.873051Z",
     "iopub.status.busy": "2024-08-14T02:02:24.873051Z",
     "iopub.status.idle": "2024-08-14T02:02:24.887944Z",
     "shell.execute_reply": "2024-08-14T02:02:24.887944Z"
    }
   },
   "outputs": [],
   "source": [
    "def set_seed(seed=42):\n",
    "    np.random.seed(seed)\n",
    "    random.seed(seed)   \n",
    "    torch.manual_seed(seed)\n",
    "\n",
    "set_seed(42)"
   ]
  },
  {
   "cell_type": "code",
   "execution_count": 6,
   "metadata": {
    "execution": {
     "iopub.execute_input": "2024-08-14T02:02:24.887944Z",
     "iopub.status.busy": "2024-08-14T02:02:24.887944Z",
     "iopub.status.idle": "2024-08-14T02:02:24.898744Z",
     "shell.execute_reply": "2024-08-14T02:02:24.898744Z"
    }
   },
   "outputs": [],
   "source": [
    "dataset = {}\n",
    "train_input=x_train.to_numpy()\n",
    "train_label=y_train.to_numpy()\n",
    "test_input=x_test.to_numpy()\n",
    "test_label=y_test.to_numpy()"
   ]
  },
  {
   "cell_type": "code",
   "execution_count": 7,
   "metadata": {
    "execution": {
     "iopub.execute_input": "2024-08-14T02:02:24.898744Z",
     "iopub.status.busy": "2024-08-14T02:02:24.898744Z",
     "iopub.status.idle": "2024-08-14T02:02:24.913948Z",
     "shell.execute_reply": "2024-08-14T02:02:24.913948Z"
    }
   },
   "outputs": [],
   "source": [
    "scaler_input = MinMaxScaler()\n",
    "\n",
    "train_input_scaled = scaler_input.fit_transform(train_input)\n",
    "test_input_scaled = scaler_input.transform(test_input)\n",
    "\n",
    "dataset['train_input'] = torch.from_numpy(train_input_scaled).type(dtype)\n",
    "dataset['test_input'] = torch.from_numpy(test_input_scaled).type(dtype)\n",
    "dataset['train_label'] = torch.from_numpy(train_label[:,None]).type(dtype)\n",
    "dataset['test_label'] = torch.from_numpy(test_label[:,None]).type(dtype)"
   ]
  },
  {
   "cell_type": "code",
   "execution_count": 8,
   "metadata": {
    "execution": {
     "iopub.execute_input": "2024-08-14T02:02:24.913948Z",
     "iopub.status.busy": "2024-08-14T02:02:24.913948Z",
     "iopub.status.idle": "2024-08-14T02:02:24.929154Z",
     "shell.execute_reply": "2024-08-14T02:02:24.929154Z"
    }
   },
   "outputs": [],
   "source": [
    "def p_c(x, y, y_hat):\n",
    "    y = y[:, 0]\n",
    "    y_hat = y_hat[:, 0]\n",
    "    differences = []\n",
    "\n",
    "    for i in range(8):\n",
    "        n = x[:, i]\n",
    "        mean_n = torch.mean(n)\n",
    "        mean_y = torch.mean(y)\n",
    "        mean_y_hat = torch.mean(y_hat)\n",
    "\n",
    "        numerator1 = torch.sum((n - mean_n) * (y - mean_y))\n",
    "        denominator1 = torch.sqrt(torch.sum((n - mean_n)**2) * torch.sum((y - mean_y)**2))\n",
    "\n",
    "        numerator2 = torch.sum((n - mean_n) * (y_hat - mean_y_hat))\n",
    "        denominator2 = torch.sqrt(torch.sum((n - mean_n)**2) * torch.sum((y_hat - mean_y_hat)**2))\n",
    "\n",
    "        pc1 = numerator1 / denominator1 if denominator1 != 0 else 0\n",
    "        pc2 = numerator2 / denominator2 if denominator2 != 0 else 0\n",
    "\n",
    "        differences.append(torch.abs(torch.abs(pc1) - torch.abs(pc2)))\n",
    "\n",
    "    return torch.mean(torch.tensor(differences))"
   ]
  },
  {
   "cell_type": "code",
   "execution_count": 9,
   "metadata": {
    "execution": {
     "iopub.execute_input": "2024-08-14T02:02:24.929154Z",
     "iopub.status.busy": "2024-08-14T02:02:24.929154Z",
     "iopub.status.idle": "2024-08-14T02:02:24.943546Z",
     "shell.execute_reply": "2024-08-14T02:02:24.943546Z"
    }
   },
   "outputs": [],
   "source": [
    "space = {\n",
    "    'grid_size': hp.quniform('grid_size', 1, 15, 1),\n",
    "    'spline_order': hp.quniform('spline_order', 1, 10, 1),\n",
    "    'scale_noise': hp.loguniform('scale_noise', np.log(1e-5), np.log(1e-1)),\n",
    "    'scale_base': hp.loguniform('scale_base', np.log(1e-5), np.log(1e1)),\n",
    "    'scale_spline': hp.loguniform('scale_spline', np.log(1e-5), np.log(1e1)),\n",
    "    'learning_rate': hp.loguniform('learning_rate', np.log(1e-5), np.log(1e-1)),\n",
    "    'lambda_l1': hp.loguniform('lambda_l1', np.log(1e-7), np.log(1e-1)),\n",
    "    'lambda_l2': hp.loguniform('lambda_l2', np.log(1e-7), np.log(1e-1)),\n",
    "    'grid_eps': hp.loguniform('grid_eps', np.log(1e-7), np.log(1e-1)),\n",
    "    'non': hp.quniform('non', 8, 20, 2),\n",
    "    'p_c_loss_factor': hp.loguniform('p_c_loss_factor', np.log(1e-7), np.log(1)),\n",
    "    'activation_scale': hp.uniform('activation_scale', 0.1, 10.0)  # Uniform distribution for activation_scale\n",
    "}"
   ]
  },
  {
   "cell_type": "code",
   "execution_count": 10,
   "metadata": {
    "execution": {
     "iopub.execute_input": "2024-08-14T02:02:24.943546Z",
     "iopub.status.busy": "2024-08-14T02:02:24.943546Z",
     "iopub.status.idle": "2024-08-14T02:02:24.964506Z",
     "shell.execute_reply": "2024-08-14T02:02:24.964506Z"
    }
   },
   "outputs": [],
   "source": [
    "param_df = pd.DataFrame(columns=['params', 'loss_curve_train', 'loss_curve_test', 'best_score'])\n",
    "trial_no = 0\n",
    "bestest_score = float('inf')  # Initialize global variable\n",
    "def objective(params):\n",
    "    global trial_no, bestest_score  # Declare global variables\n",
    "    trial_no += 1\n",
    "    params['grid_size'] = int(params['grid_size'])\n",
    "    params['spline_order'] = int(params['spline_order'])\n",
    "    params['non'] = int(params['non'])\n",
    "    model = KAN(\n",
    "        layers_hidden=[8, params['non'], 1],\n",
    "        grid_size=params['grid_size'],\n",
    "        spline_order=params['spline_order'],\n",
    "        scale_noise=params['scale_noise'],\n",
    "        scale_base=params['scale_base'],\n",
    "        scale_spline=params['scale_spline'],\n",
    "        base_activation=nn.SiLU,\n",
    "        grid_eps=params['grid_eps'],\n",
    "        grid_range=[0, 1],\n",
    "        activation_scale=params['activation_scale']\n",
    "    )\n",
    "    \n",
    "    criterion = nn.MSELoss()\n",
    "    optimizer = optim.Adam(model.parameters(), lr=params['learning_rate'], weight_decay=params['lambda_l2'])\n",
    "    num_epochs = 5000\n",
    "    patience = 200\n",
    "    best_loss = float('inf')\n",
    "    epochs_no_improve = 0\n",
    "    best_model_state = None  # Initialize the best model state\n",
    "    param_df['params'].loc[trial_no] = params\n",
    "    training_loss = []\n",
    "    test_loss = []\n",
    "    \n",
    "    for epoch in range(num_epochs):\n",
    "        model.train()\n",
    "        optimizer.zero_grad()\n",
    "        predictions = model(dataset['train_input'])\n",
    "        main_loss = criterion(predictions, dataset['train_label'])\n",
    "        l1_loss = sum(p.abs().sum() for p in model.parameters())\n",
    "        pc_loss = p_c(dataset['train_input'], dataset['train_label'], predictions)\n",
    "        loss = main_loss + (params['lambda_l1'] * l1_loss) + (params['p_c_loss_factor'] * pc_loss)\n",
    "        loss.backward()\n",
    "        optimizer.step()\n",
    "        training_loss.append(loss.item())\n",
    "        \n",
    "        model.eval()\n",
    "        with torch.no_grad():\n",
    "            val_predictions = model(dataset['test_input'])\n",
    "            temp_score = mse(dataset['test_label'].cpu().numpy(), val_predictions.cpu().numpy())**0.5  # Move tensors to CPU before numpy\n",
    "        test_loss.append(temp_score)\n",
    "        \n",
    "        if temp_score < best_loss:\n",
    "            best_loss = temp_score\n",
    "            epochs_no_improve = 0\n",
    "            best_model_state = model.state_dict()\n",
    "        else:\n",
    "            epochs_no_improve += 1\n",
    "        \n",
    "        if epochs_no_improve >= patience:\n",
    "            model.load_state_dict(best_model_state)\n",
    "            break\n",
    "        \n",
    "        # Update the bestest score\n",
    "        if temp_score < bestest_score:\n",
    "            bestest_score = temp_score\n",
    "            torch.save({'model_state_dict': best_model_state, 'params': params}, f\"{current_target}_bestest_model.pth\")\n",
    "            \n",
    "    model.eval()\n",
    "    with torch.no_grad():\n",
    "        test_predictions = model(dataset['test_input'])\n",
    "    score = mse(dataset['test_label'].numpy(), test_predictions.numpy())**0.5  # Move tensors to CPU before numpy\n",
    "    param_df.loc[trial_no] = [params, training_loss, test_loss, score]\n",
    "    print(score)\n",
    "    print(params)\n",
    "    return score"
   ]
  },
  {
   "cell_type": "code",
   "execution_count": 11,
   "metadata": {
    "execution": {
     "iopub.execute_input": "2024-08-14T02:02:24.964506Z",
     "iopub.status.busy": "2024-08-14T02:02:24.964506Z",
     "iopub.status.idle": "2024-08-14T04:19:30.435361Z",
     "shell.execute_reply": "2024-08-14T04:19:30.435361Z"
    }
   },
   "outputs": [
    {
     "name": "stdout",
     "output_type": "stream",
     "text": [
      "7.047230188937474                                     \n",
      "{'activation_scale': 4.712508149159399, 'grid_eps': 0.0005182009308636067, 'grid_size': 14, 'lambda_l1': 6.8479442377276e-05, 'lambda_l2': 0.0181978111812493, 'learning_rate': 0.0002221785469670241, 'non': 8, 'p_c_loss_factor': 0.006513291244443355, 'scale_base': 4.063340505459442e-05, 'scale_noise': 0.0004921934833981566, 'scale_spline': 4.313834148608008, 'spline_order': 9}\n",
      "2.5824564042317264                                                                \n",
      "{'activation_scale': 8.03660742433442, 'grid_eps': 2.5700189738500552e-06, 'grid_size': 7, 'lambda_l1': 1.7158904201335055e-07, 'lambda_l2': 2.4431704033712436e-06, 'learning_rate': 0.0013469114727107346, 'non': 12, 'p_c_loss_factor': 0.028337122163192355, 'scale_base': 0.02328295951452574, 'scale_noise': 0.07731265605682057, 'scale_spline': 0.0016778425434835144, 'spline_order': 2}\n",
      "2.7158862823892322                                                                \n",
      "{'activation_scale': 6.649420852690623, 'grid_eps': 1.1311192033756124e-05, 'grid_size': 14, 'lambda_l1': 0.00011622858065023995, 'lambda_l2': 3.671613238927469e-06, 'learning_rate': 0.008620963535775081, 'non': 14, 'p_c_loss_factor': 0.014424542769405147, 'scale_base': 3.672866237564157e-05, 'scale_noise': 3.591086401797133e-05, 'scale_spline': 9.295886795566269e-05, 'spline_order': 4}\n",
      "431.82194386416114                                                                \n",
      "{'activation_scale': 7.8911894334243184, 'grid_eps': 0.0002654114809722699, 'grid_size': 4, 'lambda_l1': 0.027895220601133003, 'lambda_l2': 1.634315932583236e-05, 'learning_rate': 1.7110141572284966e-05, 'non': 14, 'p_c_loss_factor': 0.0003283175585980157, 'scale_base': 0.00012783911149318248, 'scale_noise': 0.001431719989375631, 'scale_spline': 0.001264902473111287, 'spline_order': 1}\n",
      "493.419980854319                                                                \n",
      "{'activation_scale': 3.02009619082718, 'grid_eps': 0.01388436737193477, 'grid_size': 10, 'lambda_l1': 2.930387202436333e-07, 'lambda_l2': 0.0016969050739749903, 'learning_rate': 1.1620889851734477e-05, 'non': 18, 'p_c_loss_factor': 0.00011598725941899346, 'scale_base': 0.2993513879931412, 'scale_noise': 0.0038511984136049217, 'scale_spline': 0.004034209485896463, 'spline_order': 10}\n",
      "2.040898721719704                                                                  \n",
      "{'activation_scale': 9.09286279580478, 'grid_eps': 1.002935749407852e-07, 'grid_size': 1, 'lambda_l1': 8.446836994206119e-05, 'lambda_l2': 4.2229452035018044e-05, 'learning_rate': 0.003440998243144301, 'non': 10, 'p_c_loss_factor': 0.00022116095546623858, 'scale_base': 0.10117408489577423, 'scale_noise': 0.0005786214953116004, 'scale_spline': 7.361739765068774, 'spline_order': 5}\n",
      "476.5492571647553                                                                  \n",
      "{'activation_scale': 1.7835137770413083, 'grid_eps': 3.441538741847406e-05, 'grid_size': 9, 'lambda_l1': 1.5898864067459616e-06, 'lambda_l2': 0.0015189200428789413, 'learning_rate': 6.733106360986923e-05, 'non': 20, 'p_c_loss_factor': 7.0562904488547585e-06, 'scale_base': 6.0434325072791015, 'scale_noise': 0.00028956990898343355, 'scale_spline': 2.9455136235627663e-05, 'spline_order': 4}\n",
      "2.9446837721722665                                                                \n",
      "{'activation_scale': 7.091732433292734, 'grid_eps': 0.030442094195641117, 'grid_size': 12, 'lambda_l1': 0.0002314218321836286, 'lambda_l2': 0.01842004923202497, 'learning_rate': 0.0002547738580665923, 'non': 14, 'p_c_loss_factor': 5.7574059490921766e-05, 'scale_base': 0.0014089193091095257, 'scale_noise': 1.1957770701970412e-05, 'scale_spline': 0.001349579804613027, 'spline_order': 4}\n",
      "2.7956760963380045                                                                \n",
      "{'activation_scale': 8.527231145924588, 'grid_eps': 1.0334502330601943e-06, 'grid_size': 9, 'lambda_l1': 0.00012272375149720215, 'lambda_l2': 0.01030187852749909, 'learning_rate': 0.01899930516983215, 'non': 20, 'p_c_loss_factor': 5.1105775784171135e-05, 'scale_base': 0.03482120601076254, 'scale_noise': 0.022420697755457443, 'scale_spline': 0.036576640630174614, 'spline_order': 3}\n",
      "2.1073782636505785                                                                \n",
      "{'activation_scale': 7.031508998516715, 'grid_eps': 1.930316148054035e-06, 'grid_size': 5, 'lambda_l1': 0.014991950386673863, 'lambda_l2': 8.18483099560715e-06, 'learning_rate': 0.005451366386026648, 'non': 16, 'p_c_loss_factor': 1.4463705062782233e-07, 'scale_base': 0.06192145215059705, 'scale_noise': 2.3311396410470846e-05, 'scale_spline': 0.7777851899137179, 'spline_order': 4}\n",
      "503.7933402355216                                                               \n",
      "{'activation_scale': 0.1608069324246115, 'grid_eps': 0.00017922605790806275, 'grid_size': 9, 'lambda_l1': 0.024935875182439473, 'lambda_l2': 0.00022033255229323692, 'learning_rate': 0.00020991536592657338, 'non': 18, 'p_c_loss_factor': 7.395639955200523e-07, 'scale_base': 1.3309145287623854, 'scale_noise': 0.000451110706481277, 'scale_spline': 0.9780317075086223, 'spline_order': 8}\n",
      "3.754081714202995                                                               \n",
      "{'activation_scale': 6.731393285782358, 'grid_eps': 8.310308712984815e-07, 'grid_size': 13, 'lambda_l1': 1.9514808996178315e-06, 'lambda_l2': 2.445559261853317e-07, 'learning_rate': 0.0044403867224246975, 'non': 8, 'p_c_loss_factor': 0.000316212189117398, 'scale_base': 0.014131868521583124, 'scale_noise': 0.029817903898362, 'scale_spline': 0.06755443907562063, 'spline_order': 2}\n",
      "492.6574093834852                                                               \n",
      "{'activation_scale': 2.632271515805541, 'grid_eps': 0.036943589588203936, 'grid_size': 6, 'lambda_l1': 8.645097889648096e-06, 'lambda_l2': 1.3554693627884378e-05, 'learning_rate': 2.0604255540780513e-05, 'non': 18, 'p_c_loss_factor': 1.4932396149246722e-07, 'scale_base': 0.42360811653076935, 'scale_noise': 0.042172186023012, 'scale_spline': 2.7774858929296427, 'spline_order': 6}\n",
      "5.0918423962649015                                                              \n",
      "{'activation_scale': 7.738018631453557, 'grid_eps': 1.0238619893257213e-05, 'grid_size': 11, 'lambda_l1': 1.6789281627835468e-06, 'lambda_l2': 0.0018676997796031021, 'learning_rate': 0.0002991105454116814, 'non': 12, 'p_c_loss_factor': 0.000807711189862663, 'scale_base': 0.0023064128527897783, 'scale_noise': 0.00011554720870225968, 'scale_spline': 0.5256394334478146, 'spline_order': 5}\n",
      "479.64654703470404                                                              \n",
      "{'activation_scale': 6.528582937104458, 'grid_eps': 0.007111165532606399, 'grid_size': 6, 'lambda_l1': 0.002006379784468787, 'lambda_l2': 0.0020604150023157738, 'learning_rate': 1.267068357312246e-05, 'non': 20, 'p_c_loss_factor': 3.912803164181128e-07, 'scale_base': 1.5923036929587966, 'scale_noise': 0.003007228389996993, 'scale_spline': 2.6948520048335514e-05, 'spline_order': 9}\n",
      "2.2625782071063045                                                                 \n",
      "{'activation_scale': 3.943859979083204, 'grid_eps': 0.011332857715399866, 'grid_size': 5, 'lambda_l1': 0.004767775551131825, 'lambda_l2': 1.6271921015398258e-07, 'learning_rate': 0.009577140378549402, 'non': 18, 'p_c_loss_factor': 8.977761699540029e-07, 'scale_base': 1.341548687101042e-05, 'scale_noise': 0.008964822253972854, 'scale_spline': 0.00044959790215709457, 'spline_order': 2}\n",
      "2.4112449767543955                                                                 \n",
      "{'activation_scale': 8.192347774725942, 'grid_eps': 0.00016025390764470732, 'grid_size': 10, 'lambda_l1': 0.0026969859756631747, 'lambda_l2': 4.264038004502609e-05, 'learning_rate': 0.011267614793830196, 'non': 14, 'p_c_loss_factor': 0.000362365473704781, 'scale_base': 0.000598446017830063, 'scale_noise': 0.03616990504585621, 'scale_spline': 0.023649985976508924, 'spline_order': 10}\n",
      "2.295255281264218                                                               \n",
      "{'activation_scale': 3.03082580494544, 'grid_eps': 3.056099502133239e-05, 'grid_size': 3, 'lambda_l1': 0.000984222774284419, 'lambda_l2': 4.6396755787337575e-05, 'learning_rate': 0.0006040398167984942, 'non': 14, 'p_c_loss_factor': 2.4482389280017106e-05, 'scale_base': 1.590100687600169e-05, 'scale_noise': 4.697115815530184e-05, 'scale_spline': 0.09870160301664695, 'spline_order': 3}\n",
      "7.7846607897221585                                                              \n",
      "{'activation_scale': 7.687974208910334, 'grid_eps': 7.19494923442827e-05, 'grid_size': 6, 'lambda_l1': 0.01508286180764787, 'lambda_l2': 0.0005661498379337694, 'learning_rate': 0.0001362436832792964, 'non': 16, 'p_c_loss_factor': 0.0003995993360528602, 'scale_base': 4.424037597940291e-05, 'scale_noise': 0.07995364252373276, 'scale_spline': 0.42473006555917336, 'spline_order': 10}\n",
      "21.826614016869083                                                               \n",
      "{'activation_scale': 6.557755120916849, 'grid_eps': 1.7726171272675067e-06, 'grid_size': 12, 'lambda_l1': 3.9369062738352e-05, 'lambda_l2': 2.021692301571895e-05, 'learning_rate': 7.354324778020789e-05, 'non': 12, 'p_c_loss_factor': 0.6482834211933791, 'scale_base': 1.9360382124765878, 'scale_noise': 0.0001387364526531226, 'scale_spline': 0.035888582890202386, 'spline_order': 4}\n",
      "2.305711432390129                                                                \n",
      "{'activation_scale': 9.614384567361924, 'grid_eps': 1.1907303589160618e-07, 'grid_size': 1, 'lambda_l1': 0.0005279197309671477, 'lambda_l2': 9.194863044436718e-07, 'learning_rate': 0.0639062075683811, 'non': 10, 'p_c_loss_factor': 0.7303924818839707, 'scale_base': 0.10777593082510879, 'scale_noise': 1.3214684746057632e-05, 'scale_spline': 8.926638935757914, 'spline_order': 6}\n",
      "2.2405554867821453                                                               \n",
      "{'activation_scale': 9.384228955415619, 'grid_eps': 1.0902746668086759e-07, 'grid_size': 1, 'lambda_l1': 1.7870589058845948e-05, 'lambda_l2': 0.00015161409267649083, 'learning_rate': 0.0022586144397924446, 'non': 16, 'p_c_loss_factor': 4.417074839772023e-06, 'scale_base': 0.08107905340273418, 'scale_noise': 3.6121039562854554e-05, 'scale_spline': 9.843580606443371, 'spline_order': 7}\n",
      "2.205059660177296                                                                \n",
      "{'activation_scale': 5.5867604066118535, 'grid_eps': 3.3351783660674656e-07, 'grid_size': 2, 'lambda_l1': 0.07209557658787569, 'lambda_l2': 4.309082248673816e-06, 'learning_rate': 0.04139168582564448, 'non': 10, 'p_c_loss_factor': 0.08736041855280613, 'scale_base': 0.004697294938663336, 'scale_noise': 0.0011471133189280454, 'scale_spline': 0.20936847687799517, 'spline_order': 5}\n",
      "2.211198384384072                                                                \n",
      "{'activation_scale': 9.196307341222962, 'grid_eps': 2.8862406518464765e-07, 'grid_size': 4, 'lambda_l1': 0.00042134190529947497, 'lambda_l2': 1.0845845407903493e-06, 'learning_rate': 0.0027362496253598417, 'non': 16, 'p_c_loss_factor': 0.003297748995719352, 'scale_base': 9.964130115429008, 'scale_noise': 0.00013378687353553841, 'scale_spline': 1.308686280995119, 'spline_order': 7}\n",
      "2.177692639569655                                                               \n",
      "{'activation_scale': 5.5581088355251875, 'grid_eps': 0.0012353070956533316, 'grid_size': 2, 'lambda_l1': 0.007654485194725356, 'lambda_l2': 0.0003585879387253923, 'learning_rate': 0.0007654153134776933, 'non': 16, 'p_c_loss_factor': 1.0506778373562373e-07, 'scale_base': 0.20936885776812839, 'scale_noise': 6.563286966099896e-05, 'scale_spline': 2.882999018893636, 'spline_order': 5}\n",
      "2.191520139544271                                                               \n",
      "{'activation_scale': 8.978932189229063, 'grid_eps': 5.732540710456463e-06, 'grid_size': 3, 'lambda_l1': 6.5993193400226225e-06, 'lambda_l2': 4.669694563722605e-05, 'learning_rate': 0.02754855770618308, 'non': 10, 'p_c_loss_factor': 3.0407556908658444e-06, 'scale_base': 0.052042825339191426, 'scale_noise': 1.9356183429390613e-05, 'scale_spline': 0.0076750377839024456, 'spline_order': 3}\n",
      "3.700915932356639                                                               \n",
      "{'activation_scale': 9.941903609378317, 'grid_eps': 2.657674746813752e-07, 'grid_size': 7, 'lambda_l1': 0.04944731284931315, 'lambda_l2': 3.826015251367137e-07, 'learning_rate': 0.09604592187987568, 'non': 12, 'p_c_loss_factor': 0.0016947042960487148, 'scale_base': 0.008918111141641552, 'scale_noise': 0.0067682136562386514, 'scale_spline': 0.15471187032098163, 'spline_order': 7}\n",
      "2.147438762971933                                                               \n",
      "{'activation_scale': 5.851933603132457, 'grid_eps': 1.1028412492158852e-07, 'grid_size': 4, 'lambda_l1': 0.0009949474680823094, 'lambda_l2': 7.5653343766994785e-06, 'learning_rate': 0.003559044111268108, 'non': 8, 'p_c_loss_factor': 0.2808528580334382, 'scale_base': 0.4989420038330188, 'scale_noise': 0.00034999295422554903, 'scale_spline': 7.924003817681064, 'spline_order': 6}\n",
      "1.9485692734605353                                                              \n",
      "{'activation_scale': 4.717677248929046, 'grid_eps': 3.753135277969336e-06, 'grid_size': 2, 'lambda_l1': 4.464829389123594e-05, 'lambda_l2': 0.07236579997086319, 'learning_rate': 0.0013356822070397735, 'non': 10, 'p_c_loss_factor': 1.0792814896581252e-05, 'scale_base': 0.00029809619282178385, 'scale_noise': 0.0002251095899018195, 'scale_spline': 1.743910795812111, 'spline_order': 5}\n",
      "2.8993228681128866                                                               \n",
      "{'activation_scale': 4.624592485835252, 'grid_eps': 0.0010105871392964672, 'grid_size': 2, 'lambda_l1': 4.9312327656855835e-05, 'lambda_l2': 0.06741399879962265, 'learning_rate': 0.0012171016609833277, 'non': 8, 'p_c_loss_factor': 1.0651529529948585e-05, 'scale_base': 0.0003573006321271185, 'scale_noise': 0.0006817370599783746, 'scale_spline': 2.557309540228476, 'spline_order': 8}\n",
      "2.517355786132503                                                                \n",
      "{'activation_scale': 4.369304470435508, 'grid_eps': 4.459426964417406e-06, 'grid_size': 1, 'lambda_l1': 6.516427084682204e-07, 'lambda_l2': 0.07972644681154421, 'learning_rate': 0.0018035625108773947, 'non': 10, 'p_c_loss_factor': 0.006723874744375682, 'scale_base': 0.00018551104126752728, 'scale_noise': 0.0017832067145291514, 'scale_spline': 0.2975260008887299, 'spline_order': 5}\n",
      "33.02810076074802                                                                 \n",
      "{'activation_scale': 0.6729073372587457, 'grid_eps': 6.288798995082553e-07, 'grid_size': 3, 'lambda_l1': 1.7807575420091815e-05, 'lambda_l2': 0.007523815985404539, 'learning_rate': 0.0005234162634530074, 'non': 8, 'p_c_loss_factor': 1.4195314469730677e-05, 'scale_base': 0.0010041313555189573, 'scale_noise': 0.00024898666402101616, 'scale_spline': 4.972082824452666, 'spline_order': 6}\n",
      "3.246633229033365                                                                 \n",
      "{'activation_scale': 3.749286091545253, 'grid_eps': 2.4359398278899727e-05, 'grid_size': 15, 'lambda_l1': 1.1481835435267684e-07, 'lambda_l2': 9.100113531787136e-05, 'learning_rate': 0.0011621436534542313, 'non': 10, 'p_c_loss_factor': 1.813560894697512e-06, 'scale_base': 0.0041478298587273735, 'scale_noise': 0.0005469900191062979, 'scale_spline': 1.558091450064532, 'spline_order': 1}\n",
      "2.6875952616331573                                                                \n",
      "{'activation_scale': 5.068372184849249, 'grid_eps': 4.980855493239155e-06, 'grid_size': 7, 'lambda_l1': 0.00010785125784537582, 'lambda_l2': 0.0006811794904927314, 'learning_rate': 0.013210845952777456, 'non': 12, 'p_c_loss_factor': 0.027216573069569507, 'scale_base': 7.68692779101709e-05, 'scale_noise': 0.0024699343641386255, 'scale_spline': 8.393876971814286e-05, 'spline_order': 8}\n",
      "2.0431079158828394                                                               \n",
      "{'activation_scale': 2.4733627236674094, 'grid_eps': 1.1782052046307573e-05, 'grid_size': 2, 'lambda_l1': 3.0736686845205506e-05, 'lambda_l2': 0.029901196343340753, 'learning_rate': 0.006655251881502587, 'non': 12, 'p_c_loss_factor': 0.00011042593058676639, 'scale_base': 0.016653701704239018, 'scale_noise': 0.0009378427587779533, 'scale_spline': 0.014369632410053393, 'spline_order': 3}\n",
      "9.237488766887271                                                                \n",
      "{'activation_scale': 1.3537965219928552, 'grid_eps': 6.933319195661934e-05, 'grid_size': 5, 'lambda_l1': 4.186423317961363e-06, 'lambda_l2': 0.004510764949103817, 'learning_rate': 0.0003898200355718721, 'non': 10, 'p_c_loss_factor': 2.4130313117481305e-05, 'scale_base': 0.00026560756803279973, 'scale_noise': 0.00020451053461691755, 'scale_spline': 0.00047295143603478845, 'spline_order': 7}\n",
      "466.806112464101                                                                 \n",
      "{'activation_scale': 3.5354898715936107, 'grid_eps': 0.0005372244930326933, 'grid_size': 8, 'lambda_l1': 0.00019025908080674115, 'lambda_l2': 1.8014632492944484e-06, 'learning_rate': 4.1393762589023675e-05, 'non': 8, 'p_c_loss_factor': 0.00012884742245714695, 'scale_base': 0.006955428874005541, 'scale_noise': 0.0054691945726577955, 'scale_spline': 0.006654567532944939, 'spline_order': 5}\n",
      "2.156749229980712                                                                \n",
      "{'activation_scale': 5.1871777280231495, 'grid_eps': 5.992179312831136e-07, 'grid_size': 3, 'lambda_l1': 4.056937837918824e-07, 'lambda_l2': 0.03371252523592673, 'learning_rate': 0.021547223755954713, 'non': 12, 'p_c_loss_factor': 0.001970044131443004, 'scale_base': 0.0021950720282403005, 'scale_noise': 6.332986022253015e-05, 'scale_spline': 4.913926371224144, 'spline_order': 4}\n",
      "251.09812691791896                                                               \n",
      "{'activation_scale': 1.5602438400751981, 'grid_eps': 1.7750379156248907e-06, 'grid_size': 4, 'lambda_l1': 0.00031905300007526854, 'lambda_l2': 9.80688419041768e-05, 'learning_rate': 0.00014518572762719397, 'non': 10, 'p_c_loss_factor': 6.937437463196868e-05, 'scale_base': 0.00010009187524750753, 'scale_noise': 0.011188859568309442, 'scale_spline': 0.08066822394226883, 'spline_order': 3}\n",
      "3.575896970124699                                                                \n",
      "{'activation_scale': 6.0032667081143005, 'grid_eps': 1.4816092343471184e-05, 'grid_size': 1, 'lambda_l1': 1.4802742726273333e-05, 'lambda_l2': 0.0009144045861376069, 'learning_rate': 0.0008466027511416972, 'non': 10, 'p_c_loss_factor': 0.013203964247661066, 'scale_base': 0.027440889877232953, 'scale_noise': 0.0007845298701311034, 'scale_spline': 0.0025701817132628966, 'spline_order': 4}\n",
      "2.5098874344312923                                                                 \n",
      "{'activation_scale': 8.515488203700516, 'grid_eps': 2.1014950063739084e-07, 'grid_size': 8, 'lambda_l1': 6.217593714846611e-05, 'lambda_l2': 2.343402514695542e-05, 'learning_rate': 0.0016393321168624232, 'non': 8, 'p_c_loss_factor': 2.9753270414231636e-07, 'scale_base': 0.1638954214758746, 'scale_noise': 0.0018339095276254658, 'scale_spline': 0.49725294667922443, 'spline_order': 1}\n",
      "2.186594944691134                                                                  \n",
      "{'activation_scale': 7.247780679340492, 'grid_eps': 0.0031083328056943694, 'grid_size': 5, 'lambda_l1': 8.409008466799259e-07, 'lambda_l2': 0.003898041170764203, 'learning_rate': 0.0033943505540989798, 'non': 12, 'p_c_loss_factor': 2.043680536152255e-06, 'scale_base': 0.5941421422025551, 'scale_noise': 9.370806106158984e-05, 'scale_spline': 1.6759004264689636, 'spline_order': 6}\n",
      "2.9028833741490403                                                                 \n",
      "{'activation_scale': 6.123185137110044, 'grid_eps': 1.2610164281772346e-06, 'grid_size': 15, 'lambda_l1': 3.3088344838829376e-06, 'lambda_l2': 0.0003089868681325375, 'learning_rate': 0.03885988020651067, 'non': 14, 'p_c_loss_factor': 2.611853219871537e-05, 'scale_base': 2.488456106146786e-05, 'scale_noise': 0.00040588251007735084, 'scale_spline': 0.000551978915454957, 'spline_order': 2}\n",
      "2.3091652603992796                                                                 \n",
      "{'activation_scale': 2.2154693322450933, 'grid_eps': 3.3255470688628155e-06, 'grid_size': 7, 'lambda_l1': 0.00014457867519853724, 'lambda_l2': 3.4330105822323615e-06, 'learning_rate': 0.007588301651610384, 'non': 8, 'p_c_loss_factor': 0.0008957235059571712, 'scale_base': 3.223644977889919, 'scale_noise': 0.00018182709644424492, 'scale_spline': 0.8142593106491445, 'spline_order': 9}\n",
      "2.0377701869821063                                                                 \n",
      "{'activation_scale': 3.0075981139523558, 'grid_eps': 5.914668210980327e-07, 'grid_size': 2, 'lambda_l1': 0.001297112640503886, 'lambda_l2': 7.68409434981729e-06, 'learning_rate': 0.005064887545393457, 'non': 12, 'p_c_loss_factor': 0.00017097278192653071, 'scale_base': 0.0006012877771038362, 'scale_noise': 0.017845860445967254, 'scale_spline': 0.15508205322897686, 'spline_order': 8}\n",
      "2.5250030318383017                                                                 \n",
      "{'activation_scale': 0.7555079445386728, 'grid_eps': 7.2507569795751405e-06, 'grid_size': 14, 'lambda_l1': 0.0010498203618094476, 'lambda_l2': 5.759388630478186e-07, 'learning_rate': 0.017703126376378338, 'non': 12, 'p_c_loss_factor': 0.00016645945956695433, 'scale_base': 0.0006028233686012063, 'scale_noise': 0.018204689936324146, 'scale_spline': 0.0138142795936869, 'spline_order': 9}\n",
      "2.2163610966553304                                                                 \n",
      "{'activation_scale': 3.226358337885115, 'grid_eps': 0.09064193116907186, 'grid_size': 10, 'lambda_l1': 0.00460159991561556, 'lambda_l2': 1.0776622812632425e-07, 'learning_rate': 0.005457074270900577, 'non': 14, 'p_c_loss_factor': 8.526950734906007e-06, 'scale_base': 4.0577988546051164e-05, 'scale_noise': 0.060351213997774746, 'scale_spline': 0.04533388273307833, 'spline_order': 8}\n",
      "428.0819012488353                                                                  \n",
      "{'activation_scale': 4.249705664216889, 'grid_eps': 5.2264519937296694e-05, 'grid_size': 2, 'lambda_l1': 0.0021663550753040547, 'lambda_l2': 1.1314394059434006e-05, 'learning_rate': 3.280760971258906e-05, 'non': 14, 'p_c_loss_factor': 1.0912598129711954e-06, 'scale_base': 0.0006423168296747818, 'scale_noise': 0.01704954640634239, 'scale_spline': 1.0681481317740228e-05, 'spline_order': 10}\n",
      "136.00577812790925                                                                  \n",
      "{'activation_scale': 1.8166625850889921, 'grid_eps': 0.00015892330179330622, 'grid_size': 6, 'lambda_l1': 0.0005665126422929611, 'lambda_l2': 2.1598800137561888e-06, 'learning_rate': 0.00014892338415845073, 'non': 12, 'p_c_loss_factor': 4.5146668109444095e-05, 'scale_base': 7.572661151182089e-05, 'scale_noise': 0.004191690740869832, 'scale_spline': 0.16207090252573847, 'spline_order': 9}\n",
      "3.4136990415300983                                                                  \n",
      "{'activation_scale': 3.265113896159708, 'grid_eps': 5.376467984510107e-07, 'grid_size': 4, 'lambda_l1': 0.01252328816869319, 'lambda_l2': 5.95354341101686e-06, 'learning_rate': 0.00038532869425669385, 'non': 10, 'p_c_loss_factor': 4.977194990994624e-07, 'scale_base': 0.0014327945564252135, 'scale_noise': 0.0029318952442836405, 'scale_spline': 0.004414576817191125, 'spline_order': 7}\n",
      "100%|██████████| 50/50 [1:15:03<00:00, 90.07s/trial, best loss: 1.9485692734605353] \n",
      "Best hyperparameters: {'activation_scale': 4.717677248929046, 'grid_eps': 3.753135277969336e-06, 'grid_size': 2.0, 'lambda_l1': 4.464829389123594e-05, 'lambda_l2': 0.07236579997086319, 'learning_rate': 0.0013356822070397735, 'non': 10.0, 'p_c_loss_factor': 1.0792814896581252e-05, 'scale_base': 0.00029809619282178385, 'scale_noise': 0.0002251095899018195, 'scale_spline': 1.743910795812111, 'spline_order': 5.0}\n"
     ]
    }
   ],
   "source": [
    "trials = Trials()\n",
    "best_params = fmin(fn=objective,\n",
    "                   space=space,\n",
    "                   algo=tpe.suggest,\n",
    "                   max_evals=50,\n",
    "                   trials=trials)\n",
    "print(\"Best hyperparameters:\", best_params)"
   ]
  },
  {
   "cell_type": "code",
   "execution_count": 12,
   "metadata": {
    "execution": {
     "iopub.execute_input": "2024-08-14T04:19:30.435361Z",
     "iopub.status.busy": "2024-08-14T04:19:30.435361Z",
     "iopub.status.idle": "2024-08-14T04:19:30.841253Z",
     "shell.execute_reply": "2024-08-14T04:19:30.841253Z"
    }
   },
   "outputs": [],
   "source": [
    "param_df.to_csv(f'param_df{current_target}.csv')"
   ]
  },
  {
   "cell_type": "code",
   "execution_count": 13,
   "metadata": {},
   "outputs": [
    {
     "name": "stderr",
     "output_type": "stream",
     "text": [
      "C:\\Users\\Administrator\\AppData\\Local\\Temp\\2\\ipykernel_6900\\2862351007.py:1: FutureWarning: You are using `torch.load` with `weights_only=False` (the current default value), which uses the default pickle module implicitly. It is possible to construct malicious pickle data which will execute arbitrary code during unpickling (See https://github.com/pytorch/pytorch/blob/main/SECURITY.md#untrusted-models for more details). In a future release, the default value for `weights_only` will be flipped to `True`. This limits the functions that could be executed during unpickling. Arbitrary objects will no longer be allowed to be loaded via this mode unless they are explicitly allowlisted by the user via `torch.serialization.add_safe_globals`. We recommend you start setting `weights_only=True` for any use case where you don't have full control of the loaded file. Please open an issue on GitHub for any issues related to this experimental feature.\n",
      "  checkpoint = torch.load(f\"{current_target}_bestest_model.pth\")\n"
     ]
    }
   ],
   "source": [
    "checkpoint = torch.load(f\"{current_target}_bestest_model.pth\")\n",
    "params1 = checkpoint['params']"
   ]
  },
  {
   "cell_type": "code",
   "execution_count": 14,
   "metadata": {},
   "outputs": [],
   "source": [
    "model = KAN(\n",
    "    layers_hidden=[8, params1['non'], 1],\n",
    "    grid_size=params1['grid_size'],\n",
    "    spline_order=params1['spline_order'],\n",
    "    scale_noise=params1['scale_noise'],\n",
    "    scale_base=params1['scale_base'],\n",
    "    scale_spline=params1['scale_spline'],\n",
    "    base_activation=nn.SiLU,\n",
    "    grid_eps=params1['grid_eps'],\n",
    "    grid_range=[0, 1],\n",
    "    activation_scale=params1['activation_scale']\n",
    ")"
   ]
  },
  {
   "cell_type": "markdown",
   "metadata": {
    "execution": {
     "iopub.execute_input": "2024-08-14T04:19:30.841253Z",
     "iopub.status.busy": "2024-08-14T04:19:30.841253Z",
     "iopub.status.idle": "2024-08-14T04:22:08.441741Z",
     "shell.execute_reply": "2024-08-14T04:22:08.441741Z"
    }
   },
   "source": [
    "best_params['grid_size'] = int(best_params['grid_size'])\n",
    "best_params['spline_order'] = int(best_params['spline_order'])\n",
    "best_params['non'] = int(best_params['non'])\n",
    "best_model_state = None  # Initialize the best model state\n",
    "\n",
    "model = KAN(\n",
    "        layers_hidden=[8, best_params['non'], 1],\n",
    "        grid_size=best_params['grid_size'],\n",
    "        spline_order=best_params['spline_order'],\n",
    "        scale_noise=best_params['scale_noise'],\n",
    "        scale_base=best_params['scale_base'],\n",
    "        scale_spline=best_params['scale_spline'],\n",
    "        base_activation=nn.SiLU,\n",
    "        grid_eps=best_params['grid_eps'],\n",
    "        grid_range=[0, 1],\n",
    "        activation_scale=best_params['activation_scale']\n",
    "    )\n",
    "\n",
    "criterion = nn.MSELoss()\n",
    "optimizer = optim.Adam(model.parameters(), lr=best_params['learning_rate'], weight_decay=best_params['lambda_l2'],)\n",
    "\n",
    "num_epochs = 10000\n",
    "lambda_l1 =  best_params['lambda_l1']\n",
    "patience = 200\n",
    "best_loss = float('inf')\n",
    "epochs_no_improve = 0\n",
    "training_loss = []\n",
    "test_loss = []\n",
    "\n",
    "for epoch in range(num_epochs):\n",
    "        model.train()\n",
    "        optimizer.zero_grad()\n",
    "        predictions = model(dataset['train_input'])\n",
    "        main_loss = criterion(predictions, dataset['train_label'])\n",
    "        l1_loss = sum(p.abs().sum() for p in model.parameters())\n",
    "        pc_loss = p_c(dataset['train_input'], dataset['train_label'], predictions)\n",
    "        loss = main_loss + ( lambda_l1 * l1_loss) + (best_params['p_c_loss_factor'] * pc_loss)\n",
    "        loss.backward()\n",
    "        optimizer.step()\n",
    "        training_loss.append(loss.item())\n",
    "        \n",
    "        model.eval()\n",
    "        with torch.no_grad():\n",
    "            test_predictions = model(dataset['test_input'])\n",
    "            temp_score = mse(dataset['test_label'].numpy(), test_predictions.numpy())**0.5  # Move tensors to CPU before numpy\n",
    "        test_loss.append(temp_score)\n",
    "        \n",
    "        if temp_score < best_loss:\n",
    "            best_loss = temp_score\n",
    "            epochs_no_improve = 0\n",
    "            best_model_state = model.state_dict()\n",
    "        else:\n",
    "            epochs_no_improve += 1\n",
    "        \n",
    "        if epochs_no_improve >= patience:\n",
    "            model.load_state_dict(best_model_state)\n",
    "            torch.save(best_model_state, f\"{current_target}_best_model.pth\")\n",
    "            break\n",
    "        with open(f'{current_target}.csv', 'a') as file:\n",
    "            line = f'{epoch},{loss.item() ** 0.5},{temp_score}\\n'\n",
    "            file.write(line)\n",
    "        print(line)"
   ]
  },
  {
   "cell_type": "code",
   "execution_count": 15,
   "metadata": {},
   "outputs": [
    {
     "data": {
      "text/plain": [
       "<All keys matched successfully>"
      ]
     },
     "execution_count": 15,
     "metadata": {},
     "output_type": "execute_result"
    }
   ],
   "source": [
    "model.load_state_dict(checkpoint['model_state_dict'])"
   ]
  },
  {
   "cell_type": "code",
   "execution_count": 16,
   "metadata": {
    "execution": {
     "iopub.execute_input": "2024-08-14T04:22:08.441741Z",
     "iopub.status.busy": "2024-08-14T04:22:08.441741Z",
     "iopub.status.idle": "2024-08-14T04:22:08.467458Z",
     "shell.execute_reply": "2024-08-14T04:22:08.467458Z"
    }
   },
   "outputs": [
    {
     "data": {
      "text/plain": [
       "1.9469979806897655"
      ]
     },
     "execution_count": 16,
     "metadata": {},
     "output_type": "execute_result"
    }
   ],
   "source": [
    "model.eval()\n",
    "with torch.no_grad():\n",
    "    test_predictions = model(dataset['test_input'])\n",
    "mse(dataset['test_label'].numpy(), test_predictions.numpy())**0.5"
   ]
  },
  {
   "cell_type": "code",
   "execution_count": 17,
   "metadata": {
    "execution": {
     "iopub.execute_input": "2024-08-14T04:22:08.467458Z",
     "iopub.status.busy": "2024-08-14T04:22:08.467458Z",
     "iopub.status.idle": "2024-08-14T04:22:08.478037Z",
     "shell.execute_reply": "2024-08-14T04:22:08.478037Z"
    }
   },
   "outputs": [
    {
     "data": {
      "text/plain": [
       "0.9995403343823415"
      ]
     },
     "execution_count": 17,
     "metadata": {},
     "output_type": "execute_result"
    }
   ],
   "source": [
    "r2_score(dataset['test_label'].numpy(), test_predictions.numpy())"
   ]
  },
  {
   "cell_type": "markdown",
   "metadata": {},
   "source": [
    "# Second Ouput"
   ]
  },
  {
   "cell_type": "code",
   "execution_count": 18,
   "metadata": {
    "execution": {
     "iopub.execute_input": "2024-08-14T04:22:08.478037Z",
     "iopub.status.busy": "2024-08-14T04:22:08.478037Z",
     "iopub.status.idle": "2024-08-14T04:22:08.496641Z",
     "shell.execute_reply": "2024-08-14T04:22:08.496641Z"
    }
   },
   "outputs": [],
   "source": [
    "df=pd.read_csv('data.csv',header=1)\n",
    "df=df.drop(columns=['power','te'])\n",
    "current_target='thr'"
   ]
  },
  {
   "cell_type": "code",
   "execution_count": 19,
   "metadata": {
    "execution": {
     "iopub.execute_input": "2024-08-14T04:22:08.496641Z",
     "iopub.status.busy": "2024-08-14T04:22:08.496641Z",
     "iopub.status.idle": "2024-08-14T04:22:08.512029Z",
     "shell.execute_reply": "2024-08-14T04:22:08.512029Z"
    }
   },
   "outputs": [],
   "source": [
    "df = df.sort_index()\n",
    "x = df.drop(columns=current_target)\n",
    "y = df[current_target]\n",
    "x_train, x_test, y_train, y_test = train_test_split(x, y, test_size=0.3, random_state=80) #59 power, 80 thr, 70 te\n",
    "set_seed(42)"
   ]
  },
  {
   "cell_type": "code",
   "execution_count": 20,
   "metadata": {},
   "outputs": [],
   "source": [
    "dataset = {}\n",
    "train_input=x_train.to_numpy()\n",
    "train_label=y_train.to_numpy()\n",
    "test_input=x_test.to_numpy()\n",
    "test_label=y_test.to_numpy()"
   ]
  },
  {
   "cell_type": "code",
   "execution_count": 21,
   "metadata": {
    "execution": {
     "iopub.execute_input": "2024-08-14T04:22:08.512029Z",
     "iopub.status.busy": "2024-08-14T04:22:08.512029Z",
     "iopub.status.idle": "2024-08-14T04:22:08.522391Z",
     "shell.execute_reply": "2024-08-14T04:22:08.522391Z"
    }
   },
   "outputs": [],
   "source": [
    "scaler_input = MinMaxScaler()\n",
    "\n",
    "train_input_scaled = scaler_input.fit_transform(train_input)\n",
    "test_input_scaled = scaler_input.transform(test_input)\n",
    "\n",
    "dataset['train_input'] = torch.from_numpy(train_input_scaled).type(dtype)\n",
    "dataset['test_input'] = torch.from_numpy(test_input_scaled).type(dtype)\n",
    "dataset['train_label'] = torch.from_numpy(train_label[:,None]).type(dtype)\n",
    "dataset['test_label'] = torch.from_numpy(test_label[:,None]).type(dtype)"
   ]
  },
  {
   "cell_type": "code",
   "execution_count": 22,
   "metadata": {
    "execution": {
     "iopub.execute_input": "2024-08-14T04:22:08.522391Z",
     "iopub.status.busy": "2024-08-14T04:22:08.522391Z",
     "iopub.status.idle": "2024-08-14T04:22:08.534089Z",
     "shell.execute_reply": "2024-08-14T04:22:08.534089Z"
    }
   },
   "outputs": [],
   "source": [
    "space = {\n",
    "    'grid_size': hp.quniform('grid_size', 1, 15, 1),\n",
    "    'spline_order': hp.quniform('spline_order', 1, 10, 1),\n",
    "    'scale_noise': hp.loguniform('scale_noise', np.log(1e-5), np.log(1e-1)),\n",
    "    'scale_base': hp.loguniform('scale_base', np.log(1e-5), np.log(1e1)),\n",
    "    'scale_spline': hp.loguniform('scale_spline', np.log(1e-5), np.log(1e1)),\n",
    "    'learning_rate': hp.loguniform('learning_rate', np.log(1e-5), np.log(1e-1)),\n",
    "    'lambda_l1': hp.loguniform('lambda_l1', np.log(1e-7), np.log(1e-1)),\n",
    "    'lambda_l2': hp.loguniform('lambda_l2', np.log(1e-7), np.log(1e-1)),\n",
    "    'grid_eps': hp.loguniform('grid_eps', np.log(1e-7), np.log(1e-1)),\n",
    "    'non': hp.quniform('non', 8, 20, 2),\n",
    "    'p_c_loss_factor': hp.loguniform('p_c_loss_factor', np.log(1e-7), np.log(1)),\n",
    "    'activation_scale': hp.uniform('activation_scale', 0.1, 10.0)  # Uniform distribution for activation_scale\n",
    "}"
   ]
  },
  {
   "cell_type": "code",
   "execution_count": 25,
   "metadata": {
    "execution": {
     "iopub.execute_input": "2024-08-14T04:22:08.534089Z",
     "iopub.status.busy": "2024-08-14T04:22:08.534089Z",
     "iopub.status.idle": "2024-08-14T04:22:08.567902Z",
     "shell.execute_reply": "2024-08-14T04:22:08.567902Z"
    }
   },
   "outputs": [],
   "source": [
    "param_df = pd.DataFrame(columns=['params', 'loss_curve_train', 'loss_curve_test', 'best_score'])\n",
    "trial_no = 0\n",
    "bestest_score = float('inf')  # Initialize global variable\n",
    "def objective(params):\n",
    "    global trial_no, bestest_score  # Declare global variables\n",
    "    trial_no += 1\n",
    "    params['grid_size'] = int(params['grid_size'])\n",
    "    params['spline_order'] = int(params['spline_order'])\n",
    "    params['non'] = int(params['non'])\n",
    "    model = KAN(\n",
    "        layers_hidden=[8, params['non'], 1],\n",
    "        grid_size=params['grid_size'],\n",
    "        spline_order=params['spline_order'],\n",
    "        scale_noise=params['scale_noise'],\n",
    "        scale_base=params['scale_base'],\n",
    "        scale_spline=params['scale_spline'],\n",
    "        base_activation=nn.SiLU,\n",
    "        grid_eps=params['grid_eps'],\n",
    "        grid_range=[0, 1],\n",
    "        activation_scale=params['activation_scale']\n",
    "    )\n",
    "    \n",
    "    criterion = nn.MSELoss()\n",
    "    optimizer = optim.Adam(model.parameters(), lr=params['learning_rate'], weight_decay=params['lambda_l2'])\n",
    "    num_epochs = 5000\n",
    "    patience = 200\n",
    "    best_loss = float('inf')\n",
    "    epochs_no_improve = 0\n",
    "    best_model_state = None  # Initialize the best model state\n",
    "    param_df['params'].loc[trial_no] = params\n",
    "    training_loss = []\n",
    "    test_loss = []\n",
    "    \n",
    "    for epoch in range(num_epochs):\n",
    "        model.train()\n",
    "        optimizer.zero_grad()\n",
    "        predictions = model(dataset['train_input'])\n",
    "        main_loss = criterion(predictions, dataset['train_label'])\n",
    "        l1_loss = sum(p.abs().sum() for p in model.parameters())\n",
    "        pc_loss = p_c(dataset['train_input'], dataset['train_label'], predictions)\n",
    "        loss = main_loss + (params['lambda_l1'] * l1_loss) + (params['p_c_loss_factor'] * pc_loss)\n",
    "        loss.backward()\n",
    "        optimizer.step()\n",
    "        training_loss.append(loss.item())\n",
    "        \n",
    "        model.eval()\n",
    "        with torch.no_grad():\n",
    "            val_predictions = model(dataset['test_input'])\n",
    "            temp_score = mse(dataset['test_label'].cpu().numpy(), val_predictions.cpu().numpy())**0.5  # Move tensors to CPU before numpy\n",
    "        test_loss.append(temp_score)\n",
    "        \n",
    "        if temp_score < best_loss:\n",
    "            best_loss = temp_score\n",
    "            epochs_no_improve = 0\n",
    "            best_model_state = model.state_dict()\n",
    "        else:\n",
    "            epochs_no_improve += 1\n",
    "        \n",
    "        if epochs_no_improve >= patience:\n",
    "            model.load_state_dict(best_model_state)\n",
    "            break\n",
    "        \n",
    "        # Update the bestest score\n",
    "        if temp_score < bestest_score:\n",
    "            bestest_score = temp_score\n",
    "            torch.save({'model_state_dict': best_model_state, 'params': params}, f\"{current_target}_bestest_model.pth\")\n",
    "            \n",
    "    model.eval()\n",
    "    with torch.no_grad():\n",
    "        test_predictions = model(dataset['test_input'])\n",
    "    score = mse(dataset['test_label'].numpy(), test_predictions.numpy())**0.5  # Move tensors to CPU before numpy\n",
    "    param_df.loc[trial_no] = [params, training_loss, test_loss, score]\n",
    "    print(score)\n",
    "    print(params)\n",
    "    return score"
   ]
  },
  {
   "cell_type": "code",
   "execution_count": 26,
   "metadata": {
    "execution": {
     "iopub.execute_input": "2024-08-14T04:22:08.567902Z",
     "iopub.status.busy": "2024-08-14T04:22:08.567902Z",
     "iopub.status.idle": "2024-08-14T06:49:38.770628Z",
     "shell.execute_reply": "2024-08-14T06:49:38.770628Z"
    }
   },
   "outputs": [
    {
     "name": "stdout",
     "output_type": "stream",
     "text": [
      "7104.009672591847                                     \n",
      "{'activation_scale': 7.097776945079481, 'grid_eps': 2.477874449716339e-07, 'grid_size': 7, 'lambda_l1': 2.553335335410684e-07, 'lambda_l2': 6.304769745552501e-06, 'learning_rate': 4.901874887063935e-05, 'non': 12, 'p_c_loss_factor': 0.0004111994297982323, 'scale_base': 0.0011229845071207953, 'scale_noise': 8.713864161130303e-05, 'scale_spline': 0.04059317297671027, 'spline_order': 2}\n",
      "66.98557446062404                                                                \n",
      "{'activation_scale': 3.5183831270048933, 'grid_eps': 6.838624886734502e-05, 'grid_size': 9, 'lambda_l1': 5.4651274596108244e-06, 'lambda_l2': 7.09715339244468e-06, 'learning_rate': 0.09156483800328379, 'non': 14, 'p_c_loss_factor': 0.11865969064095777, 'scale_base': 0.35698272671913495, 'scale_noise': 1.7238197641837612e-05, 'scale_spline': 3.271648945397758e-05, 'spline_order': 7}\n",
      "65.73063992228624                                                                \n",
      "{'activation_scale': 9.309719516706988, 'grid_eps': 0.07503346346742197, 'grid_size': 10, 'lambda_l1': 0.0029249301876480825, 'lambda_l2': 0.09857240703569098, 'learning_rate': 0.0012531327436862538, 'non': 18, 'p_c_loss_factor': 2.5411070856743395e-07, 'scale_base': 0.0010979539060920244, 'scale_noise': 0.0022299010660291286, 'scale_spline': 5.483246332293518, 'spline_order': 9}\n",
      "7860.55627349325                                                                 \n",
      "{'activation_scale': 2.927720241310415, 'grid_eps': 0.000990710394023732, 'grid_size': 12, 'lambda_l1': 0.0005534401803265696, 'lambda_l2': 1.9596775591758823e-07, 'learning_rate': 1.7589753627445873e-05, 'non': 20, 'p_c_loss_factor': 4.6416002910647055e-07, 'scale_base': 0.24348702932254895, 'scale_noise': 5.229939932136134e-05, 'scale_spline': 0.18650001751071926, 'spline_order': 4}\n",
      "63.73188976910156                                                                \n",
      "{'activation_scale': 6.37791186447265, 'grid_eps': 3.536620434290721e-05, 'grid_size': 4, 'lambda_l1': 0.0006153149037381306, 'lambda_l2': 0.00046916436815454, 'learning_rate': 0.00743447218810832, 'non': 12, 'p_c_loss_factor': 0.29198869456776627, 'scale_base': 4.6875682801786914e-05, 'scale_noise': 0.011157158600987167, 'scale_spline': 0.0011454205343719877, 'spline_order': 5}\n",
      "66.9642425153481                                                                 \n",
      "{'activation_scale': 1.5790631504345278, 'grid_eps': 0.0003956183592831192, 'grid_size': 2, 'lambda_l1': 4.770236832054196e-05, 'lambda_l2': 0.050406900329719576, 'learning_rate': 0.002584267237291531, 'non': 18, 'p_c_loss_factor': 0.012629368859063522, 'scale_base': 0.0016910778580137506, 'scale_noise': 2.1357854125668642e-05, 'scale_spline': 0.0006939230023527957, 'spline_order': 1}\n",
      "75.15621261669436                                                              \n",
      "{'activation_scale': 1.1341686724992537, 'grid_eps': 0.0004015396130711637, 'grid_size': 13, 'lambda_l1': 0.0017740151064520391, 'lambda_l2': 3.976884143843138e-07, 'learning_rate': 0.0059134698742807305, 'non': 10, 'p_c_loss_factor': 1.0522188124717595e-05, 'scale_base': 0.10772148942775966, 'scale_noise': 1.6220208411351444e-05, 'scale_spline': 2.480798259471529, 'spline_order': 3}\n",
      "65.90019332187666                                                              \n",
      "{'activation_scale': 3.58108276701131, 'grid_eps': 9.108216544508248e-07, 'grid_size': 5, 'lambda_l1': 0.0016722913020023648, 'lambda_l2': 0.004993407029267397, 'learning_rate': 0.013893755663019435, 'non': 20, 'p_c_loss_factor': 0.23201636048017324, 'scale_base': 0.0012000298797095125, 'scale_noise': 0.0002254156684167502, 'scale_spline': 1.8232152344543635e-05, 'spline_order': 7}\n",
      "63.47648129390396                                                              \n",
      "{'activation_scale': 6.6269556414071875, 'grid_eps': 0.014518746322995333, 'grid_size': 6, 'lambda_l1': 3.962168736082218e-05, 'lambda_l2': 9.862840344354361e-06, 'learning_rate': 0.0013473179982489655, 'non': 12, 'p_c_loss_factor': 0.48006132153919473, 'scale_base': 0.7545999084162728, 'scale_noise': 0.013833530810385901, 'scale_spline': 0.0005835388377987196, 'spline_order': 7}\n",
      "69.84167118370246                                                              \n",
      "{'activation_scale': 5.980017361321598, 'grid_eps': 0.014540969676438649, 'grid_size': 7, 'lambda_l1': 0.07291562892329785, 'lambda_l2': 0.00537169870999424, 'learning_rate': 0.01719687392298803, 'non': 10, 'p_c_loss_factor': 1.183079324751946e-07, 'scale_base': 0.0012486841623427292, 'scale_noise': 2.5450714653179196e-05, 'scale_spline': 0.3169872522638373, 'spline_order': 1}\n",
      "7800.793343668733                                                               \n",
      "{'activation_scale': 7.943371988796251, 'grid_eps': 3.54510103164504e-05, 'grid_size': 12, 'lambda_l1': 1.3822428436494379e-05, 'lambda_l2': 8.565924123280661e-05, 'learning_rate': 1.5850754223781563e-05, 'non': 8, 'p_c_loss_factor': 0.03892547653660113, 'scale_base': 0.0001033294551192378, 'scale_noise': 0.02182307424528567, 'scale_spline': 0.00022721501593962707, 'spline_order': 7}\n",
      "67.05673693380211                                                               \n",
      "{'activation_scale': 8.463650569279405, 'grid_eps': 1.4581835098588273e-07, 'grid_size': 13, 'lambda_l1': 0.03340028535709275, 'lambda_l2': 0.08263246225749099, 'learning_rate': 0.08098309250933267, 'non': 16, 'p_c_loss_factor': 0.020269942406896467, 'scale_base': 0.0028067795510496926, 'scale_noise': 1.555590032041632e-05, 'scale_spline': 8.192955134845204e-05, 'spline_order': 4}\n",
      "66.92840796509041                                                               \n",
      "{'activation_scale': 2.4289374538502635, 'grid_eps': 0.0019188761946338717, 'grid_size': 14, 'lambda_l1': 1.3789641520083104e-07, 'lambda_l2': 9.404104730789493e-06, 'learning_rate': 0.03983930582715885, 'non': 8, 'p_c_loss_factor': 8.3722516161472e-06, 'scale_base': 0.0008501981828564823, 'scale_noise': 2.4368758441324895e-05, 'scale_spline': 0.4728902983670631, 'spline_order': 4}\n",
      "64.39529831715465                                                               \n",
      "{'activation_scale': 9.128614941054806, 'grid_eps': 0.00018178308396326272, 'grid_size': 5, 'lambda_l1': 0.05715979235595299, 'lambda_l2': 4.84132624065075e-07, 'learning_rate': 0.0017407829958434424, 'non': 20, 'p_c_loss_factor': 8.051408945457482e-06, 'scale_base': 1.7428822367695753, 'scale_noise': 0.0005563068320706782, 'scale_spline': 9.188597021976957, 'spline_order': 3}\n",
      "65.80982402927332                                                               \n",
      "{'activation_scale': 3.3793575149417316, 'grid_eps': 5.095658230324369e-07, 'grid_size': 11, 'lambda_l1': 0.004964446492706971, 'lambda_l2': 0.00025896290860367315, 'learning_rate': 0.014860327963870606, 'non': 8, 'p_c_loss_factor': 1.8935170260675066e-05, 'scale_base': 0.030042178938551423, 'scale_noise': 0.00644683386347162, 'scale_spline': 8.443606569969865e-05, 'spline_order': 9}\n",
      "6492.156913354249                                                               \n",
      "{'activation_scale': 3.163027824349035, 'grid_eps': 0.046595361296124356, 'grid_size': 14, 'lambda_l1': 9.471831238690692e-06, 'lambda_l2': 9.13618707757701e-07, 'learning_rate': 0.00015176427262132553, 'non': 14, 'p_c_loss_factor': 9.459860179341437e-07, 'scale_base': 0.058025559395710746, 'scale_noise': 0.00016750751782817079, 'scale_spline': 0.00015814369959090682, 'spline_order': 3}\n",
      "101.49475302545625                                                              \n",
      "{'activation_scale': 1.211417454095364, 'grid_eps': 1.1389062304870665e-07, 'grid_size': 2, 'lambda_l1': 1.0724781287153665e-06, 'lambda_l2': 0.000324786018469599, 'learning_rate': 0.0011249312777689812, 'non': 16, 'p_c_loss_factor': 0.0002585247559631946, 'scale_base': 0.001127613269223154, 'scale_noise': 0.0001630316054271044, 'scale_spline': 1.9700357196459126, 'spline_order': 9}\n",
      "7674.522097825921                                                               \n",
      "{'activation_scale': 6.675841960942055, 'grid_eps': 0.03559360619594821, 'grid_size': 2, 'lambda_l1': 1.3559793054164195e-07, 'lambda_l2': 0.07040574962766495, 'learning_rate': 3.2630799172590346e-05, 'non': 16, 'p_c_loss_factor': 0.0006853401148160491, 'scale_base': 0.00043913368311308874, 'scale_noise': 5.477648025297047e-05, 'scale_spline': 0.001236371770754507, 'spline_order': 6}\n",
      "68.70831514815387                                                                \n",
      "{'activation_scale': 8.181432515343849, 'grid_eps': 0.06159663837564339, 'grid_size': 8, 'lambda_l1': 2.8115657036965407e-06, 'lambda_l2': 0.055977039407532944, 'learning_rate': 0.019914807540272535, 'non': 8, 'p_c_loss_factor': 4.2502602367891804e-07, 'scale_base': 3.1715978743632762, 'scale_noise': 0.0008529425049310269, 'scale_spline': 7.525395254037461, 'spline_order': 1}\n",
      "67.2495584509501                                                                 \n",
      "{'activation_scale': 8.078999919614459, 'grid_eps': 0.0016018993577864567, 'grid_size': 6, 'lambda_l1': 0.0036623952415752656, 'lambda_l2': 0.006705258313652455, 'learning_rate': 0.03236617302930415, 'non': 18, 'p_c_loss_factor': 0.00010499825361779926, 'scale_base': 0.0006431168274057993, 'scale_noise': 0.00023991223424724343, 'scale_spline': 6.283589611512079e-05, 'spline_order': 7}\n",
      "1175.4118695639424                                                              \n",
      "{'activation_scale': 5.030176521592273, 'grid_eps': 9.837070828656915e-06, 'grid_size': 4, 'lambda_l1': 0.00019889710464943817, 'lambda_l2': 6.0329219023348026e-05, 'learning_rate': 0.0002190286110175123, 'non': 12, 'p_c_loss_factor': 0.9267743516564216, 'scale_base': 1.4033875692208885e-05, 'scale_noise': 0.05820138567377942, 'scale_spline': 0.005157246184764504, 'spline_order': 5}\n",
      "98.91075429133434                                                               \n",
      "{'activation_scale': 4.884904112380193, 'grid_eps': 4.2455857443642636e-06, 'grid_size': 4, 'lambda_l1': 5.0747566019066605e-05, 'lambda_l2': 0.0007174099661334235, 'learning_rate': 0.0005066604924348024, 'non': 12, 'p_c_loss_factor': 0.9812654642706927, 'scale_base': 3.4737520199989045e-05, 'scale_noise': 0.09123651824605723, 'scale_spline': 0.005565573961040752, 'spline_order': 6}\n",
      "62.50267996596919                                                               \n",
      "{'activation_scale': 5.992035339121533, 'grid_eps': 0.006743977810497011, 'grid_size': 3, 'lambda_l1': 0.0002674192810526024, 'lambda_l2': 1.9622337769686954e-06, 'learning_rate': 0.004037801213813984, 'non': 10, 'p_c_loss_factor': 0.0035652677280284765, 'scale_base': 0.01139508756414769, 'scale_noise': 0.013447477754405673, 'scale_spline': 0.0012401441850405258, 'spline_order': 8}\n",
      "66.90476003287661                                                               \n",
      "{'activation_scale': 4.3635680849273495, 'grid_eps': 0.006611086442395376, 'grid_size': 1, 'lambda_l1': 9.866313608057029e-05, 'lambda_l2': 1.7198529559983765e-06, 'learning_rate': 0.00466718913671377, 'non': 10, 'p_c_loss_factor': 0.0036170988678764955, 'scale_base': 0.009404420899901336, 'scale_noise': 0.0033106405944238796, 'scale_spline': 0.02206824632991598, 'spline_order': 10}\n",
      "69.2640987945035                                                                 \n",
      "{'activation_scale': 5.656488778623271, 'grid_eps': 0.0061075934625731, 'grid_size': 3, 'lambda_l1': 0.015872678750169036, 'lambda_l2': 2.464167880393765e-05, 'learning_rate': 0.0005507169930631052, 'non': 10, 'p_c_loss_factor': 0.003381909162763146, 'scale_base': 9.346499676772233, 'scale_noise': 0.03862422071886447, 'scale_spline': 0.0026536870505868677, 'spline_order': 8}\n",
      "63.65373875563001                                                                \n",
      "{'activation_scale': 6.971630977080498, 'grid_eps': 0.012660030480678085, 'grid_size': 6, 'lambda_l1': 1.9253564484019274e-05, 'lambda_l2': 2.9328623574408083e-06, 'learning_rate': 0.003208601124373447, 'non': 10, 'p_c_loss_factor': 0.003005541338164259, 'scale_base': 0.008811577436859416, 'scale_noise': 0.011291000654936068, 'scale_spline': 0.00041933925003460686, 'spline_order': 8}\n",
      "83.01997069478608                                                                \n",
      "{'activation_scale': 4.340997065424003, 'grid_eps': 0.005658712679530836, 'grid_size': 8, 'lambda_l1': 0.0003257847083990534, 'lambda_l2': 3.852396711107324e-05, 'learning_rate': 0.0005061974462653491, 'non': 14, 'p_c_loss_factor': 0.050274037844924055, 'scale_base': 0.5540709234431975, 'scale_noise': 0.0022675658885231735, 'scale_spline': 0.022704657452097446, 'spline_order': 10}\n",
      "4354.924999563607                                                                \n",
      "{'activation_scale': 5.550644544516058, 'grid_eps': 0.020262597820216943, 'grid_size': 1, 'lambda_l1': 8.818476163387458e-07, 'lambda_l2': 1.2059315743621597e-07, 'learning_rate': 0.00016443675326100553, 'non': 12, 'p_c_loss_factor': 7.795348640043252e-05, 'scale_base': 1.0948418389634045, 'scale_noise': 0.02856911774874386, 'scale_spline': 0.10323073520467625, 'spline_order': 8}\n",
      "7877.6731887776095                                                               \n",
      "{'activation_scale': 0.2241621097671267, 'grid_eps': 0.0973379218200816, 'grid_size': 7, 'lambda_l1': 4.664909755366917e-05, 'lambda_l2': 1.4790010732745082e-05, 'learning_rate': 0.00027569311887095277, 'non': 12, 'p_c_loss_factor': 0.0007743300934531796, 'scale_base': 8.802952241568192, 'scale_noise': 0.0047057075674835505, 'scale_spline': 0.010480430288611085, 'spline_order': 6}\n",
      "61.306275340673864                                                               \n",
      "{'activation_scale': 7.53360240374656, 'grid_eps': 0.003850720837651547, 'grid_size': 6, 'lambda_l1': 0.0001274554032001998, 'lambda_l2': 3.568889218912387e-06, 'learning_rate': 0.002084818214427095, 'non': 10, 'p_c_loss_factor': 0.00812753224827589, 'scale_base': 0.022872302884832038, 'scale_noise': 0.0872901386099061, 'scale_spline': 0.00030424257692425813, 'spline_order': 8}\n",
      "6815.453068914813                                                                 \n",
      "{'activation_scale': 7.409760278424175, 'grid_eps': 0.0028863597878872795, 'grid_size': 9, 'lambda_l1': 0.010304961264747198, 'lambda_l2': 3.909612719654646e-06, 'learning_rate': 7.678911603084526e-05, 'non': 10, 'p_c_loss_factor': 0.00809487679637561, 'scale_base': 0.022957212170054427, 'scale_noise': 0.08785348211061904, 'scale_spline': 1.0371975578411749e-05, 'spline_order': 10}\n",
      "62.788265630947855                                                                \n",
      "{'activation_scale': 9.807168448181514, 'grid_eps': 0.0005544466722053792, 'grid_size': 3, 'lambda_l1': 0.00013053672019651484, 'lambda_l2': 1.3138600815583978e-06, 'learning_rate': 0.009142696282684246, 'non': 8, 'p_c_loss_factor': 0.0017216385462145317, 'scale_base': 0.0043853247573199935, 'scale_noise': 0.05654200318042651, 'scale_spline': 2.807496474223596e-05, 'spline_order': 9}\n",
      "67.07680048045613                                                                 \n",
      "{'activation_scale': 7.359573209546708, 'grid_eps': 0.0001466068319737706, 'grid_size': 9, 'lambda_l1': 0.0008148569630953997, 'lambda_l2': 1.1914216787752021e-07, 'learning_rate': 0.002522901103469735, 'non': 10, 'p_c_loss_factor': 0.0929211909608057, 'scale_base': 0.0002206951789904926, 'scale_noise': 0.0015174927229878233, 'scale_spline': 0.0017401604044371074, 'spline_order': 8}\n",
      "65.18890558170217                                                                 \n",
      "{'activation_scale': 9.04417792984021, 'grid_eps': 6.647037698323039e-05, 'grid_size': 5, 'lambda_l1': 2.559636997748344e-06, 'lambda_l2': 3.89232275616305e-06, 'learning_rate': 0.060836458507944356, 'non': 14, 'p_c_loss_factor': 0.00026321186053723854, 'scale_base': 0.2320639558407321, 'scale_noise': 0.007504678269237905, 'scale_spline': 0.00026991226540227804, 'spline_order': 9}\n",
      "64.29179073295765                                                                 \n",
      "{'activation_scale': 5.979055906479607, 'grid_eps': 0.0008664939822422085, 'grid_size': 3, 'lambda_l1': 0.00029213349305112426, 'lambda_l2': 2.584461490174837e-07, 'learning_rate': 0.0007436978356670671, 'non': 8, 'p_c_loss_factor': 5.201289895042494e-05, 'scale_base': 0.1056530147268546, 'scale_noise': 0.020888495610995327, 'scale_spline': 0.07218194457865323, 'spline_order': 5}\n",
      "4389.933116898127                                                                 \n",
      "{'activation_scale': 9.909467098064072, 'grid_eps': 0.0027517436751708165, 'grid_size': 10, 'lambda_l1': 0.0011131200374247577, 'lambda_l2': 8.143043283197941e-07, 'learning_rate': 8.115839859707495e-05, 'non': 12, 'p_c_loss_factor': 0.006223264060222725, 'scale_base': 0.019814120943877488, 'scale_noise': 0.04113258560252529, 'scale_spline': 0.0025968788600517954, 'spline_order': 8}\n",
      "62.620693421063876                                                                \n",
      "{'activation_scale': 4.095089999361049, 'grid_eps': 1.4097395554218743e-05, 'grid_size': 2, 'lambda_l1': 5.325488809489527e-06, 'lambda_l2': 0.0011173543251539926, 'learning_rate': 0.003348191444582256, 'non': 10, 'p_c_loss_factor': 0.021855875528727305, 'scale_base': 0.0035895217205035006, 'scale_noise': 0.08705189211968765, 'scale_spline': 0.009292420047606676, 'spline_order': 10}\n",
      "79.22775902802236                                                                 \n",
      "{'activation_scale': 2.2873928579014, 'grid_eps': 0.000342760254680916, 'grid_size': 7, 'lambda_l1': 4.4721646142855894e-07, 'lambda_l2': 0.00013935730423511833, 'learning_rate': 0.0018296011942146966, 'non': 8, 'p_c_loss_factor': 1.996461050305607e-06, 'scale_base': 0.15698186224220725, 'scale_noise': 0.015466413834609536, 'scale_spline': 1.0091210171861982e-05, 'spline_order': 6}\n",
      "61.73708906686577                                                                   \n",
      "{'activation_scale': 8.8011795823445, 'grid_eps': 0.03696567887543807, 'grid_size': 4, 'lambda_l1': 0.0005517225214405903, 'lambda_l2': 2.6898920187976183e-05, 'learning_rate': 0.008639268460572128, 'non': 10, 'p_c_loss_factor': 0.1387867947406952, 'scale_base': 0.05204332999577238, 'scale_noise': 0.000511422193608105, 'scale_spline': 0.0007190351355781863, 'spline_order': 9}\n",
      "62.11819574156852                                                                   \n",
      "{'activation_scale': 8.876450588260697, 'grid_eps': 0.023800184828843572, 'grid_size': 4, 'lambda_l1': 0.009036425315580618, 'lambda_l2': 0.002619493969486712, 'learning_rate': 0.006439842124777422, 'non': 12, 'p_c_loss_factor': 0.14910198556335164, 'scale_base': 0.056035219257403096, 'scale_noise': 0.0004904754523009473, 'scale_spline': 4.27253570541591e-05, 'spline_order': 7}\n",
      "62.51140867202387                                                                   \n",
      "{'activation_scale': 9.471817637051075, 'grid_eps': 0.08943044372453378, 'grid_size': 5, 'lambda_l1': 2.280492290196736e-05, 'lambda_l2': 2.0898029568242015e-05, 'learning_rate': 0.028643286243400432, 'non': 14, 'p_c_loss_factor': 0.08097540331771051, 'scale_base': 3.70463876854458, 'scale_noise': 6.0881519390483674e-05, 'scale_spline': 0.0001295067826105674, 'spline_order': 9}\n",
      "63.48627753311762                                                                   \n",
      "{'activation_scale': 7.5662666335224555, 'grid_eps': 0.0009817819560873572, 'grid_size': 6, 'lambda_l1': 0.001984677295348486, 'lambda_l2': 9.714406765849974e-05, 'learning_rate': 0.011112599092181362, 'non': 10, 'p_c_loss_factor': 0.43607202497640457, 'scale_base': 0.3777163751834535, 'scale_noise': 0.0001008946045311762, 'scale_spline': 0.0006863518484337533, 'spline_order': 10}\n",
      "64.93231253567872                                                                   \n",
      "{'activation_scale': 8.670781569542337, 'grid_eps': 0.0035073852746381473, 'grid_size': 10, 'lambda_l1': 0.00012309052706556886, 'lambda_l2': 0.0252969743463867, 'learning_rate': 0.09047934848965358, 'non': 16, 'p_c_loss_factor': 0.02120942380702621, 'scale_base': 0.04449052179245766, 'scale_noise': 0.001119749708834849, 'scale_spline': 1.8962414797054132e-05, 'spline_order': 9}\n",
      "70.70950842846975                                                                  \n",
      "{'activation_scale': 7.861325062506994, 'grid_eps': 1.7487679289745612e-06, 'grid_size': 8, 'lambda_l1': 0.0005694137846800177, 'lambda_l2': 6.7926014994229596e-06, 'learning_rate': 0.007340218148811594, 'non': 8, 'p_c_loss_factor': 0.0012511646108164434, 'scale_base': 0.1257328297843335, 'scale_noise': 0.0002978826159923619, 'scale_spline': 0.0002979728459680083, 'spline_order': 7}\n",
      "62.610932019421845                                                                 \n",
      "{'activation_scale': 9.367902579772714, 'grid_eps': 0.0002542564180761621, 'grid_size': 7, 'lambda_l1': 0.025803563176690077, 'lambda_l2': 3.87622120336951e-05, 'learning_rate': 0.0009016298147768649, 'non': 18, 'p_c_loss_factor': 0.28143771920193855, 'scale_base': 0.002565929917188019, 'scale_noise': 3.47278562702307e-05, 'scale_spline': 0.02586340212254954, 'spline_order': 2}\n",
      "65.71249259295999                                                                  \n",
      "{'activation_scale': 6.874988678139747, 'grid_eps': 6.704852857818167e-05, 'grid_size': 10, 'lambda_l1': 7.415480357875563e-05, 'lambda_l2': 3.8102186572127073e-07, 'learning_rate': 0.023219922275471094, 'non': 14, 'p_c_loss_factor': 0.04180427106958477, 'scale_base': 0.0058215908529120255, 'scale_noise': 0.0005475659342539155, 'scale_spline': 0.0006291645271470142, 'spline_order': 5}\n",
      "65.36119430530137                                                                  \n",
      "{'activation_scale': 8.458364651375, 'grid_eps': 0.0354495029607056, 'grid_size': 9, 'lambda_l1': 0.004497400754380658, 'lambda_l2': 0.00013115162721699848, 'learning_rate': 0.0018600155469671454, 'non': 12, 'p_c_loss_factor': 0.5779630760076857, 'scale_base': 0.00034777403223070375, 'scale_noise': 0.0014245646900133255, 'scale_spline': 0.004673834059202472, 'spline_order': 9}\n",
      "63.0952546309013                                                                   \n",
      "{'activation_scale': 6.36035924993392, 'grid_eps': 0.01412012733038623, 'grid_size': 4, 'lambda_l1': 7.034600741555208e-06, 'lambda_l2': 0.0002305902299845885, 'learning_rate': 0.046837930648074955, 'non': 8, 'p_c_loss_factor': 0.010398216215467288, 'scale_base': 0.07147698633039716, 'scale_noise': 9.857116225171584e-05, 'scale_spline': 0.00014821101259919334, 'spline_order': 7}\n",
      "7833.007926351277                                                                  \n",
      "{'activation_scale': 9.927952134409006, 'grid_eps': 2.38597430986427e-05, 'grid_size': 5, 'lambda_l1': 0.0018656565618577561, 'lambda_l2': 1.6821904967084634e-05, 'learning_rate': 1.0302615219677032e-05, 'non': 12, 'p_c_loss_factor': 0.19085276733382486, 'scale_base': 0.0018582405714102851, 'scale_noise': 0.0003796385716671362, 'scale_spline': 0.6330873590886975, 'spline_order': 10}\n",
      "111.43191445821437                                                                  \n",
      "{'activation_scale': 9.500747362243926, 'grid_eps': 0.0005580006572108889, 'grid_size': 15, 'lambda_l1': 2.856157850074205e-05, 'lambda_l2': 6.890044467649836e-07, 'learning_rate': 0.0003096567895847515, 'non': 10, 'p_c_loss_factor': 0.0004060818802743156, 'scale_base': 0.01545039237109809, 'scale_noise': 0.0026616444997726797, 'scale_spline': 5.0604443742988235e-05, 'spline_order': 4}\n",
      "100%|██████████| 50/50 [1:19:32<00:00, 95.46s/trial, best loss: 61.306275340673864] \n",
      "Best hyperparameters: {'activation_scale': 7.53360240374656, 'grid_eps': 0.003850720837651547, 'grid_size': 6.0, 'lambda_l1': 0.0001274554032001998, 'lambda_l2': 3.568889218912387e-06, 'learning_rate': 0.002084818214427095, 'non': 10.0, 'p_c_loss_factor': 0.00812753224827589, 'scale_base': 0.022872302884832038, 'scale_noise': 0.0872901386099061, 'scale_spline': 0.00030424257692425813, 'spline_order': 8.0}\n"
     ]
    }
   ],
   "source": [
    "spark_trials = Trials()\n",
    "best_params = fmin(fn=objective,\n",
    "                   space=space,\n",
    "                   algo=tpe.suggest,\n",
    "                   max_evals=50,\n",
    "                   trials=spark_trials)\n",
    "print(\"Best hyperparameters:\", best_params)"
   ]
  },
  {
   "cell_type": "code",
   "execution_count": 27,
   "metadata": {
    "execution": {
     "iopub.execute_input": "2024-08-14T06:49:38.770628Z",
     "iopub.status.busy": "2024-08-14T06:49:38.770628Z",
     "iopub.status.idle": "2024-08-14T06:49:39.168888Z",
     "shell.execute_reply": "2024-08-14T06:49:39.168888Z"
    }
   },
   "outputs": [],
   "source": [
    "param_df.to_csv(f'param_df{current_target}.csv')"
   ]
  },
  {
   "cell_type": "markdown",
   "metadata": {
    "execution": {
     "iopub.execute_input": "2024-08-14T06:49:39.168888Z",
     "iopub.status.busy": "2024-08-14T06:49:39.168888Z",
     "iopub.status.idle": "2024-08-14T06:54:35.463000Z",
     "shell.execute_reply": "2024-08-14T06:54:35.463000Z"
    }
   },
   "source": [
    "best_params['grid_size'] = int(best_params['grid_size'])\n",
    "best_params['spline_order'] = int(best_params['spline_order'])\n",
    "best_params['non'] = int(best_params['non'])\n",
    "best_model_state = None  # Initialize the best model state\n",
    "\n",
    "model = KAN(\n",
    "        layers_hidden=[8, best_params['non'], 1],\n",
    "        grid_size=best_params['grid_size'],\n",
    "        spline_order=best_params['spline_order'],\n",
    "        scale_noise=best_params['scale_noise'],\n",
    "        scale_base=best_params['scale_base'],\n",
    "        scale_spline=best_params['scale_spline'],\n",
    "        base_activation=nn.SiLU,\n",
    "        grid_eps=best_params['grid_eps'],\n",
    "        grid_range=[0, 1],\n",
    "        activation_scale=best_params['activation_scale']\n",
    "    )\n",
    "\n",
    "criterion = nn.MSELoss()\n",
    "optimizer = optim.Adam(model.parameters(), lr=best_params['learning_rate'], weight_decay=best_params['lambda_l2'],)\n",
    "\n",
    "num_epochs = 10000\n",
    "lambda_l1 =  best_params['lambda_l1']\n",
    "patience = 200\n",
    "best_loss = float('inf')\n",
    "epochs_no_improve = 0\n",
    "training_loss = []\n",
    "test_loss = []\n",
    "\n",
    "for epoch in range(num_epochs):\n",
    "        model.train()\n",
    "        optimizer.zero_grad()\n",
    "        predictions = model(dataset['train_input'])\n",
    "        main_loss = criterion(predictions, dataset['train_label'])\n",
    "        l1_loss = sum(p.abs().sum() for p in model.parameters())\n",
    "        pc_loss = p_c(dataset['train_input'], dataset['train_label'], predictions)\n",
    "        loss = main_loss + ( lambda_l1 * l1_loss) + (best_params['p_c_loss_factor'] * pc_loss)\n",
    "        loss.backward()\n",
    "        optimizer.step()\n",
    "        training_loss.append(loss.item())\n",
    "        \n",
    "        model.eval()\n",
    "        with torch.no_grad():\n",
    "            test_predictions = model(dataset['test_input'])\n",
    "            temp_score = mse(dataset['test_label'].numpy(), test_predictions.numpy())**0.5  # Move tensors to CPU before numpy\n",
    "        test_loss.append(temp_score)\n",
    "        \n",
    "        if temp_score < best_loss:\n",
    "            best_loss = temp_score\n",
    "            epochs_no_improve = 0\n",
    "            best_model_state = model.state_dict()\n",
    "        else:\n",
    "            epochs_no_improve += 1\n",
    "        \n",
    "        if epochs_no_improve >= patience:\n",
    "            model.load_state_dict(best_model_state)\n",
    "            torch.save(best_model_state, f\"{current_target}_best_model.pth\")\n",
    "            break\n",
    "        with open(f'{current_target}.csv', 'a') as file:\n",
    "            line = f'{epoch},{loss.item() ** 0.5},{temp_score}\\n'\n",
    "            file.write(line)\n",
    "        print(line)"
   ]
  },
  {
   "cell_type": "code",
   "execution_count": 28,
   "metadata": {},
   "outputs": [
    {
     "name": "stderr",
     "output_type": "stream",
     "text": [
      "C:\\Users\\Administrator\\AppData\\Local\\Temp\\2\\ipykernel_6900\\836558021.py:1: FutureWarning: You are using `torch.load` with `weights_only=False` (the current default value), which uses the default pickle module implicitly. It is possible to construct malicious pickle data which will execute arbitrary code during unpickling (See https://github.com/pytorch/pytorch/blob/main/SECURITY.md#untrusted-models for more details). In a future release, the default value for `weights_only` will be flipped to `True`. This limits the functions that could be executed during unpickling. Arbitrary objects will no longer be allowed to be loaded via this mode unless they are explicitly allowlisted by the user via `torch.serialization.add_safe_globals`. We recommend you start setting `weights_only=True` for any use case where you don't have full control of the loaded file. Please open an issue on GitHub for any issues related to this experimental feature.\n",
      "  checkpoint = torch.load(f\"{current_target}_bestest_model.pth\")\n"
     ]
    },
    {
     "data": {
      "text/plain": [
       "<All keys matched successfully>"
      ]
     },
     "execution_count": 28,
     "metadata": {},
     "output_type": "execute_result"
    }
   ],
   "source": [
    "checkpoint = torch.load(f\"{current_target}_bestest_model.pth\")\n",
    "params1 = checkpoint['params']\n",
    "model = KAN(\n",
    "    layers_hidden=[8, params1['non'], 1],\n",
    "    grid_size=params1['grid_size'],\n",
    "    spline_order=params1['spline_order'],\n",
    "    scale_noise=params1['scale_noise'],\n",
    "    scale_base=params1['scale_base'],\n",
    "    scale_spline=params1['scale_spline'],\n",
    "    base_activation=nn.SiLU,\n",
    "    grid_eps=params1['grid_eps'],\n",
    "    grid_range=[0, 1],\n",
    "    activation_scale=params1['activation_scale']\n",
    ")\n",
    "model.load_state_dict(checkpoint['model_state_dict'])"
   ]
  },
  {
   "cell_type": "code",
   "execution_count": 29,
   "metadata": {
    "execution": {
     "iopub.execute_input": "2024-08-14T06:54:35.463000Z",
     "iopub.status.busy": "2024-08-14T06:54:35.463000Z",
     "iopub.status.idle": "2024-08-14T06:54:35.485555Z",
     "shell.execute_reply": "2024-08-14T06:54:35.485555Z"
    }
   },
   "outputs": [
    {
     "data": {
      "text/plain": [
       "61.28303571739912"
      ]
     },
     "execution_count": 29,
     "metadata": {},
     "output_type": "execute_result"
    }
   ],
   "source": [
    "model.eval()\n",
    "with torch.no_grad():\n",
    "    test_predictions = model(dataset['test_input'])\n",
    "mse(dataset['test_label'].numpy(), test_predictions.numpy())**0.5"
   ]
  },
  {
   "cell_type": "code",
   "execution_count": 30,
   "metadata": {
    "execution": {
     "iopub.execute_input": "2024-08-14T06:54:35.485555Z",
     "iopub.status.busy": "2024-08-14T06:54:35.485555Z",
     "iopub.status.idle": "2024-08-14T06:54:35.496005Z",
     "shell.execute_reply": "2024-08-14T06:54:35.496005Z"
    }
   },
   "outputs": [
    {
     "data": {
      "text/plain": [
       "0.8640667318667568"
      ]
     },
     "execution_count": 30,
     "metadata": {},
     "output_type": "execute_result"
    }
   ],
   "source": [
    "r2_score(dataset['test_label'].numpy(), test_predictions.numpy())"
   ]
  },
  {
   "cell_type": "markdown",
   "metadata": {},
   "source": [
    "# 3rd Output"
   ]
  },
  {
   "cell_type": "code",
   "execution_count": 31,
   "metadata": {
    "execution": {
     "iopub.execute_input": "2024-08-14T06:54:35.496005Z",
     "iopub.status.busy": "2024-08-14T06:54:35.496005Z",
     "iopub.status.idle": "2024-08-14T06:54:35.531843Z",
     "shell.execute_reply": "2024-08-14T06:54:35.531843Z"
    }
   },
   "outputs": [],
   "source": [
    "df=pd.read_csv('data.csv',header=1)\n",
    "df=df.drop(columns=['power','thr'])\n",
    "current_target='te'"
   ]
  },
  {
   "cell_type": "code",
   "execution_count": 32,
   "metadata": {
    "execution": {
     "iopub.execute_input": "2024-08-14T06:54:35.531843Z",
     "iopub.status.busy": "2024-08-14T06:54:35.531843Z",
     "iopub.status.idle": "2024-08-14T06:54:35.547027Z",
     "shell.execute_reply": "2024-08-14T06:54:35.547027Z"
    }
   },
   "outputs": [],
   "source": [
    "df = df.sort_index()\n",
    "x = df.drop(columns=current_target)\n",
    "y = df[current_target]\n",
    "x_train, x_test, y_train, y_test = train_test_split(x, y, test_size=0.3, random_state=70) #59 power, 80 thr, 70 te\n",
    "set_seed(42)"
   ]
  },
  {
   "cell_type": "code",
   "execution_count": 33,
   "metadata": {},
   "outputs": [],
   "source": [
    "dataset = {}\n",
    "train_input=x_train.to_numpy()\n",
    "train_label=y_train.to_numpy()\n",
    "test_input=x_test.to_numpy()\n",
    "test_label=y_test.to_numpy()"
   ]
  },
  {
   "cell_type": "code",
   "execution_count": 34,
   "metadata": {
    "execution": {
     "iopub.execute_input": "2024-08-14T06:54:35.547027Z",
     "iopub.status.busy": "2024-08-14T06:54:35.547027Z",
     "iopub.status.idle": "2024-08-14T06:54:35.557047Z",
     "shell.execute_reply": "2024-08-14T06:54:35.557047Z"
    }
   },
   "outputs": [],
   "source": [
    "scaler_input = MinMaxScaler()\n",
    "\n",
    "train_input_scaled = scaler_input.fit_transform(train_input)\n",
    "test_input_scaled = scaler_input.transform(test_input)\n",
    "\n",
    "dataset['train_input'] = torch.from_numpy(train_input_scaled).type(dtype)\n",
    "dataset['test_input'] = torch.from_numpy(test_input_scaled).type(dtype)\n",
    "dataset['train_label'] = torch.from_numpy(train_label[:,None]).type(dtype)\n",
    "dataset['test_label'] = torch.from_numpy(test_label[:,None]).type(dtype)"
   ]
  },
  {
   "cell_type": "code",
   "execution_count": 35,
   "metadata": {
    "execution": {
     "iopub.execute_input": "2024-08-14T06:54:35.557047Z",
     "iopub.status.busy": "2024-08-14T06:54:35.557047Z",
     "iopub.status.idle": "2024-08-14T06:54:35.568088Z",
     "shell.execute_reply": "2024-08-14T06:54:35.568088Z"
    }
   },
   "outputs": [],
   "source": [
    "space = {\n",
    "    'grid_size': hp.quniform('grid_size', 1, 15, 1),\n",
    "    'spline_order': hp.quniform('spline_order', 1, 10, 1),\n",
    "    'scale_noise': hp.loguniform('scale_noise', np.log(1e-5), np.log(1e-1)),\n",
    "    'scale_base': hp.loguniform('scale_base', np.log(1e-5), np.log(1e1)),\n",
    "    'scale_spline': hp.loguniform('scale_spline', np.log(1e-5), np.log(1e1)),\n",
    "    'learning_rate': hp.loguniform('learning_rate', np.log(1e-5), np.log(1e-1)),\n",
    "    'lambda_l1': hp.loguniform('lambda_l1', np.log(1e-7), np.log(1e-1)),\n",
    "    'lambda_l2': hp.loguniform('lambda_l2', np.log(1e-7), np.log(1e-1)),\n",
    "    'grid_eps': hp.loguniform('grid_eps', np.log(1e-7), np.log(1e-1)),\n",
    "    'non': hp.quniform('non', 8, 20, 2),\n",
    "    'p_c_loss_factor': hp.loguniform('p_c_loss_factor', np.log(1e-7), np.log(1)),\n",
    "    'activation_scale': hp.uniform('activation_scale', 0.1, 10.0)  # Uniform distribution for activation_scale\n",
    "}"
   ]
  },
  {
   "cell_type": "code",
   "execution_count": 36,
   "metadata": {
    "execution": {
     "iopub.execute_input": "2024-08-14T06:54:35.568088Z",
     "iopub.status.busy": "2024-08-14T06:54:35.568088Z",
     "iopub.status.idle": "2024-08-14T06:54:35.591015Z",
     "shell.execute_reply": "2024-08-14T06:54:35.591015Z"
    }
   },
   "outputs": [],
   "source": [
    "param_df = pd.DataFrame(columns=['params', 'loss_curve_train', 'loss_curve_test', 'best_score'])\n",
    "trial_no = 0\n",
    "bestest_score = float('inf')  # Initialize global variable\n",
    "def objective(params):\n",
    "    global trial_no, bestest_score  # Declare global variables\n",
    "    trial_no += 1\n",
    "    params['grid_size'] = int(params['grid_size'])\n",
    "    params['spline_order'] = int(params['spline_order'])\n",
    "    params['non'] = int(params['non'])\n",
    "    model = KAN(\n",
    "        layers_hidden=[8, params['non'], 1],\n",
    "        grid_size=params['grid_size'],\n",
    "        spline_order=params['spline_order'],\n",
    "        scale_noise=params['scale_noise'],\n",
    "        scale_base=params['scale_base'],\n",
    "        scale_spline=params['scale_spline'],\n",
    "        base_activation=nn.SiLU,\n",
    "        grid_eps=params['grid_eps'],\n",
    "        grid_range=[0, 1],\n",
    "        activation_scale=params['activation_scale']\n",
    "    )\n",
    "    \n",
    "    criterion = nn.MSELoss()\n",
    "    optimizer = optim.Adam(model.parameters(), lr=params['learning_rate'], weight_decay=params['lambda_l2'])\n",
    "    num_epochs = 5000\n",
    "    patience = 200\n",
    "    best_loss = float('inf')\n",
    "    epochs_no_improve = 0\n",
    "    best_model_state = None  # Initialize the best model state\n",
    "    param_df['params'].loc[trial_no] = params\n",
    "    training_loss = []\n",
    "    test_loss = []\n",
    "    \n",
    "    for epoch in range(num_epochs):\n",
    "        model.train()\n",
    "        optimizer.zero_grad()\n",
    "        predictions = model(dataset['train_input'])\n",
    "        main_loss = criterion(predictions, dataset['train_label'])\n",
    "        l1_loss = sum(p.abs().sum() for p in model.parameters())\n",
    "        pc_loss = p_c(dataset['train_input'], dataset['train_label'], predictions)\n",
    "        loss = main_loss + (params['lambda_l1'] * l1_loss) + (params['p_c_loss_factor'] * pc_loss)\n",
    "        loss.backward()\n",
    "        optimizer.step()\n",
    "        training_loss.append(loss.item())\n",
    "        \n",
    "        model.eval()\n",
    "        with torch.no_grad():\n",
    "            val_predictions = model(dataset['test_input'])\n",
    "            temp_score = mse(dataset['test_label'].cpu().numpy(), val_predictions.cpu().numpy())**0.5  # Move tensors to CPU before numpy\n",
    "        test_loss.append(temp_score)\n",
    "        \n",
    "        if temp_score < best_loss:\n",
    "            best_loss = temp_score\n",
    "            epochs_no_improve = 0\n",
    "            best_model_state = model.state_dict()\n",
    "        else:\n",
    "            epochs_no_improve += 1\n",
    "        \n",
    "        if epochs_no_improve >= patience:\n",
    "            model.load_state_dict(best_model_state)\n",
    "            break\n",
    "        \n",
    "        # Update the bestest score\n",
    "        if temp_score < bestest_score:\n",
    "            bestest_score = temp_score\n",
    "            torch.save({'model_state_dict': best_model_state, 'params': params}, f\"{current_target}_bestest_model.pth\")\n",
    "            \n",
    "    model.eval()\n",
    "    with torch.no_grad():\n",
    "        test_predictions = model(dataset['test_input'])\n",
    "    score = mse(dataset['test_label'].numpy(), test_predictions.numpy())  # Move tensors to CPU before numpy\n",
    "    param_df.loc[trial_no] = [params, training_loss, test_loss, score]\n",
    "    print(score)\n",
    "    print(params)\n",
    "    return score"
   ]
  },
  {
   "cell_type": "code",
   "execution_count": 37,
   "metadata": {
    "execution": {
     "iopub.execute_input": "2024-08-14T06:54:35.591015Z",
     "iopub.status.busy": "2024-08-14T06:54:35.591015Z",
     "iopub.status.idle": "2024-08-14T09:06:38.953083Z",
     "shell.execute_reply": "2024-08-14T09:06:38.953083Z"
    }
   },
   "outputs": [
    {
     "name": "stdout",
     "output_type": "stream",
     "text": [
      "0.549022789947398                                     \n",
      "{'activation_scale': 8.09400675115842, 'grid_eps': 0.0004486167010136365, 'grid_size': 3, 'lambda_l1': 0.008955720066163346, 'lambda_l2': 7.187685465310603e-05, 'learning_rate': 6.63992133405872e-05, 'non': 18, 'p_c_loss_factor': 0.0004519245083483563, 'scale_base': 0.044412734791453676, 'scale_noise': 2.1424217253505716e-05, 'scale_spline': 0.002650128492498385, 'spline_order': 4}\n",
      "0.15135382358695568                                                               \n",
      "{'activation_scale': 9.404719408210056, 'grid_eps': 8.431326216978781e-05, 'grid_size': 5, 'lambda_l1': 0.031111628308807572, 'lambda_l2': 0.009707852656086155, 'learning_rate': 0.0005757055845576629, 'non': 10, 'p_c_loss_factor': 4.342557638156778e-05, 'scale_base': 2.3774764145886182, 'scale_noise': 0.018162398367642683, 'scale_spline': 0.3985933075436944, 'spline_order': 3}\n",
      "0.39489330117193483                                                                \n",
      "{'activation_scale': 0.61744276525662, 'grid_eps': 6.205622801789033e-05, 'grid_size': 3, 'lambda_l1': 0.0006105940975162971, 'lambda_l2': 4.79980631897716e-06, 'learning_rate': 0.0002637449561457473, 'non': 14, 'p_c_loss_factor': 1.3734143150142758e-07, 'scale_base': 6.432033521819299, 'scale_noise': 0.04198685127414404, 'scale_spline': 2.5362821137337696e-05, 'spline_order': 10}\n",
      "0.1137728436957992                                                                  \n",
      "{'activation_scale': 9.231273112387147, 'grid_eps': 0.0007273048706796042, 'grid_size': 5, 'lambda_l1': 3.4533813663171415e-05, 'lambda_l2': 0.0029806934597393347, 'learning_rate': 0.03853059875875556, 'non': 20, 'p_c_loss_factor': 1.1510799538977436e-05, 'scale_base': 9.38049524396813, 'scale_noise': 0.011565686805966948, 'scale_spline': 0.03172458566361133, 'spline_order': 6}\n",
      "0.18327267894107893                                                                 \n",
      "{'activation_scale': 5.816007427291644, 'grid_eps': 0.05393611207267059, 'grid_size': 10, 'lambda_l1': 0.01527213189773208, 'lambda_l2': 8.945810259480802e-07, 'learning_rate': 0.002005923279484331, 'non': 8, 'p_c_loss_factor': 0.5917395571849461, 'scale_base': 0.0013849243167864123, 'scale_noise': 3.448038523627807e-05, 'scale_spline': 0.0016798428258235686, 'spline_order': 4}\n",
      "11.024434366565034                                                                \n",
      "{'activation_scale': 9.40764933496529, 'grid_eps': 3.2994298339894673e-06, 'grid_size': 14, 'lambda_l1': 0.00010484711210376347, 'lambda_l2': 1.2337203682719217e-05, 'learning_rate': 3.247576144614246e-05, 'non': 10, 'p_c_loss_factor': 2.238087125803499e-05, 'scale_base': 1.2953027843907188, 'scale_noise': 0.0006101413539806487, 'scale_spline': 5.135362539620951, 'spline_order': 6}\n",
      "0.4007521125667634                                                                \n",
      "{'activation_scale': 5.160774450307616, 'grid_eps': 4.1299844166930776e-06, 'grid_size': 13, 'lambda_l1': 0.09436142426996563, 'lambda_l2': 1.116546045758414e-06, 'learning_rate': 0.0002931041966633586, 'non': 8, 'p_c_loss_factor': 4.61011378687542e-05, 'scale_base': 0.023613334172278195, 'scale_noise': 0.09854587948366846, 'scale_spline': 0.14264666981118382, 'spline_order': 3}\n",
      "0.26219853097290924                                                               \n",
      "{'activation_scale': 9.499203883438788, 'grid_eps': 0.009843568957583733, 'grid_size': 14, 'lambda_l1': 0.0003005703386248804, 'lambda_l2': 2.4202511708496654e-05, 'learning_rate': 0.058589755202530173, 'non': 18, 'p_c_loss_factor': 0.00011138059687919312, 'scale_base': 1.0907636459654022e-05, 'scale_noise': 0.01953876681971013, 'scale_spline': 0.0008862078320799862, 'spline_order': 2}\n",
      "3.9243690435799987                                                                \n",
      "{'activation_scale': 9.06199736096614, 'grid_eps': 0.0023183657915843378, 'grid_size': 1, 'lambda_l1': 0.002801916792905823, 'lambda_l2': 0.00012707766936461112, 'learning_rate': 3.698897545948725e-05, 'non': 20, 'p_c_loss_factor': 0.0005831182445694841, 'scale_base': 0.02704716643634835, 'scale_noise': 0.000758593058015439, 'scale_spline': 2.3744536426392846e-05, 'spline_order': 5}\n",
      "0.24145521597948064                                                               \n",
      "{'activation_scale': 2.588603923014438, 'grid_eps': 2.0368449609364434e-06, 'grid_size': 1, 'lambda_l1': 0.00021893508756043733, 'lambda_l2': 0.09327425051021275, 'learning_rate': 0.00025893104487528795, 'non': 16, 'p_c_loss_factor': 0.06833842371601331, 'scale_base': 5.403631790927515e-05, 'scale_noise': 2.5664040957042432e-05, 'scale_spline': 0.000883100462227062, 'spline_order': 2}\n",
      "0.4109359369239159                                                                \n",
      "{'activation_scale': 1.4275869691923362, 'grid_eps': 0.00867082976137219, 'grid_size': 4, 'lambda_l1': 0.015765592502472968, 'lambda_l2': 6.885494637271127e-06, 'learning_rate': 0.00019203923511500342, 'non': 10, 'p_c_loss_factor': 6.795047632633875e-06, 'scale_base': 0.049272631352760325, 'scale_noise': 0.05755050592188513, 'scale_spline': 0.004282474611974658, 'spline_order': 1}\n",
      "0.1299706353414423                                                               \n",
      "{'activation_scale': 2.1486019669306486, 'grid_eps': 2.183673140154398e-05, 'grid_size': 7, 'lambda_l1': 5.9563225529691675e-05, 'lambda_l2': 6.842421008835743e-05, 'learning_rate': 0.08609819822724193, 'non': 10, 'p_c_loss_factor': 3.1393563483161246e-07, 'scale_base': 0.28361305195351494, 'scale_noise': 0.008909995632307965, 'scale_spline': 0.3150331448961494, 'spline_order': 4}\n",
      "0.13462303517026455                                                              \n",
      "{'activation_scale': 2.693478936843401, 'grid_eps': 0.0028348625976894375, 'grid_size': 10, 'lambda_l1': 3.0206837768331074e-07, 'lambda_l2': 0.00034996415694303525, 'learning_rate': 0.010912251027498394, 'non': 14, 'p_c_loss_factor': 0.06025743278998599, 'scale_base': 0.16686654863618497, 'scale_noise': 0.0030634032052398686, 'scale_spline': 0.0007825934883452023, 'spline_order': 4}\n",
      "0.12393342797333817                                                              \n",
      "{'activation_scale': 9.25409570032581, 'grid_eps': 0.03910016070232648, 'grid_size': 4, 'lambda_l1': 0.011727201320530602, 'lambda_l2': 6.294793217793838e-07, 'learning_rate': 0.0028076138146200056, 'non': 14, 'p_c_loss_factor': 0.05139855163286807, 'scale_base': 1.0065862196428799, 'scale_noise': 8.952699218838512e-05, 'scale_spline': 1.2212632649335946, 'spline_order': 7}\n",
      "0.14902054576023224                                                              \n",
      "{'activation_scale': 8.591658527300108, 'grid_eps': 1.2697162146556838e-06, 'grid_size': 11, 'lambda_l1': 0.0008179208008427076, 'lambda_l2': 2.108231149453685e-06, 'learning_rate': 0.022479343768996657, 'non': 8, 'p_c_loss_factor': 0.002965200205214189, 'scale_base': 2.4250210947675606, 'scale_noise': 0.00024799522057450933, 'scale_spline': 4.0615860935728385, 'spline_order': 10}\n",
      "593.2090413638921                                                                \n",
      "{'activation_scale': 1.2656878127075912, 'grid_eps': 1.106085674319284e-06, 'grid_size': 7, 'lambda_l1': 1.3774256836390186e-05, 'lambda_l2': 2.133188703201171e-06, 'learning_rate': 4.284705790504256e-05, 'non': 10, 'p_c_loss_factor': 0.04984230419532197, 'scale_base': 0.0015420159243059207, 'scale_noise': 0.0007560214262747713, 'scale_spline': 0.00012043676169277595, 'spline_order': 8}\n",
      "0.7103564346046666                                                               \n",
      "{'activation_scale': 3.723876663508683, 'grid_eps': 8.087090273454636e-07, 'grid_size': 9, 'lambda_l1': 0.006396492831469812, 'lambda_l2': 0.00838498937522476, 'learning_rate': 8.118559258516004e-05, 'non': 18, 'p_c_loss_factor': 6.280716540792481e-07, 'scale_base': 0.4046086262807199, 'scale_noise': 6.639278862944992e-05, 'scale_spline': 0.005539587064307854, 'spline_order': 10}\n",
      "0.12947794975649532                                                                 \n",
      "{'activation_scale': 9.085366350749778, 'grid_eps': 0.04397275678311002, 'grid_size': 3, 'lambda_l1': 0.010479325100631917, 'lambda_l2': 0.001245332712302458, 'learning_rate': 0.0011939344816570615, 'non': 20, 'p_c_loss_factor': 8.219296677299884e-05, 'scale_base': 6.893073857140742, 'scale_noise': 0.000426463980403329, 'scale_spline': 1.754972398593254, 'spline_order': 4}\n",
      "0.43948942011242753                                                                 \n",
      "{'activation_scale': 4.979991906746497, 'grid_eps': 1.5189683089040859e-05, 'grid_size': 2, 'lambda_l1': 2.0992131892820026e-07, 'lambda_l2': 5.33040422504886e-07, 'learning_rate': 0.0001303683283130588, 'non': 20, 'p_c_loss_factor': 0.0008588619677799069, 'scale_base': 0.00014214857329197578, 'scale_noise': 4.696667485950321e-05, 'scale_spline': 0.025208422998705217, 'spline_order': 2}\n",
      "0.1501450301452003                                                                  \n",
      "{'activation_scale': 1.071121117595303, 'grid_eps': 0.00020649660390912399, 'grid_size': 10, 'lambda_l1': 5.004523896809952e-05, 'lambda_l2': 1.6576780910096426e-05, 'learning_rate': 0.00817221580471007, 'non': 18, 'p_c_loss_factor': 7.996378593871662e-05, 'scale_base': 0.0001386103279761005, 'scale_noise': 0.0001346767407283247, 'scale_spline': 1.065917211922485, 'spline_order': 2}\n",
      "0.10799854328368219                                                               \n",
      "{'activation_scale': 6.5305777001784096, 'grid_eps': 0.0008127983156300454, 'grid_size': 6, 'lambda_l1': 3.305274057274919e-06, 'lambda_l2': 1.2088897376713664e-07, 'learning_rate': 0.0036376958887728147, 'non': 12, 'p_c_loss_factor': 2.7263569144176313e-06, 'scale_base': 0.0036784389458335066, 'scale_noise': 0.002488360198855398, 'scale_spline': 0.0357094531360227, 'spline_order': 7}\n",
      "0.12261398385767878                                                               \n",
      "{'activation_scale': 6.990113496285478, 'grid_eps': 1.702553222278737e-07, 'grid_size': 7, 'lambda_l1': 2.189727163044577e-06, 'lambda_l2': 0.0034689094370926456, 'learning_rate': 0.0357733541256749, 'non': 12, 'p_c_loss_factor': 2.8411331071372813e-06, 'scale_base': 0.0029613182755040984, 'scale_noise': 0.0017786096310538648, 'scale_spline': 0.030462497741797087, 'spline_order': 8}\n",
      "0.1888331356514219                                                                \n",
      "{'activation_scale': 7.3198692279341895, 'grid_eps': 0.0007671589305069619, 'grid_size': 6, 'lambda_l1': 1.3249335475366213e-06, 'lambda_l2': 1.013348102375079e-07, 'learning_rate': 0.005618375456450396, 'non': 12, 'p_c_loss_factor': 3.4570095962684038e-06, 'scale_base': 0.0038774482614937524, 'scale_noise': 0.004361765259792691, 'scale_spline': 0.05003005564140954, 'spline_order': 7}\n",
      "0.12334108497289831                                                               \n",
      "{'activation_scale': 6.399284561584058, 'grid_eps': 0.0016522412496161605, 'grid_size': 5, 'lambda_l1': 1.0309779168950643e-05, 'lambda_l2': 0.033568274379194456, 'learning_rate': 0.019940562561224544, 'non': 12, 'p_c_loss_factor': 1.0055150958020857e-06, 'scale_base': 0.0005092870482924107, 'scale_noise': 0.007428159066668077, 'scale_spline': 0.07102287557098391, 'spline_order': 6}\n",
      "0.22717182110504028                                                               \n",
      "{'activation_scale': 8.027679801613713, 'grid_eps': 0.0002756047633351066, 'grid_size': 8, 'lambda_l1': 2.754507195406761e-06, 'lambda_l2': 0.0007284427582645878, 'learning_rate': 0.004099447766459717, 'non': 16, 'p_c_loss_factor': 7.273312826916008e-06, 'scale_base': 0.01390968903827268, 'scale_noise': 0.0017219437760767173, 'scale_spline': 0.012468461614912638, 'spline_order': 9}\n",
      "0.13349995912990778                                                               \n",
      "{'activation_scale': 4.571383092015927, 'grid_eps': 0.014859678426251766, 'grid_size': 6, 'lambda_l1': 1.8348509322064956e-05, 'lambda_l2': 1.5449281025102095e-07, 'learning_rate': 0.0983713357705539, 'non': 16, 'p_c_loss_factor': 1.1895636493642733e-07, 'scale_base': 0.006291542277843205, 'scale_noise': 0.014324668426033802, 'scale_spline': 0.00023172483264000089, 'spline_order': 7}\n",
      "0.14093581167089997                                                               \n",
      "{'activation_scale': 7.218792172551295, 'grid_eps': 3.277395419624321e-05, 'grid_size': 8, 'lambda_l1': 4.459231340744775e-07, 'lambda_l2': 0.05910617061617584, 'learning_rate': 0.0007471501939202782, 'non': 12, 'p_c_loss_factor': 0.006472151424824178, 'scale_base': 0.12450637369370242, 'scale_noise': 0.0018937628028023131, 'scale_spline': 0.011794250935842318, 'spline_order': 8}\n",
      "0.1700450460831251                                                                \n",
      "{'activation_scale': 6.22621687344834, 'grid_eps': 0.001022619819044455, 'grid_size': 6, 'lambda_l1': 5.01069791857976e-06, 'lambda_l2': 0.0022544461377914517, 'learning_rate': 0.017967258276466475, 'non': 16, 'p_c_loss_factor': 1.3706970233810274e-05, 'scale_base': 0.0003426042465223027, 'scale_noise': 0.03195298964863827, 'scale_spline': 0.14591022898382233, 'spline_order': 5}\n",
      "1280.3712708996209                                                                \n",
      "{'activation_scale': 8.222497891241996, 'grid_eps': 0.0004925637649650061, 'grid_size': 4, 'lambda_l1': 9.92810813422883e-07, 'lambda_l2': 0.017707107663055326, 'learning_rate': 1.3502706241991045e-05, 'non': 12, 'p_c_loss_factor': 1.5602272813781908e-06, 'scale_base': 1.81930317442212e-05, 'scale_noise': 1.1016762898723923e-05, 'scale_spline': 0.43721050324638977, 'spline_order': 6}\n",
      "0.1711834809903983                                                                \n",
      "{'activation_scale': 3.88798567823535, 'grid_eps': 0.0051537512692955215, 'grid_size': 5, 'lambda_l1': 3.207044706349051e-05, 'lambda_l2': 0.00019783075180602197, 'learning_rate': 0.0016329665638830902, 'non': 14, 'p_c_loss_factor': 0.000225810262239479, 'scale_base': 0.06314666177488815, 'scale_noise': 0.005180871461818582, 'scale_spline': 0.0182636575890242, 'spline_order': 9}\n",
      "0.13688162965425532                                                               \n",
      "{'activation_scale': 5.771349600354754, 'grid_eps': 0.00021246183920580706, 'grid_size': 9, 'lambda_l1': 1.136165970918881e-07, 'lambda_l2': 4.068079975148487e-05, 'learning_rate': 0.037332953093890155, 'non': 12, 'p_c_loss_factor': 4.48760781997845e-07, 'scale_base': 0.014459936746845169, 'scale_noise': 0.07159805860668696, 'scale_spline': 9.800476772405585, 'spline_order': 5}\n",
      "0.225483524917835                                                                 \n",
      "{'activation_scale': 7.871278889453232, 'grid_eps': 0.00012094932688040294, 'grid_size': 12, 'lambda_l1': 7.311689232179561e-06, 'lambda_l2': 0.005857228785433496, 'learning_rate': 0.0005217514919893966, 'non': 14, 'p_c_loss_factor': 1.6002904521419828e-05, 'scale_base': 0.001751075186669356, 'scale_noise': 0.013144980455399788, 'scale_spline': 0.12632759195726934, 'spline_order': 9}\n",
      "0.12835899121523595                                                               \n",
      "{'activation_scale': 9.830662727047763, 'grid_eps': 1.046577082750354e-05, 'grid_size': 2, 'lambda_l1': 0.0008348784330585278, 'lambda_l2': 0.0005046467863967637, 'learning_rate': 0.012328076075617762, 'non': 16, 'p_c_loss_factor': 2.1101034404644333e-07, 'scale_base': 0.0006069508701055905, 'scale_noise': 0.02479466465091821, 'scale_spline': 0.00018363041631061348, 'spline_order': 7}\n",
      "0.1555101976797556                                                                \n",
      "{'activation_scale': 9.918191157999933, 'grid_eps': 5.423458225918912e-05, 'grid_size': 3, 'lambda_l1': 0.0001552741689270456, 'lambda_l2': 1.9029128841499882e-07, 'learning_rate': 0.003533978745410652, 'non': 10, 'p_c_loss_factor': 0.0013157873877750336, 'scale_base': 0.007551585024206491, 'scale_noise': 0.0002579195454147812, 'scale_spline': 0.502787966001408, 'spline_order': 6}\n",
      "0.12364271140013298                                                               \n",
      "{'activation_scale': 6.802593657900264, 'grid_eps': 0.019733375686352615, 'grid_size': 5, 'lambda_l1': 7.184264450490269e-07, 'lambda_l2': 0.01590095465405972, 'learning_rate': 0.050076310781768274, 'non': 14, 'p_c_loss_factor': 3.4301391814715285e-05, 'scale_base': 3.149739929023247, 'scale_noise': 0.0030638526246060836, 'scale_spline': 0.0024090563900818706, 'spline_order': 8}\n",
      "0.10277237287592471                                                               \n",
      "{'activation_scale': 7.668168424206255, 'grid_eps': 0.09651046480449736, 'grid_size': 2, 'lambda_l1': 0.0017750998036718784, 'lambda_l2': 0.0012360641296926176, 'learning_rate': 0.007428787511268869, 'non': 8, 'p_c_loss_factor': 2.141792324510897e-06, 'scale_base': 0.8319174293636447, 'scale_noise': 0.008418312310870991, 'scale_spline': 0.004780318615466538, 'spline_order': 3}\n",
      "0.2862670898054946                                                                \n",
      "{'activation_scale': 3.860457660819701, 'grid_eps': 0.0042922666482870025, 'grid_size': 2, 'lambda_l1': 0.09070773822509032, 'lambda_l2': 0.0012503718199287953, 'learning_rate': 0.007095513129021421, 'non': 8, 'p_c_loss_factor': 1.0432970306161e-07, 'scale_base': 0.4658265839300813, 'scale_noise': 0.006098996527502902, 'scale_spline': 1.1394988400768632e-05, 'spline_order': 3}\n",
      "0.12832331949202055                                                               \n",
      "{'activation_scale': 5.676878853188358, 'grid_eps': 0.08501043294932768, 'grid_size': 3, 'lambda_l1': 0.0025240862446757216, 'lambda_l2': 0.00023874580333319725, 'learning_rate': 0.0020781175953583256, 'non': 8, 'p_c_loss_factor': 2.5790475698580828e-06, 'scale_base': 0.09607464320067717, 'scale_noise': 0.04248611759356357, 'scale_spline': 6.8076452221427e-05, 'spline_order': 1}\n",
      "0.22738516605583747                                                               \n",
      "{'activation_scale': 7.68818779998617, 'grid_eps': 0.09224950874584245, 'grid_size': 1, 'lambda_l1': 0.04763192397980644, 'lambda_l2': 5.54459260796168e-05, 'learning_rate': 0.0004904203768784606, 'non': 8, 'p_c_loss_factor': 0.00017916985129452152, 'scale_base': 1.0434349577231754, 'scale_noise': 0.0012735679111383167, 'scale_spline': 0.0004827084542184742, 'spline_order': 3}\n",
      "0.6455012444802614                                                                \n",
      "{'activation_scale': 8.52733798015824, 'grid_eps': 6.891543656529357e-06, 'grid_size': 15, 'lambda_l1': 0.0003752170511628557, 'lambda_l2': 4.7509624294945104e-06, 'learning_rate': 0.005229654571434305, 'non': 8, 'p_c_loss_factor': 8.022915846730721e-07, 'scale_base': 0.027186607546305645, 'scale_noise': 0.000400963863198587, 'scale_spline': 0.0017481026800832398, 'spline_order': 5}\n",
      "0.15302530529264058                                                               \n",
      "{'activation_scale': 6.488980659044005, 'grid_eps': 1.2606887574996113e-07, 'grid_size': 4, 'lambda_l1': 0.001893763473229192, 'lambda_l2': 0.000112159629015858, 'learning_rate': 0.0010359675803559587, 'non': 10, 'p_c_loss_factor': 5.853672937843841e-06, 'scale_base': 2.85402802123593e-05, 'scale_noise': 0.09560111042469953, 'scale_spline': 0.004542814466526467, 'spline_order': 4}\n",
      "0.1159550986881815                                                                \n",
      "{'activation_scale': 4.619027001597746, 'grid_eps': 0.021754892031494114, 'grid_size': 2, 'lambda_l1': 9.828521181221971e-05, 'lambda_l2': 2.8451903229060376e-07, 'learning_rate': 0.0025713359969171596, 'non': 10, 'p_c_loss_factor': 3.0893530791727754e-05, 'scale_base': 0.00013084789490846297, 'scale_noise': 0.0031777377423276697, 'scale_spline': 0.05703417377025408, 'spline_order': 2}\n",
      "0.2266137525285099                                                                \n",
      "{'activation_scale': 7.533648144660072, 'grid_eps': 3.052859664671079e-07, 'grid_size': 9, 'lambda_l1': 1.159960815565553e-07, 'lambda_l2': 0.001100115504946362, 'learning_rate': 0.00037347894985050755, 'non': 10, 'p_c_loss_factor': 0.011915307529464715, 'scale_base': 0.0008113821485927401, 'scale_noise': 0.0010054474498716523, 'scale_spline': 0.005682376308772661, 'spline_order': 3}\n",
      "0.1943150603717638                                                                \n",
      "{'activation_scale': 5.312503672871001, 'grid_eps': 0.0014224293060599482, 'grid_size': 12, 'lambda_l1': 0.029778745518744605, 'lambda_l2': 3.373518923412834e-05, 'learning_rate': 0.01154168488318715, 'non': 12, 'p_c_loss_factor': 0.8248351126493173, 'scale_base': 0.21736316590489588, 'scale_noise': 0.016258599377734145, 'scale_spline': 0.19906172406097317, 'spline_order': 5}\n",
      "0.1168325040515173                                                                \n",
      "{'activation_scale': 3.228408531491107, 'grid_eps': 0.008125453893295264, 'grid_size': 7, 'lambda_l1': 0.00043960357449252386, 'lambda_l2': 0.004242565936763082, 'learning_rate': 0.0012952374946107008, 'non': 8, 'p_c_loss_factor': 0.2917175287912351, 'scale_base': 3.6794616016186996, 'scale_noise': 0.00884560111844463, 'scale_spline': 3.851497271567125e-05, 'spline_order': 1}\n",
      "0.2647345739855147                                                                \n",
      "{'activation_scale': 8.63061215036024, 'grid_eps': 5.9130774712444544e-05, 'grid_size': 1, 'lambda_l1': 0.0015236484908662422, 'lambda_l2': 1.0971719623296473e-05, 'learning_rate': 0.06783812106342525, 'non': 10, 'p_c_loss_factor': 0.0003925162558147179, 'scale_base': 0.7119121257212705, 'scale_noise': 0.022828982903742145, 'scale_spline': 0.0005135535317877548, 'spline_order': 4}\n",
      "0.15250213495499312                                                                 \n",
      "{'activation_scale': 5.977011094546985, 'grid_eps': 0.0004773906269810975, 'grid_size': 6, 'lambda_l1': 0.004046004785433214, 'lambda_l2': 0.09381475349581395, 'learning_rate': 0.0007992616972353564, 'non': 14, 'p_c_loss_factor': 2.2691606212413335e-07, 'scale_base': 0.00027197553340325704, 'scale_noise': 0.0001419509315956206, 'scale_spline': 0.007015491079938215, 'spline_order': 6}\n",
      "0.1174900551935999                                                                  \n",
      "{'activation_scale': 4.536286473210842, 'grid_eps': 0.0584956546234381, 'grid_size': 4, 'lambda_l1': 0.00019180643272280378, 'lambda_l2': 2.071444659033264e-06, 'learning_rate': 0.028326819434081503, 'non': 8, 'p_c_loss_factor': 1.7561746571035482e-06, 'scale_base': 0.027477923589590704, 'scale_noise': 0.00056982599835542, 'scale_spline': 0.0012677176336660207, 'spline_order': 7}\n",
      "0.24193765152297111                                                                 \n",
      "{'activation_scale': 6.647799479878272, 'grid_eps': 0.0032771972797577347, 'grid_size': 11, 'lambda_l1': 2.1313077557213385e-05, 'lambda_l2': 0.0001885925771392397, 'learning_rate': 0.01585137764379868, 'non': 18, 'p_c_loss_factor': 5.347145308981854e-05, 'scale_base': 0.07629804382875892, 'scale_noise': 0.002295471158652487, 'scale_spline': 0.783994021127349, 'spline_order': 3}\n",
      "0.2582167049150561                                                                  \n",
      "{'activation_scale': 5.383828262872521, 'grid_eps': 0.00012231600804020227, 'grid_size': 5, 'lambda_l1': 0.005726528884690991, 'lambda_l2': 0.0004176494959253849, 'learning_rate': 0.00013843049040584843, 'non': 12, 'p_c_loss_factor': 3.610762016061729e-07, 'scale_base': 9.190490369482067, 'scale_noise': 0.0458061321417203, 'scale_spline': 2.092820549509358, 'spline_order': 1}\n",
      "100%|██████████| 50/50 [1:04:26<00:00, 77.32s/trial, best loss: 0.10277237287592471]\n",
      "Best hyperparameters: {'activation_scale': 7.668168424206255, 'grid_eps': 0.09651046480449736, 'grid_size': 2.0, 'lambda_l1': 0.0017750998036718784, 'lambda_l2': 0.0012360641296926176, 'learning_rate': 0.007428787511268869, 'non': 8.0, 'p_c_loss_factor': 2.141792324510897e-06, 'scale_base': 0.8319174293636447, 'scale_noise': 0.008418312310870991, 'scale_spline': 0.004780318615466538, 'spline_order': 3.0}\n"
     ]
    }
   ],
   "source": [
    "trials = Trials()\n",
    "best_params = fmin(fn=objective,\n",
    "                   space=space,\n",
    "                   algo=tpe.suggest,\n",
    "                   max_evals=50,\n",
    "                   trials=trials)\n",
    "print(\"Best hyperparameters:\", best_params)"
   ]
  },
  {
   "cell_type": "code",
   "execution_count": 38,
   "metadata": {
    "execution": {
     "iopub.execute_input": "2024-08-14T09:06:38.953083Z",
     "iopub.status.busy": "2024-08-14T09:06:38.953083Z",
     "iopub.status.idle": "2024-08-14T09:06:39.401142Z",
     "shell.execute_reply": "2024-08-14T09:06:39.401142Z"
    }
   },
   "outputs": [],
   "source": [
    "param_df.to_csv(f'param_df{current_target}.csv')"
   ]
  },
  {
   "cell_type": "markdown",
   "metadata": {
    "execution": {
     "iopub.execute_input": "2024-08-14T09:06:39.401142Z",
     "iopub.status.busy": "2024-08-14T09:06:39.401142Z",
     "iopub.status.idle": "2024-08-14T09:10:42.955172Z",
     "shell.execute_reply": "2024-08-14T09:10:42.955172Z"
    }
   },
   "source": [
    "best_params['grid_size'] = int(best_params['grid_size'])\n",
    "best_params['spline_order'] = int(best_params['spline_order'])\n",
    "best_params['non'] = int(best_params['non'])\n",
    "best_model_state = None  # Initialize the best model state\n",
    "\n",
    "model = KAN(\n",
    "        layers_hidden=[8, best_params['non'], 1],\n",
    "        grid_size=best_params['grid_size'],\n",
    "        spline_order=best_params['spline_order'],\n",
    "        scale_noise=best_params['scale_noise'],\n",
    "        scale_base=best_params['scale_base'],\n",
    "        scale_spline=best_params['scale_spline'],\n",
    "        base_activation=nn.SiLU,\n",
    "        grid_eps=best_params['grid_eps'],\n",
    "        grid_range=[0, 1],\n",
    "        activation_scale=best_params['activation_scale']\n",
    "    )\n",
    "\n",
    "criterion = nn.MSELoss()\n",
    "optimizer = optim.Adam(model.parameters(), lr=best_params['learning_rate'], weight_decay=best_params['lambda_l2'],)\n",
    "\n",
    "num_epochs = 10000\n",
    "lambda_l1 =  best_params['lambda_l1']\n",
    "patience = 200\n",
    "best_loss = float('inf')\n",
    "epochs_no_improve = 0\n",
    "training_loss = []\n",
    "test_loss = []\n",
    "\n",
    "for epoch in range(num_epochs):\n",
    "        model.train()\n",
    "        optimizer.zero_grad()\n",
    "        predictions = model(dataset['train_input'])\n",
    "        main_loss = criterion(predictions, dataset['train_label'])\n",
    "        l1_loss = sum(p.abs().sum() for p in model.parameters())\n",
    "        pc_loss = p_c(dataset['train_input'], dataset['train_label'], predictions)\n",
    "        loss = main_loss + ( lambda_l1 * l1_loss) + (best_params['p_c_loss_factor'] * pc_loss)\n",
    "        loss.backward()\n",
    "        optimizer.step()\n",
    "        training_loss.append(loss.item())\n",
    "        \n",
    "        model.eval()\n",
    "        with torch.no_grad():\n",
    "            test_predictions = model(dataset['test_input'])\n",
    "            temp_score = mse(dataset['test_label'].numpy(), test_predictions.numpy())**0.5  # Move tensors to CPU before numpy\n",
    "        test_loss.append(temp_score)\n",
    "        \n",
    "        if temp_score < best_loss:\n",
    "            best_loss = temp_score\n",
    "            epochs_no_improve = 0\n",
    "            best_model_state = model.state_dict()\n",
    "        else:\n",
    "            epochs_no_improve += 1\n",
    "        \n",
    "        if epochs_no_improve >= patience:\n",
    "            model.load_state_dict(best_model_state)\n",
    "            torch.save(best_model_state, f\"{current_target}_best_model.pth\")\n",
    "            break\n",
    "        with open(f'{current_target}.csv', 'a') as file:\n",
    "            line = f'{epoch},{loss.item() ** 0.5},{temp_score}\\n'\n",
    "            file.write(line)\n",
    "        print(line)"
   ]
  },
  {
   "cell_type": "code",
   "execution_count": 39,
   "metadata": {},
   "outputs": [
    {
     "name": "stderr",
     "output_type": "stream",
     "text": [
      "C:\\Users\\Administrator\\AppData\\Local\\Temp\\2\\ipykernel_6900\\836558021.py:1: FutureWarning: You are using `torch.load` with `weights_only=False` (the current default value), which uses the default pickle module implicitly. It is possible to construct malicious pickle data which will execute arbitrary code during unpickling (See https://github.com/pytorch/pytorch/blob/main/SECURITY.md#untrusted-models for more details). In a future release, the default value for `weights_only` will be flipped to `True`. This limits the functions that could be executed during unpickling. Arbitrary objects will no longer be allowed to be loaded via this mode unless they are explicitly allowlisted by the user via `torch.serialization.add_safe_globals`. We recommend you start setting `weights_only=True` for any use case where you don't have full control of the loaded file. Please open an issue on GitHub for any issues related to this experimental feature.\n",
      "  checkpoint = torch.load(f\"{current_target}_bestest_model.pth\")\n"
     ]
    },
    {
     "data": {
      "text/plain": [
       "<All keys matched successfully>"
      ]
     },
     "execution_count": 39,
     "metadata": {},
     "output_type": "execute_result"
    }
   ],
   "source": [
    "checkpoint = torch.load(f\"{current_target}_bestest_model.pth\")\n",
    "params1 = checkpoint['params']\n",
    "model = KAN(\n",
    "    layers_hidden=[8, params1['non'], 1],\n",
    "    grid_size=params1['grid_size'],\n",
    "    spline_order=params1['spline_order'],\n",
    "    scale_noise=params1['scale_noise'],\n",
    "    scale_base=params1['scale_base'],\n",
    "    scale_spline=params1['scale_spline'],\n",
    "    base_activation=nn.SiLU,\n",
    "    grid_eps=params1['grid_eps'],\n",
    "    grid_range=[0, 1],\n",
    "    activation_scale=params1['activation_scale']\n",
    ")\n",
    "model.load_state_dict(checkpoint['model_state_dict'])"
   ]
  },
  {
   "cell_type": "code",
   "execution_count": 42,
   "metadata": {
    "execution": {
     "iopub.execute_input": "2024-08-14T09:10:42.955172Z",
     "iopub.status.busy": "2024-08-14T09:10:42.955172Z",
     "iopub.status.idle": "2024-08-14T09:10:42.983013Z",
     "shell.execute_reply": "2024-08-14T09:10:42.983013Z"
    }
   },
   "outputs": [
    {
     "data": {
      "text/plain": [
       "0.10219742289284868"
      ]
     },
     "execution_count": 42,
     "metadata": {},
     "output_type": "execute_result"
    }
   ],
   "source": [
    "model.eval()\n",
    "with torch.no_grad():\n",
    "    test_predictions = model(dataset['test_input'])\n",
    "mse(dataset['test_label'].numpy(), test_predictions.numpy())"
   ]
  },
  {
   "cell_type": "code",
   "execution_count": 41,
   "metadata": {
    "execution": {
     "iopub.execute_input": "2024-08-14T09:10:42.983013Z",
     "iopub.status.busy": "2024-08-14T09:10:42.983013Z",
     "iopub.status.idle": "2024-08-14T09:10:42.994168Z",
     "shell.execute_reply": "2024-08-14T09:10:42.994168Z"
    }
   },
   "outputs": [
    {
     "data": {
      "text/plain": [
       "0.9071588804381198"
      ]
     },
     "execution_count": 41,
     "metadata": {},
     "output_type": "execute_result"
    }
   ],
   "source": [
    "r2_score(dataset['test_label'].numpy(), test_predictions.numpy())"
   ]
  }
 ],
 "metadata": {
  "kernelspec": {
   "display_name": "Python 3",
   "language": "python",
   "name": "python3"
  },
  "language_info": {
   "codemirror_mode": {
    "name": "ipython",
    "version": 3
   },
   "file_extension": ".py",
   "mimetype": "text/x-python",
   "name": "python",
   "nbconvert_exporter": "python",
   "pygments_lexer": "ipython3",
   "version": "3.12.6"
  }
 },
 "nbformat": 4,
 "nbformat_minor": 2
}
