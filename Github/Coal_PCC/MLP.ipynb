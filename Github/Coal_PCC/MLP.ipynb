{
 "cells": [
  {
   "cell_type": "code",
   "execution_count": 21,
   "metadata": {
    "execution": {
     "iopub.execute_input": "2024-08-14T09:10:50.836471Z",
     "iopub.status.busy": "2024-08-14T09:10:50.836471Z",
     "iopub.status.idle": "2024-08-14T09:11:07.986053Z",
     "shell.execute_reply": "2024-08-14T09:11:07.986053Z"
    }
   },
   "outputs": [],
   "source": [
    "import pandas as pd\n",
    "import torch\n",
    "from sklearn.model_selection import train_test_split\n",
    "import numpy as np\n",
    "from sklearn.metrics import mean_squared_error as mse, r2_score\n",
    "from hyperopt import fmin, tpe, hp, Trials, STATUS_OK\n",
    "from sklearn.preprocessing import MinMaxScaler\n",
    "import torch.nn as nn\n",
    "import random\n",
    "import torch.optim as optim\n",
    "import torch.nn.functional as F\n",
    "\n",
    "torch.set_default_dtype(torch.float64)\n",
    "dtype = torch.get_default_dtype()"
   ]
  },
  {
   "cell_type": "code",
   "execution_count": 22,
   "metadata": {
    "execution": {
     "iopub.execute_input": "2024-08-14T09:11:07.986053Z",
     "iopub.status.busy": "2024-08-14T09:11:07.986053Z",
     "iopub.status.idle": "2024-08-14T09:11:08.004193Z",
     "shell.execute_reply": "2024-08-14T09:11:08.004193Z"
    }
   },
   "outputs": [
    {
     "data": {
      "text/plain": [
       "['te', 'thr', 'power']"
      ]
     },
     "execution_count": 22,
     "metadata": {},
     "output_type": "execute_result"
    }
   ],
   "source": [
    "['te','thr','power']"
   ]
  },
  {
   "cell_type": "code",
   "execution_count": 23,
   "metadata": {
    "execution": {
     "iopub.execute_input": "2024-08-14T09:11:08.082380Z",
     "iopub.status.busy": "2024-08-14T09:11:08.082380Z",
     "iopub.status.idle": "2024-08-14T09:11:08.111686Z",
     "shell.execute_reply": "2024-08-14T09:11:08.111686Z"
    }
   },
   "outputs": [],
   "source": [
    "df=pd.read_csv('data.csv',header=1)\n",
    "df=df.drop(columns=['thr','te'])\n",
    "current_target='power'"
   ]
  },
  {
   "cell_type": "code",
   "execution_count": 24,
   "metadata": {
    "execution": {
     "iopub.execute_input": "2024-08-14T09:11:08.111686Z",
     "iopub.status.busy": "2024-08-14T09:11:08.111686Z",
     "iopub.status.idle": "2024-08-14T09:11:08.126854Z",
     "shell.execute_reply": "2024-08-14T09:11:08.126854Z"
    }
   },
   "outputs": [],
   "source": [
    "df = df.sort_index()\n",
    "x = df.drop(columns=current_target)\n",
    "y = df[current_target]\n",
    "x_train, x_test, y_train, y_test = train_test_split(x, y, test_size=0.3, random_state=59) #59 power, 80 thr, 70 te"
   ]
  },
  {
   "cell_type": "markdown",
   "metadata": {},
   "source": [
    "for n in range(100):\n",
    "    df = df.sort_index()\n",
    "    x = df.drop(columns=current_target)\n",
    "    y = df[current_target]\n",
    "    x_train, x_test, y_train, y_test = train_test_split(x, y, test_size=0.3, random_state=n)\n",
    "    model=CatBoostRegressor(verbose=False)\n",
    "    model.fit(x_train,y_train)\n",
    "    print(f\"{n},{mse(model.predict(x_test),y_test)}\")\n",
    "\n",
    "1. Power\n",
    "0,11.41076332145832\n",
    "1,14.318056318234506\n",
    "2,12.615432677258951\n",
    "3,10.9692100087263\n",
    "4,10.801517687064011\n",
    "5,12.931889573120856\n",
    "6,11.165391570447097\n",
    "7,12.16917434260467\n",
    "8,10.917127820213212\n",
    "9,13.57935839615522\n",
    "10,12.432077945680346\n",
    "11,12.732707904845228\n",
    "12,11.0327850528215\n",
    "13,11.352214648250026\n",
    "14,12.481151958841847\n",
    "15,10.153587045462821\n",
    "16,11.763529866459137\n",
    "17,11.574598214644269\n",
    "18,11.86273517180898\n",
    "19,12.820310809775904\n",
    "20,11.584763546706546\n",
    "21,13.044937043699003\n",
    "22,11.758697121516974\n",
    "23,11.507046552519425\n",
    "24,12.619511216698237\n",
    "25,12.444032479758212\n",
    "26,12.83678085135937\n",
    "27,12.16733444132914\n",
    "28,10.477083000524711\n",
    "29,10.13846558623491\n",
    "30,10.769794438586501\n",
    "31,14.325811735855702\n",
    "32,11.96672275368764\n",
    "33,13.465696966404627\n",
    "34,12.083252253261369\n",
    "35,11.216962449702478\n",
    "36,12.31491864162777\n",
    "37,12.705542868757869\n",
    "38,13.444925737482796\n",
    "39,12.488122783940815\n",
    "40,10.693394400966886\n",
    "41,10.911616612947489\n",
    "42,14.900715718684118\n",
    "43,11.083119052178247\n",
    "44,11.601977449220461\n",
    "45,13.053408411244328\n",
    "46,9.899147141321839\n",
    "47,13.39057280005873\n",
    "48,10.766648703492976\n",
    "49,10.980290294937715\n",
    "50,11.153880477145165\n",
    "51,14.606199682745059\n",
    "52,11.213925566348417\n",
    "53,9.542522717059787\n",
    "54,13.567374737730795\n",
    "55,10.164773511928361\n",
    "56,11.105287654265268\n",
    "57,13.718719052701877\n",
    "58,11.333540670353608\n",
    "59,8.497001911326796\n",
    "60,11.592424241690653\n",
    "61,13.5395966025784\n",
    "62,13.852712974886401\n",
    "63,11.423705747028754\n",
    "64,10.710872019194232\n",
    "65,12.743530395528891\n",
    "66,11.573257758357832\n",
    "67,10.84146119086138\n",
    "68,10.467392989379448\n",
    "69,9.922823143106037\n",
    "70,9.493745530032145\n",
    "71,11.27202842133312\n",
    "72,11.694136676152718\n",
    "73,12.221674327283248\n",
    "74,15.035725746620779\n",
    "75,12.914080086013572\n",
    "76,11.991917552718007\n",
    "77,10.672710500953265\n",
    "78,12.553205170616755\n",
    "79,11.502409588056507\n",
    "80,10.990264842503139\n",
    "81,10.701090721830576\n",
    "82,13.345973717809267\n",
    "83,12.270014988052035\n",
    "84,10.698777741688778\n",
    "85,14.022644787847042\n",
    "86,14.003823575109015\n",
    "87,13.484354357882074\n",
    "88,16.74424161345748\n",
    "89,9.0584365100587\n",
    "90,11.301090321941386\n",
    "91,12.863339937586238\n",
    "92,11.337603778800208\n",
    "93,12.967600159536852\n",
    "94,12.614455759261125\n",
    "95,12.738102727813791\n",
    "96,14.523567952695963\n",
    "97,12.113701126343665\n",
    "98,12.909167771026341\n",
    "99,10.18505805373564\n",
    "\n",
    "2. thr\n",
    "0,4724.232213861554\n",
    "1,4610.825216184579\n",
    "2,6055.330869032593\n",
    "3,5114.488568205936\n",
    "4,4738.928403766669\n",
    "5,5314.402333946792\n",
    "6,4669.131045370651\n",
    "7,5643.249412000004\n",
    "8,5104.478731674154\n",
    "9,5528.6730198652\n",
    "10,4562.4420540945775\n",
    "11,5578.509452385982\n",
    "12,4427.96414514507\n",
    "13,5267.3296545328785\n",
    "14,5430.059025260408\n",
    "15,5339.038242094627\n",
    "16,4463.802918118435\n",
    "17,5423.283793005328\n",
    "18,5614.826095396864\n",
    "19,5092.581278663082\n",
    "20,5402.7800971575025\n",
    "21,4948.794864466815\n",
    "22,5393.849578325779\n",
    "23,4550.629594567171\n",
    "24,4528.144235806636\n",
    "25,4805.273713130066\n",
    "26,5320.834926601629\n",
    "27,5805.092561170168\n",
    "28,5120.893517645038\n",
    "29,5160.893511994251\n",
    "30,5028.491613660232\n",
    "31,5184.732443553403\n",
    "32,4867.605548440525\n",
    "33,5182.0971366363765\n",
    "34,4642.394448333459\n",
    "35,5416.064049485922\n",
    "36,5710.881021144854\n",
    "37,4770.765487367637\n",
    "38,4764.385871061131\n",
    "39,5448.845713328467\n",
    "40,6343.888120215704\n",
    "41,4764.415809691513\n",
    "42,5362.37910733152\n",
    "43,6248.051196241974\n",
    "44,5555.349469577085\n",
    "45,6074.959778640582\n",
    "46,4936.474122027513\n",
    "47,5160.211503713981\n",
    "48,5004.150353288729\n",
    "49,5066.024879125629\n",
    "50,4591.952487347261\n",
    "51,4960.987063514835\n",
    "52,5556.015570281714\n",
    "53,5431.919631876493\n",
    "54,5024.144923284437\n",
    "55,5246.384037513113\n",
    "56,5592.080987565693\n",
    "57,5218.366282843651\n",
    "58,6106.796134887011\n",
    "59,4343.505385016025\n",
    "60,4893.600718824523\n",
    "61,5367.805360770601\n",
    "62,4560.21509775607\n",
    "63,4412.1453051095505\n",
    "64,4932.0284364170375\n",
    "65,4905.036682250197\n",
    "66,4266.206574155548\n",
    "67,4761.769036425087\n",
    "68,5043.469324060581\n",
    "69,5200.119529082677\n",
    "70,4758.819409553396\n",
    "71,5371.898288429307\n",
    "72,4947.394348120425\n",
    "73,5203.300931651352\n",
    "74,5038.537048240991\n",
    "75,4448.045517703519\n",
    "76,5673.410203217506\n",
    "77,5047.3068752314175\n",
    "78,5238.677834437368\n",
    "79,5422.726050005841\n",
    "80,4088.1381828730496\n",
    "81,4967.992270545817\n",
    "82,5015.697481475353\n",
    "83,5120.817700584382\n",
    "84,4315.799646068533\n",
    "85,4835.938888056308\n",
    "86,5893.133444219054\n",
    "87,4509.974195101194\n",
    "88,5154.981033043408\n",
    "89,4756.304894399503\n",
    "90,5035.578782220435\n",
    "91,4971.97205399659\n",
    "92,5264.229189323557\n",
    "93,5810.324473518437\n",
    "94,5195.027891079441\n",
    "95,5145.7653791843\n",
    "96,4897.259184556639\n",
    "97,5429.938909988875\n",
    "98,5443.355097107537\n",
    "99,4765.177934832559\n",
    "\n",
    "3. te\n",
    "0,0.1120665629226885\n",
    "1,0.1448484494235634\n",
    "2,0.12802071068611762\n",
    "3,0.12686616074333174\n",
    "4,0.11417722238927171\n",
    "5,0.14431783573811893\n",
    "6,0.14927099367427174\n",
    "7,0.11835518695834683\n",
    "8,0.104540652241308\n",
    "9,0.11813934608260267\n",
    "10,0.11991176406630617\n",
    "11,0.13935801491379995\n",
    "12,0.12374758565800831\n",
    "13,0.11918252980861\n",
    "14,0.12535937011174983\n",
    "15,0.13809263378907097\n",
    "16,0.13622218322144897\n",
    "17,0.11861752775220653\n",
    "18,0.12837964124466744\n",
    "19,0.13310270474790162\n",
    "20,0.11414667967166336\n",
    "21,0.15738185286949172\n",
    "22,0.13846191369281916\n",
    "23,0.1309763419731059\n",
    "24,0.11918574149788443\n",
    "25,0.10849208544440343\n",
    "26,0.12144241220933953\n",
    "27,0.12429918742904165\n",
    "28,0.12401341228278658\n",
    "29,0.11909251835848811\n",
    "30,0.12534313540457342\n",
    "31,0.13772528292676176\n",
    "32,0.14237334597556348\n",
    "33,0.1149908016804011\n",
    "34,0.11663034108936716\n",
    "35,0.13345979870563054\n",
    "36,0.13792373891235485\n",
    "37,0.12592205404551512\n",
    "38,0.11618716582806277\n",
    "39,0.1236946549074161\n",
    "40,0.1518154428950952\n",
    "41,0.11899933800978037\n",
    "42,0.1334104334260782\n",
    "43,0.12044933316350703\n",
    "44,0.15644423187185139\n",
    "45,0.11238427912355291\n",
    "46,0.1093926661253089\n",
    "47,0.1201130262486998\n",
    "48,0.12220893490988512\n",
    "49,0.12923868597048924\n",
    "50,0.11605447718880331\n",
    "51,0.12517486697614424\n",
    "52,0.134278481833615\n",
    "53,0.13259484396574414\n",
    "54,0.11609140521030992\n",
    "55,0.12742532655420236\n",
    "56,0.13499314819457234\n",
    "57,0.10859403980356808\n",
    "58,0.15071660643412657\n",
    "59,0.10887781628174753\n",
    "60,0.11741377662171941\n",
    "61,0.11678822582000394\n",
    "62,0.12946897402312088\n",
    "63,0.10815875501883998\n",
    "64,0.11519665336219592\n",
    "65,0.14072289953879782\n",
    "66,0.10680208387507033\n",
    "67,0.11679001282570174\n",
    "68,0.1458084399189047\n",
    "69,0.12329664410950791\n",
    "70,0.09896124419806995\n",
    "71,0.110764527136708\n",
    "72,0.11448840912744525\n",
    "73,0.1157901878695587\n",
    "74,0.12369770030845129\n",
    "75,0.10520201257422472\n",
    "76,0.11679178685757112\n",
    "77,0.12821726185318374\n",
    "78,0.10458019441962925\n",
    "79,0.14107570991744922\n",
    "80,0.1360445272398059\n",
    "81,0.12478398220148712\n",
    "82,0.13266027506933073\n",
    "83,0.10607844562993962\n",
    "84,0.10196898152963019\n",
    "85,0.14104560101320465\n",
    "86,0.1599296473332828\n",
    "87,0.13068769078279674\n",
    "88,0.11409966917269443\n",
    "89,0.13619639359241678\n",
    "90,0.12978284004793805\n",
    "91,0.13149475644232786\n",
    "92,0.14751679652468772\n",
    "93,0.1440229546456236\n",
    "94,0.14031287935662107\n",
    "95,0.13745168842971403\n",
    "96,0.12711315749420327\n",
    "97,0.13488508250140588\n",
    "98,0.12329059784840886\n",
    "99,0.11539854443483825"
   ]
  },
  {
   "cell_type": "code",
   "execution_count": 25,
   "metadata": {
    "execution": {
     "iopub.execute_input": "2024-08-14T09:11:08.126854Z",
     "iopub.status.busy": "2024-08-14T09:11:08.126854Z",
     "iopub.status.idle": "2024-08-14T09:11:08.193994Z",
     "shell.execute_reply": "2024-08-14T09:11:08.193994Z"
    }
   },
   "outputs": [],
   "source": [
    "def set_seed(seed=42):\n",
    "    np.random.seed(seed)\n",
    "    random.seed(seed)\n",
    "    torch.manual_seed(seed)\n",
    "\n",
    "set_seed(42)"
   ]
  },
  {
   "cell_type": "code",
   "execution_count": 26,
   "metadata": {
    "execution": {
     "iopub.execute_input": "2024-08-14T09:11:08.193994Z",
     "iopub.status.busy": "2024-08-14T09:11:08.193994Z",
     "iopub.status.idle": "2024-08-14T09:11:08.208526Z",
     "shell.execute_reply": "2024-08-14T09:11:08.208526Z"
    }
   },
   "outputs": [],
   "source": [
    "class Net(torch.nn.Module):\n",
    "    def __init__(self, n_feature, n_hidden, n_output, activation_fn=nn.ReLU, activation_scale=1.0):\n",
    "        super(Net, self).__init__()\n",
    "        self.hidden = nn.Linear(n_feature, n_hidden)   # hidden layer\n",
    "        self.predict = nn.Linear(n_hidden, n_output)   # output layer\n",
    "        self.activation_fn = activation_fn()           # instantiate the activation function\n",
    "        self.activation_scale = activation_scale       # scaling factor for the activation function\n",
    "\n",
    "    def forward(self, x):\n",
    "        x = self.activation_scale * self.activation_fn(self.hidden(x))  # apply scaled activation function\n",
    "        x = self.predict(x)                                              # linear output\n",
    "        return x"
   ]
  },
  {
   "cell_type": "code",
   "execution_count": 27,
   "metadata": {
    "execution": {
     "iopub.execute_input": "2024-08-14T09:11:08.208526Z",
     "iopub.status.busy": "2024-08-14T09:11:08.208526Z",
     "iopub.status.idle": "2024-08-14T09:11:08.219960Z",
     "shell.execute_reply": "2024-08-14T09:11:08.219960Z"
    }
   },
   "outputs": [],
   "source": [
    "dataset = {}\n",
    "train_input=x_train.to_numpy()\n",
    "train_label=y_train.to_numpy()\n",
    "test_input=x_test.to_numpy()\n",
    "test_label=y_test.to_numpy()"
   ]
  },
  {
   "cell_type": "code",
   "execution_count": 28,
   "metadata": {
    "execution": {
     "iopub.execute_input": "2024-08-14T09:11:08.219960Z",
     "iopub.status.busy": "2024-08-14T09:11:08.219960Z",
     "iopub.status.idle": "2024-08-14T09:11:08.236426Z",
     "shell.execute_reply": "2024-08-14T09:11:08.236426Z"
    }
   },
   "outputs": [],
   "source": [
    "scaler_input = MinMaxScaler()\n",
    "\n",
    "train_input_scaled = scaler_input.fit_transform(train_input)\n",
    "test_input_scaled = scaler_input.transform(test_input)\n",
    "\n",
    "dataset['train_input'] = torch.from_numpy(train_input_scaled).type(dtype)\n",
    "dataset['test_input'] = torch.from_numpy(test_input_scaled).type(dtype)\n",
    "dataset['train_label'] = torch.from_numpy(train_label[:,None]).type(dtype)\n",
    "dataset['test_label'] = torch.from_numpy(test_label[:,None]).type(dtype)"
   ]
  },
  {
   "cell_type": "code",
   "execution_count": 29,
   "metadata": {
    "execution": {
     "iopub.execute_input": "2024-08-14T09:11:08.236426Z",
     "iopub.status.busy": "2024-08-14T09:11:08.236426Z",
     "iopub.status.idle": "2024-08-14T09:11:08.252936Z",
     "shell.execute_reply": "2024-08-14T09:11:08.252936Z"
    }
   },
   "outputs": [],
   "source": [
    "def p_c(x, y, y_hat):\n",
    "    y = y[:, 0]\n",
    "    y_hat = y_hat[:, 0]\n",
    "    differences = []\n",
    "\n",
    "    for i in range(8):\n",
    "        n = x[:, i]\n",
    "        mean_n = torch.mean(n)\n",
    "        mean_y = torch.mean(y)\n",
    "        mean_y_hat = torch.mean(y_hat)\n",
    "\n",
    "        numerator1 = torch.sum((n - mean_n) * (y - mean_y))\n",
    "        denominator1 = torch.sqrt(torch.sum((n - mean_n)**2) * torch.sum((y - mean_y)**2))\n",
    "\n",
    "        numerator2 = torch.sum((n - mean_n) * (y_hat - mean_y_hat))\n",
    "        denominator2 = torch.sqrt(torch.sum((n - mean_n)**2) * torch.sum((y_hat - mean_y_hat)**2))\n",
    "\n",
    "        pc1 = numerator1 / denominator1 if denominator1 != 0 else 0\n",
    "        pc2 = numerator2 / denominator2 if denominator2 != 0 else 0\n",
    "\n",
    "        differences.append(torch.abs(torch.abs(pc1) - torch.abs(pc2)))\n",
    "\n",
    "    return torch.mean(torch.tensor(differences))"
   ]
  },
  {
   "cell_type": "code",
   "execution_count": 30,
   "metadata": {
    "execution": {
     "iopub.execute_input": "2024-08-14T09:11:08.252936Z",
     "iopub.status.busy": "2024-08-14T09:11:08.252936Z",
     "iopub.status.idle": "2024-08-14T09:11:08.267128Z",
     "shell.execute_reply": "2024-08-14T09:11:08.267128Z"
    }
   },
   "outputs": [],
   "source": [
    "space = {\n",
    "    'learning_rate': hp.loguniform('learning_rate', np.log(1e-5), np.log(1e-1)),\n",
    "    'lambda_l1': hp.loguniform('lambda_l1', np.log(1e-7), np.log(1e-1)),\n",
    "    'lambda_l2': hp.loguniform('lambda_l2', np.log(1e-7), np.log(1e-1)),\n",
    "    'non': hp.quniform('non', 8, 20, 2),\n",
    "    'p_c_loss_factor': hp.loguniform('p_c_loss_factor', np.log(1e-7), np.log(1)),\n",
    "    'activation_scale': hp.uniform('activation_scale', 0.1, 10.0)\n",
    "}"
   ]
  },
  {
   "cell_type": "code",
   "execution_count": 31,
   "metadata": {
    "execution": {
     "iopub.execute_input": "2024-08-14T09:11:08.267128Z",
     "iopub.status.busy": "2024-08-14T09:11:08.267128Z",
     "iopub.status.idle": "2024-08-14T09:11:08.296860Z",
     "shell.execute_reply": "2024-08-14T09:11:08.296860Z"
    }
   },
   "outputs": [],
   "source": [
    "param_df = pd.DataFrame(columns=['params', 'loss_curve_train', 'loss_curve_test', 'best_score'])\n",
    "trial_no = 0\n",
    "bestest_score = float('inf')  # Initialize global variable\n",
    "\n",
    "set_seed(42)\n",
    "def objective(params):\n",
    "    set_seed(42)\n",
    "    global trial_no, bestest_score  \n",
    "    trial_no += 1\n",
    "    params['non'] = int(params['non'])\n",
    "    model = Net(\n",
    "        n_feature=8,\n",
    "        n_hidden=params['non'],\n",
    "        n_output=1,\n",
    "        activation_fn=nn.SiLU,\n",
    "        activation_scale=params['activation_scale']\n",
    "    )\n",
    "    \n",
    "    criterion = nn.MSELoss()\n",
    "    optimizer = optim.Adam(model.parameters(), lr=params['learning_rate'], weight_decay=params['lambda_l2'])\n",
    "    num_epochs = 5000\n",
    "    patience = 200\n",
    "    best_loss = float('inf')\n",
    "    epochs_no_improve = 0\n",
    "    param_df['params'].loc[trial_no] = params\n",
    "    training_loss = []\n",
    "    test_loss = []\n",
    "    \n",
    "    for epoch in range(num_epochs):\n",
    "        set_seed(42)\n",
    "        model.train()\n",
    "        optimizer.zero_grad()\n",
    "        predictions = model(dataset['train_input'])\n",
    "        main_loss = criterion(predictions, dataset['train_label'])\n",
    "        l1_loss = sum(p.abs().sum() for p in model.parameters())\n",
    "        pc_loss = p_c(dataset['train_input'], dataset['train_label'], predictions)\n",
    "        loss = main_loss + (params['lambda_l1'] * l1_loss) + (params['p_c_loss_factor'] * pc_loss)\n",
    "        loss.backward()\n",
    "        optimizer.step()\n",
    "        training_loss.append(loss.item())\n",
    "        \n",
    "        model.eval()\n",
    "        with torch.no_grad():\n",
    "            val_predictions = model(dataset['test_input'])\n",
    "            temp_score = mse(dataset['test_label'].numpy(), val_predictions.numpy())**0.5  # Move tensors to CPU before numpy\n",
    "        test_loss.append(temp_score)\n",
    "        \n",
    "        if temp_score < best_loss:\n",
    "            best_loss = temp_score\n",
    "            epochs_no_improve = 0\n",
    "            best_model_state = model.state_dict()\n",
    "        else:\n",
    "            epochs_no_improve += 1\n",
    "        \n",
    "        if epochs_no_improve >= patience:\n",
    "            model.load_state_dict(best_model_state)\n",
    "            break\n",
    "        \n",
    "        # Update the bestest score\n",
    "        if temp_score < bestest_score:\n",
    "            bestest_score = temp_score\n",
    "            torch.save({'model_state_dict': best_model_state, 'params': params}, f\"{current_target}_bestest_model.pth\")\n",
    "    \n",
    "    model.eval()\n",
    "    with torch.no_grad():\n",
    "        test_predictions = model(dataset['test_input'])\n",
    "    score = mse(dataset['test_label'].numpy(), test_predictions.numpy())**0.5  # Move tensors to CPU before numpy\n",
    "    param_df.loc[trial_no] = [params, training_loss, test_loss, score]\n",
    "    print(score)\n",
    "    print(params)\n",
    "    return score\n"
   ]
  },
  {
   "cell_type": "code",
   "execution_count": 32,
   "metadata": {
    "execution": {
     "iopub.execute_input": "2024-08-14T09:11:08.296860Z",
     "iopub.status.busy": "2024-08-14T09:11:08.296860Z",
     "iopub.status.idle": "2024-08-14T09:39:03.914968Z",
     "shell.execute_reply": "2024-08-14T09:39:03.914968Z"
    }
   },
   "outputs": [
    {
     "name": "stdout",
     "output_type": "stream",
     "text": [
      "2.286394570741201                                     \n",
      "{'activation_scale': 8.227308889467329, 'lambda_l1': 0.0007446587641194266, 'lambda_l2': 0.002353707942956064, 'learning_rate': 0.07787616819641725, 'non': 16, 'p_c_loss_factor': 1.4012831073805184e-06}\n",
      "46.1255647340737                                                               \n",
      "{'activation_scale': 6.835226459254256, 'lambda_l1': 8.574701485061331e-05, 'lambda_l2': 4.738527933688162e-06, 'learning_rate': 0.000711705601578098, 'non': 14, 'p_c_loss_factor': 0.0018823785746922158}\n",
      "3.7390157475824326                                                             \n",
      "{'activation_scale': 3.1169691029677047, 'lambda_l1': 1.843848755781139e-05, 'lambda_l2': 0.001998160741774084, 'learning_rate': 0.006365459177232711, 'non': 20, 'p_c_loss_factor': 0.5214192291498224}\n",
      "509.7733084211188                                                              \n",
      "{'activation_scale': 6.7310600303259065, 'lambda_l1': 0.0002852682680848428, 'lambda_l2': 2.9958671525569445e-05, 'learning_rate': 1.3180977504237186e-05, 'non': 10, 'p_c_loss_factor': 0.0008043039366661575}\n",
      "3.3957283867132384                                                             \n",
      "{'activation_scale': 0.10949970532933861, 'lambda_l1': 0.00025136111366911353, 'lambda_l2': 1.4462063181980355e-06, 'learning_rate': 0.05848762439324557, 'non': 14, 'p_c_loss_factor': 0.8453598056261064}\n",
      "2.485684932062909                                                              \n",
      "{'activation_scale': 5.828376995308452, 'lambda_l1': 0.009038731960821675, 'lambda_l2': 5.537224201458249e-06, 'learning_rate': 0.045069303945898156, 'non': 16, 'p_c_loss_factor': 0.15747787672701816}\n",
      "3.160589792087517                                                              \n",
      "{'activation_scale': 6.550796732409272, 'lambda_l1': 3.7865936783546545e-05, 'lambda_l2': 0.00014454409791329835, 'learning_rate': 0.01030999371106879, 'non': 20, 'p_c_loss_factor': 9.758653562741414e-05}\n",
      "2.550776476118904                                                              \n",
      "{'activation_scale': 8.720134587718013, 'lambda_l1': 3.722432124636178e-06, 'lambda_l2': 0.08464781593603866, 'learning_rate': 0.08942718402976359, 'non': 14, 'p_c_loss_factor': 3.839875880081235e-07}\n",
      "469.1736198300802                                                              \n",
      "{'activation_scale': 9.110280680206673, 'lambda_l1': 0.0008567127239811051, 'lambda_l2': 0.00030969949626349805, 'learning_rate': 4.8293555776096355e-05, 'non': 14, 'p_c_loss_factor': 0.03339202447917571}\n",
      "449.1678600111992                                                              \n",
      "{'activation_scale': 4.404614910212056, 'lambda_l1': 0.018495034785409856, 'lambda_l2': 7.994564532897043e-05, 'learning_rate': 7.448886235652489e-05, 'non': 18, 'p_c_loss_factor': 3.7291077354223457e-06}\n",
      "2.5767449630085975                                                              \n",
      "{'activation_scale': 9.897764407175579, 'lambda_l1': 2.4723971398716424e-06, 'lambda_l2': 0.03426624450853792, 'learning_rate': 0.02939076505101389, 'non': 20, 'p_c_loss_factor': 0.22290573777210385}\n",
      "67.61616791106205                                                               \n",
      "{'activation_scale': 4.714622960552784, 'lambda_l1': 1.7799690335912256e-07, 'lambda_l2': 1.9643301919539333e-07, 'learning_rate': 0.0005810245497793883, 'non': 10, 'p_c_loss_factor': 3.8628850295462385e-06}\n",
      "12.699415409544835                                                              \n",
      "{'activation_scale': 7.616467155908245, 'lambda_l1': 0.012625051286848082, 'lambda_l2': 0.011137245456519982, 'learning_rate': 0.0018516925741416737, 'non': 14, 'p_c_loss_factor': 0.9621581266422671}\n",
      "3.60614889470248                                                                \n",
      "{'activation_scale': 6.922322742760333, 'lambda_l1': 0.038480533935030675, 'lambda_l2': 4.7503590760917686e-07, 'learning_rate': 0.006351481129801044, 'non': 20, 'p_c_loss_factor': 0.7124402978737885}\n",
      "30.71692494603484                                                               \n",
      "{'activation_scale': 4.114442730119543, 'lambda_l1': 0.00010867939503403762, 'lambda_l2': 0.00030697737700570655, 'learning_rate': 0.0013830207807243565, 'non': 14, 'p_c_loss_factor': 0.002584344732058059}\n",
      "71.44253726345028                                                               \n",
      "{'activation_scale': 4.656038147992835, 'lambda_l1': 9.507320464353397e-07, 'lambda_l2': 5.874297142597062e-06, 'learning_rate': 0.0003951035649665218, 'non': 20, 'p_c_loss_factor': 4.214492744354967e-07}\n",
      "4.034227592617988                                                               \n",
      "{'activation_scale': 1.3067069740043717, 'lambda_l1': 0.00015045294125672233, 'lambda_l2': 9.259798177894105e-06, 'learning_rate': 0.008392625550475973, 'non': 14, 'p_c_loss_factor': 1.2238747048761353e-07}\n",
      "506.38502948238045                                                              \n",
      "{'activation_scale': 9.05820632627482, 'lambda_l1': 0.01601567260989673, 'lambda_l2': 0.0007702296532186787, 'learning_rate': 1.2111126094990757e-05, 'non': 18, 'p_c_loss_factor': 0.0013191418914037661}\n",
      "10.998091491396497                                                              \n",
      "{'activation_scale': 5.475775447191109, 'lambda_l1': 8.285754001133756e-07, 'lambda_l2': 0.00034927184868139633, 'learning_rate': 0.002058242285184152, 'non': 20, 'p_c_loss_factor': 0.010753735131404618}\n",
      "503.6868119353628                                                               \n",
      "{'activation_scale': 7.914007567146104, 'lambda_l1': 0.003234983532915248, 'lambda_l2': 4.76203805198884e-06, 'learning_rate': 3.3572449034210066e-05, 'non': 8, 'p_c_loss_factor': 0.0008221812515807636}\n",
      "2.4730227809001732                                                              \n",
      "{'activation_scale': 2.8923856698546024, 'lambda_l1': 0.002688768607498699, 'lambda_l2': 0.00523217732347648, 'learning_rate': 0.024538951102912897, 'non': 16, 'p_c_loss_factor': 7.745914114566409e-05}\n",
      "3.293645021847143                                                               \n",
      "{'activation_scale': 2.5572030750535033, 'lambda_l1': 0.09244626678235904, 'lambda_l2': 0.005185625085666347, 'learning_rate': 0.018279834739644313, 'non': 16, 'p_c_loss_factor': 7.358361378508014e-05}\n",
      "2.8146232080984612                                                              \n",
      "{'activation_scale': 1.5557954022425924, 'lambda_l1': 0.0019002113902230609, 'lambda_l2': 0.02126294298301738, 'learning_rate': 0.07715995241813203, 'non': 16, 'p_c_loss_factor': 9.672829747087062e-06}\n",
      "2.48623085355339                                                                \n",
      "{'activation_scale': 3.320070991997219, 'lambda_l1': 0.0008296682061794146, 'lambda_l2': 0.0027708492917025494, 'learning_rate': 0.09961888603882445, 'non': 18, 'p_c_loss_factor': 2.7831262861934247e-05}\n",
      "3.1975456340818753                                                              \n",
      "{'activation_scale': 0.4622726495271321, 'lambda_l1': 0.0030568014540482136, 'lambda_l2': 0.0011613067245544396, 'learning_rate': 0.021749187540705706, 'non': 12, 'p_c_loss_factor': 1.0167341748372101e-06}\n",
      "16.741380683778836                                                              \n",
      "{'activation_scale': 2.0323870729514293, 'lambda_l1': 0.06914167349677873, 'lambda_l2': 0.005543109603272298, 'learning_rate': 0.003254432036568456, 'non': 16, 'p_c_loss_factor': 0.00019263063844297633}\n",
      "117.1927097690195                                                               \n",
      "{'activation_scale': 3.6169991203069, 'lambda_l1': 0.0007272520288398022, 'lambda_l2': 0.0982713893143945, 'learning_rate': 0.000313743223870953, 'non': 12, 'p_c_loss_factor': 2.0599168727622562e-05}\n",
      "155.19529625247702                                                              \n",
      "{'activation_scale': 5.4122232192855755, 'lambda_l1': 3.1696516439255336e-05, 'lambda_l2': 0.0326777108229042, 'learning_rate': 0.00018720912596765143, 'non': 18, 'p_c_loss_factor': 2.0745953979804586e-06}\n",
      "2.3260008809745734                                                              \n",
      "{'activation_scale': 2.6996983707855824, 'lambda_l1': 0.00639775124586971, 'lambda_l2': 3.874152671968669e-05, 'learning_rate': 0.03914435879333165, 'non': 12, 'p_c_loss_factor': 1.3052831884880606e-07}\n",
      "2.9684058233033137                                                              \n",
      "{'activation_scale': 0.8070762449051279, 'lambda_l1': 0.0058888620278109574, 'lambda_l2': 4.227967188900566e-05, 'learning_rate': 0.037879225270524834, 'non': 12, 'p_c_loss_factor': 1.550400927979592e-07}\n",
      "2.846735865468357                                                               \n",
      "{'activation_scale': 9.880898696681397, 'lambda_l1': 0.03492025158681187, 'lambda_l2': 2.8922985309738512e-05, 'learning_rate': 0.013043755314111923, 'non': 10, 'p_c_loss_factor': 1.0020305332928618e-07}\n",
      "4.501474031426346                                                               \n",
      "{'activation_scale': 6.034096331344951, 'lambda_l1': 0.0004976544760567237, 'lambda_l2': 1.4687429143832527e-05, 'learning_rate': 0.003883544825381516, 'non': 12, 'p_c_loss_factor': 4.896840272283816e-07}\n",
      "4.174965211375463                                                               \n",
      "{'activation_scale': 7.942530012570254, 'lambda_l1': 8.692396829187546e-06, 'lambda_l2': 1.052037548659934e-06, 'learning_rate': 0.004921152312756031, 'non': 8, 'p_c_loss_factor': 1.3162328432778916e-06}\n",
      "54.486447064335785                                                              \n",
      "{'activation_scale': 3.7920923783813487, 'lambda_l1': 5.295996635463112e-05, 'lambda_l2': 1.6754295090099851e-06, 'learning_rate': 0.0009001533815425675, 'non': 10, 'p_c_loss_factor': 1.310935911954852e-05}\n",
      "2.2816030002532113                                                              \n",
      "{'activation_scale': 2.1153211731486716, 'lambda_l1': 1.492517684487876e-05, 'lambda_l2': 7.760033833629865e-05, 'learning_rate': 0.046335898885596326, 'non': 12, 'p_c_loss_factor': 2.0864681520128377e-07}\n",
      "2.4815557140380218                                                               \n",
      "{'activation_scale': 7.228633354059818, 'lambda_l1': 1.4815639523091659e-05, 'lambda_l2': 0.00014244094087440573, 'learning_rate': 0.05966808043212532, 'non': 10, 'p_c_loss_factor': 5.747380838308884e-06}\n",
      "2.9103880340065262                                                               \n",
      "{'activation_scale': 6.296124423957771, 'lambda_l1': 2.1491973265883658e-07, 'lambda_l2': 0.0007523209227998203, 'learning_rate': 0.014070266931035615, 'non': 16, 'p_c_loss_factor': 0.00033332245330259657}\n",
      "2.3505220913785165                                                               \n",
      "{'activation_scale': 8.573702314759982, 'lambda_l1': 0.00021482025763077122, 'lambda_l2': 0.00247445770101182, 'learning_rate': 0.09298639052366545, 'non': 8, 'p_c_loss_factor': 2.748825901723492e-07}\n",
      "2.7823449605681416                                                               \n",
      "{'activation_scale': 2.144861344521993, 'lambda_l1': 5.653802568727553e-06, 'lambda_l2': 0.00038634055718634274, 'learning_rate': 0.058097054722895364, 'non': 18, 'p_c_loss_factor': 7.350575832267816e-07}\n",
      "507.717888901594                                                                 \n",
      "{'activation_scale': 0.11261902516945366, 'lambda_l1': 1.6017741644346443e-06, 'lambda_l2': 6.734050936001601e-05, 'learning_rate': 0.0001314290390954131, 'non': 12, 'p_c_loss_factor': 3.647986506164823e-05}\n",
      "495.9560969515185                                                                \n",
      "{'activation_scale': 9.913971111793535, 'lambda_l1': 2.0054226325306164e-05, 'lambda_l2': 0.0013983071552317052, 'learning_rate': 2.8368602343223754e-05, 'non': 14, 'p_c_loss_factor': 0.0063542418841927885}\n",
      "3.278335896939874                                                                \n",
      "{'activation_scale': 8.60697550612206, 'lambda_l1': 4.658450470141184e-07, 'lambda_l2': 0.011480109766162126, 'learning_rate': 0.008449606200600526, 'non': 16, 'p_c_loss_factor': 2.4918594396273636e-06}\n",
      "2.627611346277946                                                                \n",
      "{'activation_scale': 5.2871989165615645, 'lambda_l1': 5.8621485199471834e-05, 'lambda_l2': 1.2272684659965627e-07, 'learning_rate': 0.03457330731081834, 'non': 14, 'p_c_loss_factor': 0.0002085757464630658}\n",
      "7.220958683647061                                                                \n",
      "{'activation_scale': 1.1341765071148593, 'lambda_l1': 0.0002620921960962789, 'lambda_l2': 0.0001740235485199536, 'learning_rate': 0.0032923293107057273, 'non': 12, 'p_c_loss_factor': 0.05970128242787551}\n",
      "3.2104208450156766                                                               \n",
      "{'activation_scale': 9.551052793423985, 'lambda_l1': 1.0583394598721813e-05, 'lambda_l2': 2.118196935955087e-06, 'learning_rate': 0.05891025675133577, 'non': 16, 'p_c_loss_factor': 1.0787108974779557e-05}\n",
      "2.9445692115472206                                                               \n",
      "{'activation_scale': 6.8934514922655294, 'lambda_l1': 3.7910059951634664e-06, 'lambda_l2': 0.06070331548943869, 'learning_rate': 0.01642140851617782, 'non': 14, 'p_c_loss_factor': 1.6211297037935698e-06}\n",
      "19.743438805289344                                                               \n",
      "{'activation_scale': 4.754896250087972, 'lambda_l1': 0.0004474119005454042, 'lambda_l2': 2.1956571391367748e-05, 'learning_rate': 0.002135076307433901, 'non': 10, 'p_c_loss_factor': 4.137197835333971e-06}\n",
      "60.21860604576608                                                                \n",
      "{'activation_scale': 4.051614139447785, 'lambda_l1': 8.702453450983337e-05, 'lambda_l2': 6.459237700738995e-05, 'learning_rate': 0.0006028897768029242, 'non': 18, 'p_c_loss_factor': 3.201598790203886e-07}\n",
      "4.039967291747956                                                                \n",
      "{'activation_scale': 5.919558056314396, 'lambda_l1': 3.097643296739031e-05, 'lambda_l2': 0.0006001897644982906, 'learning_rate': 0.006032809930108762, 'non': 8, 'p_c_loss_factor': 2.1114559956132326e-07}\n",
      "22.28679066357348                                                                \n",
      "{'activation_scale': 7.491703253584673, 'lambda_l1': 0.0013905702433385388, 'lambda_l2': 4.688207209100383e-07, 'learning_rate': 0.0015635989608271232, 'non': 10, 'p_c_loss_factor': 6.54105833943825e-07}\n",
      "100%|██████████| 50/50 [23:38<00:00, 28.37s/trial, best loss: 2.2816030002532113]\n",
      "Best hyperparameters: {'activation_scale': 2.1153211731486716, 'lambda_l1': 1.492517684487876e-05, 'lambda_l2': 7.760033833629865e-05, 'learning_rate': 0.046335898885596326, 'non': 12.0, 'p_c_loss_factor': 2.0864681520128377e-07}\n"
     ]
    }
   ],
   "source": [
    "trials = Trials()\n",
    "best_params = fmin(fn=objective,\n",
    "                   space=space,\n",
    "                   algo=tpe.suggest,\n",
    "                   max_evals=50,\n",
    "                   trials=trials)\n",
    "print(\"Best hyperparameters:\", best_params)"
   ]
  },
  {
   "cell_type": "code",
   "execution_count": 33,
   "metadata": {
    "execution": {
     "iopub.execute_input": "2024-08-14T09:39:03.914968Z",
     "iopub.status.busy": "2024-08-14T09:39:03.914968Z",
     "iopub.status.idle": "2024-08-14T09:39:04.411369Z",
     "shell.execute_reply": "2024-08-14T09:39:04.411369Z"
    }
   },
   "outputs": [],
   "source": [
    "param_df.to_csv(f'param_df{current_target}.csv')"
   ]
  },
  {
   "cell_type": "code",
   "execution_count": 34,
   "metadata": {},
   "outputs": [
    {
     "name": "stderr",
     "output_type": "stream",
     "text": [
      "C:\\Users\\Administrator\\AppData\\Local\\Temp\\2\\ipykernel_8308\\2862351007.py:1: FutureWarning: You are using `torch.load` with `weights_only=False` (the current default value), which uses the default pickle module implicitly. It is possible to construct malicious pickle data which will execute arbitrary code during unpickling (See https://github.com/pytorch/pytorch/blob/main/SECURITY.md#untrusted-models for more details). In a future release, the default value for `weights_only` will be flipped to `True`. This limits the functions that could be executed during unpickling. Arbitrary objects will no longer be allowed to be loaded via this mode unless they are explicitly allowlisted by the user via `torch.serialization.add_safe_globals`. We recommend you start setting `weights_only=True` for any use case where you don't have full control of the loaded file. Please open an issue on GitHub for any issues related to this experimental feature.\n",
      "  checkpoint = torch.load(f\"{current_target}_bestest_model.pth\")\n"
     ]
    }
   ],
   "source": [
    "checkpoint = torch.load(f\"{current_target}_bestest_model.pth\")\n",
    "params1 = checkpoint['params']"
   ]
  },
  {
   "cell_type": "code",
   "execution_count": 35,
   "metadata": {},
   "outputs": [],
   "source": [
    "model = Net(\n",
    "    n_feature=8,\n",
    "    n_hidden=params1['non'],\n",
    "    n_output=1,\n",
    "    activation_fn=nn.SiLU,\n",
    "    activation_scale=params1['activation_scale']\n",
    ")"
   ]
  },
  {
   "cell_type": "code",
   "execution_count": 36,
   "metadata": {},
   "outputs": [
    {
     "data": {
      "text/plain": [
       "<All keys matched successfully>"
      ]
     },
     "execution_count": 36,
     "metadata": {},
     "output_type": "execute_result"
    }
   ],
   "source": [
    "model.load_state_dict(checkpoint['model_state_dict'])"
   ]
  },
  {
   "cell_type": "code",
   "execution_count": 37,
   "metadata": {
    "execution": {
     "iopub.execute_input": "2024-08-14T09:40:12.433484Z",
     "iopub.status.busy": "2024-08-14T09:40:12.433484Z",
     "iopub.status.idle": "2024-08-14T09:40:12.440039Z",
     "shell.execute_reply": "2024-08-14T09:40:12.440039Z"
    }
   },
   "outputs": [
    {
     "data": {
      "text/plain": [
       "2.257839617246709"
      ]
     },
     "execution_count": 37,
     "metadata": {},
     "output_type": "execute_result"
    }
   ],
   "source": [
    "model.eval()\n",
    "with torch.no_grad():\n",
    "    test_predictions = model(dataset['test_input'])\n",
    "mse(dataset['test_label'].numpy(), test_predictions.numpy())**0.5"
   ]
  },
  {
   "cell_type": "code",
   "execution_count": 38,
   "metadata": {
    "execution": {
     "iopub.execute_input": "2024-08-14T09:40:12.440039Z",
     "iopub.status.busy": "2024-08-14T09:40:12.440039Z",
     "iopub.status.idle": "2024-08-14T09:40:12.445475Z",
     "shell.execute_reply": "2024-08-14T09:40:12.445475Z"
    }
   },
   "outputs": [
    {
     "data": {
      "text/plain": [
       "0.9993818452704433"
      ]
     },
     "execution_count": 38,
     "metadata": {},
     "output_type": "execute_result"
    }
   ],
   "source": [
    "r2_score(dataset['test_label'].numpy(), test_predictions.numpy())"
   ]
  },
  {
   "cell_type": "markdown",
   "metadata": {},
   "source": [
    "# Second Ouput"
   ]
  },
  {
   "cell_type": "code",
   "execution_count": 39,
   "metadata": {
    "execution": {
     "iopub.execute_input": "2024-08-14T09:40:12.445475Z",
     "iopub.status.busy": "2024-08-14T09:40:12.445475Z",
     "iopub.status.idle": "2024-08-14T09:40:12.454827Z",
     "shell.execute_reply": "2024-08-14T09:40:12.454827Z"
    }
   },
   "outputs": [],
   "source": [
    "df=pd.read_csv('data.csv',header=1)\n",
    "df=df.drop(columns=['power','te'])\n",
    "current_target='thr'"
   ]
  },
  {
   "cell_type": "code",
   "execution_count": 40,
   "metadata": {
    "execution": {
     "iopub.execute_input": "2024-08-14T09:40:12.454827Z",
     "iopub.status.busy": "2024-08-14T09:40:12.454827Z",
     "iopub.status.idle": "2024-08-14T09:40:12.464397Z",
     "shell.execute_reply": "2024-08-14T09:40:12.464397Z"
    }
   },
   "outputs": [],
   "source": [
    "df = df.sort_index()\n",
    "x = df.drop(columns=current_target)\n",
    "y = df[current_target]\n",
    "x_train, x_test, y_train, y_test = train_test_split(x, y, test_size=0.3, random_state=80) #59 power, 80 thr, 70 te\n",
    "set_seed(42)"
   ]
  },
  {
   "cell_type": "code",
   "execution_count": 41,
   "metadata": {},
   "outputs": [],
   "source": [
    "dataset = {}\n",
    "train_input=x_train.to_numpy()\n",
    "train_label=y_train.to_numpy()\n",
    "test_input=x_test.to_numpy()\n",
    "test_label=y_test.to_numpy()"
   ]
  },
  {
   "cell_type": "code",
   "execution_count": 42,
   "metadata": {
    "execution": {
     "iopub.execute_input": "2024-08-14T09:40:12.464397Z",
     "iopub.status.busy": "2024-08-14T09:40:12.464397Z",
     "iopub.status.idle": "2024-08-14T09:40:12.472232Z",
     "shell.execute_reply": "2024-08-14T09:40:12.472232Z"
    }
   },
   "outputs": [],
   "source": [
    "scaler_input = MinMaxScaler()\n",
    "\n",
    "train_input_scaled = scaler_input.fit_transform(train_input)\n",
    "test_input_scaled = scaler_input.transform(test_input)\n",
    "\n",
    "dataset['train_input'] = torch.from_numpy(train_input_scaled).type(dtype)\n",
    "dataset['test_input'] = torch.from_numpy(test_input_scaled).type(dtype)\n",
    "dataset['train_label'] = torch.from_numpy(train_label[:,None]).type(dtype)\n",
    "dataset['test_label'] = torch.from_numpy(test_label[:,None]).type(dtype)"
   ]
  },
  {
   "cell_type": "code",
   "execution_count": 43,
   "metadata": {
    "execution": {
     "iopub.execute_input": "2024-08-14T09:40:12.472232Z",
     "iopub.status.busy": "2024-08-14T09:40:12.472232Z",
     "iopub.status.idle": "2024-08-14T09:40:12.479416Z",
     "shell.execute_reply": "2024-08-14T09:40:12.479416Z"
    }
   },
   "outputs": [],
   "source": [
    "space = {\n",
    "    'learning_rate': hp.loguniform('learning_rate', np.log(1e-5), np.log(1e-1)),\n",
    "    'lambda_l1': hp.loguniform('lambda_l1', np.log(1e-7), np.log(1e-1)),\n",
    "    'lambda_l2': hp.loguniform('lambda_l2', np.log(1e-7), np.log(1e-1)),\n",
    "    'non': hp.quniform('non', 8, 20, 2),\n",
    "    'p_c_loss_factor': hp.loguniform('p_c_loss_factor', np.log(1e-7), np.log(1)),\n",
    "    'activation_scale': hp.uniform('activation_scale', 0.1, 10.0)\n",
    "}"
   ]
  },
  {
   "cell_type": "code",
   "execution_count": 44,
   "metadata": {
    "execution": {
     "iopub.execute_input": "2024-08-14T09:40:12.479416Z",
     "iopub.status.busy": "2024-08-14T09:40:12.479416Z",
     "iopub.status.idle": "2024-08-14T09:40:12.504530Z",
     "shell.execute_reply": "2024-08-14T09:40:12.504530Z"
    }
   },
   "outputs": [],
   "source": [
    "param_df = pd.DataFrame(columns=['params', 'loss_curve_train', 'loss_curve_test', 'best_score'])\n",
    "trial_no = 0\n",
    "bestest_score = float('inf')  # Initialize global variable\n",
    "\n",
    "set_seed(42)\n",
    "def objective(params):\n",
    "    set_seed(42)\n",
    "    global trial_no, bestest_score  \n",
    "    trial_no += 1\n",
    "    params['non'] = int(params['non'])\n",
    "    model = Net(\n",
    "        n_feature=8,\n",
    "        n_hidden=params['non'],\n",
    "        n_output=1,\n",
    "        activation_fn=nn.SiLU,\n",
    "        activation_scale=params['activation_scale']\n",
    "    )\n",
    "    \n",
    "    criterion = nn.MSELoss()\n",
    "    optimizer = optim.Adam(model.parameters(), lr=params['learning_rate'], weight_decay=params['lambda_l2'])\n",
    "    num_epochs = 5000\n",
    "    patience = 200\n",
    "    best_loss = float('inf')\n",
    "    epochs_no_improve = 0\n",
    "    param_df['params'].loc[trial_no] = params\n",
    "    training_loss = []\n",
    "    test_loss = []\n",
    "    \n",
    "    for epoch in range(num_epochs):\n",
    "        set_seed(42)\n",
    "        model.train()\n",
    "        optimizer.zero_grad()\n",
    "        predictions = model(dataset['train_input'])\n",
    "        main_loss = criterion(predictions, dataset['train_label'])\n",
    "        l1_loss = sum(p.abs().sum() for p in model.parameters())\n",
    "        pc_loss = p_c(dataset['train_input'], dataset['train_label'], predictions)\n",
    "        loss = main_loss + (params['lambda_l1'] * l1_loss) + (params['p_c_loss_factor'] * pc_loss)\n",
    "        loss.backward()\n",
    "        optimizer.step()\n",
    "        training_loss.append(loss.item())\n",
    "        \n",
    "        model.eval()\n",
    "        with torch.no_grad():\n",
    "            val_predictions = model(dataset['test_input'])\n",
    "            temp_score = mse(dataset['test_label'].numpy(), val_predictions.numpy())**0.5  # Move tensors to CPU before numpy\n",
    "        test_loss.append(temp_score)\n",
    "        \n",
    "        if temp_score < best_loss:\n",
    "            best_loss = temp_score\n",
    "            epochs_no_improve = 0\n",
    "            best_model_state = model.state_dict()\n",
    "        else:\n",
    "            epochs_no_improve += 1\n",
    "        \n",
    "        if epochs_no_improve >= patience:\n",
    "            model.load_state_dict(best_model_state)\n",
    "            break\n",
    "        \n",
    "        # Update the bestest score\n",
    "        if temp_score < bestest_score:\n",
    "            bestest_score = temp_score\n",
    "            torch.save({'model_state_dict': best_model_state, 'params': params}, f\"{current_target}_bestest_model.pth\")\n",
    "    \n",
    "    model.eval()\n",
    "    with torch.no_grad():\n",
    "        test_predictions = model(dataset['test_input'])\n",
    "    score = mse(dataset['test_label'].numpy(), test_predictions.numpy())**0.5  # Move tensors to CPU before numpy\n",
    "    param_df.loc[trial_no] = [params, training_loss, test_loss, score]\n",
    "    print(score)\n",
    "    print(params)\n",
    "    return score"
   ]
  },
  {
   "cell_type": "code",
   "execution_count": 45,
   "metadata": {
    "execution": {
     "iopub.execute_input": "2024-08-14T09:40:12.504530Z",
     "iopub.status.busy": "2024-08-14T09:40:12.504530Z",
     "iopub.status.idle": "2024-08-14T10:07:18.600492Z",
     "shell.execute_reply": "2024-08-14T10:07:18.600492Z"
    }
   },
   "outputs": [
    {
     "name": "stdout",
     "output_type": "stream",
     "text": [
      "1385.915315857572                                     \n",
      "{'activation_scale': 5.698187683697154, 'lambda_l1': 2.572678509410371e-07, 'lambda_l2': 0.00010939735089579163, 'learning_rate': 0.0019172579797620314, 'non': 10, 'p_c_loss_factor': 0.06594913528093094}\n",
      "2568.625165737679                                                              \n",
      "{'activation_scale': 6.1108056219826645, 'lambda_l1': 0.004888646322215625, 'lambda_l2': 0.01464409073713512, 'learning_rate': 0.0009395390310001211, 'non': 14, 'p_c_loss_factor': 0.06394130814033752}\n",
      "2467.7989370781456                                                             \n",
      "{'activation_scale': 2.620756574727411, 'lambda_l1': 0.0007127629402500416, 'lambda_l2': 2.1477978023571932e-06, 'learning_rate': 0.00153568333471433, 'non': 14, 'p_c_loss_factor': 3.0454029543484757e-06}\n",
      "7891.912065756941                                                              \n",
      "{'activation_scale': 0.16498195534873167, 'lambda_l1': 0.025079679516966283, 'lambda_l2': 0.008253770461257843, 'learning_rate': 3.052150701014238e-05, 'non': 18, 'p_c_loss_factor': 0.005780192004160934}\n",
      "7889.818586701996                                                              \n",
      "{'activation_scale': 5.703025106625726, 'lambda_l1': 0.015603192938128266, 'lambda_l2': 4.25743218120348e-06, 'learning_rate': 2.0505811834427646e-05, 'non': 8, 'p_c_loss_factor': 0.17687663503852957}\n",
      "4504.8975639819955                                                             \n",
      "{'activation_scale': 2.1717790475340544, 'lambda_l1': 3.519320668326152e-07, 'lambda_l2': 1.314634293459875e-07, 'learning_rate': 0.0009135071165651157, 'non': 18, 'p_c_loss_factor': 0.006541321690380514}\n",
      "4243.212815794955                                                              \n",
      "{'activation_scale': 2.603799710787266, 'lambda_l1': 2.791860517547248e-07, 'lambda_l2': 0.006743795248155349, 'learning_rate': 0.0008767664353252775, 'non': 18, 'p_c_loss_factor': 0.14677203265004019}\n",
      "69.93812560217111                                                              \n",
      "{'activation_scale': 9.253270661912248, 'lambda_l1': 0.00015380893055983984, 'lambda_l2': 0.0001300236475359738, 'learning_rate': 0.020085440908395452, 'non': 18, 'p_c_loss_factor': 2.1425698777073642e-05}\n",
      "2279.041224230255                                                              \n",
      "{'activation_scale': 2.684500040797553, 'lambda_l1': 5.514669167391755e-06, 'lambda_l2': 1.3060360306612249e-05, 'learning_rate': 0.0016536942454024959, 'non': 14, 'p_c_loss_factor': 4.832115526582088e-05}\n",
      "7643.8485271227955                                                             \n",
      "{'activation_scale': 2.205127920888689, 'lambda_l1': 9.583215133624202e-07, 'lambda_l2': 0.001964669096108594, 'learning_rate': 0.0002187820509109923, 'non': 18, 'p_c_loss_factor': 2.335341720853007e-06}\n",
      "7426.884223337237                                                               \n",
      "{'activation_scale': 6.405659184850477, 'lambda_l1': 0.051708266129674725, 'lambda_l2': 0.028728573970316328, 'learning_rate': 0.0002148847519597127, 'non': 12, 'p_c_loss_factor': 0.12656314878464842}\n",
      "532.0718794791694                                                               \n",
      "{'activation_scale': 9.640275934026935, 'lambda_l1': 2.2694459185817335e-06, 'lambda_l2': 6.563744241213946e-05, 'learning_rate': 0.0033942634573689012, 'non': 8, 'p_c_loss_factor': 0.00034701373712723297}\n",
      "65.27959195927244                                                               \n",
      "{'activation_scale': 2.032949966612668, 'lambda_l1': 0.010152765800983697, 'lambda_l2': 0.09187512871733657, 'learning_rate': 0.09907460706453847, 'non': 10, 'p_c_loss_factor': 4.006035456007802e-07}\n",
      "7890.569621214219                                                               \n",
      "{'activation_scale': 0.6845478760602681, 'lambda_l1': 0.017941189638836688, 'lambda_l2': 0.0013878827134791475, 'learning_rate': 4.1114101428974824e-05, 'non': 10, 'p_c_loss_factor': 2.3872235504014535e-05}\n",
      "72.48387369912363                                                               \n",
      "{'activation_scale': 0.7593223504912436, 'lambda_l1': 9.294481307735954e-07, 'lambda_l2': 0.05057776516490266, 'learning_rate': 0.0367703863181695, 'non': 16, 'p_c_loss_factor': 0.609514521008237}\n",
      "70.46302026539672                                                               \n",
      "{'activation_scale': 6.379215711389608, 'lambda_l1': 1.1277019658497951e-07, 'lambda_l2': 1.114358042443549e-06, 'learning_rate': 0.06888611657876124, 'non': 18, 'p_c_loss_factor': 0.00010365008438483916}\n",
      "7772.804631503773                                                               \n",
      "{'activation_scale': 5.954967872508665, 'lambda_l1': 0.00538199126427517, 'lambda_l2': 2.1112643649803354e-05, 'learning_rate': 0.00010878873913135748, 'non': 12, 'p_c_loss_factor': 0.0034537990630853694}\n",
      "6570.78835867786                                                                \n",
      "{'activation_scale': 8.830938668033365, 'lambda_l1': 2.683572634629221e-07, 'lambda_l2': 8.654577039531437e-05, 'learning_rate': 0.0003189919630736912, 'non': 10, 'p_c_loss_factor': 0.0015613261298953443}\n",
      "63.48003335537246                                                               \n",
      "{'activation_scale': 5.638286892147522, 'lambda_l1': 0.0008630210573618069, 'lambda_l2': 2.1802689326411062e-07, 'learning_rate': 0.031298304976937114, 'non': 14, 'p_c_loss_factor': 2.570742630761755e-07}\n",
      "7879.2209236474355                                                              \n",
      "{'activation_scale': 5.036363118221899, 'lambda_l1': 0.03874125532620454, 'lambda_l2': 0.07027122052066805, 'learning_rate': 5.590829415095818e-05, 'non': 8, 'p_c_loss_factor': 0.00045225364716431195}\n",
      "85.37320465649825                                                               \n",
      "{'activation_scale': 3.9746243358649362, 'lambda_l1': 0.0006645042233547957, 'lambda_l2': 1.3975803962142406e-07, 'learning_rate': 0.010791571331217288, 'non': 12, 'p_c_loss_factor': 1.1686268644656986e-07}\n",
      "61.93769999277971                                                               \n",
      "{'activation_scale': 8.003085439811027, 'lambda_l1': 4.425932505086351e-05, 'lambda_l2': 4.891311396396993e-07, 'learning_rate': 0.09571700545191175, 'non': 16, 'p_c_loss_factor': 1.0963289335170236e-07}\n",
      "72.76717357618156                                                               \n",
      "{'activation_scale': 7.877270159223465, 'lambda_l1': 1.5882709164599275e-05, 'lambda_l2': 4.2044113072473425e-07, 'learning_rate': 0.0104596112777581, 'non': 16, 'p_c_loss_factor': 1.542916451666278e-07}\n",
      "62.64516273722809                                                               \n",
      "{'activation_scale': 7.5907785899657565, 'lambda_l1': 4.163110653861719e-05, 'lambda_l2': 4.348463573633227e-07, 'learning_rate': 0.04402309093697766, 'non': 16, 'p_c_loss_factor': 1.149457070946419e-06}\n",
      "62.34182639601179                                                               \n",
      "{'activation_scale': 7.35652498716749, 'lambda_l1': 3.64949102170754e-05, 'lambda_l2': 5.892445212359025e-07, 'learning_rate': 0.09288291465039641, 'non': 20, 'p_c_loss_factor': 1.492821426388573e-06}\n",
      "7889.000448942196                                                               \n",
      "{'activation_scale': 7.622586682854097, 'lambda_l1': 0.0001606277152844082, 'lambda_l2': 8.443594200579316e-06, 'learning_rate': 1.0016062576541705e-05, 'non': 20, 'p_c_loss_factor': 8.000100967158777e-06}\n",
      "100.41556396005144                                                              \n",
      "{'activation_scale': 8.52806589850781, 'lambda_l1': 2.9671289532728743e-05, 'lambda_l2': 1.0774374385585167e-06, 'learning_rate': 0.005224871492856384, 'non': 20, 'p_c_loss_factor': 7.86105889300674e-07}\n",
      "62.345545806569                                                                 \n",
      "{'activation_scale': 7.202889679980681, 'lambda_l1': 7.733762515615945e-06, 'lambda_l2': 0.0004001093663202234, 'learning_rate': 0.09421000446101772, 'non': 20, 'p_c_loss_factor': 6.790020927449248e-06}\n",
      "66.2508177319989                                                                \n",
      "{'activation_scale': 9.898351394119675, 'lambda_l1': 7.701752702457152e-05, 'lambda_l2': 3.756049861706785e-06, 'learning_rate': 0.014739781950734622, 'non': 16, 'p_c_loss_factor': 1.1436143371117496e-07}\n",
      "166.98505471020835                                                              \n",
      "{'activation_scale': 4.697946732746474, 'lambda_l1': 0.0002981752116133256, 'lambda_l2': 2.7938880595838994e-05, 'learning_rate': 0.004541381172040406, 'non': 20, 'p_c_loss_factor': 5.148446275132651e-07}\n",
      "62.301218931879426                                                              \n",
      "{'activation_scale': 8.333608665509114, 'lambda_l1': 0.0020875618207967252, 'lambda_l2': 4.396713635182666e-07, 'learning_rate': 0.05220072214111969, 'non': 16, 'p_c_loss_factor': 1.847922097560349e-06}\n",
      "62.82239841383521                                                               \n",
      "{'activation_scale': 8.452130006427563, 'lambda_l1': 0.0017046805360549516, 'lambda_l2': 1.4014487972883829e-06, 'learning_rate': 0.05017499253755379, 'non': 16, 'p_c_loss_factor': 4.948239786237546e-06}\n",
      "67.27282933928694                                                               \n",
      "{'activation_scale': 6.770377934033866, 'lambda_l1': 0.0023156949603930356, 'lambda_l2': 3.172822655482509e-06, 'learning_rate': 0.020282167459608026, 'non': 14, 'p_c_loss_factor': 1.2815107773746713e-05}\n",
      "83.35406131347243                                                               \n",
      "{'activation_scale': 8.293413353960453, 'lambda_l1': 0.00036377043246679444, 'lambda_l2': 1.199378599371239e-07, 'learning_rate': 0.007291034955658262, 'non': 16, 'p_c_loss_factor': 0.00010727652096371743}\n",
      "6425.076951461161                                                               \n",
      "{'activation_scale': 3.8269666177456227, 'lambda_l1': 0.0036144565178117274, 'lambda_l2': 6.414906132957602e-06, 'learning_rate': 0.00044920322766111155, 'non': 14, 'p_c_loss_factor': 3.0219105773338398e-06}\n",
      "495.45982274119774                                                              \n",
      "{'activation_scale': 9.23129448662335, 'lambda_l1': 0.09195601181145735, 'lambda_l2': 2.2673764328411436e-07, 'learning_rate': 0.00251850145626585, 'non': 12, 'p_c_loss_factor': 0.024792070349272402}\n",
      "69.24287355954012                                                               \n",
      "{'activation_scale': 9.954788504066965, 'lambda_l1': 0.0012451927206817896, 'lambda_l2': 0.00022496267737833194, 'learning_rate': 0.021806043864917055, 'non': 18, 'p_c_loss_factor': 2.4811668516861474e-07}\n",
      "65.15518916613304                                                               \n",
      "{'activation_scale': 6.839005652031432, 'lambda_l1': 0.00010613204178331301, 'lambda_l2': 3.9338623103718465e-05, 'learning_rate': 0.05732709637463485, 'non': 16, 'p_c_loss_factor': 1.0099790366083093e-07}\n",
      "63.68638060597696                                                               \n",
      "{'activation_scale': 9.159067778119422, 'lambda_l1': 0.00032828868625455637, 'lambda_l2': 0.0006006055492249954, 'learning_rate': 0.02968611781142259, 'non': 18, 'p_c_loss_factor': 0.0001315883618740886}\n",
      "88.43739396484915                                                               \n",
      "{'activation_scale': 4.526782726901714, 'lambda_l1': 0.009186865345159763, 'lambda_l2': 1.822045852978558e-06, 'learning_rate': 0.0086065912450108, 'non': 14, 'p_c_loss_factor': 3.4461684775476036e-05}\n",
      "4093.63306607725                                                                \n",
      "{'activation_scale': 5.4487395415500774, 'lambda_l1': 3.157657504974122e-06, 'lambda_l2': 6.0339786298099e-07, 'learning_rate': 0.0006208367652241665, 'non': 18, 'p_c_loss_factor': 0.0009277977479521887}\n",
      "1926.345584567608                                                               \n",
      "{'activation_scale': 8.03964562769693, 'lambda_l1': 1.2365774586383305e-05, 'lambda_l2': 1.384053032421982e-05, 'learning_rate': 0.0012424009980232784, 'non': 14, 'p_c_loss_factor': 0.020197813033312417}\n",
      "440.646547750898                                                                \n",
      "{'activation_scale': 8.81557203179225, 'lambda_l1': 6.896872200662934e-07, 'lambda_l2': 0.004898861993742796, 'learning_rate': 0.002367528172572896, 'non': 16, 'p_c_loss_factor': 1.8805319237672415e-06}\n",
      "7886.890566019443                                                               \n",
      "{'activation_scale': 9.56885203413594, 'lambda_l1': 2.0062055579589265e-06, 'lambda_l2': 2.930680294898906e-07, 'learning_rate': 1.1580315186788935e-05, 'non': 12, 'p_c_loss_factor': 7.062303143901624e-07}\n",
      "61.99133974711333                                                               \n",
      "{'activation_scale': 3.4357082781550865, 'lambda_l1': 0.0006070375861725037, 'lambda_l2': 9.906354148573128e-06, 'learning_rate': 0.07871360970942363, 'non': 18, 'p_c_loss_factor': 6.489264898846235e-05}\n",
      "180.39787421802578                                                              \n",
      "{'activation_scale': 2.754194186153147, 'lambda_l1': 7.186555883216907e-05, 'lambda_l2': 4.600105453404991e-05, 'learning_rate': 0.005704325879014873, 'non': 18, 'p_c_loss_factor': 0.5544839372963698}\n",
      "7855.627995873882                                                               \n",
      "{'activation_scale': 1.4144081603997933, 'lambda_l1': 2.025218153767362e-05, 'lambda_l2': 0.00011679781776899736, 'learning_rate': 0.00010180040163103757, 'non': 18, 'p_c_loss_factor': 0.009234775781935578}\n",
      "70.29812524854947                                                               \n",
      "{'activation_scale': 3.47218302996915, 'lambda_l1': 5.502263776251882e-06, 'lambda_l2': 2.9758451799670635e-06, 'learning_rate': 0.015120930217590802, 'non': 20, 'p_c_loss_factor': 6.331937963164872e-05}\n",
      "73.13147260219289                                                               \n",
      "{'activation_scale': 0.11338972497072808, 'lambda_l1': 0.00020232893177788485, 'lambda_l2': 6.372190651719079e-06, 'learning_rate': 0.07354981138938402, 'non': 18, 'p_c_loss_factor': 0.002391149906424691}\n",
      "611.4299157810034                                                               \n",
      "{'activation_scale': 3.1683886620459263, 'lambda_l1': 0.0005644670095818552, 'lambda_l2': 1.6728879606060254e-05, 'learning_rate': 0.0029980338647989393, 'non': 20, 'p_c_loss_factor': 0.0007181193939958937}\n",
      "100%|██████████| 50/50 [23:40<00:00, 28.40s/trial, best loss: 61.93769999277971]\n",
      "Best hyperparameters: {'activation_scale': 8.003085439811027, 'lambda_l1': 4.425932505086351e-05, 'lambda_l2': 4.891311396396993e-07, 'learning_rate': 0.09571700545191175, 'non': 16.0, 'p_c_loss_factor': 1.0963289335170236e-07}\n"
     ]
    }
   ],
   "source": [
    "trials = Trials()\n",
    "best_params = fmin(fn=objective,\n",
    "                   space=space,\n",
    "                   algo=tpe.suggest,\n",
    "                   max_evals=50,\n",
    "                   trials=trials)\n",
    "print(\"Best hyperparameters:\", best_params)"
   ]
  },
  {
   "cell_type": "code",
   "execution_count": 46,
   "metadata": {
    "execution": {
     "iopub.execute_input": "2024-08-14T10:07:18.600492Z",
     "iopub.status.busy": "2024-08-14T10:07:18.600492Z",
     "iopub.status.idle": "2024-08-14T10:07:19.159914Z",
     "shell.execute_reply": "2024-08-14T10:07:19.159914Z"
    }
   },
   "outputs": [],
   "source": [
    "param_df.to_csv(f'param_df{current_target}.csv')"
   ]
  },
  {
   "cell_type": "code",
   "execution_count": 47,
   "metadata": {
    "execution": {
     "iopub.execute_input": "2024-08-14T10:07:19.159914Z",
     "iopub.status.busy": "2024-08-14T10:07:19.159914Z",
     "iopub.status.idle": "2024-08-14T10:08:06.306335Z",
     "shell.execute_reply": "2024-08-14T10:08:06.306335Z"
    }
   },
   "outputs": [
    {
     "name": "stderr",
     "output_type": "stream",
     "text": [
      "C:\\Users\\Administrator\\AppData\\Local\\Temp\\2\\ipykernel_8308\\90643497.py:1: FutureWarning: You are using `torch.load` with `weights_only=False` (the current default value), which uses the default pickle module implicitly. It is possible to construct malicious pickle data which will execute arbitrary code during unpickling (See https://github.com/pytorch/pytorch/blob/main/SECURITY.md#untrusted-models for more details). In a future release, the default value for `weights_only` will be flipped to `True`. This limits the functions that could be executed during unpickling. Arbitrary objects will no longer be allowed to be loaded via this mode unless they are explicitly allowlisted by the user via `torch.serialization.add_safe_globals`. We recommend you start setting `weights_only=True` for any use case where you don't have full control of the loaded file. Please open an issue on GitHub for any issues related to this experimental feature.\n",
      "  checkpoint = torch.load(f\"{current_target}_bestest_model.pth\")\n"
     ]
    },
    {
     "data": {
      "text/plain": [
       "<All keys matched successfully>"
      ]
     },
     "execution_count": 47,
     "metadata": {},
     "output_type": "execute_result"
    }
   ],
   "source": [
    "checkpoint = torch.load(f\"{current_target}_bestest_model.pth\")\n",
    "params1 = checkpoint['params']\n",
    "model = Net(\n",
    "    n_feature=8,\n",
    "    n_hidden=params1['non'],\n",
    "    n_output=1,\n",
    "    activation_fn=nn.SiLU,\n",
    "    activation_scale=params1['activation_scale']\n",
    ")\n",
    "model.load_state_dict(checkpoint['model_state_dict'])"
   ]
  },
  {
   "cell_type": "code",
   "execution_count": 48,
   "metadata": {
    "execution": {
     "iopub.execute_input": "2024-08-14T10:08:06.306335Z",
     "iopub.status.busy": "2024-08-14T10:08:06.306335Z",
     "iopub.status.idle": "2024-08-14T10:08:06.312767Z",
     "shell.execute_reply": "2024-08-14T10:08:06.312767Z"
    }
   },
   "outputs": [
    {
     "data": {
      "text/plain": [
       "61.93752964146828"
      ]
     },
     "execution_count": 48,
     "metadata": {},
     "output_type": "execute_result"
    }
   ],
   "source": [
    "model.eval()\n",
    "with torch.no_grad():\n",
    "    test_predictions = model(dataset['test_input'])\n",
    "mse(dataset['test_label'].numpy(), test_predictions.numpy())**0.5"
   ]
  },
  {
   "cell_type": "code",
   "execution_count": 49,
   "metadata": {
    "execution": {
     "iopub.execute_input": "2024-08-14T10:08:06.312767Z",
     "iopub.status.busy": "2024-08-14T10:08:06.312767Z",
     "iopub.status.idle": "2024-08-14T10:08:06.318170Z",
     "shell.execute_reply": "2024-08-14T10:08:06.318170Z"
    }
   },
   "outputs": [
    {
     "data": {
      "text/plain": [
       "0.8611477322771852"
      ]
     },
     "execution_count": 49,
     "metadata": {},
     "output_type": "execute_result"
    }
   ],
   "source": [
    "r2_score(dataset['test_label'].numpy(), test_predictions.numpy())"
   ]
  },
  {
   "cell_type": "markdown",
   "metadata": {},
   "source": [
    "# 3rd Output"
   ]
  },
  {
   "cell_type": "code",
   "execution_count": 50,
   "metadata": {
    "execution": {
     "iopub.execute_input": "2024-08-14T10:08:06.318170Z",
     "iopub.status.busy": "2024-08-14T10:08:06.318170Z",
     "iopub.status.idle": "2024-08-14T10:08:06.327536Z",
     "shell.execute_reply": "2024-08-14T10:08:06.327536Z"
    }
   },
   "outputs": [],
   "source": [
    "df=pd.read_csv('data.csv',header=1)\n",
    "df=df.drop(columns=['power','thr'])\n",
    "current_target='te'"
   ]
  },
  {
   "cell_type": "code",
   "execution_count": 51,
   "metadata": {
    "execution": {
     "iopub.execute_input": "2024-08-14T10:08:06.327536Z",
     "iopub.status.busy": "2024-08-14T10:08:06.327536Z",
     "iopub.status.idle": "2024-08-14T10:08:06.336741Z",
     "shell.execute_reply": "2024-08-14T10:08:06.336741Z"
    }
   },
   "outputs": [],
   "source": [
    "df = df.sort_index()\n",
    "x = df.drop(columns=current_target)\n",
    "y = df[current_target]\n",
    "x_train, x_test, y_train, y_test = train_test_split(x, y, test_size=0.3, random_state=70) #59 power, 80 thr, 70 te\n",
    "set_seed(42)"
   ]
  },
  {
   "cell_type": "code",
   "execution_count": 52,
   "metadata": {},
   "outputs": [],
   "source": [
    "dataset = {}\n",
    "train_input=x_train.to_numpy()\n",
    "train_label=y_train.to_numpy()\n",
    "test_input=x_test.to_numpy()\n",
    "test_label=y_test.to_numpy()"
   ]
  },
  {
   "cell_type": "code",
   "execution_count": 53,
   "metadata": {
    "execution": {
     "iopub.execute_input": "2024-08-14T10:08:06.336741Z",
     "iopub.status.busy": "2024-08-14T10:08:06.336741Z",
     "iopub.status.idle": "2024-08-14T10:08:06.343100Z",
     "shell.execute_reply": "2024-08-14T10:08:06.343100Z"
    }
   },
   "outputs": [],
   "source": [
    "scaler_input = MinMaxScaler()\n",
    "\n",
    "train_input_scaled = scaler_input.fit_transform(train_input)\n",
    "test_input_scaled = scaler_input.transform(test_input)\n",
    "\n",
    "dataset['train_input'] = torch.from_numpy(train_input_scaled).type(dtype)\n",
    "dataset['test_input'] = torch.from_numpy(test_input_scaled).type(dtype)\n",
    "dataset['train_label'] = torch.from_numpy(train_label[:,None]).type(dtype)\n",
    "dataset['test_label'] = torch.from_numpy(test_label[:,None]).type(dtype)"
   ]
  },
  {
   "cell_type": "code",
   "execution_count": 54,
   "metadata": {
    "execution": {
     "iopub.execute_input": "2024-08-14T10:08:06.343100Z",
     "iopub.status.busy": "2024-08-14T10:08:06.343100Z",
     "iopub.status.idle": "2024-08-14T10:08:06.347994Z",
     "shell.execute_reply": "2024-08-14T10:08:06.347994Z"
    }
   },
   "outputs": [],
   "source": [
    "space = {\n",
    "    'learning_rate': hp.loguniform('learning_rate', np.log(1e-5), np.log(1e-1)),\n",
    "    'lambda_l1': hp.loguniform('lambda_l1', np.log(1e-7), np.log(1e-1)),\n",
    "    'lambda_l2': hp.loguniform('lambda_l2', np.log(1e-7), np.log(1e-1)),\n",
    "    'non': hp.quniform('non', 8, 20, 2),\n",
    "    'p_c_loss_factor': hp.loguniform('p_c_loss_factor', np.log(1e-7), np.log(1)),\n",
    "    'activation_scale': hp.uniform('activation_scale', 0.1, 10.0)\n",
    "}"
   ]
  },
  {
   "cell_type": "code",
   "execution_count": 55,
   "metadata": {
    "execution": {
     "iopub.execute_input": "2024-08-14T10:08:06.347994Z",
     "iopub.status.busy": "2024-08-14T10:08:06.347994Z",
     "iopub.status.idle": "2024-08-14T10:08:06.364410Z",
     "shell.execute_reply": "2024-08-14T10:08:06.364410Z"
    }
   },
   "outputs": [],
   "source": [
    "param_df = pd.DataFrame(columns=['params', 'loss_curve_train', 'loss_curve_test', 'best_score'])\n",
    "trial_no = 0\n",
    "bestest_score = float('inf')  # Initialize global variable\n",
    "\n",
    "set_seed(42)\n",
    "def objective(params):\n",
    "    set_seed(42)\n",
    "    global trial_no, bestest_score  \n",
    "    trial_no += 1\n",
    "    params['non'] = int(params['non'])\n",
    "    model = Net(\n",
    "        n_feature=8,\n",
    "        n_hidden=params['non'],\n",
    "        n_output=1,\n",
    "        activation_fn=nn.SiLU,\n",
    "        activation_scale=params['activation_scale']\n",
    "    )\n",
    "    \n",
    "    criterion = nn.MSELoss()\n",
    "    optimizer = optim.Adam(model.parameters(), lr=params['learning_rate'], weight_decay=params['lambda_l2'])\n",
    "    num_epochs = 5000\n",
    "    patience = 200\n",
    "    best_loss = float('inf')\n",
    "    epochs_no_improve = 0\n",
    "    param_df['params'].loc[trial_no] = params\n",
    "    training_loss = []\n",
    "    test_loss = []\n",
    "    \n",
    "    for epoch in range(num_epochs):\n",
    "        set_seed(42)\n",
    "        model.train()\n",
    "        optimizer.zero_grad()\n",
    "        predictions = model(dataset['train_input'])\n",
    "        main_loss = criterion(predictions, dataset['train_label'])\n",
    "        l1_loss = sum(p.abs().sum() for p in model.parameters())\n",
    "        pc_loss = p_c(dataset['train_input'], dataset['train_label'], predictions)\n",
    "        loss = main_loss + (params['lambda_l1'] * l1_loss) + (params['p_c_loss_factor'] * pc_loss)\n",
    "        loss.backward()\n",
    "        optimizer.step()\n",
    "        training_loss.append(loss.item())\n",
    "        \n",
    "        model.eval()\n",
    "        with torch.no_grad():\n",
    "            val_predictions = model(dataset['test_input'])\n",
    "            temp_score = mse(dataset['test_label'].numpy(), val_predictions.numpy())**0.5  # Move tensors to CPU before numpy\n",
    "        test_loss.append(temp_score)\n",
    "        \n",
    "        if temp_score < best_loss:\n",
    "            best_loss = temp_score\n",
    "            epochs_no_improve = 0\n",
    "            best_model_state = model.state_dict()\n",
    "        else:\n",
    "            epochs_no_improve += 1\n",
    "        \n",
    "        if epochs_no_improve >= patience:\n",
    "            model.load_state_dict(best_model_state)\n",
    "            break\n",
    "        \n",
    "        # Update the bestest score\n",
    "        if temp_score < bestest_score:\n",
    "            bestest_score = temp_score\n",
    "            torch.save({'model_state_dict': best_model_state, 'params': params}, f\"{current_target}_bestest_model.pth\")\n",
    "    \n",
    "    model.eval()\n",
    "    with torch.no_grad():\n",
    "        test_predictions = model(dataset['test_input'])\n",
    "    score = mse(dataset['test_label'].numpy(), test_predictions.numpy())  # Move tensors to CPU before numpy\n",
    "    param_df.loc[trial_no] = [params, training_loss, test_loss, score]\n",
    "    print(score)\n",
    "    print(params)\n",
    "    return score\n"
   ]
  },
  {
   "cell_type": "code",
   "execution_count": 56,
   "metadata": {
    "execution": {
     "iopub.execute_input": "2024-08-14T10:08:06.364410Z",
     "iopub.status.busy": "2024-08-14T10:08:06.364410Z",
     "iopub.status.idle": "2024-08-14T10:36:38.693974Z",
     "shell.execute_reply": "2024-08-14T10:36:38.693974Z"
    }
   },
   "outputs": [
    {
     "name": "stdout",
     "output_type": "stream",
     "text": [
      "78.77575184771155                                     \n",
      "{'activation_scale': 2.315045473481228, 'lambda_l1': 0.0266147060883771, 'lambda_l2': 0.03314039925282312, 'learning_rate': 0.0002358194659320981, 'non': 10, 'p_c_loss_factor': 0.0002999933455068089}\n",
      "1482.0018676714965                                                             \n",
      "{'activation_scale': 0.5642960298227523, 'lambda_l1': 3.977022332496662e-07, 'lambda_l2': 0.005548875548661785, 'learning_rate': 2.879789998851287e-05, 'non': 20, 'p_c_loss_factor': 6.757933359303175e-05}\n",
      "164.92838553483395                                                             \n",
      "{'activation_scale': 4.507194716042723, 'lambda_l1': 0.09171530300877401, 'lambda_l2': 1.058097721544801e-06, 'learning_rate': 8.202580736243327e-05, 'non': 10, 'p_c_loss_factor': 1.1071125576784074e-06}\n",
      "1087.4213240500812                                                             \n",
      "{'activation_scale': 7.842789621191241, 'lambda_l1': 2.3354308993913342e-05, 'lambda_l2': 3.6351777708459455e-07, 'learning_rate': 2.1489423148318204e-05, 'non': 14, 'p_c_loss_factor': 0.6497164506028111}\n",
      "0.1460445696182752                                                             \n",
      "{'activation_scale': 5.212129736573707, 'lambda_l1': 0.0006782798902619552, 'lambda_l2': 0.003697673235413525, 'learning_rate': 0.006188739859764245, 'non': 12, 'p_c_loss_factor': 0.0038199698571862776}\n",
      "46.23801951912909                                                               \n",
      "{'activation_scale': 7.1839719700571925, 'lambda_l1': 1.0823136702970284e-06, 'lambda_l2': 0.028474521062575406, 'learning_rate': 0.00014936852916415616, 'non': 12, 'p_c_loss_factor': 0.06831285697334703}\n",
      "0.14749993132565822                                                             \n",
      "{'activation_scale': 2.8975739986528257, 'lambda_l1': 0.002596298521685566, 'lambda_l2': 0.00011414579550224407, 'learning_rate': 0.020127545698676776, 'non': 18, 'p_c_loss_factor': 3.1309014227814216e-07}\n",
      "1.7454534379376607                                                              \n",
      "{'activation_scale': 8.399179314620733, 'lambda_l1': 5.175527958256679e-07, 'lambda_l2': 6.674226596553208e-06, 'learning_rate': 0.0004384057071322429, 'non': 12, 'p_c_loss_factor': 0.003204208398911475}\n",
      "1.6599913912291306                                                              \n",
      "{'activation_scale': 0.12034607677124357, 'lambda_l1': 0.006738452613672554, 'lambda_l2': 7.840694257431852e-05, 'learning_rate': 0.0034648265208385987, 'non': 18, 'p_c_loss_factor': 4.4945213684519474e-07}\n",
      "0.1510849847317924                                                              \n",
      "{'activation_scale': 3.955136063984986, 'lambda_l1': 0.015589887358501798, 'lambda_l2': 0.008655488683444798, 'learning_rate': 0.013046436255436712, 'non': 16, 'p_c_loss_factor': 0.015294715714522145}\n",
      "0.148909172799054                                                                \n",
      "{'activation_scale': 8.015874935684911, 'lambda_l1': 0.00013838967738785741, 'lambda_l2': 0.07758245994768169, 'learning_rate': 0.02176672061836445, 'non': 16, 'p_c_loss_factor': 0.03475018726213604}\n",
      "476.1221274062577                                                                \n",
      "{'activation_scale': 9.346296162727414, 'lambda_l1': 0.0036228186603402763, 'lambda_l2': 1.3386183109697675e-06, 'learning_rate': 3.363444246829738e-05, 'non': 12, 'p_c_loss_factor': 0.0003964297634846865}\n",
      "0.38273915678929815                                                              \n",
      "{'activation_scale': 0.413830903329619, 'lambda_l1': 0.06958412344606266, 'lambda_l2': 0.004556209990271724, 'learning_rate': 0.09409685045981726, 'non': 18, 'p_c_loss_factor': 1.6484562794206702e-07}\n",
      "0.15816122302403213                                                              \n",
      "{'activation_scale': 0.878246617268312, 'lambda_l1': 0.01208363966769864, 'lambda_l2': 1.1374068568010888e-05, 'learning_rate': 0.07583208930132708, 'non': 16, 'p_c_loss_factor': 0.0008244599342756893}\n",
      "115.83458030817512                                                               \n",
      "{'activation_scale': 1.5388059724309946, 'lambda_l1': 0.07795084599597638, 'lambda_l2': 0.03264544977951333, 'learning_rate': 0.0002620204174440474, 'non': 8, 'p_c_loss_factor': 1.0623404181508302e-05}\n",
      "1532.126668005629                                                                \n",
      "{'activation_scale': 1.2795074985541712, 'lambda_l1': 0.0016587599513103323, 'lambda_l2': 7.211957118038529e-05, 'learning_rate': 1.711398756901631e-05, 'non': 16, 'p_c_loss_factor': 0.3099130465355342}\n",
      "5.736308582487047                                                                \n",
      "{'activation_scale': 5.418846774031747, 'lambda_l1': 0.00011095832770754412, 'lambda_l2': 0.0011485267149084373, 'learning_rate': 0.0003068146228282374, 'non': 18, 'p_c_loss_factor': 0.03782988042624534}\n",
      "16.84181883949483                                                                \n",
      "{'activation_scale': 0.8929986903310054, 'lambda_l1': 0.0016997701959358372, 'lambda_l2': 6.702689867929093e-06, 'learning_rate': 0.0007181624165046553, 'non': 12, 'p_c_loss_factor': 0.6906950814583589}\n",
      "1185.4838864874207                                                               \n",
      "{'activation_scale': 8.473701173102617, 'lambda_l1': 4.254532947521346e-07, 'lambda_l2': 6.237434354415312e-07, 'learning_rate': 1.621009124127513e-05, 'non': 16, 'p_c_loss_factor': 3.821750265161779e-06}\n",
      "1513.1347088597656                                                               \n",
      "{'activation_scale': 1.2219966419059751, 'lambda_l1': 0.001026941556628379, 'lambda_l2': 0.008168285856122911, 'learning_rate': 2.8828306292391504e-05, 'non': 8, 'p_c_loss_factor': 2.6453560453709304e-06}\n",
      "0.15516795199107303                                                              \n",
      "{'activation_scale': 3.0786691182903096, 'lambda_l1': 1.8070850717841666e-05, 'lambda_l2': 0.00045067031527353863, 'learning_rate': 0.002709170175033751, 'non': 14, 'p_c_loss_factor': 2.8682330268870704e-05}\n",
      "0.14209878493342742                                                              \n",
      "{'activation_scale': 5.655815776489546, 'lambda_l1': 0.0003682849641760105, 'lambda_l2': 0.0006204723585155639, 'learning_rate': 0.023322997543501967, 'non': 10, 'p_c_loss_factor': 0.0042014419764701515}\n",
      "0.1475971263066936                                                                \n",
      "{'activation_scale': 5.909047383490116, 'lambda_l1': 0.0005119080050374968, 'lambda_l2': 0.0011340503663901348, 'learning_rate': 0.006241127282310155, 'non': 10, 'p_c_loss_factor': 0.0046476748197407875}\n",
      "0.14242407794742168                                                               \n",
      "{'activation_scale': 6.7386417845769815, 'lambda_l1': 1.18784785806166e-05, 'lambda_l2': 0.0003614563147188498, 'learning_rate': 0.051415885281403985, 'non': 10, 'p_c_loss_factor': 0.004140155808820794}\n",
      "0.14301036012512955                                                               \n",
      "{'activation_scale': 6.668601254743752, 'lambda_l1': 3.059492024137813e-06, 'lambda_l2': 0.0003330128272175836, 'learning_rate': 0.03581552599398889, 'non': 8, 'p_c_loss_factor': 0.13166545517670117}\n",
      "0.1419783696607864                                                                \n",
      "{'activation_scale': 6.507854230216475, 'lambda_l1': 1.4344480404411634e-05, 'lambda_l2': 1.4916208312407657e-05, 'learning_rate': 0.05204190029768108, 'non': 10, 'p_c_loss_factor': 0.00013253376129104268}\n",
      "0.43499685865355203                                                               \n",
      "{'activation_scale': 4.28805732182399, 'lambda_l1': 1.232954143224727e-07, 'lambda_l2': 2.0122740204909453e-05, 'learning_rate': 0.001232901275447791, 'non': 8, 'p_c_loss_factor': 0.00010966736738904301}\n",
      "0.14432325108363825                                                              \n",
      "{'activation_scale': 9.803205561543873, 'lambda_l1': 0.0002827965218671128, 'lambda_l2': 2.827616530431058e-06, 'learning_rate': 0.011654468052139657, 'non': 10, 'p_c_loss_factor': 0.0012949769599639347}\n",
      "0.14196490285689176                                                              \n",
      "{'activation_scale': 6.109950797518163, 'lambda_l1': 4.1868586999654545e-05, 'lambda_l2': 1.0250573678514673e-07, 'learning_rate': 0.03940795021685784, 'non': 10, 'p_c_loss_factor': 8.537112765896729e-05}\n",
      "0.13990812362528451                                                               \n",
      "{'activation_scale': 6.443406635162065, 'lambda_l1': 4.024350600153555e-05, 'lambda_l2': 1.236494991760772e-07, 'learning_rate': 0.049322511970624414, 'non': 8, 'p_c_loss_factor': 0.00013222358880494745}\n",
      "0.14466054900548056                                                               \n",
      "{'activation_scale': 9.109069227571524, 'lambda_l1': 4.478291948731633e-05, 'lambda_l2': 1.323266043210812e-07, 'learning_rate': 0.09882804243642271, 'non': 8, 'p_c_loss_factor': 1.1198074405704666e-05}\n",
      "0.22077303095798395                                                               \n",
      "{'activation_scale': 3.6757524765327587, 'lambda_l1': 4.601428308926634e-06, 'lambda_l2': 1.446365943224008e-07, 'learning_rate': 0.0017903997005669788, 'non': 8, 'p_c_loss_factor': 2.345878732988659e-05}\n",
      "0.14677302910308043                                                               \n",
      "{'activation_scale': 4.750360541390496, 'lambda_l1': 5.500116689937224e-05, 'lambda_l2': 1.005228015050141e-07, 'learning_rate': 0.007796139160492261, 'non': 14, 'p_c_loss_factor': 0.000337517900524675}\n",
      "0.17540557400610157                                                               \n",
      "{'activation_scale': 7.337736675806587, 'lambda_l1': 2.245028300068184e-06, 'lambda_l2': 3.762805504931233e-07, 'learning_rate': 0.0037636971726863313, 'non': 8, 'p_c_loss_factor': 4.32488029713615e-05}\n",
      "126.25652294129993                                                                \n",
      "{'activation_scale': 6.163845891278614, 'lambda_l1': 1.1401898782032739e-07, 'lambda_l2': 2.412534924397463e-07, 'learning_rate': 9.669220174570838e-05, 'non': 10, 'p_c_loss_factor': 0.00017535208380270697}\n",
      "0.13725557368164854                                                               \n",
      "{'activation_scale': 7.404336601878013, 'lambda_l1': 3.965404905779276e-05, 'lambda_l2': 1.4259410983776771e-06, 'learning_rate': 0.03988129902170049, 'non': 12, 'p_c_loss_factor': 2.054732973765501e-06}\n",
      "0.13799848028666706                                                               \n",
      "{'activation_scale': 7.40893597128237, 'lambda_l1': 5.543134101530249e-06, 'lambda_l2': 1.767721264758949e-06, 'learning_rate': 0.014242683480386542, 'non': 12, 'p_c_loss_factor': 1.0386725327040476e-06}\n",
      "0.13907493205667198                                                               \n",
      "{'activation_scale': 7.1554629985818075, 'lambda_l1': 6.686186093222615e-06, 'lambda_l2': 2.439050187649613e-06, 'learning_rate': 0.012337995452396047, 'non': 12, 'p_c_loss_factor': 1.0127374752707086e-07}\n",
      "0.38802900801339746                                                               \n",
      "{'activation_scale': 9.996089831668767, 'lambda_l1': 9.667549223600427e-07, 'lambda_l2': 3.602535314546672e-05, 'learning_rate': 0.0005923410984844355, 'non': 14, 'p_c_loss_factor': 9.317899903475827e-07}\n",
      "0.14868383599099466                                                               \n",
      "{'activation_scale': 8.63595209507684, 'lambda_l1': 2.493798714984319e-07, 'lambda_l2': 1.5487536170119856e-06, 'learning_rate': 0.004482419047430044, 'non': 12, 'p_c_loss_factor': 2.061087507519044e-06}\n",
      "0.14211836977254677                                                               \n",
      "{'activation_scale': 7.652548714622798, 'lambda_l1': 0.00019540264667372554, 'lambda_l2': 6.960724766396414e-07, 'learning_rate': 0.029080492932811872, 'non': 14, 'p_c_loss_factor': 4.257754864892158e-07}\n",
      "0.17461424775431408                                                               \n",
      "{'activation_scale': 9.357384755649797, 'lambda_l1': 1.3561732823220575e-06, 'lambda_l2': 4.425892165740261e-06, 'learning_rate': 0.0017693115311664836, 'non': 12, 'p_c_loss_factor': 9.354274316226822e-07}\n",
      "0.14483073810947064                                                               \n",
      "{'activation_scale': 4.867026052097838, 'lambda_l1': 6.336079887666531e-06, 'lambda_l2': 0.00015676983955030343, 'learning_rate': 0.009273138610213023, 'non': 20, 'p_c_loss_factor': 6.499924570150515e-06}\n",
      "0.1370105086996117                                                                \n",
      "{'activation_scale': 7.974966708331136, 'lambda_l1': 7.487670159904277e-07, 'lambda_l2': 2.7664511446295557e-05, 'learning_rate': 0.01630898070853942, 'non': 12, 'p_c_loss_factor': 1.874456933869248e-07}\n",
      "187.20219783900066                                                                \n",
      "{'activation_scale': 8.031299682975229, 'lambda_l1': 1.81316812258345e-07, 'lambda_l2': 3.0201474040644928e-05, 'learning_rate': 5.363809455968047e-05, 'non': 14, 'p_c_loss_factor': 1.0333240103424405e-07}\n",
      "0.14371968692855377                                                              \n",
      "{'activation_scale': 8.87714967873806, 'lambda_l1': 8.659780451479765e-07, 'lambda_l2': 4.958870402727786e-05, 'learning_rate': 0.07495278066023633, 'non': 14, 'p_c_loss_factor': 2.643638394651202e-07}\n",
      "0.1640346591106798                                                               \n",
      "{'activation_scale': 8.169049671108466, 'lambda_l1': 8.154655124996991e-05, 'lambda_l2': 0.00017372820337473592, 'learning_rate': 0.002240522068181484, 'non': 12, 'p_c_loss_factor': 2.0543409077019392e-07}\n",
      "0.1683098241501074                                                               \n",
      "{'activation_scale': 2.1208327664666857, 'lambda_l1': 0.030299752354532906, 'lambda_l2': 9.15585704407969e-06, 'learning_rate': 0.018072109411968112, 'non': 16, 'p_c_loss_factor': 5.99071784455587e-07}\n",
      "1377.5229382838716                                                               \n",
      "{'activation_scale': 5.241993654199629, 'lambda_l1': 2.5869152737912605e-07, 'lambda_l2': 0.01881617007511892, 'learning_rate': 1.0606315108569334e-05, 'non': 12, 'p_c_loss_factor': 1.8199531862526792e-06}\n",
      "0.1486897844450579                                                               \n",
      "{'activation_scale': 7.049082431486091, 'lambda_l1': 0.004679735337488355, 'lambda_l2': 4.326783882095817e-06, 'learning_rate': 0.005413534623879632, 'non': 14, 'p_c_loss_factor': 6.073320520044923e-06}\n",
      "100%|██████████| 50/50 [21:29<00:00, 25.79s/trial, best loss: 0.1370105086996117]\n",
      "Best hyperparameters: {'activation_scale': 7.974966708331136, 'lambda_l1': 7.487670159904277e-07, 'lambda_l2': 2.7664511446295557e-05, 'learning_rate': 0.01630898070853942, 'non': 12.0, 'p_c_loss_factor': 1.874456933869248e-07}\n"
     ]
    }
   ],
   "source": [
    "trials = Trials()\n",
    "best_params = fmin(fn=objective,\n",
    "                   space=space,\n",
    "                   algo=tpe.suggest,\n",
    "                   max_evals=50,\n",
    "                   trials=trials)\n",
    "print(\"Best hyperparameters:\", best_params)"
   ]
  },
  {
   "cell_type": "code",
   "execution_count": 57,
   "metadata": {
    "execution": {
     "iopub.execute_input": "2024-08-14T10:36:38.693974Z",
     "iopub.status.busy": "2024-08-14T10:36:38.693974Z",
     "iopub.status.idle": "2024-08-14T10:36:39.238567Z",
     "shell.execute_reply": "2024-08-14T10:36:39.238567Z"
    }
   },
   "outputs": [],
   "source": [
    "param_df.to_csv(f'param_df{current_target}.csv')"
   ]
  },
  {
   "cell_type": "code",
   "execution_count": 58,
   "metadata": {
    "execution": {
     "iopub.execute_input": "2024-08-14T10:36:39.238567Z",
     "iopub.status.busy": "2024-08-14T10:36:39.238567Z",
     "iopub.status.idle": "2024-08-14T10:37:18.053395Z",
     "shell.execute_reply": "2024-08-14T10:37:18.053395Z"
    }
   },
   "outputs": [
    {
     "name": "stderr",
     "output_type": "stream",
     "text": [
      "C:\\Users\\Administrator\\AppData\\Local\\Temp\\2\\ipykernel_8308\\90643497.py:1: FutureWarning: You are using `torch.load` with `weights_only=False` (the current default value), which uses the default pickle module implicitly. It is possible to construct malicious pickle data which will execute arbitrary code during unpickling (See https://github.com/pytorch/pytorch/blob/main/SECURITY.md#untrusted-models for more details). In a future release, the default value for `weights_only` will be flipped to `True`. This limits the functions that could be executed during unpickling. Arbitrary objects will no longer be allowed to be loaded via this mode unless they are explicitly allowlisted by the user via `torch.serialization.add_safe_globals`. We recommend you start setting `weights_only=True` for any use case where you don't have full control of the loaded file. Please open an issue on GitHub for any issues related to this experimental feature.\n",
      "  checkpoint = torch.load(f\"{current_target}_bestest_model.pth\")\n"
     ]
    },
    {
     "data": {
      "text/plain": [
       "<All keys matched successfully>"
      ]
     },
     "execution_count": 58,
     "metadata": {},
     "output_type": "execute_result"
    }
   ],
   "source": [
    "checkpoint = torch.load(f\"{current_target}_bestest_model.pth\")\n",
    "params1 = checkpoint['params']\n",
    "model = Net(\n",
    "    n_feature=8,\n",
    "    n_hidden=params1['non'],\n",
    "    n_output=1,\n",
    "    activation_fn=nn.SiLU,\n",
    "    activation_scale=params1['activation_scale']\n",
    ")\n",
    "model.load_state_dict(checkpoint['model_state_dict'])"
   ]
  },
  {
   "cell_type": "code",
   "execution_count": 61,
   "metadata": {
    "execution": {
     "iopub.execute_input": "2024-08-14T10:37:18.053395Z",
     "iopub.status.busy": "2024-08-14T10:37:18.053395Z",
     "iopub.status.idle": "2024-08-14T10:37:18.059913Z",
     "shell.execute_reply": "2024-08-14T10:37:18.059913Z"
    }
   },
   "outputs": [
    {
     "data": {
      "text/plain": [
       "0.13613353914909174"
      ]
     },
     "execution_count": 61,
     "metadata": {},
     "output_type": "execute_result"
    }
   ],
   "source": [
    "model.eval()\n",
    "with torch.no_grad():\n",
    "    test_predictions = model(dataset['test_input'])\n",
    "mse(dataset['test_label'].numpy(), test_predictions.numpy())"
   ]
  },
  {
   "cell_type": "code",
   "execution_count": 60,
   "metadata": {
    "execution": {
     "iopub.execute_input": "2024-08-14T10:37:18.059913Z",
     "iopub.status.busy": "2024-08-14T10:37:18.059913Z",
     "iopub.status.idle": "2024-08-14T10:37:18.066084Z",
     "shell.execute_reply": "2024-08-14T10:37:18.066084Z"
    }
   },
   "outputs": [
    {
     "data": {
      "text/plain": [
       "0.8763296585494708"
      ]
     },
     "execution_count": 60,
     "metadata": {},
     "output_type": "execute_result"
    }
   ],
   "source": [
    "r2_score(dataset['test_label'].numpy(), test_predictions.numpy())"
   ]
  }
 ],
 "metadata": {
  "kernelspec": {
   "display_name": "Python 3",
   "language": "python",
   "name": "python3"
  },
  "language_info": {
   "codemirror_mode": {
    "name": "ipython",
    "version": 3
   },
   "file_extension": ".py",
   "mimetype": "text/x-python",
   "name": "python",
   "nbconvert_exporter": "python",
   "pygments_lexer": "ipython3",
   "version": "3.12.6"
  }
 },
 "nbformat": 4,
 "nbformat_minor": 2
}
