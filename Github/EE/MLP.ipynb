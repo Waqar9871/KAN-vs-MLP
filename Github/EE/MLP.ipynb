{
 "cells": [
  {
   "cell_type": "code",
   "execution_count": 1,
   "metadata": {
    "execution": {
     "iopub.execute_input": "2024-08-14T01:36:03.333931Z",
     "iopub.status.busy": "2024-08-14T01:36:03.333931Z",
     "iopub.status.idle": "2024-08-14T01:36:11.150893Z",
     "shell.execute_reply": "2024-08-14T01:36:11.150893Z"
    }
   },
   "outputs": [],
   "source": [
    "import pandas as pd\n",
    "import torch\n",
    "from sklearn.model_selection import train_test_split\n",
    "import numpy as np\n",
    "from sklearn.metrics import mean_squared_error as mse, r2_score\n",
    "from hyperopt import fmin, tpe, hp, Trials, STATUS_OK\n",
    "from sklearn.preprocessing import MinMaxScaler\n",
    "import torch.nn as nn\n",
    "import random\n",
    "import torch.optim as optim\n",
    "import torch.nn.functional as F\n",
    "\n",
    "torch.set_default_dtype(torch.float64)\n",
    "dtype = torch.get_default_dtype()"
   ]
  },
  {
   "cell_type": "code",
   "execution_count": 2,
   "metadata": {
    "execution": {
     "iopub.execute_input": "2024-08-14T01:36:11.150893Z",
     "iopub.status.busy": "2024-08-14T01:36:11.150893Z",
     "iopub.status.idle": "2024-08-14T01:36:11.183342Z",
     "shell.execute_reply": "2024-08-14T01:36:11.183342Z"
    }
   },
   "outputs": [],
   "source": [
    "df=pd.read_csv('data.csv',header=1)\n",
    "df=df.drop(columns=['cl'])\n",
    "current_target='hl'"
   ]
  },
  {
   "cell_type": "code",
   "execution_count": 3,
   "metadata": {
    "execution": {
     "iopub.execute_input": "2024-08-14T01:36:11.183342Z",
     "iopub.status.busy": "2024-08-14T01:36:11.183342Z",
     "iopub.status.idle": "2024-08-14T01:36:11.198853Z",
     "shell.execute_reply": "2024-08-14T01:36:11.198853Z"
    }
   },
   "outputs": [],
   "source": [
    "df = df.sort_index()\n",
    "x = df.drop(columns=current_target)\n",
    "y = df[current_target]\n",
    "x_train, x_test, y_train, y_test = train_test_split(x, y, test_size=0.3, random_state=17) #81 cl, 17 hl,"
   ]
  },
  {
   "cell_type": "markdown",
   "metadata": {},
   "source": [
    "for n in range(100):\n",
    "    df = df.sort_index()\n",
    "    x = df.drop(columns=current_target)\n",
    "    y = df[current_target]\n",
    "    x_train, x_test, y_train, y_test = train_test_split(x, y, test_size=0.3, random_state=n)\n",
    "    model=CatBoostRegressor(verbose=False)\n",
    "    model.fit(x_train,y_train)\n",
    "    print(f\"{n},{mse(model.predict(x_test),y_test)}\")\n",
    "\n",
    "1. cl\n",
    "0,0.6726237937055908\n",
    "1,0.6551111204528186\n",
    "2,0.5134167792554208\n",
    "3,0.6702404964559748\n",
    "4,0.3963925748445111\n",
    "5,0.4244785272343683\n",
    "6,0.7128779993606781\n",
    "7,0.42448164546650735\n",
    "8,0.5758215699724097\n",
    "9,0.6929274000992075\n",
    "10,0.5241317759101504\n",
    "11,0.5502553447749845\n",
    "12,0.6750870949568888\n",
    "13,0.5918744283393744\n",
    "14,0.3688059156312062\n",
    "15,0.33924429643333115\n",
    "16,0.4933456427221908\n",
    "17,0.6611190753724675\n",
    "18,0.8776379907503337\n",
    "19,0.6418714641400631\n",
    "20,0.47863783450134006\n",
    "21,0.5110820995530742\n",
    "22,0.7599056382572423\n",
    "23,0.6616884552833008\n",
    "24,0.7018338094536908\n",
    "25,0.6651892620050522\n",
    "26,0.542460723048853\n",
    "27,0.43925698458261875\n",
    "28,0.5528020179778033\n",
    "29,0.4881128026914078\n",
    "30,0.5641605587796904\n",
    "31,0.43074406870363807\n",
    "32,0.9513384725135475\n",
    "33,0.6547016720207187\n",
    "34,0.4385436533488978\n",
    "35,0.5133608813629675\n",
    "36,0.5973251884924098\n",
    "37,0.7137358054712505\n",
    "38,0.4472159919128551\n",
    "39,0.5293948727579767\n",
    "40,0.6419645799724142\n",
    "41,0.49753682548396344\n",
    "42,0.48946337510663984\n",
    "43,0.39542504771074677\n",
    "44,0.4229125982091833\n",
    "45,0.5630333736986324\n",
    "46,0.6826538057166728\n",
    "47,0.7045957241567439\n",
    "48,0.9589865159769584\n",
    "49,0.970304926742422\n",
    "50,0.5114439360470149\n",
    "51,0.4564611558849673\n",
    "52,0.41539648054739475\n",
    "53,0.5736707791681147\n",
    "54,0.5602177165490395\n",
    "55,0.5015575788586971\n",
    "56,0.77891950685694\n",
    "57,0.6307812807713166\n",
    "58,0.5642348164581901\n",
    "59,0.45400243254004513\n",
    "60,0.7959933976879333\n",
    "61,0.8882558932204597\n",
    "62,0.6801553869713919\n",
    "63,0.4878988395146996\n",
    "64,0.8252484918439765\n",
    "65,0.5146937422621961\n",
    "66,0.5177163488361217\n",
    "67,0.4885181426357839\n",
    "68,0.5922663079631817\n",
    "69,0.5564526449733648\n",
    "70,0.4632930218203085\n",
    "71,0.6754912162581836\n",
    "72,0.6212396948191566\n",
    "73,0.4971932378757647\n",
    "74,0.45047835422321364\n",
    "75,0.6427462558119769\n",
    "76,0.4554135719629285\n",
    "77,0.4606326995622914\n",
    "78,1.1826245842058944\n",
    "79,0.6157536348277911\n",
    "80,0.8336385973478375\n",
    "81,0.33578481362592855\n",
    "82,0.4720676693788693\n",
    "83,0.5343760903099496\n",
    "84,0.5936119068763387\n",
    "85,0.585729010388912\n",
    "86,0.718412495687104\n",
    "87,0.5506948215987275\n",
    "88,0.45996103660804405\n",
    "89,0.4582340678778356\n",
    "90,0.4476517549558945\n",
    "91,0.7348561801653456\n",
    "92,0.4526448523430189\n",
    "93,1.0544624252486114\n",
    "94,0.5089084491829143\n",
    "95,0.4653337146771206\n",
    "96,0.5308033776319937\n",
    "97,0.6142448731395392\n",
    "98,0.4479745720313298\n",
    "99,0.5441578648255044\n",
    "\n",
    "2. hl\n",
    "0,0.1489341506839013\n",
    "1,0.11505072218481588\n",
    "2,0.1210512197198303\n",
    "3,0.11999413749902414\n",
    "4,0.10305787369378579\n",
    "5,0.10397017898197007\n",
    "6,0.14998818435446742\n",
    "7,0.1333043024447535\n",
    "8,0.11130477843175925\n",
    "9,0.1425725829343789\n",
    "10,0.14855983649539045\n",
    "11,0.15300385725945378\n",
    "12,0.10367149248066052\n",
    "13,0.12381504539201228\n",
    "14,0.10389730166324894\n",
    "15,0.10872396797076571\n",
    "16,0.20766519850225745\n",
    "17,0.07058818947529498\n",
    "18,0.700049445374208\n",
    "19,0.10056803372886693\n",
    "20,0.10028635130254954\n",
    "21,0.09913464572187124\n",
    "22,0.13918253531038705\n",
    "23,0.152417334877583\n",
    "24,0.10746914336867258\n",
    "25,0.14073873695210948\n",
    "26,0.10437584352647893\n",
    "27,0.1382380748781409\n",
    "28,0.11224680357474569\n",
    "29,0.10615251377508314\n",
    "30,0.13518751840365692\n",
    "31,0.11391676156575323\n",
    "32,0.24052476501195155\n",
    "33,0.10836811987254881\n",
    "34,0.1532889724809035\n",
    "35,0.12166964393842336\n",
    "36,0.10683800910364755\n",
    "37,0.15455576338139226\n",
    "38,0.09326644445549408\n",
    "39,0.1289245473198724\n",
    "40,0.3727714612021985\n",
    "41,0.10840153040532234\n",
    "42,0.12612311593925896\n",
    "43,0.08912433585144204\n",
    "44,0.0837212388516493\n",
    "45,0.10978125138486883\n",
    "46,0.11353192341767072\n",
    "47,0.13575952826393678\n",
    "48,0.1933672768331914\n",
    "49,0.12194051706670986\n",
    "50,0.08926803138703238\n",
    "51,0.11989231674540715\n",
    "52,0.1317998367607502\n",
    "53,0.09301372055244184\n",
    "54,0.13915986087774063\n",
    "55,0.09812140696497591\n",
    "56,0.14747867249615648\n",
    "57,0.11377591769998492\n",
    "58,0.20129228730462154\n",
    "59,0.13284501579857613\n",
    "60,0.15462962086018214\n",
    "61,0.44318173792138554\n",
    "62,0.1711135817126508\n",
    "63,0.13622964318496805\n",
    "64,0.1086866976142961\n",
    "65,0.12191195610483656\n",
    "66,0.2147835735484987\n",
    "67,0.1589878393160268\n",
    "68,0.11124986988619477\n",
    "69,0.15522080911252464\n",
    "70,0.09086398813959162\n",
    "71,0.16564674659194586\n",
    "72,0.11909266479980044\n",
    "73,0.16158603320985046\n",
    "74,0.10064173236314371\n",
    "75,0.1490685334283945\n",
    "76,0.09117910394017567\n",
    "77,0.12041289104554949\n",
    "78,0.14479143639649322\n",
    "79,0.09429977426759172\n",
    "80,0.11475943590250344\n",
    "81,0.10803025387581155\n",
    "82,0.10269337962569641\n",
    "83,0.10549190601957907\n",
    "84,0.1013728504560079\n",
    "85,0.27292722663709174\n",
    "86,0.14005984730373597\n",
    "87,0.10788515483840452\n",
    "88,0.1364334823829534\n",
    "89,0.13401319197948594\n",
    "90,0.10530441005104788\n",
    "91,0.11881955494122014\n",
    "92,0.14637669793202007\n",
    "93,0.11208376876773744\n",
    "94,0.0900481568889163\n",
    "95,0.12357887088645979\n",
    "96,0.10210315969061771\n",
    "97,0.284649197516948\n",
    "98,0.13353946279465723\n",
    "99,0.10209304121912875"
   ]
  },
  {
   "cell_type": "code",
   "execution_count": 4,
   "metadata": {
    "execution": {
     "iopub.execute_input": "2024-08-14T01:36:11.198853Z",
     "iopub.status.busy": "2024-08-14T01:36:11.198853Z",
     "iopub.status.idle": "2024-08-14T01:36:11.214990Z",
     "shell.execute_reply": "2024-08-14T01:36:11.214990Z"
    }
   },
   "outputs": [],
   "source": [
    "def set_seed(seed=42):\n",
    "    np.random.seed(seed)\n",
    "    random.seed(seed)\n",
    "    torch.manual_seed(seed)\n",
    "\n",
    "set_seed(42)"
   ]
  },
  {
   "cell_type": "code",
   "execution_count": 5,
   "metadata": {
    "execution": {
     "iopub.execute_input": "2024-08-14T01:36:11.214990Z",
     "iopub.status.busy": "2024-08-14T01:36:11.214990Z",
     "iopub.status.idle": "2024-08-14T01:36:11.228712Z",
     "shell.execute_reply": "2024-08-14T01:36:11.228712Z"
    }
   },
   "outputs": [],
   "source": [
    "class Net(torch.nn.Module):\n",
    "    def __init__(self, n_feature, n_hidden, n_output, activation_fn=nn.ReLU, activation_scale=1.0):\n",
    "        super(Net, self).__init__()\n",
    "        self.hidden = nn.Linear(n_feature, n_hidden)   # hidden layer\n",
    "        self.predict = nn.Linear(n_hidden, n_output)   # output layer\n",
    "        self.activation_fn = activation_fn()           # instantiate the activation function\n",
    "        self.activation_scale = activation_scale       # scaling factor for the activation function\n",
    "\n",
    "    def forward(self, x):\n",
    "        x = self.activation_scale * self.activation_fn(self.hidden(x))  # apply scaled activation function\n",
    "        x = self.predict(x)                                              # linear output\n",
    "        return x"
   ]
  },
  {
   "cell_type": "code",
   "execution_count": 6,
   "metadata": {
    "execution": {
     "iopub.execute_input": "2024-08-14T01:36:11.228712Z",
     "iopub.status.busy": "2024-08-14T01:36:11.228712Z",
     "iopub.status.idle": "2024-08-14T01:36:11.240113Z",
     "shell.execute_reply": "2024-08-14T01:36:11.240113Z"
    }
   },
   "outputs": [],
   "source": [
    "dataset = {}\n",
    "train_input=x_train.to_numpy()\n",
    "train_label=y_train.to_numpy()\n",
    "test_input=x_test.to_numpy()\n",
    "test_label=y_test.to_numpy()"
   ]
  },
  {
   "cell_type": "code",
   "execution_count": 7,
   "metadata": {
    "execution": {
     "iopub.execute_input": "2024-08-14T01:36:11.240113Z",
     "iopub.status.busy": "2024-08-14T01:36:11.240113Z",
     "iopub.status.idle": "2024-08-14T01:36:11.254958Z",
     "shell.execute_reply": "2024-08-14T01:36:11.254958Z"
    }
   },
   "outputs": [],
   "source": [
    "scaler_input = MinMaxScaler()\n",
    "\n",
    "train_input_scaled = scaler_input.fit_transform(train_input)\n",
    "test_input_scaled = scaler_input.transform(test_input)\n",
    "\n",
    "dataset['train_input'] = torch.from_numpy(train_input_scaled).type(dtype)\n",
    "dataset['test_input'] = torch.from_numpy(test_input_scaled).type(dtype)\n",
    "dataset['train_label'] = torch.from_numpy(train_label[:,None]).type(dtype)\n",
    "dataset['test_label'] = torch.from_numpy(test_label[:,None]).type(dtype)"
   ]
  },
  {
   "cell_type": "code",
   "execution_count": 8,
   "metadata": {
    "execution": {
     "iopub.execute_input": "2024-08-14T01:36:11.254958Z",
     "iopub.status.busy": "2024-08-14T01:36:11.254958Z",
     "iopub.status.idle": "2024-08-14T01:36:11.267453Z",
     "shell.execute_reply": "2024-08-14T01:36:11.267453Z"
    }
   },
   "outputs": [],
   "source": [
    "space = {\n",
    "    'learning_rate': hp.loguniform('learning_rate', np.log(1e-5), np.log(1e-1)),\n",
    "    'lambda_l1': hp.loguniform('lambda_l1', np.log(1e-7), np.log(1e-1)),\n",
    "    'lambda_l2': hp.loguniform('lambda_l2', np.log(1e-7), np.log(1e-1)),\n",
    "    'non': hp.quniform('non', 8, 20, 2),\n",
    "    'activation_scale': hp.uniform('activation_scale', 0.1, 10.0)\n",
    "}"
   ]
  },
  {
   "cell_type": "code",
   "execution_count": 9,
   "metadata": {
    "execution": {
     "iopub.execute_input": "2024-08-14T01:36:11.267453Z",
     "iopub.status.busy": "2024-08-14T01:36:11.267453Z",
     "iopub.status.idle": "2024-08-14T01:36:11.295197Z",
     "shell.execute_reply": "2024-08-14T01:36:11.295197Z"
    }
   },
   "outputs": [],
   "source": [
    "param_df = pd.DataFrame(columns=['params', 'loss_curve_train', 'loss_curve_test', 'best_score'])\n",
    "trial_no = 0\n",
    "bestest_score = float('inf')  # Initialize global variable\n",
    "\n",
    "set_seed(42)\n",
    "def objective(params):\n",
    "    set_seed(42)\n",
    "    global trial_no, bestest_score  \n",
    "    trial_no += 1\n",
    "    params['non'] = int(params['non'])\n",
    "    model = Net(\n",
    "        n_feature=8,\n",
    "        n_hidden=params['non'],\n",
    "        n_output=1,\n",
    "        activation_fn=nn.SiLU,\n",
    "        activation_scale=params['activation_scale']\n",
    "    )\n",
    "    \n",
    "    criterion = nn.MSELoss()\n",
    "    optimizer = optim.Adam(model.parameters(), lr=params['learning_rate'], weight_decay=params['lambda_l2'])\n",
    "    num_epochs = 5000\n",
    "    patience = 200\n",
    "    best_loss = float('inf')\n",
    "    epochs_no_improve = 0\n",
    "    param_df['params'].loc[trial_no] = params\n",
    "    training_loss = []\n",
    "    test_loss = []\n",
    "    \n",
    "    for epoch in range(num_epochs):\n",
    "        set_seed(42)\n",
    "        model.train()\n",
    "        optimizer.zero_grad()\n",
    "        predictions = model(dataset['train_input'])\n",
    "        main_loss = criterion(predictions, dataset['train_label'])\n",
    "        l1_loss = sum(p.abs().sum() for p in model.parameters())\n",
    "        loss = main_loss + (params['lambda_l1'] * l1_loss)\n",
    "        loss.backward()\n",
    "        optimizer.step()\n",
    "        training_loss.append(loss.item())\n",
    "        \n",
    "        model.eval()\n",
    "        with torch.no_grad():\n",
    "            val_predictions = model(dataset['test_input'])\n",
    "            temp_score = mse(dataset['test_label'].numpy(), val_predictions.numpy())**0.5  # Move tensors to CPU before numpy\n",
    "        test_loss.append(temp_score)\n",
    "        \n",
    "        if temp_score < best_loss:\n",
    "            best_loss = temp_score\n",
    "            epochs_no_improve = 0\n",
    "            best_model_state = model.state_dict()\n",
    "        else:\n",
    "            epochs_no_improve += 1\n",
    "        \n",
    "        if epochs_no_improve >= patience:\n",
    "            model.load_state_dict(best_model_state)\n",
    "            break\n",
    "        \n",
    "        # Update the bestest score\n",
    "        if temp_score < bestest_score:\n",
    "            bestest_score = temp_score\n",
    "            torch.save({'model_state_dict': best_model_state, 'params': params}, f\"{current_target}_bestest_model.pth\")\n",
    "    \n",
    "    model.eval()\n",
    "    with torch.no_grad():\n",
    "        test_predictions = model(dataset['test_input'])\n",
    "    score = mse(dataset['test_label'].numpy(), test_predictions.numpy())**0.5  # Move tensors to CPU before numpy\n",
    "    param_df.loc[trial_no] = [params, training_loss, test_loss, score]\n",
    "    print(score)\n",
    "    print(params)\n",
    "    return score\n"
   ]
  },
  {
   "cell_type": "code",
   "execution_count": 10,
   "metadata": {
    "execution": {
     "iopub.execute_input": "2024-08-14T01:36:11.295197Z",
     "iopub.status.busy": "2024-08-14T01:36:11.295197Z",
     "iopub.status.idle": "2024-08-14T01:49:10.416017Z",
     "shell.execute_reply": "2024-08-14T01:49:10.416017Z"
    }
   },
   "outputs": [
    {
     "name": "stdout",
     "output_type": "stream",
     "text": [
      "24.147375374188986                                    \n",
      "{'activation_scale': 1.1162873024334956, 'lambda_l1': 8.702718835237282e-05, 'lambda_l2': 4.6017665739020365e-05, 'learning_rate': 1.0273749408691342e-05, 'non': 12}\n",
      "23.275416727697475                                                              \n",
      "{'activation_scale': 7.721121854795991, 'lambda_l1': 6.762953133340564e-06, 'lambda_l2': 4.554237602209895e-06, 'learning_rate': 1.03499897757088e-05, 'non': 10}\n",
      "2.708086502401721                                                               \n",
      "{'activation_scale': 6.007192887096419, 'lambda_l1': 2.1787482982608442e-07, 'lambda_l2': 6.203546270638578e-05, 'learning_rate': 0.0008923931189209535, 'non': 12}\n",
      "22.614681685771338                                                              \n",
      "{'activation_scale': 7.125723995602076, 'lambda_l1': 3.4402985283464084e-07, 'lambda_l2': 0.0013196853351367776, 'learning_rate': 1.340140634200676e-05, 'non': 8}\n",
      "2.901972521583074                                                              \n",
      "{'activation_scale': 3.110336289179074, 'lambda_l1': 3.9395965056533437e-07, 'lambda_l2': 0.011543744558418443, 'learning_rate': 0.000296674092835139, 'non': 20}\n",
      "3.4591140512189087                                                             \n",
      "{'activation_scale': 3.6270888545986097, 'lambda_l1': 0.010520390030261437, 'lambda_l2': 9.238062942430678e-05, 'learning_rate': 0.0001498698003966569, 'non': 12}\n",
      "2.39803466375943                                                               \n",
      "{'activation_scale': 4.9018139904543645, 'lambda_l1': 0.0021115098430487065, 'lambda_l2': 0.0004618432597693932, 'learning_rate': 0.0015572490465853796, 'non': 20}\n",
      "1.0002292146720535                                                             \n",
      "{'activation_scale': 8.972822350600811, 'lambda_l1': 6.777437839889639e-07, 'lambda_l2': 5.0529318394032244e-06, 'learning_rate': 0.056026506792687614, 'non': 12}\n",
      "2.7277080134214287                                                              \n",
      "{'activation_scale': 4.292837799545368, 'lambda_l1': 9.520430099303513e-05, 'lambda_l2': 9.038286782653931e-05, 'learning_rate': 0.006145945557442953, 'non': 18}\n",
      "3.3451422674968367                                                              \n",
      "{'activation_scale': 0.6168700463008555, 'lambda_l1': 0.00012299342526006442, 'lambda_l2': 0.0925837865158372, 'learning_rate': 0.00038872645356190146, 'non': 8}\n",
      "2.7264603413728654                                                               \n",
      "{'activation_scale': 2.4684980218962003, 'lambda_l1': 0.00015421122490406146, 'lambda_l2': 1.1135454329609908e-07, 'learning_rate': 0.0006722457701816067, 'non': 14}\n",
      "23.545934229782283                                                               \n",
      "{'activation_scale': 3.858046801233302, 'lambda_l1': 2.940914199574204e-07, 'lambda_l2': 0.015973787248305147, 'learning_rate': 1.0156178640215487e-05, 'non': 16}\n",
      "23.772621241805872                                                               \n",
      "{'activation_scale': 2.075708517758544, 'lambda_l1': 0.0005854648757590491, 'lambda_l2': 1.0994260057775748e-06, 'learning_rate': 1.8297557263161717e-05, 'non': 8}\n",
      "0.9164734108619847                                                               \n",
      "{'activation_scale': 3.9389900162495706, 'lambda_l1': 4.0636543941323876e-05, 'lambda_l2': 8.500554529720509e-07, 'learning_rate': 0.006160103820815921, 'non': 10}\n",
      "6.010657189094643                                                                \n",
      "{'activation_scale': 5.329910105200471, 'lambda_l1': 0.00400926894743739, 'lambda_l2': 3.673468538468582e-05, 'learning_rate': 6.557347570601003e-05, 'non': 18}\n",
      "2.1645984487987553                                                               \n",
      "{'activation_scale': 1.53500702925587, 'lambda_l1': 7.994733830997897e-06, 'lambda_l2': 0.0003824921889900004, 'learning_rate': 0.002355826793352572, 'non': 18}\n",
      "0.5347569757170136                                                               \n",
      "{'activation_scale': 6.585238869915737, 'lambda_l1': 0.0001695757974007766, 'lambda_l2': 0.006787351434053396, 'learning_rate': 0.024505389012203563, 'non': 16}\n",
      "2.3895808210397034                                                               \n",
      "{'activation_scale': 0.7099520940221753, 'lambda_l1': 0.06906940530195271, 'lambda_l2': 1.1043273452772571e-06, 'learning_rate': 0.07853971463934895, 'non': 16}\n",
      "21.681770038734236                                                               \n",
      "{'activation_scale': 2.6424693805821278, 'lambda_l1': 4.370382153036256e-06, 'lambda_l2': 0.004471253439045374, 'learning_rate': 2.6043041890924023e-05, 'non': 14}\n",
      "15.019411904055039                                                               \n",
      "{'activation_scale': 7.175474399566576, 'lambda_l1': 5.6561721456012945e-06, 'lambda_l2': 0.00014923832576453405, 'learning_rate': 2.8700725604996884e-05, 'non': 12}\n",
      "1.0926120051926602                                                               \n",
      "{'activation_scale': 9.744386559645278, 'lambda_l1': 3.111910776300568e-05, 'lambda_l2': 0.0323778935559045, 'learning_rate': 0.018902225578666092, 'non': 16}\n",
      "0.45537295115358634                                                              \n",
      "{'activation_scale': 6.239972090136208, 'lambda_l1': 0.000558361882027739, 'lambda_l2': 2.446299349096799e-07, 'learning_rate': 0.01615581495341809, 'non': 10}\n",
      "0.4589671893638598                                                                \n",
      "{'activation_scale': 6.305980445835388, 'lambda_l1': 0.000666406988506229, 'lambda_l2': 2.251155663960302e-07, 'learning_rate': 0.024025342078327145, 'non': 10}\n",
      "2.7548824786571617                                                                \n",
      "{'activation_scale': 8.261507104926727, 'lambda_l1': 0.058135543233186746, 'lambda_l2': 1.2115038740422855e-07, 'learning_rate': 0.021172998783412146, 'non': 10}\n",
      "0.808941334377249                                                                 \n",
      "{'activation_scale': 5.913967074219179, 'lambda_l1': 0.0007229492699244421, 'lambda_l2': 1.945158812069854e-07, 'learning_rate': 0.0059321138782215625, 'non': 10}\n",
      "0.6121617731948973                                                                \n",
      "{'activation_scale': 9.99798301431201, 'lambda_l1': 0.02259271830770116, 'lambda_l2': 1.2024737174644624e-05, 'learning_rate': 0.04530038869249578, 'non': 8}\n",
      "0.48099041038828566                                                               \n",
      "{'activation_scale': 8.608490009794481, 'lambda_l1': 0.0011736489444523182, 'lambda_l2': 3.804359631752781e-07, 'learning_rate': 0.011694002003631994, 'non': 10}\n",
      "2.479895933265735                                                                 \n",
      "{'activation_scale': 5.001864807943607, 'lambda_l1': 0.0081918476990943, 'lambda_l2': 3.787644818953227e-06, 'learning_rate': 0.0026670875809210377, 'non': 8}\n",
      "0.4587734322464239                                                                \n",
      "{'activation_scale': 6.2768438411604155, 'lambda_l1': 0.00039113772322895427, 'lambda_l2': 5.686309274376367e-07, 'learning_rate': 0.08883341955009315, 'non': 12}\n",
      "0.8371897676794926                                                                \n",
      "{'activation_scale': 7.164902878181118, 'lambda_l1': 2.087469663673441e-05, 'lambda_l2': 1.2061370796271215e-05, 'learning_rate': 0.05352131626612263, 'non': 14}\n",
      "0.9007359114245378                                                                \n",
      "{'activation_scale': 5.495113941669732, 'lambda_l1': 0.00032041588507605325, 'lambda_l2': 5.387225469523838e-07, 'learning_rate': 0.08901824677662133, 'non': 12}\n",
      "0.4739920384380298                                                                \n",
      "{'activation_scale': 7.9372028642554175, 'lambda_l1': 1.930576553106463e-06, 'lambda_l2': 2.506016697168633e-06, 'learning_rate': 0.09259485634941123, 'non': 14}\n",
      "0.5404356088592245                                                                \n",
      "{'activation_scale': 6.6679642333385925, 'lambda_l1': 0.0026779849502348396, 'lambda_l2': 2.129560107120529e-05, 'learning_rate': 0.00912029132820169, 'non': 12}\n",
      "2.7554085252533222                                                                \n",
      "{'activation_scale': 9.229636235836121, 'lambda_l1': 0.02212006789828518, 'lambda_l2': 1.874430518230168e-06, 'learning_rate': 0.037306131966249045, 'non': 10}\n",
      "0.4843579635212383                                                                \n",
      "{'activation_scale': 7.549466424853916, 'lambda_l1': 4.712672354132091e-05, 'lambda_l2': 3.3226650777600143e-07, 'learning_rate': 0.010951852190817169, 'non': 12}\n",
      "2.4829121015001077                                                                \n",
      "{'activation_scale': 4.76419205835984, 'lambda_l1': 0.006846856713893664, 'lambda_l2': 0.0015525217553491782, 'learning_rate': 0.002687729082277846, 'non': 8}\n",
      "2.62463887348411                                                                  \n",
      "{'activation_scale': 5.892896766813366, 'lambda_l1': 1.550396753934667e-05, 'lambda_l2': 9.148769730131751e-06, 'learning_rate': 0.001192694967811726, 'non': 12}\n",
      "3.4858475074367195                                                                \n",
      "{'activation_scale': 4.434062555098692, 'lambda_l1': 0.0002414547591320203, 'lambda_l2': 0.00023905332108087944, 'learning_rate': 0.0001233828975152207, 'non': 14}\n",
      "0.5070307368922422                                                                \n",
      "{'activation_scale': 3.0490510659429475, 'lambda_l1': 0.001811332303722826, 'lambda_l2': 1.0034780728702887e-07, 'learning_rate': 0.037387069440953775, 'non': 10}\n",
      "2.7445354185440505                                                                \n",
      "{'activation_scale': 7.749264356380219, 'lambda_l1': 0.02161255310187191, 'lambda_l2': 6.001072186278001e-06, 'learning_rate': 0.00047830506397972456, 'non': 12}\n",
      "2.2255546163523445                                                                \n",
      "{'activation_scale': 3.392784240355879, 'lambda_l1': 1.0891116494140354e-07, 'lambda_l2': 2.1077151672456987e-06, 'learning_rate': 0.004354828867585833, 'non': 8}\n",
      "3.0237598349829216                                                                \n",
      "{'activation_scale': 5.457476383574199, 'lambda_l1': 6.219541268497717e-05, 'lambda_l2': 4.469136376067537e-05, 'learning_rate': 0.00020340705078878655, 'non': 10}\n",
      "0.501774701639481                                                                 \n",
      "{'activation_scale': 9.278350595402031, 'lambda_l1': 1.8921867092325248e-06, 'lambda_l2': 7.428571665060131e-07, 'learning_rate': 0.0126481702648319, 'non': 12}\n",
      "2.2103868501084416                                                                \n",
      "{'activation_scale': 6.793784420146468, 'lambda_l1': 0.00038913942399351406, 'lambda_l2': 2.4600608125976566e-05, 'learning_rate': 0.09930182493186322, 'non': 8}\n",
      "1.9111874574360892                                                                \n",
      "{'activation_scale': 4.311699418427698, 'lambda_l1': 0.004402404919220451, 'lambda_l2': 0.000917690803622682, 'learning_rate': 0.004045673711945113, 'non': 14}\n",
      "2.4297897149923373                                                                \n",
      "{'activation_scale': 8.313271147094401, 'lambda_l1': 7.831364008724598e-05, 'lambda_l2': 1.3319039580466753e-07, 'learning_rate': 0.0015284121332205494, 'non': 20}\n",
      "0.9593321731938138                                                                \n",
      "{'activation_scale': 1.5467794210104229, 'lambda_l1': 0.00124467089661291, 'lambda_l2': 1.504215045599237e-06, 'learning_rate': 0.05863031949073466, 'non': 16}\n",
      "0.45401246906634796                                                               \n",
      "{'activation_scale': 6.0989366210864295, 'lambda_l1': 0.00016424492204022027, 'lambda_l2': 8.038771038029498e-05, 'learning_rate': 0.01624848147298872, 'non': 10}\n",
      "2.7164953815134685                                                                \n",
      "{'activation_scale': 3.8445260336149794, 'lambda_l1': 1.0446120595800705e-05, 'lambda_l2': 0.0017977805385356188, 'learning_rate': 0.0008844467909069771, 'non': 8}\n",
      "0.45945568162133815                                                               \n",
      "{'activation_scale': 7.505390622253714, 'lambda_l1': 8.320761961809834e-07, 'lambda_l2': 0.0005980412789974149, 'learning_rate': 0.016730417143443456, 'non': 10}\n",
      "100%|██████████| 50/50 [18:33<00:00, 22.28s/trial, best loss: 0.45401246906634796]\n",
      "Best hyperparameters: {'activation_scale': 6.0989366210864295, 'lambda_l1': 0.00016424492204022027, 'lambda_l2': 8.038771038029498e-05, 'learning_rate': 0.01624848147298872, 'non': 10.0}\n"
     ]
    }
   ],
   "source": [
    "trials = Trials()\n",
    "best_params = fmin(fn=objective,\n",
    "                   space=space,\n",
    "                   algo=tpe.suggest,\n",
    "                   max_evals=50,\n",
    "                   trials=trials)\n",
    "print(\"Best hyperparameters:\", best_params)"
   ]
  },
  {
   "cell_type": "code",
   "execution_count": 11,
   "metadata": {
    "execution": {
     "iopub.execute_input": "2024-08-14T01:49:10.416017Z",
     "iopub.status.busy": "2024-08-14T01:49:10.416017Z",
     "iopub.status.idle": "2024-08-14T01:49:10.881199Z",
     "shell.execute_reply": "2024-08-14T01:49:10.881199Z"
    }
   },
   "outputs": [],
   "source": [
    "param_df.to_csv(f'param_df{current_target}.csv')"
   ]
  },
  {
   "cell_type": "code",
   "execution_count": 12,
   "metadata": {},
   "outputs": [
    {
     "name": "stderr",
     "output_type": "stream",
     "text": [
      "C:\\Users\\Administrator\\AppData\\Local\\Temp\\2\\ipykernel_3300\\90643497.py:1: FutureWarning: You are using `torch.load` with `weights_only=False` (the current default value), which uses the default pickle module implicitly. It is possible to construct malicious pickle data which will execute arbitrary code during unpickling (See https://github.com/pytorch/pytorch/blob/main/SECURITY.md#untrusted-models for more details). In a future release, the default value for `weights_only` will be flipped to `True`. This limits the functions that could be executed during unpickling. Arbitrary objects will no longer be allowed to be loaded via this mode unless they are explicitly allowlisted by the user via `torch.serialization.add_safe_globals`. We recommend you start setting `weights_only=True` for any use case where you don't have full control of the loaded file. Please open an issue on GitHub for any issues related to this experimental feature.\n",
      "  checkpoint = torch.load(f\"{current_target}_bestest_model.pth\")\n"
     ]
    },
    {
     "data": {
      "text/plain": [
       "<All keys matched successfully>"
      ]
     },
     "execution_count": 12,
     "metadata": {},
     "output_type": "execute_result"
    }
   ],
   "source": [
    "checkpoint = torch.load(f\"{current_target}_bestest_model.pth\")\n",
    "params1 = checkpoint['params']\n",
    "model = Net(\n",
    "    n_feature=8,\n",
    "    n_hidden=params1['non'],\n",
    "    n_output=1,\n",
    "    activation_fn=nn.SiLU,\n",
    "    activation_scale=params1['activation_scale']\n",
    ")\n",
    "model.load_state_dict(checkpoint['model_state_dict'])"
   ]
  },
  {
   "cell_type": "code",
   "execution_count": 13,
   "metadata": {
    "execution": {
     "iopub.execute_input": "2024-08-14T01:49:24.868973Z",
     "iopub.status.busy": "2024-08-14T01:49:24.868973Z",
     "iopub.status.idle": "2024-08-14T01:49:24.885445Z",
     "shell.execute_reply": "2024-08-14T01:49:24.885445Z"
    }
   },
   "outputs": [
    {
     "data": {
      "text/plain": [
       "0.4540064225887129"
      ]
     },
     "execution_count": 13,
     "metadata": {},
     "output_type": "execute_result"
    }
   ],
   "source": [
    "model.eval()\n",
    "with torch.no_grad():\n",
    "    test_predictions = model(dataset['test_input'])\n",
    "mse(dataset['test_label'].numpy(), test_predictions.numpy())**0.5"
   ]
  },
  {
   "cell_type": "code",
   "execution_count": 14,
   "metadata": {
    "execution": {
     "iopub.execute_input": "2024-08-14T01:49:24.885445Z",
     "iopub.status.busy": "2024-08-14T01:49:24.885445Z",
     "iopub.status.idle": "2024-08-14T01:49:24.895248Z",
     "shell.execute_reply": "2024-08-14T01:49:24.895248Z"
    }
   },
   "outputs": [
    {
     "data": {
      "text/plain": [
       "0.9979375885117501"
      ]
     },
     "execution_count": 14,
     "metadata": {},
     "output_type": "execute_result"
    }
   ],
   "source": [
    "r2_score(dataset['test_label'].numpy(), test_predictions.numpy())"
   ]
  },
  {
   "cell_type": "markdown",
   "metadata": {},
   "source": [
    "# Second Ouput"
   ]
  },
  {
   "cell_type": "code",
   "execution_count": 15,
   "metadata": {
    "execution": {
     "iopub.execute_input": "2024-08-14T01:49:24.895248Z",
     "iopub.status.busy": "2024-08-14T01:49:24.895248Z",
     "iopub.status.idle": "2024-08-14T01:49:24.906991Z",
     "shell.execute_reply": "2024-08-14T01:49:24.906991Z"
    }
   },
   "outputs": [],
   "source": [
    "df=pd.read_csv('data.csv',header=1)\n",
    "df=df.drop(columns=['hl'])\n",
    "current_target='cl'"
   ]
  },
  {
   "cell_type": "code",
   "execution_count": 16,
   "metadata": {
    "execution": {
     "iopub.execute_input": "2024-08-14T01:49:24.906991Z",
     "iopub.status.busy": "2024-08-14T01:49:24.906991Z",
     "iopub.status.idle": "2024-08-14T01:49:24.923117Z",
     "shell.execute_reply": "2024-08-14T01:49:24.923117Z"
    }
   },
   "outputs": [],
   "source": [
    "df = df.sort_index()\n",
    "x = df.drop(columns=current_target)\n",
    "y = df[current_target]\n",
    "x_train, x_test, y_train, y_test = train_test_split(x, y, test_size=0.3, random_state=81) #81 cl, 17 hl,\n",
    "set_seed(42)"
   ]
  },
  {
   "cell_type": "code",
   "execution_count": 17,
   "metadata": {},
   "outputs": [],
   "source": [
    "dataset = {}\n",
    "train_input=x_train.to_numpy()\n",
    "train_label=y_train.to_numpy()\n",
    "test_input=x_test.to_numpy()\n",
    "test_label=y_test.to_numpy()"
   ]
  },
  {
   "cell_type": "code",
   "execution_count": 18,
   "metadata": {
    "execution": {
     "iopub.execute_input": "2024-08-14T01:49:24.923117Z",
     "iopub.status.busy": "2024-08-14T01:49:24.923117Z",
     "iopub.status.idle": "2024-08-14T01:49:24.933921Z",
     "shell.execute_reply": "2024-08-14T01:49:24.933921Z"
    }
   },
   "outputs": [],
   "source": [
    "scaler_input = MinMaxScaler()\n",
    "\n",
    "train_input_scaled = scaler_input.fit_transform(train_input)\n",
    "test_input_scaled = scaler_input.transform(test_input)\n",
    "\n",
    "dataset['train_input'] = torch.from_numpy(train_input_scaled).type(dtype)\n",
    "dataset['test_input'] = torch.from_numpy(test_input_scaled).type(dtype)\n",
    "dataset['train_label'] = torch.from_numpy(train_label[:,None]).type(dtype)\n",
    "dataset['test_label'] = torch.from_numpy(test_label[:,None]).type(dtype)"
   ]
  },
  {
   "cell_type": "code",
   "execution_count": 19,
   "metadata": {
    "execution": {
     "iopub.execute_input": "2024-08-14T01:49:24.933921Z",
     "iopub.status.busy": "2024-08-14T01:49:24.933921Z",
     "iopub.status.idle": "2024-08-14T01:49:24.944500Z",
     "shell.execute_reply": "2024-08-14T01:49:24.944500Z"
    }
   },
   "outputs": [],
   "source": [
    "space = {\n",
    "    'learning_rate': hp.loguniform('learning_rate', np.log(1e-5), np.log(1e-1)),\n",
    "    'lambda_l1': hp.loguniform('lambda_l1', np.log(1e-7), np.log(1e-1)),\n",
    "    'lambda_l2': hp.loguniform('lambda_l2', np.log(1e-7), np.log(1e-1)),\n",
    "    'non': hp.quniform('non', 8, 20, 2),\n",
    "    'activation_scale': hp.uniform('activation_scale', 0.1, 10.0)\n",
    "}"
   ]
  },
  {
   "cell_type": "code",
   "execution_count": 20,
   "metadata": {
    "execution": {
     "iopub.execute_input": "2024-08-14T01:49:24.944500Z",
     "iopub.status.busy": "2024-08-14T01:49:24.944500Z",
     "iopub.status.idle": "2024-08-14T01:49:24.970470Z",
     "shell.execute_reply": "2024-08-14T01:49:24.970470Z"
    }
   },
   "outputs": [],
   "source": [
    "param_df = pd.DataFrame(columns=['params', 'loss_curve_train', 'loss_curve_test', 'best_score'])\n",
    "trial_no = 0\n",
    "bestest_score = float('inf')  # Initialize global variable\n",
    "\n",
    "set_seed(42)\n",
    "def objective(params):\n",
    "    set_seed(42)\n",
    "    global trial_no, bestest_score  \n",
    "    trial_no += 1\n",
    "    params['non'] = int(params['non'])\n",
    "    model = Net(\n",
    "        n_feature=8,\n",
    "        n_hidden=params['non'],\n",
    "        n_output=1,\n",
    "        activation_fn=nn.SiLU,\n",
    "        activation_scale=params['activation_scale']\n",
    "    )\n",
    "    \n",
    "    criterion = nn.MSELoss()\n",
    "    optimizer = optim.Adam(model.parameters(), lr=params['learning_rate'], weight_decay=params['lambda_l2'])\n",
    "    num_epochs = 5000\n",
    "    patience = 200\n",
    "    best_loss = float('inf')\n",
    "    epochs_no_improve = 0\n",
    "    param_df['params'].loc[trial_no] = params\n",
    "    training_loss = []\n",
    "    test_loss = []\n",
    "    \n",
    "    for epoch in range(num_epochs):\n",
    "        set_seed(42)\n",
    "        model.train()\n",
    "        optimizer.zero_grad()\n",
    "        predictions = model(dataset['train_input'])\n",
    "        main_loss = criterion(predictions, dataset['train_label'])\n",
    "        l1_loss = sum(p.abs().sum() for p in model.parameters())\n",
    "        loss = main_loss + (params['lambda_l1'] * l1_loss)\n",
    "        loss.backward()\n",
    "        optimizer.step()\n",
    "        training_loss.append(loss.item())\n",
    "        \n",
    "        model.eval()\n",
    "        with torch.no_grad():\n",
    "            val_predictions = model(dataset['test_input'])\n",
    "            temp_score = mse(dataset['test_label'].numpy(), val_predictions.numpy())**0.5  # Move tensors to CPU before numpy\n",
    "        test_loss.append(temp_score)\n",
    "        \n",
    "        if temp_score < best_loss:\n",
    "            best_loss = temp_score\n",
    "            epochs_no_improve = 0\n",
    "            best_model_state = model.state_dict()\n",
    "        else:\n",
    "            epochs_no_improve += 1\n",
    "        \n",
    "        if epochs_no_improve >= patience:\n",
    "            model.load_state_dict(best_model_state)\n",
    "            break\n",
    "        \n",
    "        # Update the bestest score\n",
    "        if temp_score < bestest_score:\n",
    "            bestest_score = temp_score\n",
    "            torch.save({'model_state_dict': best_model_state, 'params': params}, f\"{current_target}_bestest_model.pth\")\n",
    "    \n",
    "    model.eval()\n",
    "    with torch.no_grad():\n",
    "        test_predictions = model(dataset['test_input'])\n",
    "    score = mse(dataset['test_label'].numpy(), test_predictions.numpy())**0.5  # Move tensors to CPU before numpy\n",
    "    param_df.loc[trial_no] = [params, training_loss, test_loss, score]\n",
    "    print(score)\n",
    "    print(params)\n",
    "    return score\n"
   ]
  },
  {
   "cell_type": "code",
   "execution_count": 21,
   "metadata": {
    "execution": {
     "iopub.execute_input": "2024-08-14T01:49:24.970470Z",
     "iopub.status.busy": "2024-08-14T01:49:24.970470Z",
     "iopub.status.idle": "2024-08-14T02:01:56.095246Z",
     "shell.execute_reply": "2024-08-14T02:01:56.095246Z"
    }
   },
   "outputs": [
    {
     "name": "stdout",
     "output_type": "stream",
     "text": [
      "18.61884862201865                                     \n",
      "{'activation_scale': 7.414395262911679, 'lambda_l1': 0.015783420046300036, 'lambda_l2': 0.0011949455215148012, 'learning_rate': 2.4333100176293573e-05, 'non': 14}\n",
      "8.975036557620996                                                              \n",
      "{'activation_scale': 6.601841167724837, 'lambda_l1': 0.0001491690758498553, 'lambda_l2': 0.053080085222641724, 'learning_rate': 4.508021778683769e-05, 'non': 16}\n",
      "25.855283197670037                                                             \n",
      "{'activation_scale': 0.9855354067255789, 'lambda_l1': 8.10180021906938e-05, 'lambda_l2': 4.1510828208515145e-06, 'learning_rate': 1.283687662005133e-05, 'non': 14}\n",
      "23.35460328446704                                                              \n",
      "{'activation_scale': 6.181396559734113, 'lambda_l1': 0.017089319323210197, 'lambda_l2': 0.03004157407151617, 'learning_rate': 1.875085999986835e-05, 'non': 8}\n",
      "25.37553560652986                                                              \n",
      "{'activation_scale': 0.5703822306138426, 'lambda_l1': 0.0006344125150189848, 'lambda_l2': 0.0014498840627713105, 'learning_rate': 2.0641491234343148e-05, 'non': 18}\n",
      "18.37418315765389                                                              \n",
      "{'activation_scale': 4.4252101986578385, 'lambda_l1': 1.4740697342592536e-05, 'lambda_l2': 3.278165718663632e-06, 'learning_rate': 2.806275549898036e-05, 'non': 18}\n",
      "1.647871033255725                                                              \n",
      "{'activation_scale': 3.8350830037361794, 'lambda_l1': 0.0027906271750250114, 'lambda_l2': 2.069017412505957e-05, 'learning_rate': 0.07362566093577515, 'non': 14}\n",
      "24.069495788983296                                                             \n",
      "{'activation_scale': 6.645257407439183, 'lambda_l1': 0.001330107688057811, 'lambda_l2': 5.181744415065606e-07, 'learning_rate': 1.1021226236540256e-05, 'non': 14}\n",
      "25.35042584732307                                                              \n",
      "{'activation_scale': 1.6430978669722296, 'lambda_l1': 0.013808595899152069, 'lambda_l2': 0.00017623795585000276, 'learning_rate': 1.736583170775998e-05, 'non': 10}\n",
      "3.076332145163277                                                              \n",
      "{'activation_scale': 4.1017649779561305, 'lambda_l1': 0.0003418378720942665, 'lambda_l2': 1.8089676127570733e-07, 'learning_rate': 0.0004863320021010914, 'non': 16}\n",
      "2.3259868351906015                                                              \n",
      "{'activation_scale': 8.541520140306977, 'lambda_l1': 0.026594197177934393, 'lambda_l2': 0.00204813575646317, 'learning_rate': 0.03232728597873726, 'non': 14}\n",
      "24.806042941359152                                                              \n",
      "{'activation_scale': 0.9296250482125898, 'lambda_l1': 0.03889234261204062, 'lambda_l2': 1.651982469886161e-07, 'learning_rate': 2.2581688127611793e-05, 'non': 18}\n",
      "1.8028762177864228                                                              \n",
      "{'activation_scale': 6.9740817560781885, 'lambda_l1': 9.95246955169087e-06, 'lambda_l2': 1.8779672358550015e-05, 'learning_rate': 0.013613431496450277, 'non': 16}\n",
      "24.90828607568105                                                               \n",
      "{'activation_scale': 0.4691218626672021, 'lambda_l1': 0.030778503301131042, 'lambda_l2': 6.515854678424941e-07, 'learning_rate': 3.6579894112812356e-05, 'non': 16}\n",
      "2.7546892165949632                                                              \n",
      "{'activation_scale': 0.9293660363627517, 'lambda_l1': 0.00018567929865064383, 'lambda_l2': 0.000953897555782005, 'learning_rate': 0.001818593183222648, 'non': 18}\n",
      "3.382363137219777                                                               \n",
      "{'activation_scale': 6.60181033376064, 'lambda_l1': 7.716094619656518e-06, 'lambda_l2': 0.0023146510129368244, 'learning_rate': 0.00018038578620997042, 'non': 12}\n",
      "6.608182544178274                                                               \n",
      "{'activation_scale': 1.807271458829085, 'lambda_l1': 7.563066919248832e-07, 'lambda_l2': 0.0019336358592401547, 'learning_rate': 0.00011735320274588876, 'non': 16}\n",
      "2.214638968799294                                                               \n",
      "{'activation_scale': 9.631649710867034, 'lambda_l1': 1.4367630048709784e-07, 'lambda_l2': 1.9929378167029136e-06, 'learning_rate': 0.003624812159708602, 'non': 14}\n",
      "1.915545592039175                                                               \n",
      "{'activation_scale': 5.639952191753844, 'lambda_l1': 0.0047695608269483665, 'lambda_l2': 8.63350057718763e-06, 'learning_rate': 0.01134397299033975, 'non': 20}\n",
      "5.936248025435198                                                               \n",
      "{'activation_scale': 0.9905880690320433, 'lambda_l1': 3.689620123427267e-05, 'lambda_l2': 5.2423500089196e-05, 'learning_rate': 0.00015939061008194165, 'non': 18}\n",
      "1.6066149596763624                                                              \n",
      "{'activation_scale': 3.233068324222174, 'lambda_l1': 2.4741924774075373e-06, 'lambda_l2': 2.5807730869287646e-05, 'learning_rate': 0.052281162762844634, 'non': 12}\n",
      "1.6078683742635442                                                               \n",
      "{'activation_scale': 3.139261032851725, 'lambda_l1': 1.7114626719917382e-06, 'lambda_l2': 0.00015106920874927837, 'learning_rate': 0.05384135080453123, 'non': 12}\n",
      "1.6295086611210354                                                               \n",
      "{'activation_scale': 2.8791640881973395, 'lambda_l1': 1.8789557689174074e-06, 'lambda_l2': 0.00012346246925519524, 'learning_rate': 0.08401278915269592, 'non': 10}\n",
      "1.6139717610636262                                                               \n",
      "{'activation_scale': 2.7668382954382555, 'lambda_l1': 4.147351381334279e-07, 'lambda_l2': 0.0003459081043052689, 'learning_rate': 0.03099782309589608, 'non': 12}\n",
      "2.402003961953698                                                                \n",
      "{'activation_scale': 2.883258781952089, 'lambda_l1': 1.1104391961597084e-07, 'lambda_l2': 4.2995995352517155e-05, 'learning_rate': 0.004323119445343186, 'non': 12}\n",
      "1.6569794683203207                                                               \n",
      "{'activation_scale': 5.014040788122754, 'lambda_l1': 3.2426491342868916e-06, 'lambda_l2': 0.009754575386352321, 'learning_rate': 0.03946918906117467, 'non': 10}\n",
      "1.8455363717056485                                                               \n",
      "{'activation_scale': 2.0288679725307066, 'lambda_l1': 3.669726162250838e-07, 'lambda_l2': 0.0003850158827766406, 'learning_rate': 0.011724804467616342, 'non': 12}\n",
      "2.2958823958219208                                                               \n",
      "{'activation_scale': 3.3731822480607403, 'lambda_l1': 2.5447277836457598e-06, 'lambda_l2': 0.005664698751448866, 'learning_rate': 0.09600338023665858, 'non': 8}\n",
      "2.005297562673562                                                                \n",
      "{'activation_scale': 4.8933037305890545, 'lambda_l1': 2.7952638228137253e-05, 'lambda_l2': 0.0004684865448235741, 'learning_rate': 0.005961831462034111, 'non': 10}\n",
      "2.9937067420600405                                                               \n",
      "{'activation_scale': 3.5900967258479777, 'lambda_l1': 1.2281855992274177e-06, 'lambda_l2': 6.113132916914826e-05, 'learning_rate': 0.0009717410472371857, 'non': 12}\n",
      "1.8735030584731311                                                               \n",
      "{'activation_scale': 5.687900552000519, 'lambda_l1': 5.429498036830191e-06, 'lambda_l2': 1.3267946891405247e-05, 'learning_rate': 0.02091593085461078, 'non': 8}\n",
      "1.7966736298569157                                                               \n",
      "{'activation_scale': 2.2423022820857845, 'lambda_l1': 2.633946664004635e-07, 'lambda_l2': 7.945524193115541e-07, 'learning_rate': 0.04703842440538781, 'non': 10}\n",
      "2.71029256382038                                                                 \n",
      "{'activation_scale': 7.85342854187826, 'lambda_l1': 4.813921255443488e-05, 'lambda_l2': 6.006227513688768e-06, 'learning_rate': 0.0022587489846579278, 'non': 12}\n",
      "3.1949989159226195                                                               \n",
      "{'activation_scale': 0.14616897929523232, 'lambda_l1': 1.8282813429158583e-05, 'lambda_l2': 0.04196575827999185, 'learning_rate': 0.006810257772638995, 'non': 10}\n",
      "3.0707809428440003                                                               \n",
      "{'activation_scale': 5.656761434292003, 'lambda_l1': 7.844728182426613e-05, 'lambda_l2': 2.4273159035438085e-06, 'learning_rate': 0.00046342586567231763, 'non': 12}\n",
      "2.1548006845792878                                                               \n",
      "{'activation_scale': 4.51561025732271, 'lambda_l1': 7.055642516306358e-07, 'lambda_l2': 0.009774284654188876, 'learning_rate': 0.054295700623033696, 'non': 14}\n",
      "2.010827699001364                                                                \n",
      "{'activation_scale': 3.3579934587580147, 'lambda_l1': 5.325886755978375e-06, 'lambda_l2': 0.00021451804095310546, 'learning_rate': 0.019422863762213652, 'non': 8}\n",
      "1.6258047693054607                                                               \n",
      "{'activation_scale': 2.4103187210597166, 'lambda_l1': 1.4667501037413243e-07, 'lambda_l2': 3.451330645758351e-05, 'learning_rate': 0.09515247161719262, 'non': 14}\n",
      "18.10684005836611                                                                \n",
      "{'activation_scale': 1.5182209977761798, 'lambda_l1': 0.00015547415625064844, 'lambda_l2': 0.000787423265721512, 'learning_rate': 8.231818578977715e-05, 'non': 8}\n",
      "3.021028730367808                                                                \n",
      "{'activation_scale': 4.392022734571396, 'lambda_l1': 8.805915865662634e-07, 'lambda_l2': 1.224834734296055e-06, 'learning_rate': 0.0008117991921434692, 'non': 10}\n",
      "1.7964885101350103                                                               \n",
      "{'activation_scale': 1.4188373638618053, 'lambda_l1': 1.5922637854756075e-05, 'lambda_l2': 0.00010657361831559164, 'learning_rate': 0.021929107963463753, 'non': 12}\n",
      "2.681756451956227                                                                \n",
      "{'activation_scale': 3.8891975986905223, 'lambda_l1': 0.000596591670939794, 'lambda_l2': 3.763373739816733e-07, 'learning_rate': 0.0026527298980097876, 'non': 14}\n",
      "2.4218560592153                                                                  \n",
      "{'activation_scale': 6.0172061463860524, 'lambda_l1': 1.6809766115378412e-06, 'lambda_l2': 0.07482346670929661, 'learning_rate': 0.007620341177516225, 'non': 16}\n",
      "1.636516910360381                                                                \n",
      "{'activation_scale': 2.631956904229164, 'lambda_l1': 3.64137462598165e-06, 'lambda_l2': 2.627717377281217e-05, 'learning_rate': 0.06105595700887983, 'non': 14}\n",
      "3.0793558671740935                                                               \n",
      "{'activation_scale': 7.61266950534686, 'lambda_l1': 6.896852715330393e-05, 'lambda_l2': 1.030296210119628e-05, 'learning_rate': 0.0006386818760514129, 'non': 10}\n",
      "2.9581304627046303                                                               \n",
      "{'activation_scale': 3.1839942483965227, 'lambda_l1': 0.07485698578823115, 'lambda_l2': 4.875699423281548e-06, 'learning_rate': 0.0013820022075377064, 'non': 12}\n",
      "2.5374139662391193                                                               \n",
      "{'activation_scale': 0.1342837142414508, 'lambda_l1': 2.364033254145399e-07, 'lambda_l2': 0.004821820806372634, 'learning_rate': 0.03035212315610379, 'non': 16}\n",
      "3.2809894028438547                                                               \n",
      "{'activation_scale': 8.556566624387633, 'lambda_l1': 0.0026422699932260214, 'lambda_l2': 0.00019562512374400517, 'learning_rate': 0.00030795277342349626, 'non': 8}\n",
      "7.683777636582502                                                                \n",
      "{'activation_scale': 4.331826993127761, 'lambda_l1': 1.1884162802234117e-05, 'lambda_l2': 7.87225907833878e-05, 'learning_rate': 6.132847430220933e-05, 'non': 20}\n",
      "1.8670681378337959                                                               \n",
      "{'activation_scale': 9.960325703611835, 'lambda_l1': 4.664451852574264e-07, 'lambda_l2': 1.7029560485877154e-05, 'learning_rate': 0.009013991260634227, 'non': 16}\n",
      "100%|██████████| 50/50 [18:23<00:00, 22.07s/trial, best loss: 1.6066149596763624]\n",
      "Best hyperparameters: {'activation_scale': 3.233068324222174, 'lambda_l1': 2.4741924774075373e-06, 'lambda_l2': 2.5807730869287646e-05, 'learning_rate': 0.052281162762844634, 'non': 12.0}\n"
     ]
    }
   ],
   "source": [
    "trials = Trials()\n",
    "best_params = fmin(fn=objective,\n",
    "                   space=space,\n",
    "                   algo=tpe.suggest,\n",
    "                   max_evals=50,\n",
    "                   trials=trials)\n",
    "print(\"Best hyperparameters:\", best_params)"
   ]
  },
  {
   "cell_type": "code",
   "execution_count": 22,
   "metadata": {
    "execution": {
     "iopub.execute_input": "2024-08-14T02:01:56.095246Z",
     "iopub.status.busy": "2024-08-14T02:01:56.095246Z",
     "iopub.status.idle": "2024-08-14T02:01:56.513915Z",
     "shell.execute_reply": "2024-08-14T02:01:56.513915Z"
    }
   },
   "outputs": [],
   "source": [
    "param_df.to_csv(f'param_df{current_target}.csv')"
   ]
  },
  {
   "cell_type": "code",
   "execution_count": 23,
   "metadata": {},
   "outputs": [
    {
     "name": "stderr",
     "output_type": "stream",
     "text": [
      "C:\\Users\\Administrator\\AppData\\Local\\Temp\\2\\ipykernel_3300\\90643497.py:1: FutureWarning: You are using `torch.load` with `weights_only=False` (the current default value), which uses the default pickle module implicitly. It is possible to construct malicious pickle data which will execute arbitrary code during unpickling (See https://github.com/pytorch/pytorch/blob/main/SECURITY.md#untrusted-models for more details). In a future release, the default value for `weights_only` will be flipped to `True`. This limits the functions that could be executed during unpickling. Arbitrary objects will no longer be allowed to be loaded via this mode unless they are explicitly allowlisted by the user via `torch.serialization.add_safe_globals`. We recommend you start setting `weights_only=True` for any use case where you don't have full control of the loaded file. Please open an issue on GitHub for any issues related to this experimental feature.\n",
      "  checkpoint = torch.load(f\"{current_target}_bestest_model.pth\")\n"
     ]
    },
    {
     "data": {
      "text/plain": [
       "<All keys matched successfully>"
      ]
     },
     "execution_count": 23,
     "metadata": {},
     "output_type": "execute_result"
    }
   ],
   "source": [
    "checkpoint = torch.load(f\"{current_target}_bestest_model.pth\")\n",
    "params1 = checkpoint['params']\n",
    "model = Net(\n",
    "    n_feature=8,\n",
    "    n_hidden=params1['non'],\n",
    "    n_output=1,\n",
    "    activation_fn=nn.SiLU,\n",
    "    activation_scale=params1['activation_scale']\n",
    ")\n",
    "model.load_state_dict(checkpoint['model_state_dict'])"
   ]
  },
  {
   "cell_type": "code",
   "execution_count": 24,
   "metadata": {
    "execution": {
     "iopub.execute_input": "2024-08-14T02:02:16.565630Z",
     "iopub.status.busy": "2024-08-14T02:02:16.565630Z",
     "iopub.status.idle": "2024-08-14T02:02:16.577098Z",
     "shell.execute_reply": "2024-08-14T02:02:16.577098Z"
    }
   },
   "outputs": [
    {
     "data": {
      "text/plain": [
       "1.6045668992420226"
      ]
     },
     "execution_count": 24,
     "metadata": {},
     "output_type": "execute_result"
    }
   ],
   "source": [
    "model.eval()\n",
    "with torch.no_grad():\n",
    "    test_predictions = model(dataset['test_input'])\n",
    "mse(dataset['test_label'].numpy(), test_predictions.numpy())**0.5"
   ]
  },
  {
   "cell_type": "code",
   "execution_count": 25,
   "metadata": {
    "execution": {
     "iopub.execute_input": "2024-08-14T02:02:16.577098Z",
     "iopub.status.busy": "2024-08-14T02:02:16.577098Z",
     "iopub.status.idle": "2024-08-14T02:02:16.586914Z",
     "shell.execute_reply": "2024-08-14T02:02:16.586914Z"
    }
   },
   "outputs": [
    {
     "data": {
      "text/plain": [
       "0.9723779285072285"
      ]
     },
     "execution_count": 25,
     "metadata": {},
     "output_type": "execute_result"
    }
   ],
   "source": [
    "r2_score(dataset['test_label'].numpy(), test_predictions.numpy())"
   ]
  }
 ],
 "metadata": {
  "kernelspec": {
   "display_name": "Python 3",
   "language": "python",
   "name": "python3"
  },
  "language_info": {
   "codemirror_mode": {
    "name": "ipython",
    "version": 3
   },
   "file_extension": ".py",
   "mimetype": "text/x-python",
   "name": "python",
   "nbconvert_exporter": "python",
   "pygments_lexer": "ipython3",
   "version": "3.12.6"
  }
 },
 "nbformat": 4,
 "nbformat_minor": 2
}
