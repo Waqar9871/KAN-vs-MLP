{
 "cells": [
  {
   "cell_type": "code",
   "execution_count": 1,
   "metadata": {
    "execution": {
     "iopub.execute_input": "2024-08-13T22:29:47.902984Z",
     "iopub.status.busy": "2024-08-13T22:29:47.902984Z",
     "iopub.status.idle": "2024-08-13T22:29:51.010271Z",
     "shell.execute_reply": "2024-08-13T22:29:51.010271Z"
    }
   },
   "outputs": [],
   "source": [
    "import pandas as pd\n",
    "import torch\n",
    "from sklearn.model_selection import train_test_split\n",
    "import numpy as np\n",
    "from sklearn.metrics import mean_squared_error as mse, r2_score\n",
    "from hyperopt import fmin, tpe, hp, Trials, STATUS_OK\n",
    "from sklearn.preprocessing import MinMaxScaler\n",
    "from kan_p import *\n",
    "import torch.nn as nn\n",
    "import random\n",
    "import torch.optim as optim\n",
    "\n",
    "torch.set_default_dtype(torch.float64)\n",
    "dtype = torch.get_default_dtype()"
   ]
  },
  {
   "cell_type": "code",
   "execution_count": 2,
   "metadata": {
    "execution": {
     "iopub.execute_input": "2024-08-13T22:29:51.010271Z",
     "iopub.status.busy": "2024-08-13T22:29:51.010271Z",
     "iopub.status.idle": "2024-08-13T22:29:51.039268Z",
     "shell.execute_reply": "2024-08-13T22:29:51.039268Z"
    }
   },
   "outputs": [],
   "source": [
    "df=pd.read_csv('data.csv',header=1)\n",
    "df=df.drop(columns=['cl'])\n",
    "current_target='hl'"
   ]
  },
  {
   "cell_type": "code",
   "execution_count": 3,
   "metadata": {
    "execution": {
     "iopub.execute_input": "2024-08-13T22:29:51.039268Z",
     "iopub.status.busy": "2024-08-13T22:29:51.039268Z",
     "iopub.status.idle": "2024-08-13T22:29:51.056153Z",
     "shell.execute_reply": "2024-08-13T22:29:51.056153Z"
    }
   },
   "outputs": [],
   "source": [
    "df = df.sort_index()\n",
    "x = df.drop(columns=current_target)\n",
    "y = df[current_target]\n",
    "x_train, x_test, y_train, y_test = train_test_split(x, y, test_size=0.3, random_state=17) #81 cl, 17 hl,"
   ]
  },
  {
   "cell_type": "markdown",
   "metadata": {},
   "source": [
    "for n in range(100):\n",
    "    df = df.sort_index()\n",
    "    x = df.drop(columns=current_target)\n",
    "    y = df[current_target]\n",
    "    x_train, x_test, y_train, y_test = train_test_split(x, y, test_size=0.3, random_state=n)\n",
    "    model=CatBoostRegressor(verbose=False)\n",
    "    model.fit(x_train,y_train)\n",
    "    print(f\"{n},{mse(model.predict(x_test),y_test)}\")\n",
    "\n",
    "1. cl\n",
    "0,0.6726237937055908\n",
    "1,0.6551111204528186\n",
    "2,0.5134167792554208\n",
    "3,0.6702404964559748\n",
    "4,0.3963925748445111\n",
    "5,0.4244785272343683\n",
    "6,0.7128779993606781\n",
    "7,0.42448164546650735\n",
    "8,0.5758215699724097\n",
    "9,0.6929274000992075\n",
    "10,0.5241317759101504\n",
    "11,0.5502553447749845\n",
    "12,0.6750870949568888\n",
    "13,0.5918744283393744\n",
    "14,0.3688059156312062\n",
    "15,0.33924429643333115\n",
    "16,0.4933456427221908\n",
    "17,0.6611190753724675\n",
    "18,0.8776379907503337\n",
    "19,0.6418714641400631\n",
    "20,0.47863783450134006\n",
    "21,0.5110820995530742\n",
    "22,0.7599056382572423\n",
    "23,0.6616884552833008\n",
    "24,0.7018338094536908\n",
    "25,0.6651892620050522\n",
    "26,0.542460723048853\n",
    "27,0.43925698458261875\n",
    "28,0.5528020179778033\n",
    "29,0.4881128026914078\n",
    "30,0.5641605587796904\n",
    "31,0.43074406870363807\n",
    "32,0.9513384725135475\n",
    "33,0.6547016720207187\n",
    "34,0.4385436533488978\n",
    "35,0.5133608813629675\n",
    "36,0.5973251884924098\n",
    "37,0.7137358054712505\n",
    "38,0.4472159919128551\n",
    "39,0.5293948727579767\n",
    "40,0.6419645799724142\n",
    "41,0.49753682548396344\n",
    "42,0.48946337510663984\n",
    "43,0.39542504771074677\n",
    "44,0.4229125982091833\n",
    "45,0.5630333736986324\n",
    "46,0.6826538057166728\n",
    "47,0.7045957241567439\n",
    "48,0.9589865159769584\n",
    "49,0.970304926742422\n",
    "50,0.5114439360470149\n",
    "51,0.4564611558849673\n",
    "52,0.41539648054739475\n",
    "53,0.5736707791681147\n",
    "54,0.5602177165490395\n",
    "55,0.5015575788586971\n",
    "56,0.77891950685694\n",
    "57,0.6307812807713166\n",
    "58,0.5642348164581901\n",
    "59,0.45400243254004513\n",
    "60,0.7959933976879333\n",
    "61,0.8882558932204597\n",
    "62,0.6801553869713919\n",
    "63,0.4878988395146996\n",
    "64,0.8252484918439765\n",
    "65,0.5146937422621961\n",
    "66,0.5177163488361217\n",
    "67,0.4885181426357839\n",
    "68,0.5922663079631817\n",
    "69,0.5564526449733648\n",
    "70,0.4632930218203085\n",
    "71,0.6754912162581836\n",
    "72,0.6212396948191566\n",
    "73,0.4971932378757647\n",
    "74,0.45047835422321364\n",
    "75,0.6427462558119769\n",
    "76,0.4554135719629285\n",
    "77,0.4606326995622914\n",
    "78,1.1826245842058944\n",
    "79,0.6157536348277911\n",
    "80,0.8336385973478375\n",
    "81,0.33578481362592855\n",
    "82,0.4720676693788693\n",
    "83,0.5343760903099496\n",
    "84,0.5936119068763387\n",
    "85,0.585729010388912\n",
    "86,0.718412495687104\n",
    "87,0.5506948215987275\n",
    "88,0.45996103660804405\n",
    "89,0.4582340678778356\n",
    "90,0.4476517549558945\n",
    "91,0.7348561801653456\n",
    "92,0.4526448523430189\n",
    "93,1.0544624252486114\n",
    "94,0.5089084491829143\n",
    "95,0.4653337146771206\n",
    "96,0.5308033776319937\n",
    "97,0.6142448731395392\n",
    "98,0.4479745720313298\n",
    "99,0.5441578648255044\n",
    "\n",
    "2. hl\n",
    "0,0.1489341506839013\n",
    "1,0.11505072218481588\n",
    "2,0.1210512197198303\n",
    "3,0.11999413749902414\n",
    "4,0.10305787369378579\n",
    "5,0.10397017898197007\n",
    "6,0.14998818435446742\n",
    "7,0.1333043024447535\n",
    "8,0.11130477843175925\n",
    "9,0.1425725829343789\n",
    "10,0.14855983649539045\n",
    "11,0.15300385725945378\n",
    "12,0.10367149248066052\n",
    "13,0.12381504539201228\n",
    "14,0.10389730166324894\n",
    "15,0.10872396797076571\n",
    "16,0.20766519850225745\n",
    "17,0.07058818947529498\n",
    "18,0.700049445374208\n",
    "19,0.10056803372886693\n",
    "20,0.10028635130254954\n",
    "21,0.09913464572187124\n",
    "22,0.13918253531038705\n",
    "23,0.152417334877583\n",
    "24,0.10746914336867258\n",
    "25,0.14073873695210948\n",
    "26,0.10437584352647893\n",
    "27,0.1382380748781409\n",
    "28,0.11224680357474569\n",
    "29,0.10615251377508314\n",
    "30,0.13518751840365692\n",
    "31,0.11391676156575323\n",
    "32,0.24052476501195155\n",
    "33,0.10836811987254881\n",
    "34,0.1532889724809035\n",
    "35,0.12166964393842336\n",
    "36,0.10683800910364755\n",
    "37,0.15455576338139226\n",
    "38,0.09326644445549408\n",
    "39,0.1289245473198724\n",
    "40,0.3727714612021985\n",
    "41,0.10840153040532234\n",
    "42,0.12612311593925896\n",
    "43,0.08912433585144204\n",
    "44,0.0837212388516493\n",
    "45,0.10978125138486883\n",
    "46,0.11353192341767072\n",
    "47,0.13575952826393678\n",
    "48,0.1933672768331914\n",
    "49,0.12194051706670986\n",
    "50,0.08926803138703238\n",
    "51,0.11989231674540715\n",
    "52,0.1317998367607502\n",
    "53,0.09301372055244184\n",
    "54,0.13915986087774063\n",
    "55,0.09812140696497591\n",
    "56,0.14747867249615648\n",
    "57,0.11377591769998492\n",
    "58,0.20129228730462154\n",
    "59,0.13284501579857613\n",
    "60,0.15462962086018214\n",
    "61,0.44318173792138554\n",
    "62,0.1711135817126508\n",
    "63,0.13622964318496805\n",
    "64,0.1086866976142961\n",
    "65,0.12191195610483656\n",
    "66,0.2147835735484987\n",
    "67,0.1589878393160268\n",
    "68,0.11124986988619477\n",
    "69,0.15522080911252464\n",
    "70,0.09086398813959162\n",
    "71,0.16564674659194586\n",
    "72,0.11909266479980044\n",
    "73,0.16158603320985046\n",
    "74,0.10064173236314371\n",
    "75,0.1490685334283945\n",
    "76,0.09117910394017567\n",
    "77,0.12041289104554949\n",
    "78,0.14479143639649322\n",
    "79,0.09429977426759172\n",
    "80,0.11475943590250344\n",
    "81,0.10803025387581155\n",
    "82,0.10269337962569641\n",
    "83,0.10549190601957907\n",
    "84,0.1013728504560079\n",
    "85,0.27292722663709174\n",
    "86,0.14005984730373597\n",
    "87,0.10788515483840452\n",
    "88,0.1364334823829534\n",
    "89,0.13401319197948594\n",
    "90,0.10530441005104788\n",
    "91,0.11881955494122014\n",
    "92,0.14637669793202007\n",
    "93,0.11208376876773744\n",
    "94,0.0900481568889163\n",
    "95,0.12357887088645979\n",
    "96,0.10210315969061771\n",
    "97,0.284649197516948\n",
    "98,0.13353946279465723\n",
    "99,0.10209304121912875"
   ]
  },
  {
   "cell_type": "code",
   "execution_count": 4,
   "metadata": {
    "execution": {
     "iopub.execute_input": "2024-08-13T22:29:51.056153Z",
     "iopub.status.busy": "2024-08-13T22:29:51.056153Z",
     "iopub.status.idle": "2024-08-13T22:29:51.072363Z",
     "shell.execute_reply": "2024-08-13T22:29:51.072363Z"
    }
   },
   "outputs": [],
   "source": [
    "def set_seed(seed=42):\n",
    "    np.random.seed(seed)\n",
    "    random.seed(seed)\n",
    "    torch.manual_seed(seed)\n",
    "\n",
    "set_seed(42)"
   ]
  },
  {
   "cell_type": "code",
   "execution_count": 5,
   "metadata": {
    "execution": {
     "iopub.execute_input": "2024-08-13T22:29:51.072363Z",
     "iopub.status.busy": "2024-08-13T22:29:51.072363Z",
     "iopub.status.idle": "2024-08-13T22:29:51.083598Z",
     "shell.execute_reply": "2024-08-13T22:29:51.083598Z"
    }
   },
   "outputs": [],
   "source": [
    "dataset = {}\n",
    "train_input=x_train.to_numpy()\n",
    "train_label=y_train.to_numpy()\n",
    "test_input=x_test.to_numpy()\n",
    "test_label=y_test.to_numpy()"
   ]
  },
  {
   "cell_type": "code",
   "execution_count": 6,
   "metadata": {
    "execution": {
     "iopub.execute_input": "2024-08-13T22:29:51.083598Z",
     "iopub.status.busy": "2024-08-13T22:29:51.083598Z",
     "iopub.status.idle": "2024-08-13T22:29:51.098049Z",
     "shell.execute_reply": "2024-08-13T22:29:51.098049Z"
    }
   },
   "outputs": [],
   "source": [
    "scaler_input = MinMaxScaler()\n",
    "\n",
    "train_input_scaled = scaler_input.fit_transform(train_input)\n",
    "test_input_scaled = scaler_input.transform(test_input)\n",
    "\n",
    "dataset['train_input'] = torch.from_numpy(train_input_scaled).type(dtype)\n",
    "dataset['test_input'] = torch.from_numpy(test_input_scaled).type(dtype)\n",
    "dataset['train_label'] = torch.from_numpy(train_label[:,None]).type(dtype)\n",
    "dataset['test_label'] = torch.from_numpy(test_label[:,None]).type(dtype)"
   ]
  },
  {
   "cell_type": "code",
   "execution_count": 7,
   "metadata": {
    "execution": {
     "iopub.execute_input": "2024-08-13T22:29:51.098049Z",
     "iopub.status.busy": "2024-08-13T22:29:51.098049Z",
     "iopub.status.idle": "2024-08-13T22:29:51.112722Z",
     "shell.execute_reply": "2024-08-13T22:29:51.112722Z"
    }
   },
   "outputs": [],
   "source": [
    "space = {\n",
    "    'grid_size': hp.quniform('grid_size', 1, 15, 1),\n",
    "    'spline_order': hp.quniform('spline_order', 1, 10, 1),\n",
    "    'scale_noise': hp.loguniform('scale_noise', np.log(1e-5), np.log(1e-1)),\n",
    "    'scale_base': hp.loguniform('scale_base', np.log(1e-5), np.log(1e1)),\n",
    "    'scale_spline': hp.loguniform('scale_spline', np.log(1e-5), np.log(1e1)),\n",
    "    'learning_rate': hp.loguniform('learning_rate', np.log(1e-5), np.log(1e-1)),\n",
    "    'lambda_l1': hp.loguniform('lambda_l1', np.log(1e-7), np.log(1e-1)),\n",
    "    'lambda_l2': hp.loguniform('lambda_l2', np.log(1e-7), np.log(1e-1)),\n",
    "    'grid_eps': hp.loguniform('grid_eps', np.log(1e-7), np.log(1e-1)),\n",
    "    'non': hp.quniform('non', 8, 20, 2),\n",
    "    'activation_scale': hp.uniform('activation_scale', 0.1, 10.0)  # Uniform distribution for activation_scale\n",
    "}"
   ]
  },
  {
   "cell_type": "code",
   "execution_count": 8,
   "metadata": {
    "execution": {
     "iopub.execute_input": "2024-08-13T22:29:51.112722Z",
     "iopub.status.busy": "2024-08-13T22:29:51.112722Z",
     "iopub.status.idle": "2024-08-13T22:29:51.136660Z",
     "shell.execute_reply": "2024-08-13T22:29:51.136660Z"
    }
   },
   "outputs": [],
   "source": [
    "param_df = pd.DataFrame(columns=['params', 'loss_curve_train', 'loss_curve_test', 'best_score'])\n",
    "trial_no = 0\n",
    "bestest_score = float('inf')  # Initialize global variable\n",
    "def objective(params):\n",
    "    global trial_no, bestest_score  # Declare global variables\n",
    "    trial_no += 1\n",
    "    params['grid_size'] = int(params['grid_size'])\n",
    "    params['spline_order'] = int(params['spline_order'])\n",
    "    params['non'] = int(params['non'])\n",
    "    model = KAN(\n",
    "        layers_hidden=[8, params['non'], 1],\n",
    "        grid_size=params['grid_size'],\n",
    "        spline_order=params['spline_order'],\n",
    "        scale_noise=params['scale_noise'],\n",
    "        scale_base=params['scale_base'],\n",
    "        scale_spline=params['scale_spline'],\n",
    "        base_activation=nn.SiLU,\n",
    "        grid_eps=params['grid_eps'],\n",
    "        grid_range=[0, 1],\n",
    "        activation_scale=params['activation_scale']\n",
    "    )\n",
    "    \n",
    "    criterion = nn.MSELoss()\n",
    "    optimizer = optim.Adam(model.parameters(), lr=params['learning_rate'], weight_decay=params['lambda_l2'])\n",
    "    num_epochs = 5000\n",
    "    patience = 200\n",
    "    best_loss = float('inf')\n",
    "    epochs_no_improve = 0\n",
    "    param_df['params'].loc[trial_no] = params\n",
    "    training_loss = []\n",
    "    test_loss = []\n",
    "    \n",
    "    for epoch in range(num_epochs):\n",
    "        set_seed(42)\n",
    "        model.train()\n",
    "        optimizer.zero_grad()\n",
    "        predictions = model(dataset['train_input'])\n",
    "        main_loss = criterion(predictions, dataset['train_label'])\n",
    "        l1_loss = sum(p.abs().sum() for p in model.parameters())\n",
    "        loss = main_loss + (params['lambda_l1'] * l1_loss)\n",
    "        loss.backward()\n",
    "        optimizer.step()\n",
    "        training_loss.append(loss.item())\n",
    "        \n",
    "        model.eval()\n",
    "        with torch.no_grad():\n",
    "            val_predictions = model(dataset['test_input'])\n",
    "            temp_score = mse(dataset['test_label'].cpu().numpy(), val_predictions.cpu().numpy())**0.5  # Move tensors to CPU before numpy\n",
    "        test_loss.append(temp_score)\n",
    "        \n",
    "        if temp_score < best_loss:\n",
    "            best_loss = temp_score\n",
    "            epochs_no_improve = 0\n",
    "            best_model_state = model.state_dict()\n",
    "        else:\n",
    "            epochs_no_improve += 1\n",
    "        \n",
    "        if epochs_no_improve >= patience:\n",
    "            model.load_state_dict(best_model_state)\n",
    "            break\n",
    "        \n",
    "        # Update the bestest score\n",
    "        if temp_score < bestest_score:\n",
    "            bestest_score = temp_score\n",
    "            torch.save({'model_state_dict': best_model_state, 'params': params}, f\"{current_target}_bestest_model.pth\")\n",
    "           \n",
    "    model.eval()\n",
    "    with torch.no_grad():\n",
    "        test_predictions = model(dataset['test_input'])\n",
    "    score = mse(dataset['test_label'].numpy(), test_predictions.numpy())**0.5  # Move tensors to CPU before numpy\n",
    "    param_df.loc[trial_no] = [params, training_loss, test_loss, score]\n",
    "    print(score)\n",
    "    print(params)\n",
    "    return score\n"
   ]
  },
  {
   "cell_type": "code",
   "execution_count": 9,
   "metadata": {
    "execution": {
     "iopub.execute_input": "2024-08-13T22:29:51.136660Z",
     "iopub.status.busy": "2024-08-13T22:29:51.136660Z",
     "iopub.status.idle": "2024-08-13T23:57:43.032114Z",
     "shell.execute_reply": "2024-08-13T23:57:43.032114Z"
    }
   },
   "outputs": [
    {
     "name": "stdout",
     "output_type": "stream",
     "text": [
      "0.37848355088368396                                   \n",
      "{'activation_scale': 4.062458538869082, 'grid_eps': 2.816045959758851e-07, 'grid_size': 11, 'lambda_l1': 1.3701481798089246e-07, 'lambda_l2': 3.5238064981466175e-05, 'learning_rate': 0.009369759872207353, 'non': 10, 'scale_base': 1.0470324224473566, 'scale_noise': 0.004683807620809726, 'scale_spline': 0.022301525445987527, 'spline_order': 8}\n",
      "0.5366616911682507                                                                 \n",
      "{'activation_scale': 6.918820322306719, 'grid_eps': 0.029490887629703467, 'grid_size': 10, 'lambda_l1': 0.062206330074864626, 'lambda_l2': 2.7565164113487473e-07, 'learning_rate': 0.0060875303580377816, 'non': 10, 'scale_base': 2.1578268988390856e-05, 'scale_noise': 2.8363383204460493e-05, 'scale_spline': 1.2019016156134894e-05, 'spline_order': 3}\n",
      "0.41047369496023023                                                                \n",
      "{'activation_scale': 5.229383062135008, 'grid_eps': 0.07087884576358479, 'grid_size': 2, 'lambda_l1': 6.463600809666481e-05, 'lambda_l2': 1.1152429402585029e-07, 'learning_rate': 0.002168410220048772, 'non': 18, 'scale_base': 1.3358852207584884, 'scale_noise': 0.0001647295157112072, 'scale_spline': 0.0558089981184876, 'spline_order': 9}\n",
      "2.771384914068652                                                                \n",
      "{'activation_scale': 8.024946896026158, 'grid_eps': 7.956431605671865e-06, 'grid_size': 3, 'lambda_l1': 6.369067927606727e-06, 'lambda_l2': 1.227688185630647e-07, 'learning_rate': 4.1712529942422556e-05, 'non': 16, 'scale_base': 0.1217875481602327, 'scale_noise': 3.0239778964886412e-05, 'scale_spline': 0.029775082885882178, 'spline_order': 7}\n",
      "0.7004132385107609                                                                  \n",
      "{'activation_scale': 8.45135787642259, 'grid_eps': 9.051255618651244e-05, 'grid_size': 13, 'lambda_l1': 6.94301045170221e-05, 'lambda_l2': 0.016771177257525027, 'learning_rate': 0.0003143774516419858, 'non': 14, 'scale_base': 0.12229345191495715, 'scale_noise': 0.015918621577532453, 'scale_spline': 0.03108859383571978, 'spline_order': 6}\n",
      "4.704659115704173                                                                   \n",
      "{'activation_scale': 5.891936746100709, 'grid_eps': 0.0927441743635294, 'grid_size': 4, 'lambda_l1': 4.211558818921439e-07, 'lambda_l2': 0.0034804302462569333, 'learning_rate': 2.5338449403830573e-05, 'non': 20, 'scale_base': 0.00027166065453519976, 'scale_noise': 0.0018266553074610182, 'scale_spline': 7.6419642757758215, 'spline_order': 3}\n",
      "0.3878452552847859                                                                  \n",
      "{'activation_scale': 0.8788974714376726, 'grid_eps': 0.000848860625639593, 'grid_size': 14, 'lambda_l1': 0.00021550430987586904, 'lambda_l2': 5.691228504098486e-05, 'learning_rate': 0.0003781301418416955, 'non': 18, 'scale_base': 2.2762063598418923e-05, 'scale_noise': 0.0003471874956655917, 'scale_spline': 0.005376595883679421, 'spline_order': 5}\n",
      "0.4904061433342113                                                                  \n",
      "{'activation_scale': 5.0845253696829165, 'grid_eps': 3.0373302183164054e-07, 'grid_size': 7, 'lambda_l1': 0.01919227138605968, 'lambda_l2': 0.04308340105168226, 'learning_rate': 0.017008096243704165, 'non': 14, 'scale_base': 1.7173756598415963, 'scale_noise': 0.009242401342154328, 'scale_spline': 0.022247017285513936, 'spline_order': 7}\n",
      "0.5849032726204748                                                                  \n",
      "{'activation_scale': 4.787454220813388, 'grid_eps': 4.812178487819331e-06, 'grid_size': 8, 'lambda_l1': 2.2213323201991357e-05, 'lambda_l2': 2.149069837470784e-05, 'learning_rate': 0.034168836744088014, 'non': 16, 'scale_base': 3.632342914968215e-05, 'scale_noise': 3.142239697126e-05, 'scale_spline': 0.002213618991116025, 'spline_order': 4}\n",
      "0.5251842980424976                                                                 \n",
      "{'activation_scale': 5.913585621917719, 'grid_eps': 2.0324747167135017e-07, 'grid_size': 9, 'lambda_l1': 0.08870275007485777, 'lambda_l2': 0.044905089233859954, 'learning_rate': 0.04386797825528592, 'non': 8, 'scale_base': 4.6942091801846756e-05, 'scale_noise': 0.002391601356097764, 'scale_spline': 0.01853972670846203, 'spline_order': 5}\n",
      "0.370421074936552                                                                 \n",
      "{'activation_scale': 5.905904286959851, 'grid_eps': 2.371417053050746e-06, 'grid_size': 10, 'lambda_l1': 5.5167992344369655e-06, 'lambda_l2': 0.0013768465998854576, 'learning_rate': 0.07515975777379642, 'non': 10, 'scale_base': 4.8459822450686305, 'scale_noise': 0.0012969523251983742, 'scale_spline': 0.0014230075407289456, 'spline_order': 5}\n",
      "0.6484565852414742                                                                \n",
      "{'activation_scale': 5.898041508095802, 'grid_eps': 0.007495823980476971, 'grid_size': 4, 'lambda_l1': 0.0004570497151512928, 'lambda_l2': 4.099654476581339e-06, 'learning_rate': 0.0026903311205344212, 'non': 16, 'scale_base': 0.10337443949128061, 'scale_noise': 8.855728850890851e-05, 'scale_spline': 0.002802934961458505, 'spline_order': 2}\n",
      "0.7093659390178206                                                              \n",
      "{'activation_scale': 7.526182936346917, 'grid_eps': 2.7350224390316174e-07, 'grid_size': 8, 'lambda_l1': 2.1772223658784323e-06, 'lambda_l2': 1.0361903272046854e-06, 'learning_rate': 0.003920551813848991, 'non': 16, 'scale_base': 0.00045960151998648905, 'scale_noise': 0.0005217375103917934, 'scale_spline': 0.0008226835095694504, 'spline_order': 5}\n",
      "0.67457847943249                                                                \n",
      "{'activation_scale': 8.581621413328, 'grid_eps': 0.0016434446466174924, 'grid_size': 5, 'lambda_l1': 0.04576813896828406, 'lambda_l2': 0.07437837926030631, 'learning_rate': 0.02616237931659809, 'non': 10, 'scale_base': 2.2183714351675974, 'scale_noise': 0.06782313348394428, 'scale_spline': 2.444708843982332, 'spline_order': 10}\n",
      "23.75513238726829                                                               \n",
      "{'activation_scale': 0.16594188256147954, 'grid_eps': 0.006558184161119781, 'grid_size': 1, 'lambda_l1': 6.320299088438077e-05, 'lambda_l2': 0.0023166384069454355, 'learning_rate': 5.5245482786864825e-05, 'non': 16, 'scale_base': 0.0002207250489357481, 'scale_noise': 0.07515910678124284, 'scale_spline': 7.77326252916537e-05, 'spline_order': 2}\n",
      "0.5714180685300908                                                              \n",
      "{'activation_scale': 0.6702987515592366, 'grid_eps': 7.228209552777671e-06, 'grid_size': 10, 'lambda_l1': 0.06716949692657392, 'lambda_l2': 0.002051274494314826, 'learning_rate': 0.005551336061097416, 'non': 14, 'scale_base': 0.3365401203312213, 'scale_noise': 0.029197477671278296, 'scale_spline': 0.0007127248503354032, 'spline_order': 7}\n",
      "0.5647736452546612                                                              \n",
      "{'activation_scale': 9.37369817182483, 'grid_eps': 1.1217020389160238e-07, 'grid_size': 6, 'lambda_l1': 0.002047176904198466, 'lambda_l2': 0.005133378521067058, 'learning_rate': 0.00027576635385605724, 'non': 16, 'scale_base': 0.5271237755275442, 'scale_noise': 0.0019481899610598408, 'scale_spline': 0.00016081536973934846, 'spline_order': 7}\n",
      "0.4244318424697278                                                              \n",
      "{'activation_scale': 4.3626945178311445, 'grid_eps': 0.010777093503226873, 'grid_size': 12, 'lambda_l1': 0.009734324401183669, 'lambda_l2': 0.00018628076005987846, 'learning_rate': 0.004550694032646257, 'non': 14, 'scale_base': 0.003930701389885536, 'scale_noise': 0.00020310960795971565, 'scale_spline': 0.00023644087712746867, 'spline_order': 4}\n",
      "0.5508772439316408                                                              \n",
      "{'activation_scale': 6.007051987013794, 'grid_eps': 0.0005500769688286998, 'grid_size': 6, 'lambda_l1': 1.7557277231185514e-07, 'lambda_l2': 1.0688554840579613e-06, 'learning_rate': 0.0030163778099166353, 'non': 14, 'scale_base': 0.3211847516231691, 'scale_noise': 0.0003548061473103369, 'scale_spline': 0.0002225481593803012, 'spline_order': 1}\n",
      "0.45872913080012356                                                             \n",
      "{'activation_scale': 3.0571608325679795, 'grid_eps': 4.3460750009363e-06, 'grid_size': 13, 'lambda_l1': 2.8537567772734345e-07, 'lambda_l2': 1.3753006344488418e-07, 'learning_rate': 0.08312651088605327, 'non': 18, 'scale_base': 0.007610620267262148, 'scale_noise': 0.004770700626344301, 'scale_spline': 4.551421886666407, 'spline_order': 7}\n",
      "0.4307582775327844                                                              \n",
      "{'activation_scale': 2.4767452206876257, 'grid_eps': 1.1744967833926648e-06, 'grid_size': 11, 'lambda_l1': 9.012174481149816e-07, 'lambda_l2': 0.0003298610303778016, 'learning_rate': 0.09195142050457321, 'non': 10, 'scale_base': 7.048597635354684, 'scale_noise': 0.0010457022775534916, 'scale_spline': 0.1321325410182777, 'spline_order': 9}\n",
      "0.35354411403756414                                                             \n",
      "{'activation_scale': 3.542950243937518, 'grid_eps': 6.76425935779868e-05, 'grid_size': 11, 'lambda_l1': 5.68683881542674e-06, 'lambda_l2': 0.00041561640485495777, 'learning_rate': 0.015581379384315834, 'non': 8, 'scale_base': 8.337226076642773, 'scale_noise': 0.005262667147621943, 'scale_spline': 0.6072117521247715, 'spline_order': 9}\n",
      "0.4187381626176985                                                                \n",
      "{'activation_scale': 2.1379482792506583, 'grid_eps': 5.232036100114646e-05, 'grid_size': 15, 'lambda_l1': 7.68706423580861e-06, 'lambda_l2': 0.00030424069448480365, 'learning_rate': 0.000955659901812248, 'non': 8, 'scale_base': 8.115287388891488, 'scale_noise': 0.03201588814325439, 'scale_spline': 0.5689537381180554, 'spline_order': 6}\n",
      "0.5526877409635338                                                                \n",
      "{'activation_scale': 3.411533734771884, 'grid_eps': 0.00018784577887744462, 'grid_size': 9, 'lambda_l1': 3.572519091359943e-06, 'lambda_l2': 0.0007246507198749811, 'learning_rate': 0.014486682243457592, 'non': 12, 'scale_base': 0.02795894611069247, 'scale_noise': 0.0008377181656368789, 'scale_spline': 0.28696891138954356, 'spline_order': 10}\n",
      "0.36386881597604304                                                               \n",
      "{'activation_scale': 1.7984205809413583, 'grid_eps': 3.2017833898427946e-05, 'grid_size': 12, 'lambda_l1': 2.1792184967641102e-05, 'lambda_l2': 9.74914242812732e-06, 'learning_rate': 0.08460146735598126, 'non': 12, 'scale_base': 8.034253063381165, 'scale_noise': 0.012333739521215225, 'scale_spline': 1.2077607290901633, 'spline_order': 9}\n",
      "0.4821955516247741                                                                \n",
      "{'activation_scale': 1.6171464641772213, 'grid_eps': 2.74980057420833e-05, 'grid_size': 14, 'lambda_l1': 1.878500878747835e-05, 'lambda_l2': 1.2120361594488168e-05, 'learning_rate': 0.0008331753808472097, 'non': 12, 'scale_base': 0.0014877726939237956, 'scale_noise': 0.006932648213774522, 'scale_spline': 1.194015322332379, 'spline_order': 9}\n",
      "0.48123149083051825                                                               \n",
      "{'activation_scale': 1.3359303643203573, 'grid_eps': 2.14843924450146e-05, 'grid_size': 12, 'lambda_l1': 0.0010466090067875794, 'lambda_l2': 6.217443896153203e-06, 'learning_rate': 0.054488095501322914, 'non': 12, 'scale_base': 0.02986361983362954, 'scale_noise': 0.016563142351620517, 'scale_spline': 1.3210321501995472, 'spline_order': 8}\n",
      "0.48701734049972156                                                               \n",
      "{'activation_scale': 3.2915229091332283, 'grid_eps': 0.00031058921223680653, 'grid_size': 15, 'lambda_l1': 9.9713093716219e-07, 'lambda_l2': 9.009981861540027e-05, 'learning_rate': 0.01635736420133267, 'non': 8, 'scale_base': 5.193526730627677, 'scale_noise': 0.039142347969747505, 'scale_spline': 0.16358409828351722, 'spline_order': 10}\n",
      "0.47647652211936875                                                               \n",
      "{'activation_scale': 2.436776267525538, 'grid_eps': 0.0016449990297353343, 'grid_size': 12, 'lambda_l1': 2.7278453550163062e-05, 'lambda_l2': 1.9290185430566886e-06, 'learning_rate': 0.009540954273279924, 'non': 12, 'scale_base': 0.7224340463468466, 'scale_noise': 0.003805961333760706, 'scale_spline': 0.5565134841023929, 'spline_order': 8}\n",
      "0.47752603097890445                                                               \n",
      "{'activation_scale': 3.727892297232435, 'grid_eps': 2.8884780573471518e-05, 'grid_size': 11, 'lambda_l1': 1.1208160517082315e-07, 'lambda_l2': 2.8882807385502512e-05, 'learning_rate': 0.032287967668084123, 'non': 8, 'scale_base': 2.692943340019129, 'scale_noise': 0.012781533257711522, 'scale_spline': 7.000831405672818, 'spline_order': 8}\n",
      "0.46801218734915545                                                               \n",
      "{'activation_scale': 0.2902408443746247, 'grid_eps': 7.913750067817237e-07, 'grid_size': 11, 'lambda_l1': 0.00022682711246271444, 'lambda_l2': 0.008847859280975964, 'learning_rate': 0.009142573664166419, 'non': 10, 'scale_base': 9.674444022129286, 'scale_noise': 1.0025890782799958e-05, 'scale_spline': 0.0908378834327461, 'spline_order': 9}\n",
      "0.4757929626343342                                                                \n",
      "{'activation_scale': 4.083267411848535, 'grid_eps': 0.00014323391916125608, 'grid_size': 14, 'lambda_l1': 1.7139217405681356e-06, 'lambda_l2': 0.0006065219413339, 'learning_rate': 0.001588498577542317, 'non': 12, 'scale_base': 0.04322601109541299, 'scale_noise': 0.0037664522400586912, 'scale_spline': 3.015848744114317, 'spline_order': 8}\n",
      "0.4306589276367191                                                                \n",
      "{'activation_scale': 1.5402967578196074, 'grid_eps': 1.0686607324077641e-05, 'grid_size': 13, 'lambda_l1': 1.0635321349053574e-05, 'lambda_l2': 0.0001271281836500639, 'learning_rate': 0.09946793902195482, 'non': 8, 'scale_base': 1.1486270465381752, 'scale_noise': 0.04599072011267635, 'scale_spline': 0.4837087148207266, 'spline_order': 9}\n",
      "0.39278027850511005                                                               \n",
      "{'activation_scale': 2.893601112847905, 'grid_eps': 7.163528900226171e-05, 'grid_size': 9, 'lambda_l1': 0.00016842755031068476, 'lambda_l2': 3.674401341916859e-07, 'learning_rate': 0.00828523355566497, 'non': 10, 'scale_base': 0.21207324210110284, 'scale_noise': 0.02048726648758845, 'scale_spline': 9.47316498272824, 'spline_order': 10}\n",
      "7.845356930205375                                                                 \n",
      "{'activation_scale': 7.005886714413677, 'grid_eps': 0.0025850956665078046, 'grid_size': 10, 'lambda_l1': 0.0020709233413456767, 'lambda_l2': 8.8955536676506e-06, 'learning_rate': 1.1791632203207026e-05, 'non': 12, 'scale_base': 0.06404283526992834, 'scale_noise': 0.006865541495290467, 'scale_spline': 0.01022625487955892, 'spline_order': 6}\n",
      "0.43955816509828904                                                               \n",
      "{'activation_scale': 2.106107319844565, 'grid_eps': 1.6367430763321674e-05, 'grid_size': 13, 'lambda_l1': 5.049264349298974e-05, 'lambda_l2': 4.722022255573158e-05, 'learning_rate': 0.0016451582734673628, 'non': 8, 'scale_base': 0.011766054977382449, 'scale_noise': 0.09062330644839797, 'scale_spline': 0.06312396530641964, 'spline_order': 10}\n",
      "0.4522632763031132                                                                \n",
      "{'activation_scale': 4.6142695514308825, 'grid_eps': 0.03922838913625705, 'grid_size': 7, 'lambda_l1': 5.433868103936242e-07, 'lambda_l2': 3.603636692493994e-06, 'learning_rate': 0.022331320863640817, 'non': 10, 'scale_base': 3.15506099454344, 'scale_noise': 0.009522600413712263, 'scale_spline': 0.25716647551886457, 'spline_order': 9}\n",
      "0.43787751292126575                                                               \n",
      "{'activation_scale': 5.310766866620191, 'grid_eps': 0.00040311332636171893, 'grid_size': 15, 'lambda_l1': 1.4792820753577523e-05, 'lambda_l2': 1.6559755088203605e-05, 'learning_rate': 0.0006697998058799292, 'non': 18, 'scale_base': 0.8411143656743175, 'scale_noise': 0.0026026931536868823, 'scale_spline': 1.0813835392164205e-05, 'spline_order': 6}\n",
      "2.215217119563238                                                                 \n",
      "{'activation_scale': 1.0373491645032442, 'grid_eps': 5.508101631066728e-05, 'grid_size': 11, 'lambda_l1': 0.000117346330484375, 'lambda_l2': 5.8255317274511395e-05, 'learning_rate': 0.00013497235477931652, 'non': 20, 'scale_base': 0.002004594730381768, 'scale_noise': 0.0007245335277009191, 'scale_spline': 1.2356268034032052, 'spline_order': 8}\n",
      "0.4330728879110421                                                                \n",
      "{'activation_scale': 3.9998191015865174, 'grid_eps': 2.8709786884606367e-06, 'grid_size': 12, 'lambda_l1': 3.750176872744039e-05, 'lambda_l2': 0.018478688027709227, 'learning_rate': 0.04669761726914831, 'non': 10, 'scale_base': 1.6351514544515824, 'scale_noise': 0.00010091778593720563, 'scale_spline': 0.012036562883993686, 'spline_order': 4}\n",
      "0.5557776491205684                                                                \n",
      "{'activation_scale': 5.404484475913647, 'grid_eps': 6.053738977966813e-07, 'grid_size': 14, 'lambda_l1': 4.872752195755869e-06, 'lambda_l2': 0.0007044958756158324, 'learning_rate': 0.05981975307881238, 'non': 12, 'scale_base': 1.0277468092722893e-05, 'scale_noise': 0.022433826030269947, 'scale_spline': 0.036990810260934225, 'spline_order': 9}\n",
      "0.40034843599380276                                                               \n",
      "{'activation_scale': 2.841030258030008, 'grid_eps': 0.0001352235552845841, 'grid_size': 9, 'lambda_l1': 0.00045846681252276097, 'lambda_l2': 2.416248724862445e-07, 'learning_rate': 0.0004880757499609448, 'non': 18, 'scale_base': 0.15249211248942907, 'scale_noise': 0.011089024254605721, 'scale_spline': 1.899981128036137, 'spline_order': 7}\n",
      "0.4612453134279724                                                                \n",
      "{'activation_scale': 6.496907072772357, 'grid_eps': 1.6127899091393227e-06, 'grid_size': 7, 'lambda_l1': 2.744298766162726e-06, 'lambda_l2': 6.733328047469097e-07, 'learning_rate': 0.00020237140498486524, 'non': 10, 'scale_base': 3.4974768916721435, 'scale_noise': 0.0015020168806206893, 'scale_spline': 0.003919793415192096, 'spline_order': 8}\n",
      "0.4387549569967418                                                                \n",
      "{'activation_scale': 0.585877841253851, 'grid_eps': 0.0009149154369638294, 'grid_size': 10, 'lambda_l1': 0.008203090482983693, 'lambda_l2': 3.1228620906092917e-06, 'learning_rate': 0.0016288902993539683, 'non': 14, 'scale_base': 0.00011567927466899527, 'scale_noise': 0.05496670694332828, 'scale_spline': 3.726478048937255, 'spline_order': 3}\n",
      "0.4363424221617427                                                                \n",
      "{'activation_scale': 1.9562429413393103, 'grid_eps': 0.0002701061402914409, 'grid_size': 3, 'lambda_l1': 0.0005416488769604947, 'lambda_l2': 3.135005234835941e-05, 'learning_rate': 0.014987303359128297, 'non': 8, 'scale_base': 9.484457977238483, 'scale_noise': 0.005482691048119324, 'scale_spline': 9.48993350328958, 'spline_order': 10}\n",
      "0.8965217807906428                                                                \n",
      "{'activation_scale': 3.671815117690485, 'grid_eps': 0.0047534508784139356, 'grid_size': 8, 'lambda_l1': 1.4673200005346756e-06, 'lambda_l2': 0.006733698730708856, 'learning_rate': 0.00010166861659119682, 'non': 8, 'scale_base': 0.01689056765486078, 'scale_noise': 0.0024235207576980174, 'scale_spline': 0.04179717870874821, 'spline_order': 7}\n",
      "0.6096725018332525                                                                \n",
      "{'activation_scale': 4.940035536775271, 'grid_eps': 0.02265680913547472, 'grid_size': 13, 'lambda_l1': 0.00010696171885395733, 'lambda_l2': 0.001097031460044837, 'learning_rate': 0.02515410661628143, 'non': 14, 'scale_base': 0.07946774196920127, 'scale_noise': 5.306084847084498e-05, 'scale_spline': 0.01898704901181542, 'spline_order': 5}\n",
      "24.760576295989488                                                                \n",
      "{'activation_scale': 0.10471242580239859, 'grid_eps': 9.101025413330665e-06, 'grid_size': 14, 'lambda_l1': 8.643057851700301e-06, 'lambda_l2': 0.00026194592322304573, 'learning_rate': 1.0418953404962337e-05, 'non': 16, 'scale_base': 0.3606346660809414, 'scale_noise': 0.0004932238586360334, 'scale_spline': 4.856770109326766e-05, 'spline_order': 6}\n",
      "0.5443960702960146                                                                \n",
      "{'activation_scale': 7.990686840451171, 'grid_eps': 0.0008883029395164398, 'grid_size': 10, 'lambda_l1': 2.339059758183185e-07, 'lambda_l2': 0.014551074296604552, 'learning_rate': 0.006002035725788034, 'non': 12, 'scale_base': 0.0006930737936495096, 'scale_noise': 0.000287226145194427, 'scale_spline': 0.7703489365940653, 'spline_order': 9}\n",
      "22.935764140080735                                                                \n",
      "{'activation_scale': 1.0504986469365942, 'grid_eps': 4.169547144423177e-06, 'grid_size': 12, 'lambda_l1': 6.081034778808234e-07, 'lambda_l2': 8.961062040164052e-05, 'learning_rate': 2.240587388569464e-05, 'non': 10, 'scale_base': 0.5076165192599892, 'scale_noise': 0.024286375190828546, 'scale_spline': 0.006649901514929795, 'spline_order': 7}\n",
      "100%|██████████| 50/50 [57:09<00:00, 68.59s/trial, best loss: 0.35354411403756414]\n",
      "Best hyperparameters: {'activation_scale': 3.542950243937518, 'grid_eps': 6.76425935779868e-05, 'grid_size': 11.0, 'lambda_l1': 5.68683881542674e-06, 'lambda_l2': 0.00041561640485495777, 'learning_rate': 0.015581379384315834, 'non': 8.0, 'scale_base': 8.337226076642773, 'scale_noise': 0.005262667147621943, 'scale_spline': 0.6072117521247715, 'spline_order': 9.0}\n"
     ]
    }
   ],
   "source": [
    "trials = Trials()\n",
    "best_params = fmin(fn=objective,\n",
    "                   space=space,\n",
    "                   algo=tpe.suggest,\n",
    "                   max_evals=50,\n",
    "                   trials=trials)\n",
    "print(\"Best hyperparameters:\", best_params)"
   ]
  },
  {
   "cell_type": "code",
   "execution_count": 10,
   "metadata": {
    "execution": {
     "iopub.execute_input": "2024-08-13T23:57:43.032114Z",
     "iopub.status.busy": "2024-08-13T23:57:43.032114Z",
     "iopub.status.idle": "2024-08-13T23:57:43.339749Z",
     "shell.execute_reply": "2024-08-13T23:57:43.339749Z"
    }
   },
   "outputs": [],
   "source": [
    "param_df.to_csv(f'param_df{current_target}.csv')"
   ]
  },
  {
   "cell_type": "code",
   "execution_count": 11,
   "metadata": {},
   "outputs": [
    {
     "name": "stderr",
     "output_type": "stream",
     "text": [
      "C:\\Users\\Administrator\\AppData\\Local\\Temp\\2\\ipykernel_268\\836558021.py:1: FutureWarning: You are using `torch.load` with `weights_only=False` (the current default value), which uses the default pickle module implicitly. It is possible to construct malicious pickle data which will execute arbitrary code during unpickling (See https://github.com/pytorch/pytorch/blob/main/SECURITY.md#untrusted-models for more details). In a future release, the default value for `weights_only` will be flipped to `True`. This limits the functions that could be executed during unpickling. Arbitrary objects will no longer be allowed to be loaded via this mode unless they are explicitly allowlisted by the user via `torch.serialization.add_safe_globals`. We recommend you start setting `weights_only=True` for any use case where you don't have full control of the loaded file. Please open an issue on GitHub for any issues related to this experimental feature.\n",
      "  checkpoint = torch.load(f\"{current_target}_bestest_model.pth\")\n"
     ]
    },
    {
     "data": {
      "text/plain": [
       "<All keys matched successfully>"
      ]
     },
     "execution_count": 11,
     "metadata": {},
     "output_type": "execute_result"
    }
   ],
   "source": [
    "checkpoint = torch.load(f\"{current_target}_bestest_model.pth\")\n",
    "params1 = checkpoint['params']\n",
    "model = KAN(\n",
    "    layers_hidden=[8, params1['non'], 1],\n",
    "    grid_size=params1['grid_size'],\n",
    "    spline_order=params1['spline_order'],\n",
    "    scale_noise=params1['scale_noise'],\n",
    "    scale_base=params1['scale_base'],\n",
    "    scale_spline=params1['scale_spline'],\n",
    "    base_activation=nn.SiLU,\n",
    "    grid_eps=params1['grid_eps'],\n",
    "    grid_range=[0, 1],\n",
    "    activation_scale=params1['activation_scale']\n",
    ")\n",
    "model.load_state_dict(checkpoint['model_state_dict'])"
   ]
  },
  {
   "cell_type": "code",
   "execution_count": 12,
   "metadata": {
    "execution": {
     "iopub.execute_input": "2024-08-14T00:00:11.900868Z",
     "iopub.status.busy": "2024-08-14T00:00:11.900868Z",
     "iopub.status.idle": "2024-08-14T00:00:11.933854Z",
     "shell.execute_reply": "2024-08-14T00:00:11.933854Z"
    }
   },
   "outputs": [
    {
     "data": {
      "text/plain": [
       "0.3231293992878924"
      ]
     },
     "execution_count": 12,
     "metadata": {},
     "output_type": "execute_result"
    }
   ],
   "source": [
    "model.eval()\n",
    "with torch.no_grad():\n",
    "    test_predictions = model(dataset['test_input'])\n",
    "mse(dataset['test_label'].numpy(), test_predictions.numpy())**0.5"
   ]
  },
  {
   "cell_type": "code",
   "execution_count": 13,
   "metadata": {
    "execution": {
     "iopub.execute_input": "2024-08-14T00:00:11.933854Z",
     "iopub.status.busy": "2024-08-14T00:00:11.933854Z",
     "iopub.status.idle": "2024-08-14T00:00:11.947038Z",
     "shell.execute_reply": "2024-08-14T00:00:11.947038Z"
    }
   },
   "outputs": [
    {
     "data": {
      "text/plain": [
       "0.9989552695032924"
      ]
     },
     "execution_count": 13,
     "metadata": {},
     "output_type": "execute_result"
    }
   ],
   "source": [
    "r2_score(dataset['test_label'].numpy(), test_predictions.numpy())"
   ]
  },
  {
   "cell_type": "markdown",
   "metadata": {},
   "source": [
    "# Second Ouput"
   ]
  },
  {
   "cell_type": "code",
   "execution_count": 14,
   "metadata": {
    "execution": {
     "iopub.execute_input": "2024-08-14T00:00:11.947038Z",
     "iopub.status.busy": "2024-08-14T00:00:11.947038Z",
     "iopub.status.idle": "2024-08-14T00:00:11.962262Z",
     "shell.execute_reply": "2024-08-14T00:00:11.962262Z"
    }
   },
   "outputs": [],
   "source": [
    "df=pd.read_csv('data.csv',header=1)\n",
    "df=df.drop(columns=['hl'])\n",
    "current_target='cl'"
   ]
  },
  {
   "cell_type": "code",
   "execution_count": 15,
   "metadata": {
    "execution": {
     "iopub.execute_input": "2024-08-14T00:00:11.962262Z",
     "iopub.status.busy": "2024-08-14T00:00:11.962262Z",
     "iopub.status.idle": "2024-08-14T00:00:11.978978Z",
     "shell.execute_reply": "2024-08-14T00:00:11.978978Z"
    }
   },
   "outputs": [],
   "source": [
    "df = df.sort_index()\n",
    "x = df.drop(columns=current_target)\n",
    "y = df[current_target]\n",
    "x_train, x_test, y_train, y_test = train_test_split(x, y, test_size=0.3, random_state=81) #81 cl, 17 hl,\n",
    "set_seed(42)"
   ]
  },
  {
   "cell_type": "code",
   "execution_count": 16,
   "metadata": {},
   "outputs": [],
   "source": [
    "dataset = {}\n",
    "train_input=x_train.to_numpy()\n",
    "train_label=y_train.to_numpy()\n",
    "test_input=x_test.to_numpy()\n",
    "test_label=y_test.to_numpy()"
   ]
  },
  {
   "cell_type": "code",
   "execution_count": 17,
   "metadata": {
    "execution": {
     "iopub.execute_input": "2024-08-14T00:00:11.978978Z",
     "iopub.status.busy": "2024-08-14T00:00:11.978978Z",
     "iopub.status.idle": "2024-08-14T00:00:11.990311Z",
     "shell.execute_reply": "2024-08-14T00:00:11.990311Z"
    }
   },
   "outputs": [],
   "source": [
    "scaler_input = MinMaxScaler()\n",
    "\n",
    "train_input_scaled = scaler_input.fit_transform(train_input)\n",
    "test_input_scaled = scaler_input.transform(test_input)\n",
    "\n",
    "dataset['train_input'] = torch.from_numpy(train_input_scaled).type(dtype)\n",
    "dataset['test_input'] = torch.from_numpy(test_input_scaled).type(dtype)\n",
    "dataset['train_label'] = torch.from_numpy(train_label[:,None]).type(dtype)\n",
    "dataset['test_label'] = torch.from_numpy(test_label[:,None]).type(dtype)"
   ]
  },
  {
   "cell_type": "code",
   "execution_count": 18,
   "metadata": {
    "execution": {
     "iopub.execute_input": "2024-08-14T00:00:11.990311Z",
     "iopub.status.busy": "2024-08-14T00:00:11.990311Z",
     "iopub.status.idle": "2024-08-14T00:00:12.002821Z",
     "shell.execute_reply": "2024-08-14T00:00:12.002821Z"
    }
   },
   "outputs": [],
   "source": [
    "space = {\n",
    "    'grid_size': hp.quniform('grid_size', 1, 15, 1),\n",
    "    'spline_order': hp.quniform('spline_order', 1, 10, 1),\n",
    "    'scale_noise': hp.loguniform('scale_noise', np.log(1e-5), np.log(1e-1)),\n",
    "    'scale_base': hp.loguniform('scale_base', np.log(1e-5), np.log(1e1)),\n",
    "    'scale_spline': hp.loguniform('scale_spline', np.log(1e-5), np.log(1e1)),\n",
    "    'learning_rate': hp.loguniform('learning_rate', np.log(1e-5), np.log(1e-1)),\n",
    "    'lambda_l1': hp.loguniform('lambda_l1', np.log(1e-7), np.log(1e-1)),\n",
    "    'lambda_l2': hp.loguniform('lambda_l2', np.log(1e-7), np.log(1e-1)),\n",
    "    'grid_eps': hp.loguniform('grid_eps', np.log(1e-7), np.log(1e-1)),\n",
    "    'non': hp.quniform('non', 8, 20, 2),\n",
    "    'activation_scale': hp.uniform('activation_scale', 0.1, 10.0)  # Uniform distribution for activation_scale\n",
    "}"
   ]
  },
  {
   "cell_type": "code",
   "execution_count": 19,
   "metadata": {
    "execution": {
     "iopub.execute_input": "2024-08-14T00:00:12.002821Z",
     "iopub.status.busy": "2024-08-14T00:00:12.002821Z",
     "iopub.status.idle": "2024-08-14T00:00:12.026107Z",
     "shell.execute_reply": "2024-08-14T00:00:12.026107Z"
    }
   },
   "outputs": [],
   "source": [
    "param_df = pd.DataFrame(columns=['params', 'loss_curve_train', 'loss_curve_test', 'best_score'])\n",
    "trial_no = 0\n",
    "bestest_score = float('inf')  # Initialize global variable\n",
    "def objective(params):\n",
    "    global trial_no, bestest_score  # Declare global variables\n",
    "    trial_no += 1\n",
    "    params['grid_size'] = int(params['grid_size'])\n",
    "    params['spline_order'] = int(params['spline_order'])\n",
    "    params['non'] = int(params['non'])\n",
    "    model = KAN(\n",
    "        layers_hidden=[8, params['non'], 1],\n",
    "        grid_size=params['grid_size'],\n",
    "        spline_order=params['spline_order'],\n",
    "        scale_noise=params['scale_noise'],\n",
    "        scale_base=params['scale_base'],\n",
    "        scale_spline=params['scale_spline'],\n",
    "        base_activation=nn.SiLU,\n",
    "        grid_eps=params['grid_eps'],\n",
    "        grid_range=[0, 1],\n",
    "        activation_scale=params['activation_scale']\n",
    "    )\n",
    "    \n",
    "    criterion = nn.MSELoss()\n",
    "    optimizer = optim.Adam(model.parameters(), lr=params['learning_rate'], weight_decay=params['lambda_l2'])\n",
    "    num_epochs = 5000\n",
    "    patience = 200\n",
    "    best_loss = float('inf')\n",
    "    epochs_no_improve = 0\n",
    "    param_df['params'].loc[trial_no] = params\n",
    "    training_loss = []\n",
    "    test_loss = []\n",
    "    \n",
    "    for epoch in range(num_epochs):\n",
    "        set_seed(42)\n",
    "        model.train()\n",
    "        optimizer.zero_grad()\n",
    "        predictions = model(dataset['train_input'])\n",
    "        main_loss = criterion(predictions, dataset['train_label'])\n",
    "        l1_loss = sum(p.abs().sum() for p in model.parameters())\n",
    "        loss = main_loss + (params['lambda_l1'] * l1_loss)\n",
    "        loss.backward()\n",
    "        optimizer.step()\n",
    "        training_loss.append(loss.item())\n",
    "        \n",
    "        model.eval()\n",
    "        with torch.no_grad():\n",
    "            val_predictions = model(dataset['test_input'])\n",
    "            temp_score = mse(dataset['test_label'].cpu().numpy(), val_predictions.cpu().numpy())**0.5  # Move tensors to CPU before numpy\n",
    "        test_loss.append(temp_score)\n",
    "        \n",
    "        if temp_score < best_loss:\n",
    "            best_loss = temp_score\n",
    "            epochs_no_improve = 0\n",
    "            best_model_state = model.state_dict()\n",
    "        else:\n",
    "            epochs_no_improve += 1\n",
    "        \n",
    "        if epochs_no_improve >= patience:\n",
    "            model.load_state_dict(best_model_state)\n",
    "            break\n",
    "        \n",
    "        # Update the bestest score\n",
    "        if temp_score < bestest_score:\n",
    "            bestest_score = temp_score\n",
    "            torch.save({'model_state_dict': best_model_state, 'params': params}, f\"{current_target}_bestest_model.pth\")\n",
    "           \n",
    "    model.eval()\n",
    "    with torch.no_grad():\n",
    "        test_predictions = model(dataset['test_input'])\n",
    "    score = mse(dataset['test_label'].numpy(), test_predictions.numpy())**0.5  # Move tensors to CPU before numpy\n",
    "    param_df.loc[trial_no] = [params, training_loss, test_loss, score]\n",
    "    print(score)\n",
    "    print(params)\n",
    "    return score\n"
   ]
  },
  {
   "cell_type": "code",
   "execution_count": 20,
   "metadata": {
    "execution": {
     "iopub.execute_input": "2024-08-14T00:00:12.026107Z",
     "iopub.status.busy": "2024-08-14T00:00:12.026107Z",
     "iopub.status.idle": "2024-08-14T01:31:57.471266Z",
     "shell.execute_reply": "2024-08-14T01:31:57.471266Z"
    }
   },
   "outputs": [
    {
     "name": "stdout",
     "output_type": "stream",
     "text": [
      "1.5833860377899054                                    \n",
      "{'activation_scale': 7.929761069459833, 'grid_eps': 2.1315228140897209e-07, 'grid_size': 9, 'lambda_l1': 0.002534797501602613, 'lambda_l2': 2.5944827363387572e-06, 'learning_rate': 8.490002345574772e-05, 'non': 8, 'scale_base': 4.484151425179817, 'scale_noise': 4.3754433296413846e-05, 'scale_spline': 8.866619392797334e-05, 'spline_order': 2}\n",
      "0.9679447082762503                                                              \n",
      "{'activation_scale': 8.50282466130899, 'grid_eps': 0.006222992699713318, 'grid_size': 3, 'lambda_l1': 6.675855286813161e-07, 'lambda_l2': 1.1844917293428584e-07, 'learning_rate': 0.0011332920715736764, 'non': 16, 'scale_base': 0.17402268765880202, 'scale_noise': 0.0032957414387381166, 'scale_spline': 0.00027961636880754115, 'spline_order': 10}\n",
      "1.7988177207613674                                                              \n",
      "{'activation_scale': 8.933263578444276, 'grid_eps': 0.000253783777854934, 'grid_size': 12, 'lambda_l1': 7.477579545077816e-06, 'lambda_l2': 0.0174678956874672, 'learning_rate': 0.011240149449598256, 'non': 18, 'scale_base': 0.001220056366578285, 'scale_noise': 0.013321827895583626, 'scale_spline': 9.760664651954693, 'spline_order': 5}\n",
      "21.499770590535487                                                              \n",
      "{'activation_scale': 2.101163598916905, 'grid_eps': 7.4333968869229176e-06, 'grid_size': 12, 'lambda_l1': 4.2281080550122827e-07, 'lambda_l2': 0.0029625901677041563, 'learning_rate': 1.653205661052894e-05, 'non': 10, 'scale_base': 0.004595264633242213, 'scale_noise': 0.00018194386143682875, 'scale_spline': 0.03308071818226042, 'spline_order': 7}\n",
      "4.702145128210994                                                               \n",
      "{'activation_scale': 0.4101327943072285, 'grid_eps': 2.2248584695524077e-07, 'grid_size': 11, 'lambda_l1': 0.00014823449382511406, 'lambda_l2': 0.03686876101409915, 'learning_rate': 0.0002972571284111942, 'non': 12, 'scale_base': 1.902868770219413e-05, 'scale_noise': 0.008706858007454818, 'scale_spline': 0.8315476644007932, 'spline_order': 10}\n",
      "1.764465209582888                                                                 \n",
      "{'activation_scale': 6.707974619344512, 'grid_eps': 1.6011562978355797e-07, 'grid_size': 7, 'lambda_l1': 0.014736375036748866, 'lambda_l2': 0.00023791019378930725, 'learning_rate': 6.669574195614675e-05, 'non': 12, 'scale_base': 0.10890519247463462, 'scale_noise': 0.000357281255274351, 'scale_spline': 0.01868628868921691, 'spline_order': 3}\n",
      "6.629762187092527                                                                 \n",
      "{'activation_scale': 5.354015162523885, 'grid_eps': 0.08830175715998191, 'grid_size': 12, 'lambda_l1': 0.00031152783258308535, 'lambda_l2': 0.07020237370045096, 'learning_rate': 1.7264950758213958e-05, 'non': 20, 'scale_base': 0.011434097013028064, 'scale_noise': 0.06133443419606168, 'scale_spline': 6.3700753132757395, 'spline_order': 9}\n",
      "24.567292698332356                                                                 \n",
      "{'activation_scale': 0.2729304533464946, 'grid_eps': 3.2780926830739843e-07, 'grid_size': 12, 'lambda_l1': 1.4148196889324562e-07, 'lambda_l2': 4.5657462800334277e-05, 'learning_rate': 4.323147794466346e-05, 'non': 20, 'scale_base': 0.15223835519219472, 'scale_noise': 0.0006773495270506845, 'scale_spline': 0.03210325375642191, 'spline_order': 3}\n",
      "1.6863311207135694                                                                 \n",
      "{'activation_scale': 6.714254815750984, 'grid_eps': 2.2618424198238597e-05, 'grid_size': 10, 'lambda_l1': 0.02056069810864933, 'lambda_l2': 1.4595851164992692e-05, 'learning_rate': 8.080730537691859e-05, 'non': 16, 'scale_base': 0.0003010258114970622, 'scale_noise': 0.0010258873626902043, 'scale_spline': 0.01915500949583884, 'spline_order': 7}\n",
      "0.5296838400036036                                                                 \n",
      "{'activation_scale': 6.1441197553755975, 'grid_eps': 0.07821144082695308, 'grid_size': 5, 'lambda_l1': 4.409942709097485e-07, 'lambda_l2': 3.0998611831289554e-07, 'learning_rate': 0.006076547100671918, 'non': 8, 'scale_base': 3.8747787954737465, 'scale_noise': 0.009787552115008034, 'scale_spline': 1.1483919767447113, 'spline_order': 9}\n",
      "0.7567224626211273                                                                 \n",
      "{'activation_scale': 2.262319635864654, 'grid_eps': 1.8653710482576674e-05, 'grid_size': 5, 'lambda_l1': 3.841065333659925e-06, 'lambda_l2': 0.0008149163491339686, 'learning_rate': 0.0017708109631076137, 'non': 18, 'scale_base': 7.728472039776459, 'scale_noise': 0.01944613410532254, 'scale_spline': 0.03720982747877451, 'spline_order': 5}\n",
      "1.1282481359764218                                                                 \n",
      "{'activation_scale': 2.8969214398733736, 'grid_eps': 7.015377717086755e-07, 'grid_size': 8, 'lambda_l1': 1.225044829839734e-05, 'lambda_l2': 1.0873465466456153e-06, 'learning_rate': 0.008956969661917813, 'non': 10, 'scale_base': 0.07994629557037014, 'scale_noise': 0.017637658475636583, 'scale_spline': 6.171001122731945e-05, 'spline_order': 2}\n",
      "1.7533055943254663                                                                 \n",
      "{'activation_scale': 7.547549168348797, 'grid_eps': 0.012706414150797781, 'grid_size': 8, 'lambda_l1': 7.378434078596842e-05, 'lambda_l2': 0.0006384783696160509, 'learning_rate': 0.002363204441274042, 'non': 20, 'scale_base': 0.001286915576624755, 'scale_noise': 0.002306100616056363, 'scale_spline': 0.08695501748788843, 'spline_order': 6}\n",
      "0.5603734450257287                                                               \n",
      "{'activation_scale': 1.017274051354599, 'grid_eps': 1.8019137680241623e-06, 'grid_size': 11, 'lambda_l1': 1.690431022147534e-07, 'lambda_l2': 6.590252965942746e-05, 'learning_rate': 0.03644395016066564, 'non': 18, 'scale_base': 0.0329280259950202, 'scale_noise': 1.885000767622559e-05, 'scale_spline': 6.481421890073233e-05, 'spline_order': 10}\n",
      "0.9961420883389857                                                               \n",
      "{'activation_scale': 3.8618288223502124, 'grid_eps': 0.009338289359548273, 'grid_size': 11, 'lambda_l1': 6.596040956034955e-05, 'lambda_l2': 3.069422720323326e-05, 'learning_rate': 0.00028089050336394786, 'non': 12, 'scale_base': 0.03257599113946176, 'scale_noise': 0.044350675208880225, 'scale_spline': 1.4557181045195766, 'spline_order': 7}\n",
      "2.8330186788872633                                                               \n",
      "{'activation_scale': 8.1513774496997, 'grid_eps': 7.64278861297149e-06, 'grid_size': 5, 'lambda_l1': 0.0011925756743323042, 'lambda_l2': 6.922634879647465e-06, 'learning_rate': 0.0014885182041233151, 'non': 8, 'scale_base': 0.008985444608994185, 'scale_noise': 0.00010005558775815876, 'scale_spline': 1.1412606857699162e-05, 'spline_order': 8}\n",
      "5.134492549984207                                                                \n",
      "{'activation_scale': 7.700482275365332, 'grid_eps': 6.659935037189833e-05, 'grid_size': 2, 'lambda_l1': 7.132137753910569e-06, 'lambda_l2': 0.0705650558375267, 'learning_rate': 1.911863621096839e-05, 'non': 12, 'scale_base': 0.4879865573117271, 'scale_noise': 6.47555456793382e-05, 'scale_spline': 3.545773719445135e-05, 'spline_order': 6}\n",
      "1.4233896590422586                                                               \n",
      "{'activation_scale': 6.122693469027509, 'grid_eps': 3.064380365217557e-07, 'grid_size': 8, 'lambda_l1': 0.00012485848254841658, 'lambda_l2': 1.6021540034403915e-06, 'learning_rate': 0.00025959758459542527, 'non': 10, 'scale_base': 1.4704636551776462, 'scale_noise': 2.255824944890207e-05, 'scale_spline': 0.21225584893918206, 'spline_order': 3}\n",
      "1.7768682065854569                                                               \n",
      "{'activation_scale': 8.13015867851301, 'grid_eps': 0.06620193890479416, 'grid_size': 3, 'lambda_l1': 8.299441884764586e-05, 'lambda_l2': 0.0014056248766252469, 'learning_rate': 0.0001910591732872322, 'non': 16, 'scale_base': 0.047493627943256386, 'scale_noise': 0.0004692685488673071, 'scale_spline': 0.6345369911003301, 'spline_order': 2}\n",
      "4.4809224083591275                                                               \n",
      "{'activation_scale': 2.228536987321823, 'grid_eps': 0.003259469975797344, 'grid_size': 8, 'lambda_l1': 3.0551645196904468e-06, 'lambda_l2': 3.0149748019099475e-06, 'learning_rate': 5.8631465501129676e-05, 'non': 14, 'scale_base': 6.134440138310988e-05, 'scale_noise': 0.000236178463540947, 'scale_spline': 1.4211408584557819, 'spline_order': 5}\n",
      "1.3741332222656821                                                               \n",
      "{'activation_scale': 4.329217496878445, 'grid_eps': 0.000470096355539763, 'grid_size': 15, 'lambda_l1': 1.038816961795189e-07, 'lambda_l2': 1.0233271396047739e-07, 'learning_rate': 0.09968319981085821, 'non': 18, 'scale_base': 1.6355496907644902, 'scale_noise': 0.004648215725790308, 'scale_spline': 0.0024467947645165668, 'spline_order': 9}\n",
      "1.349764553876411                                                                \n",
      "{'activation_scale': 9.533111547165527, 'grid_eps': 0.0005699309858316756, 'grid_size': 15, 'lambda_l1': 7.293967360230597e-07, 'lambda_l2': 3.997000282301349e-07, 'learning_rate': 0.07456650847551596, 'non': 14, 'scale_base': 0.5814746726473224, 'scale_noise': 1.5193872795613386e-05, 'scale_spline': 0.0012648843153852279, 'spline_order': 9}\n",
      "0.4386058068843755                                                               \n",
      "{'activation_scale': 1.2020012017171953, 'grid_eps': 2.174409816383361e-06, 'grid_size': 6, 'lambda_l1': 2.1911602223351263e-07, 'lambda_l2': 4.3532464106734104e-07, 'learning_rate': 0.034451407386316496, 'non': 18, 'scale_base': 4.561099576002518, 'scale_noise': 0.001150267075375876, 'scale_spline': 0.0022885412988338225, 'spline_order': 10}\n",
      "1.0951939519490794                                                               \n",
      "{'activation_scale': 5.015808589260755, 'grid_eps': 1.8844648649791213e-06, 'grid_size': 6, 'lambda_l1': 1.3510082965645164e-06, 'lambda_l2': 3.9475643611767306e-07, 'learning_rate': 0.006995395987050106, 'non': 16, 'scale_base': 8.622545616494062, 'scale_noise': 0.001493024367572138, 'scale_spline': 0.0021875496850783395, 'spline_order': 8}\n",
      "0.7267914556325507                                                               \n",
      "{'activation_scale': 3.523802339339675, 'grid_eps': 0.0017052808327724352, 'grid_size': 4, 'lambda_l1': 2.5746094160632366e-05, 'lambda_l2': 2.8345306593928544e-07, 'learning_rate': 0.031510175888296806, 'non': 14, 'scale_base': 1.4916242062041902, 'scale_noise': 0.006314545852685132, 'scale_spline': 0.004147442647816675, 'spline_order': 8}\n",
      "1.0109666098255115                                                               \n",
      "{'activation_scale': 4.985045766677116, 'grid_eps': 0.026515972234655776, 'grid_size': 6, 'lambda_l1': 2.1159047745474328e-07, 'lambda_l2': 1.1260458224253747e-07, 'learning_rate': 0.004627052067257044, 'non': 8, 'scale_base': 3.3252030257087157, 'scale_noise': 0.03395688778893826, 'scale_spline': 0.000570641955080804, 'spline_order': 9}\n",
      "0.7377833313505855                                                               \n",
      "{'activation_scale': 1.399090092945225, 'grid_eps': 7.933403484259556e-05, 'grid_size': 2, 'lambda_l1': 3.519415492858229e-07, 'lambda_l2': 7.992593165201482e-06, 'learning_rate': 0.02635016855941628, 'non': 20, 'scale_base': 0.45011607837404544, 'scale_noise': 0.08748106934959725, 'scale_spline': 0.16122147779740378, 'spline_order': 10}\n",
      "0.7640259753063818                                                               \n",
      "{'activation_scale': 6.512216159927826, 'grid_eps': 2.3754697441089944e-06, 'grid_size': 1, 'lambda_l1': 1.6527704151430025e-06, 'lambda_l2': 6.565927055354464e-07, 'learning_rate': 0.019050733239182424, 'non': 10, 'scale_base': 9.434859598225248, 'scale_noise': 0.0017717724663788873, 'scale_spline': 3.7136478355148577, 'spline_order': 8}\n",
      "0.6544878388070697                                                               \n",
      "{'activation_scale': 5.80279861405188, 'grid_eps': 2.4549634633300073e-05, 'grid_size': 6, 'lambda_l1': 0.0008238877269873423, 'lambda_l2': 3.18742442596593e-06, 'learning_rate': 0.003619832445828467, 'non': 8, 'scale_base': 2.7113784088768034, 'scale_noise': 0.0008421736279282289, 'scale_spline': 0.007294993787719598, 'spline_order': 9}\n",
      "0.6317330080906538                                                               \n",
      "{'activation_scale': 2.975642909952102, 'grid_eps': 5.114306190148455e-06, 'grid_size': 4, 'lambda_l1': 0.005600393408150018, 'lambda_l2': 2.3680804884961804e-07, 'learning_rate': 0.0005706255608305314, 'non': 18, 'scale_base': 0.32271505178194715, 'scale_noise': 0.0033303163941428827, 'scale_spline': 0.0005202135351104562, 'spline_order': 4}\n",
      "1.6277568669957623                                                               \n",
      "{'activation_scale': 4.360214228020689, 'grid_eps': 0.0013528705206982499, 'grid_size': 9, 'lambda_l1': 0.06192532020306166, 'lambda_l2': 1.543241138474489e-05, 'learning_rate': 0.057305574881591034, 'non': 16, 'scale_base': 4.769219208469495, 'scale_noise': 0.009695012918229447, 'scale_spline': 0.00016425567416600726, 'spline_order': 10}\n",
      "1.3686299909983106                                                               \n",
      "{'activation_scale': 7.241530178130677, 'grid_eps': 0.0001921488197030591, 'grid_size': 4, 'lambda_l1': 2.898607513481999e-05, 'lambda_l2': 0.00019401601150409944, 'learning_rate': 0.014488681352637025, 'non': 14, 'scale_base': 1.1264827203964367, 'scale_noise': 0.003556663663062644, 'scale_spline': 0.007011104868113983, 'spline_order': 1}\n",
      "1.0832140508633932                                                               \n",
      "{'activation_scale': 9.932157689025246, 'grid_eps': 1.0590414758184799e-07, 'grid_size': 7, 'lambda_l1': 9.470653076644902e-07, 'lambda_l2': 0.011590520897116265, 'learning_rate': 0.004988824532582079, 'non': 18, 'scale_base': 0.0014161355114629783, 'scale_noise': 0.0001317923572716459, 'scale_spline': 1.4846876942014895e-05, 'spline_order': 7}\n",
      "1.2272280774440678                                                               \n",
      "{'activation_scale': 9.187465160462954, 'grid_eps': 7.689814249343741e-07, 'grid_size': 1, 'lambda_l1': 1.0423414316806948e-07, 'lambda_l2': 1.0426286447423146e-06, 'learning_rate': 0.0007406377250529585, 'non': 16, 'scale_base': 0.0003054468188434117, 'scale_noise': 0.027460324775228185, 'scale_spline': 0.09169606645209435, 'spline_order': 6}\n",
      "0.7845380250643456                                                               \n",
      "{'activation_scale': 1.249393362540634, 'grid_eps': 4.7484680502297065e-05, 'grid_size': 3, 'lambda_l1': 3.5971334165262113e-07, 'lambda_l2': 1.968077312572464e-07, 'learning_rate': 0.05010032622777721, 'non': 10, 'scale_base': 0.19684026590037357, 'scale_noise': 0.008249867661455364, 'scale_spline': 0.0005335153610929568, 'spline_order': 10}\n",
      "1.4651293021308942                                                               \n",
      "{'activation_scale': 5.496349157718784, 'grid_eps': 0.0001714029014977994, 'grid_size': 7, 'lambda_l1': 2.371546648841075e-06, 'lambda_l2': 4.323934379965881e-06, 'learning_rate': 0.002723191513198146, 'non': 12, 'scale_base': 0.015038103623126997, 'scale_noise': 0.09570255105932698, 'scale_spline': 0.0002393368941506859, 'spline_order': 9}\n",
      "0.8364403506432944                                                               \n",
      "{'activation_scale': 4.538194445692427, 'grid_eps': 0.044897729418521215, 'grid_size': 5, 'lambda_l1': 7.350503916408141e-06, 'lambda_l2': 1.0221249727955292e-07, 'learning_rate': 0.013504240746311545, 'non': 20, 'scale_base': 1.5257597695026093e-05, 'scale_noise': 0.00042629840600122475, 'scale_spline': 0.6220183847939479, 'spline_order': 8}\n",
      "0.9099477411835651                                                               \n",
      "{'activation_scale': 8.659275933743249, 'grid_eps': 7.880659358694155e-07, 'grid_size': 9, 'lambda_l1': 4.977234973521305e-07, 'lambda_l2': 6.94998716931273e-07, 'learning_rate': 0.007900302261538905, 'non': 8, 'scale_base': 3.980053498042819, 'scale_noise': 3.5017755062282765e-05, 'scale_spline': 6.946973660286548, 'spline_order': 10}\n",
      "0.7648049050467953                                                               \n",
      "{'activation_scale': 3.0777044600231287, 'grid_eps': 4.125895565962403e-06, 'grid_size': 14, 'lambda_l1': 1.937892749960579e-05, 'lambda_l2': 0.003994677346413993, 'learning_rate': 0.0011377003105671685, 'non': 18, 'scale_base': 0.005147944615948164, 'scale_noise': 0.001972593423049579, 'scale_spline': 0.014404795067134542, 'spline_order': 7}\n",
      "1.491011169454309                                                                \n",
      "{'activation_scale': 7.132674534908378, 'grid_eps': 1.1606370981300391e-05, 'grid_size': 2, 'lambda_l1': 2.0944853106403744e-07, 'lambda_l2': 2.50231639701015e-05, 'learning_rate': 0.09399789286575572, 'non': 14, 'scale_base': 5.304428717534053e-05, 'scale_noise': 0.0011576486708941318, 'scale_spline': 0.0010920276104706343, 'spline_order': 9}\n",
      "0.7533953884641506                                                               \n",
      "{'activation_scale': 0.5812303315220815, 'grid_eps': 0.0041660940740752, 'grid_size': 10, 'lambda_l1': 0.00033077823575001326, 'lambda_l2': 0.00010489831301445489, 'learning_rate': 0.019159379242170142, 'non': 20, 'scale_base': 0.8356067890787787, 'scale_noise': 0.012087586391719236, 'scale_spline': 2.870929197761775, 'spline_order': 4}\n",
      "1.3963776381828068                                                               \n",
      "{'activation_scale': 6.029255540009895, 'grid_eps': 1.420583947549549e-07, 'grid_size': 7, 'lambda_l1': 4.387122373476093e-06, 'lambda_l2': 1.7005859119475132e-06, 'learning_rate': 0.0006630313218309334, 'non': 16, 'scale_base': 0.08520579380784149, 'scale_noise': 0.00024984075350127123, 'scale_spline': 0.04038096689191691, 'spline_order': 4}\n",
      "0.6428242436994697                                                               \n",
      "{'activation_scale': 1.6402401946218972, 'grid_eps': 3.365411339682742e-05, 'grid_size': 13, 'lambda_l1': 4.000375844393816e-05, 'lambda_l2': 7.519385503707e-06, 'learning_rate': 0.04978652862111852, 'non': 10, 'scale_base': 9.746764922158924, 'scale_noise': 0.0055632803535359794, 'scale_spline': 0.1462468879252717, 'spline_order': 1}\n",
      "1.5528036335772724                                                               \n",
      "{'activation_scale': 3.624407325286053, 'grid_eps': 0.01766095396811771, 'grid_size': 5, 'lambda_l1': 0.0002507170275848407, 'lambda_l2': 1.7590802404180361e-07, 'learning_rate': 0.0001546315526336643, 'non': 12, 'scale_base': 0.1707366829530508, 'scale_noise': 0.05652150009511191, 'scale_spline': 0.056756057699033566, 'spline_order': 7}\n",
      "0.5298706065071548                                                               \n",
      "{'activation_scale': 0.17831877221548442, 'grid_eps': 5.040811924560441e-07, 'grid_size': 10, 'lambda_l1': 9.75746966526022e-06, 'lambda_l2': 0.00031908567171884085, 'learning_rate': 0.010823848798973825, 'non': 12, 'scale_base': 0.0029279399540871843, 'scale_noise': 0.019957439514277444, 'scale_spline': 0.018955033248267417, 'spline_order': 10}\n",
      "0.781377443569357                                                                \n",
      "{'activation_scale': 1.8677112950525085, 'grid_eps': 0.0003510741481849528, 'grid_size': 6, 'lambda_l1': 1.0610125007290022e-06, 'lambda_l2': 0.00010990352318036524, 'learning_rate': 0.00041983474273962133, 'non': 18, 'scale_base': 0.0003683954765844597, 'scale_noise': 0.0006002457585310429, 'scale_spline': 0.3532750914037833, 'spline_order': 8}\n",
      "0.5936761821684454                                                                \n",
      "{'activation_scale': 2.5153106456856724, 'grid_eps': 1.132407454757826e-05, 'grid_size': 3, 'lambda_l1': 2.8008746201702506e-07, 'lambda_l2': 1.2790134235053324e-05, 'learning_rate': 0.0017935658970719022, 'non': 20, 'scale_base': 0.2804110714369815, 'scale_noise': 0.002852355082627709, 'scale_spline': 2.4115772373404514e-05, 'spline_order': 6}\n",
      "1.5624794004820644                                                                \n",
      "{'activation_scale': 6.510906473195379, 'grid_eps': 1.2070453921999664e-06, 'grid_size': 9, 'lambda_l1': 0.005249701306959169, 'lambda_l2': 3.971203559460665e-05, 'learning_rate': 0.022849267988493523, 'non': 16, 'scale_base': 0.019269701752303928, 'scale_noise': 7.111141826832754e-05, 'scale_spline': 0.304689300944021, 'spline_order': 5}\n",
      "9.306294087885838                                                                 \n",
      "{'activation_scale': 4.060357697702216, 'grid_eps': 0.0008894530138694358, 'grid_size': 4, 'lambda_l1': 6.312484257172359e-07, 'lambda_l2': 6.620330285853524e-07, 'learning_rate': 2.638489025068822e-05, 'non': 8, 'scale_base': 2.374398872189126, 'scale_noise': 0.0002948715739808373, 'scale_spline': 0.0001262721682348501, 'spline_order': 10}\n",
      "1.166887595045461                                                                \n",
      "{'activation_scale': 4.828484328628283, 'grid_eps': 0.00010997884245780677, 'grid_size': 7, 'lambda_l1': 1.0648399727794573e-07, 'lambda_l2': 2.050291499651254e-06, 'learning_rate': 0.036612354901694545, 'non': 14, 'scale_base': 5.1611433632496855, 'scale_noise': 0.018000502297756467, 'scale_spline': 0.011926779315884069, 'spline_order': 8}\n",
      "100%|██████████| 50/50 [55:16<00:00, 66.33s/trial, best loss: 0.4386058068843755]\n",
      "Best hyperparameters: {'activation_scale': 1.2020012017171953, 'grid_eps': 2.174409816383361e-06, 'grid_size': 6.0, 'lambda_l1': 2.1911602223351263e-07, 'lambda_l2': 4.3532464106734104e-07, 'learning_rate': 0.034451407386316496, 'non': 18.0, 'scale_base': 4.561099576002518, 'scale_noise': 0.001150267075375876, 'scale_spline': 0.0022885412988338225, 'spline_order': 10.0}\n"
     ]
    }
   ],
   "source": [
    "trials = Trials()\n",
    "best_params = fmin(fn=objective,\n",
    "                   space=space,\n",
    "                   algo=tpe.suggest,\n",
    "                   max_evals=50,\n",
    "                   trials=trials)\n",
    "print(\"Best hyperparameters:\", best_params)"
   ]
  },
  {
   "cell_type": "code",
   "execution_count": 21,
   "metadata": {
    "execution": {
     "iopub.execute_input": "2024-08-14T01:31:57.471266Z",
     "iopub.status.busy": "2024-08-14T01:31:57.471266Z",
     "iopub.status.idle": "2024-08-14T01:31:57.780566Z",
     "shell.execute_reply": "2024-08-14T01:31:57.780566Z"
    }
   },
   "outputs": [],
   "source": [
    "param_df.to_csv(f'param_df{current_target}.csv')"
   ]
  },
  {
   "cell_type": "code",
   "execution_count": 22,
   "metadata": {},
   "outputs": [
    {
     "name": "stderr",
     "output_type": "stream",
     "text": [
      "C:\\Users\\Administrator\\AppData\\Local\\Temp\\2\\ipykernel_268\\836558021.py:1: FutureWarning: You are using `torch.load` with `weights_only=False` (the current default value), which uses the default pickle module implicitly. It is possible to construct malicious pickle data which will execute arbitrary code during unpickling (See https://github.com/pytorch/pytorch/blob/main/SECURITY.md#untrusted-models for more details). In a future release, the default value for `weights_only` will be flipped to `True`. This limits the functions that could be executed during unpickling. Arbitrary objects will no longer be allowed to be loaded via this mode unless they are explicitly allowlisted by the user via `torch.serialization.add_safe_globals`. We recommend you start setting `weights_only=True` for any use case where you don't have full control of the loaded file. Please open an issue on GitHub for any issues related to this experimental feature.\n",
      "  checkpoint = torch.load(f\"{current_target}_bestest_model.pth\")\n"
     ]
    },
    {
     "data": {
      "text/plain": [
       "<All keys matched successfully>"
      ]
     },
     "execution_count": 22,
     "metadata": {},
     "output_type": "execute_result"
    }
   ],
   "source": [
    "checkpoint = torch.load(f\"{current_target}_bestest_model.pth\")\n",
    "params1 = checkpoint['params']\n",
    "model = KAN(\n",
    "    layers_hidden=[8, params1['non'], 1],\n",
    "    grid_size=params1['grid_size'],\n",
    "    spline_order=params1['spline_order'],\n",
    "    scale_noise=params1['scale_noise'],\n",
    "    scale_base=params1['scale_base'],\n",
    "    scale_spline=params1['scale_spline'],\n",
    "    base_activation=nn.SiLU,\n",
    "    grid_eps=params1['grid_eps'],\n",
    "    grid_range=[0, 1],\n",
    "    activation_scale=params1['activation_scale']\n",
    ")\n",
    "model.load_state_dict(checkpoint['model_state_dict'])"
   ]
  },
  {
   "cell_type": "code",
   "execution_count": 23,
   "metadata": {
    "execution": {
     "iopub.execute_input": "2024-08-14T01:35:57.089785Z",
     "iopub.status.busy": "2024-08-14T01:35:57.089785Z",
     "iopub.status.idle": "2024-08-14T01:35:57.119778Z",
     "shell.execute_reply": "2024-08-14T01:35:57.119778Z"
    }
   },
   "outputs": [
    {
     "data": {
      "text/plain": [
       "0.4221066584319338"
      ]
     },
     "execution_count": 23,
     "metadata": {},
     "output_type": "execute_result"
    }
   ],
   "source": [
    "model.eval()\n",
    "with torch.no_grad():\n",
    "    test_predictions = model(dataset['test_input'])\n",
    "mse(dataset['test_label'].numpy(), test_predictions.numpy())**0.5"
   ]
  },
  {
   "cell_type": "code",
   "execution_count": 24,
   "metadata": {
    "execution": {
     "iopub.execute_input": "2024-08-14T01:35:57.119778Z",
     "iopub.status.busy": "2024-08-14T01:35:57.119778Z",
     "iopub.status.idle": "2024-08-14T01:35:57.132091Z",
     "shell.execute_reply": "2024-08-14T01:35:57.132091Z"
    }
   },
   "outputs": [
    {
     "data": {
      "text/plain": [
       "0.9980884529454145"
      ]
     },
     "execution_count": 24,
     "metadata": {},
     "output_type": "execute_result"
    }
   ],
   "source": [
    "r2_score(dataset['test_label'].numpy(), test_predictions.numpy())"
   ]
  }
 ],
 "metadata": {
  "kernelspec": {
   "display_name": "Python 3",
   "language": "python",
   "name": "python3"
  },
  "language_info": {
   "codemirror_mode": {
    "name": "ipython",
    "version": 3
   },
   "file_extension": ".py",
   "mimetype": "text/x-python",
   "name": "python",
   "nbconvert_exporter": "python",
   "pygments_lexer": "ipython3",
   "version": "3.12.6"
  }
 },
 "nbformat": 4,
 "nbformat_minor": 2
}
