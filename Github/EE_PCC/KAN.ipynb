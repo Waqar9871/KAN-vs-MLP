{
 "cells": [
  {
   "cell_type": "code",
   "execution_count": 1,
   "metadata": {
    "execution": {
     "iopub.execute_input": "2024-08-13T18:34:38.570824Z",
     "iopub.status.busy": "2024-08-13T18:34:38.570824Z",
     "iopub.status.idle": "2024-08-13T18:34:41.911241Z",
     "shell.execute_reply": "2024-08-13T18:34:41.911241Z"
    }
   },
   "outputs": [],
   "source": [
    "import pandas as pd\n",
    "import torch\n",
    "from sklearn.model_selection import train_test_split\n",
    "import numpy as np\n",
    "from sklearn.metrics import mean_squared_error as mse, r2_score\n",
    "from hyperopt import fmin, tpe, hp, Trials, STATUS_OK\n",
    "from sklearn.preprocessing import MinMaxScaler\n",
    "from kan_p import *\n",
    "import torch.nn as nn\n",
    "import random\n",
    "import torch.optim as optim\n",
    "\n",
    "torch.set_default_dtype(torch.float64)\n",
    "dtype = torch.get_default_dtype()"
   ]
  },
  {
   "cell_type": "code",
   "execution_count": 2,
   "metadata": {
    "execution": {
     "iopub.execute_input": "2024-08-13T18:34:41.911241Z",
     "iopub.status.busy": "2024-08-13T18:34:41.911241Z",
     "iopub.status.idle": "2024-08-13T18:34:41.923908Z",
     "shell.execute_reply": "2024-08-13T18:34:41.923908Z"
    }
   },
   "outputs": [],
   "source": [
    "df=pd.read_csv('data.csv',header=1)\n",
    "df=df.drop(columns=['cl'])\n",
    "current_target='hl'"
   ]
  },
  {
   "cell_type": "code",
   "execution_count": 3,
   "metadata": {
    "execution": {
     "iopub.execute_input": "2024-08-13T18:34:41.923908Z",
     "iopub.status.busy": "2024-08-13T18:34:41.923908Z",
     "iopub.status.idle": "2024-08-13T18:34:41.933839Z",
     "shell.execute_reply": "2024-08-13T18:34:41.933839Z"
    }
   },
   "outputs": [],
   "source": [
    "df = df.sort_index()\n",
    "x = df.drop(columns=current_target)\n",
    "y = df[current_target]\n",
    "x_train, x_test, y_train, y_test = train_test_split(x, y, test_size=0.3, random_state=17) #81 cl, 17 hl,"
   ]
  },
  {
   "cell_type": "markdown",
   "metadata": {},
   "source": [
    "for n in range(100):\n",
    "    df = df.sort_index()\n",
    "    x = df.drop(columns=current_target)\n",
    "    y = df[current_target]\n",
    "    x_train, x_test, y_train, y_test = train_test_split(x, y, test_size=0.3, random_state=n)\n",
    "    model=CatBoostRegressor(verbose=False)\n",
    "    model.fit(x_train,y_train)\n",
    "    print(f\"{n},{mse(model.predict(x_test),y_test)}\")\n",
    "\n",
    "1. cl\n",
    "0,0.6726237937055908\n",
    "1,0.6551111204528186\n",
    "2,0.5134167792554208\n",
    "3,0.6702404964559748\n",
    "4,0.3963925748445111\n",
    "5,0.4244785272343683\n",
    "6,0.7128779993606781\n",
    "7,0.42448164546650735\n",
    "8,0.5758215699724097\n",
    "9,0.6929274000992075\n",
    "10,0.5241317759101504\n",
    "11,0.5502553447749845\n",
    "12,0.6750870949568888\n",
    "13,0.5918744283393744\n",
    "14,0.3688059156312062\n",
    "15,0.33924429643333115\n",
    "16,0.4933456427221908\n",
    "17,0.6611190753724675\n",
    "18,0.8776379907503337\n",
    "19,0.6418714641400631\n",
    "20,0.47863783450134006\n",
    "21,0.5110820995530742\n",
    "22,0.7599056382572423\n",
    "23,0.6616884552833008\n",
    "24,0.7018338094536908\n",
    "25,0.6651892620050522\n",
    "26,0.542460723048853\n",
    "27,0.43925698458261875\n",
    "28,0.5528020179778033\n",
    "29,0.4881128026914078\n",
    "30,0.5641605587796904\n",
    "31,0.43074406870363807\n",
    "32,0.9513384725135475\n",
    "33,0.6547016720207187\n",
    "34,0.4385436533488978\n",
    "35,0.5133608813629675\n",
    "36,0.5973251884924098\n",
    "37,0.7137358054712505\n",
    "38,0.4472159919128551\n",
    "39,0.5293948727579767\n",
    "40,0.6419645799724142\n",
    "41,0.49753682548396344\n",
    "42,0.48946337510663984\n",
    "43,0.39542504771074677\n",
    "44,0.4229125982091833\n",
    "45,0.5630333736986324\n",
    "46,0.6826538057166728\n",
    "47,0.7045957241567439\n",
    "48,0.9589865159769584\n",
    "49,0.970304926742422\n",
    "50,0.5114439360470149\n",
    "51,0.4564611558849673\n",
    "52,0.41539648054739475\n",
    "53,0.5736707791681147\n",
    "54,0.5602177165490395\n",
    "55,0.5015575788586971\n",
    "56,0.77891950685694\n",
    "57,0.6307812807713166\n",
    "58,0.5642348164581901\n",
    "59,0.45400243254004513\n",
    "60,0.7959933976879333\n",
    "61,0.8882558932204597\n",
    "62,0.6801553869713919\n",
    "63,0.4878988395146996\n",
    "64,0.8252484918439765\n",
    "65,0.5146937422621961\n",
    "66,0.5177163488361217\n",
    "67,0.4885181426357839\n",
    "68,0.5922663079631817\n",
    "69,0.5564526449733648\n",
    "70,0.4632930218203085\n",
    "71,0.6754912162581836\n",
    "72,0.6212396948191566\n",
    "73,0.4971932378757647\n",
    "74,0.45047835422321364\n",
    "75,0.6427462558119769\n",
    "76,0.4554135719629285\n",
    "77,0.4606326995622914\n",
    "78,1.1826245842058944\n",
    "79,0.6157536348277911\n",
    "80,0.8336385973478375\n",
    "81,0.33578481362592855\n",
    "82,0.4720676693788693\n",
    "83,0.5343760903099496\n",
    "84,0.5936119068763387\n",
    "85,0.585729010388912\n",
    "86,0.718412495687104\n",
    "87,0.5506948215987275\n",
    "88,0.45996103660804405\n",
    "89,0.4582340678778356\n",
    "90,0.4476517549558945\n",
    "91,0.7348561801653456\n",
    "92,0.4526448523430189\n",
    "93,1.0544624252486114\n",
    "94,0.5089084491829143\n",
    "95,0.4653337146771206\n",
    "96,0.5308033776319937\n",
    "97,0.6142448731395392\n",
    "98,0.4479745720313298\n",
    "99,0.5441578648255044\n",
    "\n",
    "2. hl\n",
    "0,0.1489341506839013\n",
    "1,0.11505072218481588\n",
    "2,0.1210512197198303\n",
    "3,0.11999413749902414\n",
    "4,0.10305787369378579\n",
    "5,0.10397017898197007\n",
    "6,0.14998818435446742\n",
    "7,0.1333043024447535\n",
    "8,0.11130477843175925\n",
    "9,0.1425725829343789\n",
    "10,0.14855983649539045\n",
    "11,0.15300385725945378\n",
    "12,0.10367149248066052\n",
    "13,0.12381504539201228\n",
    "14,0.10389730166324894\n",
    "15,0.10872396797076571\n",
    "16,0.20766519850225745\n",
    "17,0.07058818947529498\n",
    "18,0.700049445374208\n",
    "19,0.10056803372886693\n",
    "20,0.10028635130254954\n",
    "21,0.09913464572187124\n",
    "22,0.13918253531038705\n",
    "23,0.152417334877583\n",
    "24,0.10746914336867258\n",
    "25,0.14073873695210948\n",
    "26,0.10437584352647893\n",
    "27,0.1382380748781409\n",
    "28,0.11224680357474569\n",
    "29,0.10615251377508314\n",
    "30,0.13518751840365692\n",
    "31,0.11391676156575323\n",
    "32,0.24052476501195155\n",
    "33,0.10836811987254881\n",
    "34,0.1532889724809035\n",
    "35,0.12166964393842336\n",
    "36,0.10683800910364755\n",
    "37,0.15455576338139226\n",
    "38,0.09326644445549408\n",
    "39,0.1289245473198724\n",
    "40,0.3727714612021985\n",
    "41,0.10840153040532234\n",
    "42,0.12612311593925896\n",
    "43,0.08912433585144204\n",
    "44,0.0837212388516493\n",
    "45,0.10978125138486883\n",
    "46,0.11353192341767072\n",
    "47,0.13575952826393678\n",
    "48,0.1933672768331914\n",
    "49,0.12194051706670986\n",
    "50,0.08926803138703238\n",
    "51,0.11989231674540715\n",
    "52,0.1317998367607502\n",
    "53,0.09301372055244184\n",
    "54,0.13915986087774063\n",
    "55,0.09812140696497591\n",
    "56,0.14747867249615648\n",
    "57,0.11377591769998492\n",
    "58,0.20129228730462154\n",
    "59,0.13284501579857613\n",
    "60,0.15462962086018214\n",
    "61,0.44318173792138554\n",
    "62,0.1711135817126508\n",
    "63,0.13622964318496805\n",
    "64,0.1086866976142961\n",
    "65,0.12191195610483656\n",
    "66,0.2147835735484987\n",
    "67,0.1589878393160268\n",
    "68,0.11124986988619477\n",
    "69,0.15522080911252464\n",
    "70,0.09086398813959162\n",
    "71,0.16564674659194586\n",
    "72,0.11909266479980044\n",
    "73,0.16158603320985046\n",
    "74,0.10064173236314371\n",
    "75,0.1490685334283945\n",
    "76,0.09117910394017567\n",
    "77,0.12041289104554949\n",
    "78,0.14479143639649322\n",
    "79,0.09429977426759172\n",
    "80,0.11475943590250344\n",
    "81,0.10803025387581155\n",
    "82,0.10269337962569641\n",
    "83,0.10549190601957907\n",
    "84,0.1013728504560079\n",
    "85,0.27292722663709174\n",
    "86,0.14005984730373597\n",
    "87,0.10788515483840452\n",
    "88,0.1364334823829534\n",
    "89,0.13401319197948594\n",
    "90,0.10530441005104788\n",
    "91,0.11881955494122014\n",
    "92,0.14637669793202007\n",
    "93,0.11208376876773744\n",
    "94,0.0900481568889163\n",
    "95,0.12357887088645979\n",
    "96,0.10210315969061771\n",
    "97,0.284649197516948\n",
    "98,0.13353946279465723\n",
    "99,0.10209304121912875"
   ]
  },
  {
   "cell_type": "code",
   "execution_count": 4,
   "metadata": {
    "execution": {
     "iopub.execute_input": "2024-08-13T18:34:41.933839Z",
     "iopub.status.busy": "2024-08-13T18:34:41.933839Z",
     "iopub.status.idle": "2024-08-13T18:34:41.945074Z",
     "shell.execute_reply": "2024-08-13T18:34:41.945074Z"
    }
   },
   "outputs": [],
   "source": [
    "def set_seed(seed=42):\n",
    "    np.random.seed(seed)\n",
    "    random.seed(seed)\n",
    "    torch.manual_seed(seed)\n",
    "\n",
    "set_seed(42)"
   ]
  },
  {
   "cell_type": "code",
   "execution_count": 5,
   "metadata": {
    "execution": {
     "iopub.execute_input": "2024-08-13T18:34:41.945074Z",
     "iopub.status.busy": "2024-08-13T18:34:41.945074Z",
     "iopub.status.idle": "2024-08-13T18:34:41.955176Z",
     "shell.execute_reply": "2024-08-13T18:34:41.955176Z"
    }
   },
   "outputs": [],
   "source": [
    "dataset = {}\n",
    "train_input=x_train.to_numpy()\n",
    "train_label=y_train.to_numpy()\n",
    "test_input=x_test.to_numpy()\n",
    "test_label=y_test.to_numpy()"
   ]
  },
  {
   "cell_type": "code",
   "execution_count": 6,
   "metadata": {
    "execution": {
     "iopub.execute_input": "2024-08-13T18:34:41.955176Z",
     "iopub.status.busy": "2024-08-13T18:34:41.955176Z",
     "iopub.status.idle": "2024-08-13T18:34:41.971311Z",
     "shell.execute_reply": "2024-08-13T18:34:41.971311Z"
    }
   },
   "outputs": [],
   "source": [
    "scaler_input = MinMaxScaler()\n",
    "\n",
    "train_input_scaled = scaler_input.fit_transform(train_input)\n",
    "test_input_scaled = scaler_input.transform(test_input)\n",
    "\n",
    "dataset['train_input'] = torch.from_numpy(train_input_scaled).type(dtype)\n",
    "dataset['test_input'] = torch.from_numpy(test_input_scaled).type(dtype)\n",
    "dataset['train_label'] = torch.from_numpy(train_label[:,None]).type(dtype)\n",
    "dataset['test_label'] = torch.from_numpy(test_label[:,None]).type(dtype)"
   ]
  },
  {
   "cell_type": "code",
   "execution_count": 7,
   "metadata": {
    "execution": {
     "iopub.execute_input": "2024-08-13T18:34:41.971311Z",
     "iopub.status.busy": "2024-08-13T18:34:41.971311Z",
     "iopub.status.idle": "2024-08-13T18:34:41.978501Z",
     "shell.execute_reply": "2024-08-13T18:34:41.978501Z"
    }
   },
   "outputs": [],
   "source": [
    "def p_c(x, y, y_hat):\n",
    "    y = y[:, 0]\n",
    "    y_hat = y_hat[:, 0]\n",
    "    differences = []\n",
    "\n",
    "    for i in range(8):\n",
    "        n = x[:, i]\n",
    "        mean_n = torch.mean(n)\n",
    "        mean_y = torch.mean(y)\n",
    "        mean_y_hat = torch.mean(y_hat)\n",
    "\n",
    "        numerator1 = torch.sum((n - mean_n) * (y - mean_y))\n",
    "        denominator1 = torch.sqrt(torch.sum((n - mean_n)**2) * torch.sum((y - mean_y)**2))\n",
    "\n",
    "        numerator2 = torch.sum((n - mean_n) * (y_hat - mean_y_hat))\n",
    "        denominator2 = torch.sqrt(torch.sum((n - mean_n)**2) * torch.sum((y_hat - mean_y_hat)**2))\n",
    "\n",
    "        pc1 = numerator1 / denominator1 if denominator1 != 0 else 0\n",
    "        pc2 = numerator2 / denominator2 if denominator2 != 0 else 0\n",
    "\n",
    "        differences.append(torch.abs(torch.abs(pc1) - torch.abs(pc2)))\n",
    "\n",
    "    return torch.mean(torch.tensor(differences))"
   ]
  },
  {
   "cell_type": "code",
   "execution_count": 8,
   "metadata": {
    "execution": {
     "iopub.execute_input": "2024-08-13T18:34:41.978501Z",
     "iopub.status.busy": "2024-08-13T18:34:41.978501Z",
     "iopub.status.idle": "2024-08-13T18:34:41.985705Z",
     "shell.execute_reply": "2024-08-13T18:34:41.985705Z"
    }
   },
   "outputs": [],
   "source": [
    "space = {\n",
    "    'grid_size': hp.quniform('grid_size', 1, 15, 1),\n",
    "    'spline_order': hp.quniform('spline_order', 1, 10, 1),\n",
    "    'scale_noise': hp.loguniform('scale_noise', np.log(1e-5), np.log(1e-1)),\n",
    "    'scale_base': hp.loguniform('scale_base', np.log(1e-5), np.log(1e1)),\n",
    "    'scale_spline': hp.loguniform('scale_spline', np.log(1e-5), np.log(1e1)),\n",
    "    'learning_rate': hp.loguniform('learning_rate', np.log(1e-5), np.log(1e-1)),\n",
    "    'lambda_l1': hp.loguniform('lambda_l1', np.log(1e-7), np.log(1e-1)),\n",
    "    'lambda_l2': hp.loguniform('lambda_l2', np.log(1e-7), np.log(1e-1)),\n",
    "    'grid_eps': hp.loguniform('grid_eps', np.log(1e-7), np.log(1e-1)),\n",
    "    'non': hp.quniform('non', 8, 20, 2),\n",
    "    'p_c_loss_factor': hp.loguniform('p_c_loss_factor', np.log(1e-7), np.log(1)),\n",
    "    'activation_scale': hp.uniform('activation_scale', 0.1, 10.0)  # Uniform distribution for activation_scale\n",
    "}"
   ]
  },
  {
   "cell_type": "code",
   "execution_count": 9,
   "metadata": {
    "execution": {
     "iopub.execute_input": "2024-08-13T18:34:41.985705Z",
     "iopub.status.busy": "2024-08-13T18:34:41.985705Z",
     "iopub.status.idle": "2024-08-13T18:34:41.996999Z",
     "shell.execute_reply": "2024-08-13T18:34:41.996999Z"
    }
   },
   "outputs": [],
   "source": [
    "param_df = pd.DataFrame(columns=['params', 'loss_curve_train', 'loss_curve_test', 'best_score'])\n",
    "trial_no = 0\n",
    "bestest_score = float('inf')  # Initialize global variable\n",
    "def objective(params):\n",
    "    global trial_no, bestest_score  # Declare global variables\n",
    "    trial_no += 1\n",
    "    params['grid_size'] = int(params['grid_size'])\n",
    "    params['spline_order'] = int(params['spline_order'])\n",
    "    params['non'] = int(params['non'])\n",
    "    model = KAN(\n",
    "        layers_hidden=[8, params['non'], 1],\n",
    "        grid_size=params['grid_size'],\n",
    "        spline_order=params['spline_order'],\n",
    "        scale_noise=params['scale_noise'],\n",
    "        scale_base=params['scale_base'],\n",
    "        scale_spline=params['scale_spline'],\n",
    "        base_activation=nn.SiLU,\n",
    "        grid_eps=params['grid_eps'],\n",
    "        grid_range=[0, 1],\n",
    "        activation_scale=params['activation_scale']\n",
    "    )\n",
    "    \n",
    "    criterion = nn.MSELoss()\n",
    "    optimizer = optim.Adam(model.parameters(), lr=params['learning_rate'], weight_decay=params['lambda_l2'])\n",
    "    num_epochs = 5000\n",
    "    patience = 200\n",
    "    best_loss = float('inf')\n",
    "    epochs_no_improve = 0\n",
    "    best_model_state = None  # Initialize the best model state\n",
    "    param_df['params'].loc[trial_no] = params\n",
    "    training_loss = []\n",
    "    test_loss = []\n",
    "    \n",
    "    for epoch in range(num_epochs):\n",
    "        model.train()\n",
    "        optimizer.zero_grad()\n",
    "        predictions = model(dataset['train_input'])\n",
    "        main_loss = criterion(predictions, dataset['train_label'])\n",
    "        l1_loss = sum(p.abs().sum() for p in model.parameters())\n",
    "        pc_loss = p_c(dataset['train_input'], dataset['train_label'], predictions)\n",
    "        loss = main_loss + (params['lambda_l1'] * l1_loss) + (params['p_c_loss_factor'] * pc_loss)\n",
    "        loss.backward()\n",
    "        optimizer.step()\n",
    "        training_loss.append(loss.item())\n",
    "        \n",
    "        model.eval()\n",
    "        with torch.no_grad():\n",
    "            val_predictions = model(dataset['test_input'])\n",
    "            temp_score = mse(dataset['test_label'].cpu().numpy(), val_predictions.cpu().numpy())  # Move tensors to CPU before numpy\n",
    "        test_loss.append(temp_score)\n",
    "        \n",
    "        if temp_score < best_loss:\n",
    "            best_loss = temp_score\n",
    "            epochs_no_improve = 0\n",
    "            best_model_state = model.state_dict()\n",
    "        else:\n",
    "            epochs_no_improve += 1\n",
    "        \n",
    "        if epochs_no_improve >= patience:\n",
    "            model.load_state_dict(best_model_state)\n",
    "            break\n",
    "        \n",
    "        # Update the bestest score\n",
    "        if temp_score < bestest_score:\n",
    "            bestest_score = temp_score\n",
    "            torch.save({'model_state_dict': best_model_state, 'params': params}, f\"{current_target}_bestest_model.pth\")\n",
    "            \n",
    "    model.eval()\n",
    "    with torch.no_grad():\n",
    "        test_predictions = model(dataset['test_input'])\n",
    "    score = mse(dataset['test_label'].numpy(), test_predictions.numpy())  # Move tensors to CPU before numpy\n",
    "    param_df.loc[trial_no] = [params, training_loss, test_loss, score]\n",
    "    print(score)\n",
    "    print(params)\n",
    "    return score"
   ]
  },
  {
   "cell_type": "code",
   "execution_count": 10,
   "metadata": {
    "execution": {
     "iopub.execute_input": "2024-08-13T18:34:41.996999Z",
     "iopub.status.busy": "2024-08-13T18:34:41.996999Z",
     "iopub.status.idle": "2024-08-13T20:03:50.378372Z",
     "shell.execute_reply": "2024-08-13T20:03:50.378372Z"
    }
   },
   "outputs": [
    {
     "name": "stdout",
     "output_type": "stream",
     "text": [
      "5.8842358753535535                                    \n",
      "{'activation_scale': 9.55145927178779, 'grid_eps': 0.03994939717707933, 'grid_size': 7, 'lambda_l1': 0.00040303767087348846, 'lambda_l2': 0.02535675444775089, 'learning_rate': 4.8172873369532286e-05, 'non': 12, 'p_c_loss_factor': 5.8849178659107045e-05, 'scale_base': 0.00013759158017548554, 'scale_noise': 0.002594355240371078, 'scale_spline': 0.01756264666721024, 'spline_order': 7}\n",
      "0.28668371533407916                                                                \n",
      "{'activation_scale': 6.732862783729046, 'grid_eps': 6.609657424389514e-05, 'grid_size': 12, 'lambda_l1': 0.004705251052757865, 'lambda_l2': 0.0008357534041308843, 'learning_rate': 0.02236785416098532, 'non': 16, 'p_c_loss_factor': 0.2163040478851453, 'scale_base': 0.00014266294841274227, 'scale_noise': 1.1060882400908939e-05, 'scale_spline': 0.023630562630731284, 'spline_order': 2}\n",
      "0.17237379915018805                                                                \n",
      "{'activation_scale': 6.960668515153283, 'grid_eps': 3.0709697970062557e-07, 'grid_size': 4, 'lambda_l1': 1.7211259159131626e-05, 'lambda_l2': 0.0001023551857755399, 'learning_rate': 0.0018815360439093346, 'non': 10, 'p_c_loss_factor': 2.607605861972994e-07, 'scale_base': 1.0671913743918355, 'scale_noise': 3.478710356080638e-05, 'scale_spline': 3.2236826795189217, 'spline_order': 9}\n",
      "0.5365731446301435                                                                  \n",
      "{'activation_scale': 6.695812410994033, 'grid_eps': 0.01592078542273421, 'grid_size': 4, 'lambda_l1': 4.242583881181532e-07, 'lambda_l2': 0.0012431617287271771, 'learning_rate': 0.00017312562219584578, 'non': 16, 'p_c_loss_factor': 3.841227182414448e-05, 'scale_base': 0.18037175230763422, 'scale_noise': 0.0007164363693860569, 'scale_spline': 0.00036909803023231415, 'spline_order': 2}\n",
      "2.059540563531566                                                                   \n",
      "{'activation_scale': 3.9053821313693606, 'grid_eps': 0.004437574231237308, 'grid_size': 6, 'lambda_l1': 0.0240337383297534, 'lambda_l2': 0.009450697910221855, 'learning_rate': 0.00038718254305609783, 'non': 10, 'p_c_loss_factor': 0.0713850852048187, 'scale_base': 0.0014613268966791714, 'scale_noise': 0.0007853515531507785, 'scale_spline': 0.9615272167553228, 'spline_order': 10}\n",
      "0.1577495296468218                                                                  \n",
      "{'activation_scale': 2.186064308478857, 'grid_eps': 0.0007605658782919986, 'grid_size': 9, 'lambda_l1': 5.791124550184817e-06, 'lambda_l2': 0.018629350835200804, 'learning_rate': 0.03392334398236473, 'non': 16, 'p_c_loss_factor': 0.0014352234519632613, 'scale_base': 0.0035841419344556833, 'scale_noise': 0.0011159184440145647, 'scale_spline': 2.1393174421431183e-05, 'spline_order': 8}\n",
      "0.6244848446014167                                                                  \n",
      "{'activation_scale': 7.94205244051423, 'grid_eps': 6.93402815624465e-07, 'grid_size': 6, 'lambda_l1': 0.00015337670068523722, 'lambda_l2': 3.611438204870896e-05, 'learning_rate': 0.00040439952886307096, 'non': 16, 'p_c_loss_factor': 3.383761812272147e-07, 'scale_base': 0.0034476557468302044, 'scale_noise': 0.05826135020901957, 'scale_spline': 1.1702662264298154e-05, 'spline_order': 3}\n",
      "587.1173477193978                                                                  \n",
      "{'activation_scale': 0.37134354222360655, 'grid_eps': 0.05180638777394283, 'grid_size': 12, 'lambda_l1': 0.0004669621318069426, 'lambda_l2': 2.9665526140678387e-05, 'learning_rate': 2.7204244725372185e-05, 'non': 8, 'p_c_loss_factor': 2.3792558010338052e-07, 'scale_base': 0.006257035997380708, 'scale_noise': 8.676650483812317e-05, 'scale_spline': 0.0012173145969687413, 'spline_order': 9}\n",
      "0.20653465901379311                                                                \n",
      "{'activation_scale': 7.578554784413706, 'grid_eps': 5.700315251169423e-06, 'grid_size': 13, 'lambda_l1': 0.0010236480075036419, 'lambda_l2': 0.0013524036296959318, 'learning_rate': 0.010873149677226092, 'non': 8, 'p_c_loss_factor': 0.11272826859629809, 'scale_base': 5.793282227180585, 'scale_noise': 0.0002551634283807095, 'scale_spline': 6.718372792290615, 'spline_order': 8}\n",
      "0.9070653203541535                                                                 \n",
      "{'activation_scale': 6.450415812031244, 'grid_eps': 0.0002615393434460358, 'grid_size': 6, 'lambda_l1': 0.0003335778189913853, 'lambda_l2': 1.1058257014326438e-07, 'learning_rate': 0.0005995699690085228, 'non': 10, 'p_c_loss_factor': 0.0039775730865834165, 'scale_base': 0.004208019551954719, 'scale_noise': 1.1445556814604295e-05, 'scale_spline': 0.0006823987122753397, 'spline_order': 1}\n",
      "0.32835983326204915                                                                \n",
      "{'activation_scale': 7.6394983981037585, 'grid_eps': 0.03125046587785897, 'grid_size': 12, 'lambda_l1': 0.0051952417965421315, 'lambda_l2': 0.004462454661192577, 'learning_rate': 0.00024189140637600543, 'non': 18, 'p_c_loss_factor': 2.481254171176988e-06, 'scale_base': 1.0711944284127712, 'scale_noise': 7.68856824333238e-05, 'scale_spline': 5.884463305194964e-05, 'spline_order': 3}\n",
      "0.5037150373885623                                                               \n",
      "{'activation_scale': 6.116442065723289, 'grid_eps': 0.00016623926887084575, 'grid_size': 3, 'lambda_l1': 0.032979618418317126, 'lambda_l2': 0.0015841538009017388, 'learning_rate': 0.00045056453499566754, 'non': 12, 'p_c_loss_factor': 0.00011323040636076417, 'scale_base': 0.00013828455038938266, 'scale_noise': 0.0007117346946766785, 'scale_spline': 0.00019519609817540264, 'spline_order': 10}\n",
      "0.39531232515603043                                                                 \n",
      "{'activation_scale': 7.3867905757138645, 'grid_eps': 1.5896468615627055e-05, 'grid_size': 3, 'lambda_l1': 0.00016527999941531207, 'lambda_l2': 0.0003258219104803398, 'learning_rate': 0.00015521389451514153, 'non': 20, 'p_c_loss_factor': 0.18405433204559687, 'scale_base': 0.014059435254941187, 'scale_noise': 0.003349816122868834, 'scale_spline': 0.00514612885944066, 'spline_order': 4}\n",
      "531.0651136937895                                                                   \n",
      "{'activation_scale': 1.1984117179563631, 'grid_eps': 0.004745642042553253, 'grid_size': 13, 'lambda_l1': 0.000599812770727831, 'lambda_l2': 0.01334345201561784, 'learning_rate': 2.250373599914577e-05, 'non': 14, 'p_c_loss_factor': 0.000408307324757931, 'scale_base': 9.864402998033862, 'scale_noise': 0.005166647073879653, 'scale_spline': 2.420740189527463e-05, 'spline_order': 7}\n",
      "0.3867221638276321                                                                  \n",
      "{'activation_scale': 7.779658581182732, 'grid_eps': 8.064376342042306e-05, 'grid_size': 15, 'lambda_l1': 4.3503122418524647e-07, 'lambda_l2': 7.287820577528759e-05, 'learning_rate': 0.0003975391070535472, 'non': 16, 'p_c_loss_factor': 0.07930550003205256, 'scale_base': 0.00034986175064399393, 'scale_noise': 0.015505762389465121, 'scale_spline': 4.7396597668841364e-05, 'spline_order': 10}\n",
      "0.2950077620659236                                                                  \n",
      "{'activation_scale': 7.79421012441368, 'grid_eps': 1.2879988675957657e-06, 'grid_size': 10, 'lambda_l1': 0.0037492325876325827, 'lambda_l2': 0.010359558534585162, 'learning_rate': 0.05824850295966147, 'non': 12, 'p_c_loss_factor': 0.03379125047212067, 'scale_base': 0.7181635151543695, 'scale_noise': 0.0007442910582040567, 'scale_spline': 0.08176296007312556, 'spline_order': 6}\n",
      "0.6220273594461837                                                                  \n",
      "{'activation_scale': 6.687267942089006, 'grid_eps': 1.5786825987998833e-06, 'grid_size': 12, 'lambda_l1': 4.604747584415545e-07, 'lambda_l2': 5.990735132410475e-07, 'learning_rate': 0.006603906168697273, 'non': 14, 'p_c_loss_factor': 0.051421372132172925, 'scale_base': 0.04270056543316731, 'scale_noise': 0.013464484862583673, 'scale_spline': 4.9644964490962735, 'spline_order': 2}\n",
      "5.331800404597318                                                                   \n",
      "{'activation_scale': 6.062600252052501, 'grid_eps': 3.80400346980765e-07, 'grid_size': 3, 'lambda_l1': 9.830019953185923e-06, 'lambda_l2': 2.401035315478258e-07, 'learning_rate': 7.21285777536422e-05, 'non': 18, 'p_c_loss_factor': 6.11008995955831e-05, 'scale_base': 1.7676397485607974e-05, 'scale_noise': 0.05846091191512357, 'scale_spline': 0.6100073352875448, 'spline_order': 9}\n",
      "0.29957131491630024                                                                 \n",
      "{'activation_scale': 8.165452311605609, 'grid_eps': 3.4056225124458927e-07, 'grid_size': 12, 'lambda_l1': 0.06680883423677676, 'lambda_l2': 0.0021769219013692584, 'learning_rate': 0.0006117169241185382, 'non': 14, 'p_c_loss_factor': 0.0005297771512379341, 'scale_base': 0.046385306715711616, 'scale_noise': 0.0027507862070518616, 'scale_spline': 4.224831649234289, 'spline_order': 9}\n",
      "4.064873689554                                                                      \n",
      "{'activation_scale': 2.1321630498584705, 'grid_eps': 0.0017211100071294707, 'grid_size': 11, 'lambda_l1': 0.05356013217442504, 'lambda_l2': 0.00027734098982734476, 'learning_rate': 0.00011345277728602089, 'non': 12, 'p_c_loss_factor': 0.0413770186350356, 'scale_base': 0.007460868853020969, 'scale_noise': 2.361526676706096e-05, 'scale_spline': 0.0044018573456837025, 'spline_order': 9}\n",
      "0.19635951251703238                                                                 \n",
      "{'activation_scale': 4.032678313040893, 'grid_eps': 0.0007704538076706472, 'grid_size': 9, 'lambda_l1': 1.1936440699440188e-05, 'lambda_l2': 3.243569038889025e-06, 'learning_rate': 0.0015534485883836832, 'non': 18, 'p_c_loss_factor': 4.227705815766456e-06, 'scale_base': 1.5419274473256517, 'scale_noise': 0.0001601387982489407, 'scale_spline': 0.12554221496013784, 'spline_order': 7}\n",
      "0.1632108263690836                                                                  \n",
      "{'activation_scale': 2.927638031826186, 'grid_eps': 1.4807052189116014e-05, 'grid_size': 8, 'lambda_l1': 2.249846303124128e-05, 'lambda_l2': 1.3563317685378414e-05, 'learning_rate': 0.0030775929472492197, 'non': 10, 'p_c_loss_factor': 0.004814956716659639, 'scale_base': 0.19308041088418104, 'scale_noise': 3.2888045617156354e-05, 'scale_spline': 0.7930936852011022, 'spline_order': 5}\n",
      "0.5109859929214896                                                                  \n",
      "{'activation_scale': 2.531714492777943, 'grid_eps': 1.4091432530153171e-05, 'grid_size': 8, 'lambda_l1': 2.5157674437910333e-06, 'lambda_l2': 0.08615626731286959, 'learning_rate': 0.09440858509624785, 'non': 20, 'p_c_loss_factor': 0.0032076229798843753, 'scale_base': 0.15767714411769918, 'scale_noise': 0.00028646574706669964, 'scale_spline': 0.2589382799114599, 'spline_order': 5}\n",
      "0.2835139377738689                                                                \n",
      "{'activation_scale': 3.6702496761966548, 'grid_eps': 0.0005387756339191889, 'grid_size': 9, 'lambda_l1': 4.504513550301108e-05, 'lambda_l2': 4.443355569800621e-06, 'learning_rate': 0.0034134320543273778, 'non': 8, 'p_c_loss_factor': 0.005788921279671206, 'scale_base': 0.03656980940679709, 'scale_noise': 0.0014621512582649774, 'scale_spline': 0.05139212127314568, 'spline_order': 5}\n",
      "0.3664689263109851                                                               \n",
      "{'activation_scale': 4.957484470250897, 'grid_eps': 1.0214060052438013e-07, 'grid_size': 9, 'lambda_l1': 2.175596533818589e-06, 'lambda_l2': 2.800440632786125e-06, 'learning_rate': 0.03180636814834279, 'non': 18, 'p_c_loss_factor': 0.8969960155872171, 'scale_base': 0.0009712837762540373, 'scale_noise': 0.0087955206059429, 'scale_spline': 1.158990163694196, 'spline_order': 6}\n",
      "0.1404404723655078                                                               \n",
      "{'activation_scale': 0.17183825474068692, 'grid_eps': 2.798427597950418e-05, 'grid_size': 7, 'lambda_l1': 2.074975234920099e-06, 'lambda_l2': 1.5679179950399888e-05, 'learning_rate': 0.010062947549430386, 'non': 10, 'p_c_loss_factor': 0.0012917183522443195, 'scale_base': 1.0555146334999551e-05, 'scale_noise': 0.00038339560671583965, 'scale_spline': 0.003514672149222117, 'spline_order': 4}\n",
      "0.19877145920639938                                                              \n",
      "{'activation_scale': 0.1418295760494814, 'grid_eps': 5.3234841104033135e-05, 'grid_size': 5, 'lambda_l1': 1.5882890791286065e-07, 'lambda_l2': 6.2907545923834455e-06, 'learning_rate': 0.013785298796418117, 'non': 14, 'p_c_loss_factor': 0.0010094885797061986, 'scale_base': 2.6921639714078377e-05, 'scale_noise': 0.00034037885613716866, 'scale_spline': 0.00012806685169484389, 'spline_order': 4}\n",
      "0.26198897566104146                                                              \n",
      "{'activation_scale': 1.188097487910473, 'grid_eps': 0.0016740991027332712, 'grid_size': 7, 'lambda_l1': 2.974624727888218e-06, 'lambda_l2': 0.08870662462267452, 'learning_rate': 0.046446421180911884, 'non': 16, 'p_c_loss_factor': 8.703701740475022e-06, 'scale_base': 1.108187362641065e-05, 'scale_noise': 0.00010273569501564879, 'scale_spline': 0.0020558081472733672, 'spline_order': 4}\n",
      "0.1996632236535479                                                               \n",
      "{'activation_scale': 1.1765837484435877, 'grid_eps': 4.1674824302955445e-06, 'grid_size': 7, 'lambda_l1': 1.132910669703906e-06, 'lambda_l2': 9.308653488773552e-07, 'learning_rate': 0.09126775939784254, 'non': 12, 'p_c_loss_factor': 0.013194937575068144, 'scale_base': 4.588011726754213e-05, 'scale_noise': 0.00037074005448287827, 'scale_spline': 0.019274606111167606, 'spline_order': 7}\n",
      "0.15576367371314956                                                              \n",
      "{'activation_scale': 1.9598221362431272, 'grid_eps': 3.0756965503163545e-05, 'grid_size': 10, 'lambda_l1': 1.3886109305349922e-07, 'lambda_l2': 0.03488797054750821, 'learning_rate': 0.005942128102293246, 'non': 20, 'p_c_loss_factor': 0.0012647289768860578, 'scale_base': 0.00085988744588342, 'scale_noise': 0.0011752041171375223, 'scale_spline': 1.2807781664560178e-05, 'spline_order': 8}\n",
      "1.3003270628100267                                                               \n",
      "{'activation_scale': 9.055422531018024, 'grid_eps': 4.3388297127105484e-05, 'grid_size': 14, 'lambda_l1': 1.269733591047933e-07, 'lambda_l2': 0.0003870416119066517, 'learning_rate': 0.008701433470380623, 'non': 20, 'p_c_loss_factor': 0.00015976698586946754, 'scale_base': 7.398385097771414e-05, 'scale_noise': 0.0016944563404600991, 'scale_spline': 0.006926854609042586, 'spline_order': 6}\n",
      "0.19882382305042615                                                              \n",
      "{'activation_scale': 1.644744106151294, 'grid_eps': 2.801200072252386e-06, 'grid_size': 10, 'lambda_l1': 1.1841317084007687e-07, 'lambda_l2': 0.0424555717863234, 'learning_rate': 0.004354332550258327, 'non': 8, 'p_c_loss_factor': 1.5508872480062292e-05, 'scale_base': 0.0005629179681040284, 'scale_noise': 0.024855411837174223, 'scale_spline': 0.002114373411449901, 'spline_order': 3}\n",
      "0.19212916560449056                                                              \n",
      "{'activation_scale': 0.4498894591531113, 'grid_eps': 2.050252936515035e-05, 'grid_size': 2, 'lambda_l1': 9.209202591546283e-07, 'lambda_l2': 0.0001097227577247099, 'learning_rate': 0.017679058699201868, 'non': 10, 'p_c_loss_factor': 0.014686144506671002, 'scale_base': 0.00021621033634130465, 'scale_noise': 0.0050283851636138644, 'scale_spline': 0.00042281799299485195, 'spline_order': 8}\n",
      "0.35563911426249906                                                              \n",
      "{'activation_scale': 4.859115611166119, 'grid_eps': 0.00016280252203959667, 'grid_size': 5, 'lambda_l1': 2.447926340917957e-07, 'lambda_l2': 1.1971441956419426e-06, 'learning_rate': 0.001113467505901477, 'non': 10, 'p_c_loss_factor': 0.824544302241425, 'scale_base': 7.558292541311956e-05, 'scale_noise': 0.00016141629721656893, 'scale_spline': 0.01624489166267442, 'spline_order': 1}\n",
      "0.22838459346908654                                                              \n",
      "{'activation_scale': 3.184026598001401, 'grid_eps': 7.512545756319146e-06, 'grid_size': 1, 'lambda_l1': 4.10225383132543e-05, 'lambda_l2': 1.0085958408001623e-05, 'learning_rate': 0.0021410174988595963, 'non': 12, 'p_c_loss_factor': 4.020680235441233e-05, 'scale_base': 0.001505610940991038, 'scale_noise': 6.146714725967532e-05, 'scale_spline': 1.1474335466802226e-05, 'spline_order': 8}\n",
      "0.17777049212730678                                                               \n",
      "{'activation_scale': 0.6348035503681784, 'grid_eps': 0.007737996188137524, 'grid_size': 10, 'lambda_l1': 9.255476021939644e-07, 'lambda_l2': 2.0394067277305785e-05, 'learning_rate': 0.021656866639850874, 'non': 10, 'p_c_loss_factor': 8.410849247775798e-07, 'scale_base': 1.3309914060936456e-05, 'scale_noise': 0.000443722334708072, 'scale_spline': 0.00011487333487891707, 'spline_order': 4}\n",
      "0.29346926220890845                                                               \n",
      "{'activation_scale': 4.452031213117347, 'grid_eps': 1.396688588316242e-07, 'grid_size': 11, 'lambda_l1': 5.649675155264004e-06, 'lambda_l2': 8.270298176387725e-05, 'learning_rate': 0.006944312584347151, 'non': 8, 'p_c_loss_factor': 0.0010224834150051032, 'scale_base': 0.019923315468617836, 'scale_noise': 0.0019099589099748646, 'scale_spline': 0.03173734149942094, 'spline_order': 2}\n",
      "0.25804894376001647                                                              \n",
      "{'activation_scale': 5.50528956644319, 'grid_eps': 4.807622028786747e-05, 'grid_size': 5, 'lambda_l1': 2.688448051915202e-07, 'lambda_l2': 0.0007242437480194872, 'learning_rate': 0.004827294272523116, 'non': 12, 'p_c_loss_factor': 0.4516278997210934, 'scale_base': 0.0006674552709384033, 'scale_noise': 1.2399044553446977e-05, 'scale_spline': 0.0006906616215632533, 'spline_order': 3}\n",
      "550.8645816078853                                                                \n",
      "{'activation_scale': 1.809789248612586, 'grid_eps': 0.09621170032856301, 'grid_size': 7, 'lambda_l1': 4.655065767806512e-05, 'lambda_l2': 0.004341969687509282, 'learning_rate': 1.1197064788432096e-05, 'non': 20, 'p_c_loss_factor': 0.00023613674484684492, 'scale_base': 0.0025907661214733682, 'scale_noise': 0.0005473776062854948, 'scale_spline': 1.9480354685630523, 'spline_order': 7}\n",
      "0.1827184853084658                                                                 \n",
      "{'activation_scale': 2.9094167131178055, 'grid_eps': 0.00037999438227368063, 'grid_size': 8, 'lambda_l1': 3.960884792805686e-06, 'lambda_l2': 0.036335624109995295, 'learning_rate': 0.0011901145594433488, 'non': 18, 'p_c_loss_factor': 0.0020179539150418277, 'scale_base': 3.171594412495127e-05, 'scale_noise': 0.00016482236537018302, 'scale_spline': 0.23750109001637854, 'spline_order': 5}\n",
      "0.1250935206945951                                                                 \n",
      "{'activation_scale': 0.7384698029455203, 'grid_eps': 3.082990063826719e-05, 'grid_size': 6, 'lambda_l1': 1.3213223281008122e-06, 'lambda_l2': 0.00018582477300826104, 'learning_rate': 0.013272671690558728, 'non': 14, 'p_c_loss_factor': 0.012397799369927133, 'scale_base': 0.0001916066678852763, 'scale_noise': 0.001116509140822778, 'scale_spline': 2.3942958815984944e-05, 'spline_order': 6}\n",
      "0.15884344307481799                                                                \n",
      "{'activation_scale': 0.7922140550961014, 'grid_eps': 0.00013223318794782068, 'grid_size': 4, 'lambda_l1': 0.00011098815849396433, 'lambda_l2': 3.751559696098366e-05, 'learning_rate': 0.059405292840342, 'non': 14, 'p_c_loss_factor': 0.015892269856582705, 'scale_base': 0.0003176517382164203, 'scale_noise': 5.488165925406078e-05, 'scale_spline': 4.198452839033838e-05, 'spline_order': 6}\n",
      "0.1836606198435                                                                    \n",
      "{'activation_scale': 0.2061878502711809, 'grid_eps': 8.073401496441908e-06, 'grid_size': 6, 'lambda_l1': 1.2699328678230327e-06, 'lambda_l2': 0.00015281225805269643, 'learning_rate': 0.03155667644379379, 'non': 16, 'p_c_loss_factor': 0.009790766370526624, 'scale_base': 8.885064336175062e-05, 'scale_noise': 0.004225832041702261, 'scale_spline': 0.00024848165567057826, 'spline_order': 4}\n",
      "0.20170057101883904                                                                \n",
      "{'activation_scale': 3.672048919425281, 'grid_eps': 8.810003875535974e-07, 'grid_size': 1, 'lambda_l1': 0.0019453025429397098, 'lambda_l2': 4.419896858375672e-05, 'learning_rate': 0.012453985756010602, 'non': 14, 'p_c_loss_factor': 0.24091450110563414, 'scale_base': 1.0379379805284384e-05, 'scale_noise': 0.08780307276322345, 'scale_spline': 0.00264418374756245, 'spline_order': 3}\n",
      "0.3836006069868102                                                                 \n",
      "{'activation_scale': 8.713166977211845, 'grid_eps': 2.102461776558395e-06, 'grid_size': 4, 'lambda_l1': 1.3465388159854814e-05, 'lambda_l2': 0.00018411294252948168, 'learning_rate': 0.00246122749855994, 'non': 12, 'p_c_loss_factor': 0.0005695564677286203, 'scale_base': 0.000147230948420843, 'scale_noise': 0.00797386091040311, 'scale_spline': 0.000969346170147252, 'spline_order': 5}\n",
      "0.20391060862460408                                                                \n",
      "{'activation_scale': 2.4556913014924224, 'grid_eps': 8.33202285580426e-05, 'grid_size': 2, 'lambda_l1': 2.9080938405544923e-05, 'lambda_l2': 0.0006232022375694198, 'learning_rate': 0.000730215717012858, 'non': 16, 'p_c_loss_factor': 1.2356360699852975e-07, 'scale_base': 0.001930231405230343, 'scale_noise': 0.0008636508040340082, 'scale_spline': 0.012025189950802803, 'spline_order': 6}\n",
      "0.32286088775828975                                                                \n",
      "{'activation_scale': 1.4510823470364316, 'grid_eps': 0.001384899804565321, 'grid_size': 6, 'lambda_l1': 7.3149642831637454e-06, 'lambda_l2': 1.6923253961281935e-07, 'learning_rate': 0.017976526608216636, 'non': 16, 'p_c_loss_factor': 7.346995916581588e-05, 'scale_base': 2.52717497691142e-05, 'scale_noise': 0.0284853566870823, 'scale_spline': 8.276676124821575e-05, 'spline_order': 2}\n",
      "0.29478929473257476                                                                \n",
      "{'activation_scale': 5.429840494916351, 'grid_eps': 0.0002365680997524122, 'grid_size': 4, 'lambda_l1': 0.0002848320864223415, 'lambda_l2': 0.0039059412460555705, 'learning_rate': 0.010540112229740762, 'non': 8, 'p_c_loss_factor': 0.17198900308293086, 'scale_base': 0.0004268257624080465, 'scale_noise': 0.0024748432336932566, 'scale_spline': 2.7305153837896198e-05, 'spline_order': 7}\n",
      "2.0725541776353005                                                                 \n",
      "{'activation_scale': 0.8385188322490549, 'grid_eps': 1.9492608963586333e-07, 'grid_size': 5, 'lambda_l1': 0.01879768839827363, 'lambda_l2': 4.152645777352716e-07, 'learning_rate': 0.0002772410062866877, 'non': 14, 'p_c_loss_factor': 1.862075324701674e-05, 'scale_base': 4.579796677370457e-05, 'scale_noise': 0.00011498486780052081, 'scale_spline': 0.00036008394658996025, 'spline_order': 4}\n",
      "0.8023996065667384                                                                 \n",
      "{'activation_scale': 0.17044320383480793, 'grid_eps': 3.6954270605656915e-06, 'grid_size': 2, 'lambda_l1': 5.632454142434468e-07, 'lambda_l2': 1.5727155764634962e-05, 'learning_rate': 0.06445852838312709, 'non': 10, 'p_c_loss_factor': 0.024152223805213775, 'scale_base': 0.00021108471361638614, 'scale_noise': 0.00022860484092001966, 'scale_spline': 0.36113961112856274, 'spline_order': 1}\n",
      "100%|██████████| 50/50 [1:12:10<00:00, 86.62s/trial, best loss: 0.1250935206945951]\n",
      "Best hyperparameters: {'activation_scale': 0.7384698029455203, 'grid_eps': 3.082990063826719e-05, 'grid_size': 6.0, 'lambda_l1': 1.3213223281008122e-06, 'lambda_l2': 0.00018582477300826104, 'learning_rate': 0.013272671690558728, 'non': 14.0, 'p_c_loss_factor': 0.012397799369927133, 'scale_base': 0.0001916066678852763, 'scale_noise': 0.001116509140822778, 'scale_spline': 2.3942958815984944e-05, 'spline_order': 6.0}\n"
     ]
    }
   ],
   "source": [
    "trials = Trials()\n",
    "best_params = fmin(fn=objective,\n",
    "                   space=space,\n",
    "                   algo=tpe.suggest,\n",
    "                   max_evals=50,\n",
    "                   trials=trials)\n",
    "print(\"Best hyperparameters:\", best_params)"
   ]
  },
  {
   "cell_type": "code",
   "execution_count": 11,
   "metadata": {
    "execution": {
     "iopub.execute_input": "2024-08-13T20:03:50.378372Z",
     "iopub.status.busy": "2024-08-13T20:03:50.378372Z",
     "iopub.status.idle": "2024-08-13T20:03:50.683646Z",
     "shell.execute_reply": "2024-08-13T20:03:50.683646Z"
    }
   },
   "outputs": [],
   "source": [
    "param_df.to_csv(f'param_df{current_target}.csv')"
   ]
  },
  {
   "cell_type": "code",
   "execution_count": 12,
   "metadata": {},
   "outputs": [
    {
     "name": "stderr",
     "output_type": "stream",
     "text": [
      "C:\\Users\\Administrator\\AppData\\Local\\Temp\\2\\ipykernel_7028\\836558021.py:1: FutureWarning: You are using `torch.load` with `weights_only=False` (the current default value), which uses the default pickle module implicitly. It is possible to construct malicious pickle data which will execute arbitrary code during unpickling (See https://github.com/pytorch/pytorch/blob/main/SECURITY.md#untrusted-models for more details). In a future release, the default value for `weights_only` will be flipped to `True`. This limits the functions that could be executed during unpickling. Arbitrary objects will no longer be allowed to be loaded via this mode unless they are explicitly allowlisted by the user via `torch.serialization.add_safe_globals`. We recommend you start setting `weights_only=True` for any use case where you don't have full control of the loaded file. Please open an issue on GitHub for any issues related to this experimental feature.\n",
      "  checkpoint = torch.load(f\"{current_target}_bestest_model.pth\")\n"
     ]
    },
    {
     "data": {
      "text/plain": [
       "<All keys matched successfully>"
      ]
     },
     "execution_count": 12,
     "metadata": {},
     "output_type": "execute_result"
    }
   ],
   "source": [
    "checkpoint = torch.load(f\"{current_target}_bestest_model.pth\")\n",
    "params1 = checkpoint['params']\n",
    "model = KAN(\n",
    "    layers_hidden=[8, params1['non'], 1],\n",
    "    grid_size=params1['grid_size'],\n",
    "    spline_order=params1['spline_order'],\n",
    "    scale_noise=params1['scale_noise'],\n",
    "    scale_base=params1['scale_base'],\n",
    "    scale_spline=params1['scale_spline'],\n",
    "    base_activation=nn.SiLU,\n",
    "    grid_eps=params1['grid_eps'],\n",
    "    grid_range=[0, 1],\n",
    "    activation_scale=params1['activation_scale']\n",
    ")\n",
    "model.load_state_dict(checkpoint['model_state_dict'])"
   ]
  },
  {
   "cell_type": "code",
   "execution_count": 13,
   "metadata": {
    "execution": {
     "iopub.execute_input": "2024-08-13T20:04:18.902413Z",
     "iopub.status.busy": "2024-08-13T20:04:18.902413Z",
     "iopub.status.idle": "2024-08-13T20:04:18.930919Z",
     "shell.execute_reply": "2024-08-13T20:04:18.930919Z"
    }
   },
   "outputs": [
    {
     "data": {
      "text/plain": [
       "0.10996889405810102"
      ]
     },
     "execution_count": 13,
     "metadata": {},
     "output_type": "execute_result"
    }
   ],
   "source": [
    "model.eval()\n",
    "with torch.no_grad():\n",
    "    test_predictions = model(dataset['test_input'])\n",
    "mse(dataset['test_label'].numpy(), test_predictions.numpy())"
   ]
  },
  {
   "cell_type": "code",
   "execution_count": 14,
   "metadata": {
    "execution": {
     "iopub.execute_input": "2024-08-13T20:04:18.930919Z",
     "iopub.status.busy": "2024-08-13T20:04:18.930919Z",
     "iopub.status.idle": "2024-08-13T20:04:18.942406Z",
     "shell.execute_reply": "2024-08-13T20:04:18.942406Z"
    }
   },
   "outputs": [
    {
     "data": {
      "text/plain": [
       "0.9988996744860648"
      ]
     },
     "execution_count": 14,
     "metadata": {},
     "output_type": "execute_result"
    }
   ],
   "source": [
    "r2_score(dataset['test_label'].numpy(), test_predictions.numpy())"
   ]
  },
  {
   "cell_type": "markdown",
   "metadata": {},
   "source": [
    "# Second Ouput"
   ]
  },
  {
   "cell_type": "code",
   "execution_count": 15,
   "metadata": {
    "execution": {
     "iopub.execute_input": "2024-08-13T20:04:18.942406Z",
     "iopub.status.busy": "2024-08-13T20:04:18.942406Z",
     "iopub.status.idle": "2024-08-13T20:04:18.955127Z",
     "shell.execute_reply": "2024-08-13T20:04:18.955127Z"
    }
   },
   "outputs": [],
   "source": [
    "df=pd.read_csv('data.csv',header=1)\n",
    "df=df.drop(columns=['hl'])\n",
    "current_target='cl'"
   ]
  },
  {
   "cell_type": "code",
   "execution_count": 16,
   "metadata": {
    "execution": {
     "iopub.execute_input": "2024-08-13T20:04:18.955127Z",
     "iopub.status.busy": "2024-08-13T20:04:18.955127Z",
     "iopub.status.idle": "2024-08-13T20:04:18.970377Z",
     "shell.execute_reply": "2024-08-13T20:04:18.970377Z"
    }
   },
   "outputs": [],
   "source": [
    "df = df.sort_index()\n",
    "x = df.drop(columns=current_target)\n",
    "y = df[current_target]\n",
    "x_train, x_test, y_train, y_test = train_test_split(x, y, test_size=0.3, random_state=81) #81 cl, 17 hl,\n",
    "set_seed(42)"
   ]
  },
  {
   "cell_type": "code",
   "execution_count": 17,
   "metadata": {},
   "outputs": [],
   "source": [
    "dataset = {}\n",
    "train_input=x_train.to_numpy()\n",
    "train_label=y_train.to_numpy()\n",
    "test_input=x_test.to_numpy()\n",
    "test_label=y_test.to_numpy()"
   ]
  },
  {
   "cell_type": "code",
   "execution_count": 18,
   "metadata": {
    "execution": {
     "iopub.execute_input": "2024-08-13T20:04:18.970377Z",
     "iopub.status.busy": "2024-08-13T20:04:18.970377Z",
     "iopub.status.idle": "2024-08-13T20:04:18.980394Z",
     "shell.execute_reply": "2024-08-13T20:04:18.980394Z"
    }
   },
   "outputs": [],
   "source": [
    "scaler_input = MinMaxScaler()\n",
    "\n",
    "train_input_scaled = scaler_input.fit_transform(train_input)\n",
    "test_input_scaled = scaler_input.transform(test_input)\n",
    "\n",
    "dataset['train_input'] = torch.from_numpy(train_input_scaled).type(dtype)\n",
    "dataset['test_input'] = torch.from_numpy(test_input_scaled).type(dtype)\n",
    "dataset['train_label'] = torch.from_numpy(train_label[:,None]).type(dtype)\n",
    "dataset['test_label'] = torch.from_numpy(test_label[:,None]).type(dtype)"
   ]
  },
  {
   "cell_type": "code",
   "execution_count": 19,
   "metadata": {
    "execution": {
     "iopub.execute_input": "2024-08-13T20:04:18.980394Z",
     "iopub.status.busy": "2024-08-13T20:04:18.980394Z",
     "iopub.status.idle": "2024-08-13T20:04:18.990205Z",
     "shell.execute_reply": "2024-08-13T20:04:18.990205Z"
    }
   },
   "outputs": [],
   "source": [
    "space = {\n",
    "    'grid_size': hp.quniform('grid_size', 1, 15, 1),\n",
    "    'spline_order': hp.quniform('spline_order', 1, 10, 1),\n",
    "    'scale_noise': hp.loguniform('scale_noise', np.log(1e-5), np.log(1e-1)),\n",
    "    'scale_base': hp.loguniform('scale_base', np.log(1e-5), np.log(1e1)),\n",
    "    'scale_spline': hp.loguniform('scale_spline', np.log(1e-5), np.log(1e1)),\n",
    "    'learning_rate': hp.loguniform('learning_rate', np.log(1e-5), np.log(1e-1)),\n",
    "    'lambda_l1': hp.loguniform('lambda_l1', np.log(1e-7), np.log(1e-1)),\n",
    "    'lambda_l2': hp.loguniform('lambda_l2', np.log(1e-7), np.log(1e-1)),\n",
    "    'grid_eps': hp.loguniform('grid_eps', np.log(1e-7), np.log(1e-1)),\n",
    "    'non': hp.quniform('non', 8, 20, 2),\n",
    "    'p_c_loss_factor': hp.loguniform('p_c_loss_factor', np.log(1e-7), np.log(1)),\n",
    "    'activation_scale': hp.uniform('activation_scale', 0.1, 10.0)  # Uniform distribution for activation_scale\n",
    "}"
   ]
  },
  {
   "cell_type": "code",
   "execution_count": 20,
   "metadata": {
    "execution": {
     "iopub.execute_input": "2024-08-13T20:04:18.990205Z",
     "iopub.status.busy": "2024-08-13T20:04:18.990205Z",
     "iopub.status.idle": "2024-08-13T20:04:19.014653Z",
     "shell.execute_reply": "2024-08-13T20:04:19.014653Z"
    }
   },
   "outputs": [],
   "source": [
    "param_df = pd.DataFrame(columns=['params', 'loss_curve_train', 'loss_curve_test', 'best_score'])\n",
    "trial_no = 0\n",
    "bestest_score = float('inf')  # Initialize global variable\n",
    "def objective(params):\n",
    "    global trial_no, bestest_score  # Declare global variables\n",
    "    trial_no += 1\n",
    "    params['grid_size'] = int(params['grid_size'])\n",
    "    params['spline_order'] = int(params['spline_order'])\n",
    "    params['non'] = int(params['non'])\n",
    "    model = KAN(\n",
    "        layers_hidden=[8, params['non'], 1],\n",
    "        grid_size=params['grid_size'],\n",
    "        spline_order=params['spline_order'],\n",
    "        scale_noise=params['scale_noise'],\n",
    "        scale_base=params['scale_base'],\n",
    "        scale_spline=params['scale_spline'],\n",
    "        base_activation=nn.SiLU,\n",
    "        grid_eps=params['grid_eps'],\n",
    "        grid_range=[0, 1],\n",
    "        activation_scale=params['activation_scale']\n",
    "    )\n",
    "    \n",
    "    criterion = nn.MSELoss()\n",
    "    optimizer = optim.Adam(model.parameters(), lr=params['learning_rate'], weight_decay=params['lambda_l2'])\n",
    "    num_epochs = 5000\n",
    "    patience = 200\n",
    "    best_loss = float('inf')\n",
    "    epochs_no_improve = 0\n",
    "    best_model_state = None  # Initialize the best model state\n",
    "    param_df['params'].loc[trial_no] = params\n",
    "    training_loss = []\n",
    "    test_loss = []\n",
    "    \n",
    "    for epoch in range(num_epochs):\n",
    "        model.train()\n",
    "        optimizer.zero_grad()\n",
    "        predictions = model(dataset['train_input'])\n",
    "        main_loss = criterion(predictions, dataset['train_label'])\n",
    "        l1_loss = sum(p.abs().sum() for p in model.parameters())\n",
    "        pc_loss = p_c(dataset['train_input'], dataset['train_label'], predictions)\n",
    "        loss = main_loss + (params['lambda_l1'] * l1_loss) + (params['p_c_loss_factor'] * pc_loss)\n",
    "        loss.backward()\n",
    "        optimizer.step()\n",
    "        training_loss.append(loss.item())\n",
    "        \n",
    "        model.eval()\n",
    "        with torch.no_grad():\n",
    "            val_predictions = model(dataset['test_input'])\n",
    "            temp_score = mse(dataset['test_label'].cpu().numpy(), val_predictions.cpu().numpy())**0.5  # Move tensors to CPU before numpy\n",
    "        test_loss.append(temp_score)\n",
    "        \n",
    "        if temp_score < best_loss:\n",
    "            best_loss = temp_score\n",
    "            epochs_no_improve = 0\n",
    "            best_model_state = model.state_dict()\n",
    "        else:\n",
    "            epochs_no_improve += 1\n",
    "        \n",
    "        if epochs_no_improve >= patience:\n",
    "            model.load_state_dict(best_model_state)\n",
    "            break\n",
    "        \n",
    "        # Update the bestest score\n",
    "        if temp_score < bestest_score:\n",
    "            bestest_score = temp_score\n",
    "            torch.save({'model_state_dict': best_model_state, 'params': params}, f\"{current_target}_bestest_model.pth\")\n",
    "            \n",
    "    model.eval()\n",
    "    with torch.no_grad():\n",
    "        test_predictions = model(dataset['test_input'])\n",
    "    score = mse(dataset['test_label'].numpy(), test_predictions.numpy())**0.5  # Move tensors to CPU before numpy\n",
    "    param_df.loc[trial_no] = [params, training_loss, test_loss, score]\n",
    "    print(score)\n",
    "    print(params)\n",
    "    return score"
   ]
  },
  {
   "cell_type": "code",
   "execution_count": 21,
   "metadata": {
    "execution": {
     "iopub.execute_input": "2024-08-13T20:04:19.014653Z",
     "iopub.status.busy": "2024-08-13T20:04:19.014653Z",
     "iopub.status.idle": "2024-08-13T21:43:58.128838Z",
     "shell.execute_reply": "2024-08-13T21:43:58.128838Z"
    }
   },
   "outputs": [
    {
     "name": "stdout",
     "output_type": "stream",
     "text": [
      "1.5117442336594578                                    \n",
      "{'activation_scale': 9.405910908761612, 'grid_eps': 9.021535699949265e-06, 'grid_size': 13, 'lambda_l1': 2.2567369918718418e-07, 'lambda_l2': 1.5835269381123941e-06, 'learning_rate': 0.0002907194034699837, 'non': 14, 'p_c_loss_factor': 0.0009950293539386392, 'scale_base': 0.0190292258672489, 'scale_noise': 0.06426089015113094, 'scale_spline': 1.3656960078120899e-05, 'spline_order': 8}\n",
      "1.2303861687515305                                                                \n",
      "{'activation_scale': 5.709913929217149, 'grid_eps': 3.5877470952469346e-07, 'grid_size': 8, 'lambda_l1': 0.0009309523130598112, 'lambda_l2': 3.7170217893384984e-06, 'learning_rate': 0.0014122004020401013, 'non': 16, 'p_c_loss_factor': 8.81581887333559e-06, 'scale_base': 2.3921506014394462e-05, 'scale_noise': 0.026348890919470284, 'scale_spline': 0.00018617071495122828, 'spline_order': 8}\n",
      "2.4758769085578467                                                                \n",
      "{'activation_scale': 5.464288245886131, 'grid_eps': 0.019079668046043885, 'grid_size': 9, 'lambda_l1': 0.026102227157791383, 'lambda_l2': 5.0737772846239946e-06, 'learning_rate': 2.4025979380439403e-05, 'non': 8, 'p_c_loss_factor': 2.3333487073871306e-05, 'scale_base': 0.04339236577296548, 'scale_noise': 6.663043451866048e-05, 'scale_spline': 0.05525178113260886, 'spline_order': 2}\n",
      "1.2292445609528018                                                              \n",
      "{'activation_scale': 4.732016103836078, 'grid_eps': 0.031197889615103613, 'grid_size': 6, 'lambda_l1': 0.021894088275996825, 'lambda_l2': 1.3119607866599866e-06, 'learning_rate': 0.000274300915500659, 'non': 12, 'p_c_loss_factor': 1.2343055896142902e-05, 'scale_base': 0.014969613031705343, 'scale_noise': 6.898952804484834e-05, 'scale_spline': 0.11601717287753512, 'spline_order': 1}\n",
      "1.7270630876202964                                                              \n",
      "{'activation_scale': 4.375884737966136, 'grid_eps': 0.0001643269875037988, 'grid_size': 9, 'lambda_l1': 1.1142903382690344e-05, 'lambda_l2': 5.8914109551968624e-05, 'learning_rate': 0.03996706288381471, 'non': 8, 'p_c_loss_factor': 0.22417464554628347, 'scale_base': 0.12600793999254378, 'scale_noise': 0.0029928367435641413, 'scale_spline': 8.392894295158193, 'spline_order': 1}\n",
      "1.4990300828723473                                                              \n",
      "{'activation_scale': 4.716138920785534, 'grid_eps': 1.0920821348705137e-07, 'grid_size': 3, 'lambda_l1': 0.001803072204746974, 'lambda_l2': 4.373531104806123e-05, 'learning_rate': 0.00020172520912992284, 'non': 20, 'p_c_loss_factor': 4.2423418895623474e-07, 'scale_base': 0.0001221595889488736, 'scale_noise': 5.1882055807077284e-05, 'scale_spline': 7.991196528267636, 'spline_order': 4}\n",
      "5.254224975030005                                                               \n",
      "{'activation_scale': 5.7846231288700425, 'grid_eps': 0.007210538098104338, 'grid_size': 14, 'lambda_l1': 1.454192831494311e-06, 'lambda_l2': 8.65291087953739e-07, 'learning_rate': 1.1747754134028036e-05, 'non': 16, 'p_c_loss_factor': 0.005470287517581868, 'scale_base': 0.8671611976058733, 'scale_noise': 0.008876841381747857, 'scale_spline': 9.576537884332806e-05, 'spline_order': 3}\n",
      "2.409293003577745                                                               \n",
      "{'activation_scale': 1.1786959983080891, 'grid_eps': 6.432144631662359e-05, 'grid_size': 2, 'lambda_l1': 2.907423153725844e-07, 'lambda_l2': 6.962350506187255e-05, 'learning_rate': 0.0004229729998525062, 'non': 14, 'p_c_loss_factor': 4.281485063690359e-05, 'scale_base': 0.1356423482331851, 'scale_noise': 0.0002619577514919004, 'scale_spline': 4.154565619707356e-05, 'spline_order': 7}\n",
      "1.2203376228662137                                                              \n",
      "{'activation_scale': 7.319925107901716, 'grid_eps': 0.0031731527791585778, 'grid_size': 2, 'lambda_l1': 0.00044975209192870547, 'lambda_l2': 1.5266529795529246e-06, 'learning_rate': 0.036939924257368674, 'non': 12, 'p_c_loss_factor': 9.074021650832139e-05, 'scale_base': 0.0006422287674344408, 'scale_noise': 0.05300857400790405, 'scale_spline': 0.0010876963950966685, 'spline_order': 6}\n",
      "1.7571555999146966                                                              \n",
      "{'activation_scale': 4.784550718756792, 'grid_eps': 0.000148765564325909, 'grid_size': 13, 'lambda_l1': 1.6703635681632759e-06, 'lambda_l2': 8.996922630016709e-07, 'learning_rate': 0.00014405579884031852, 'non': 18, 'p_c_loss_factor': 0.0020013627987401214, 'scale_base': 0.003806298708662973, 'scale_noise': 1.2925725920414951e-05, 'scale_spline': 5.7223916931775446e-05, 'spline_order': 3}\n",
      "0.8723028966459843                                                               \n",
      "{'activation_scale': 3.6435638485398676, 'grid_eps': 0.0001783948174385364, 'grid_size': 15, 'lambda_l1': 0.002278484926604528, 'lambda_l2': 6.084399183738386e-05, 'learning_rate': 0.002112010483392452, 'non': 20, 'p_c_loss_factor': 0.5131365411762299, 'scale_base': 2.873018710934704, 'scale_noise': 0.002996967490688025, 'scale_spline': 2.2241128235293816e-05, 'spline_order': 3}\n",
      "7.277497457133129                                                                \n",
      "{'activation_scale': 1.840633086409985, 'grid_eps': 2.5121633485163312e-05, 'grid_size': 3, 'lambda_l1': 0.0014340470360792086, 'lambda_l2': 0.00015030023356846694, 'learning_rate': 3.583229679796216e-05, 'non': 20, 'p_c_loss_factor': 0.00855745272538344, 'scale_base': 0.062350017884593066, 'scale_noise': 0.00029695840734286327, 'scale_spline': 0.2996730363127707, 'spline_order': 4}\n",
      "2.232204270106556                                                                \n",
      "{'activation_scale': 5.059412823134201, 'grid_eps': 0.0019025536565931618, 'grid_size': 13, 'lambda_l1': 1.3388793605551657e-07, 'lambda_l2': 0.0009464420513521255, 'learning_rate': 3.773659771354007e-05, 'non': 16, 'p_c_loss_factor': 7.979133648232356e-06, 'scale_base': 0.06331714676734287, 'scale_noise': 0.003532319737932679, 'scale_spline': 2.7618246472599236e-05, 'spline_order': 9}\n",
      "2.4373450691319998                                                               \n",
      "{'activation_scale': 9.751371718250411, 'grid_eps': 8.397623078378823e-07, 'grid_size': 2, 'lambda_l1': 4.3719575813028287e-07, 'lambda_l2': 0.022879896037537713, 'learning_rate': 0.0035964903862855885, 'non': 10, 'p_c_loss_factor': 4.526661442818629e-06, 'scale_base': 0.001138151694710841, 'scale_noise': 0.00017987251973103466, 'scale_spline': 0.0002904430305322606, 'spline_order': 4}\n",
      "2.728150980276469                                                                \n",
      "{'activation_scale': 3.42919950363358, 'grid_eps': 1.8126482175134288e-05, 'grid_size': 12, 'lambda_l1': 1.1749866765550582e-07, 'lambda_l2': 0.003849561276437425, 'learning_rate': 4.424352009684736e-05, 'non': 18, 'p_c_loss_factor': 0.0014765314898913943, 'scale_base': 0.002045838747232246, 'scale_noise': 6.125240534357895e-05, 'scale_spline': 0.009173495660207975, 'spline_order': 7}\n",
      "10.50430494309373                                                                \n",
      "{'activation_scale': 9.441727244925222, 'grid_eps': 1.655147616244556e-06, 'grid_size': 3, 'lambda_l1': 0.00013782449401015924, 'lambda_l2': 0.0009213943013791629, 'learning_rate': 1.0629919214039596e-05, 'non': 14, 'p_c_loss_factor': 2.1242133045937505e-05, 'scale_base': 0.18271447309456915, 'scale_noise': 0.013107251146230786, 'scale_spline': 0.001523116033807262, 'spline_order': 8}\n",
      "0.8286800417586251                                                                \n",
      "{'activation_scale': 2.8992485824364524, 'grid_eps': 5.718901115201015e-06, 'grid_size': 2, 'lambda_l1': 0.0001182307571516597, 'lambda_l2': 1.7277163871697948e-06, 'learning_rate': 0.03916759536436025, 'non': 8, 'p_c_loss_factor': 7.214752776885847e-06, 'scale_base': 0.06404537739446546, 'scale_noise': 0.09645135012156844, 'scale_spline': 0.003007075310269362, 'spline_order': 10}\n",
      "1.4449485619287994                                                                \n",
      "{'activation_scale': 4.9773498081315894, 'grid_eps': 2.3095071604535072e-07, 'grid_size': 7, 'lambda_l1': 1.4976200242125317e-06, 'lambda_l2': 1.7118049204306555e-07, 'learning_rate': 0.004897468295869949, 'non': 12, 'p_c_loss_factor': 1.8547562533681607e-05, 'scale_base': 0.007132691004776517, 'scale_noise': 0.00303475034730571, 'scale_spline': 0.19202527683326537, 'spline_order': 2}\n",
      "1.3234593847799443                                                               \n",
      "{'activation_scale': 6.557485465592543, 'grid_eps': 0.032648211342302655, 'grid_size': 11, 'lambda_l1': 0.003133715828837727, 'lambda_l2': 1.5974852580914688e-05, 'learning_rate': 0.001537221037141731, 'non': 10, 'p_c_loss_factor': 0.19172974079742958, 'scale_base': 0.12629983117967253, 'scale_noise': 0.00432078723501024, 'scale_spline': 1.5495199427533535, 'spline_order': 5}\n",
      "23.781590411918874                                                               \n",
      "{'activation_scale': 2.6601346325982673, 'grid_eps': 0.004120669399591729, 'grid_size': 14, 'lambda_l1': 0.010668230399588627, 'lambda_l2': 0.0005640340310530016, 'learning_rate': 1.391459053947619e-05, 'non': 10, 'p_c_loss_factor': 0.004207663189181837, 'scale_base': 9.239143879701313, 'scale_noise': 0.017024098157635368, 'scale_spline': 0.07324358782414196, 'spline_order': 6}\n",
      "0.6468797123379337                                                               \n",
      "{'activation_scale': 0.7344782701841241, 'grid_eps': 0.0004275160269888788, 'grid_size': 5, 'lambda_l1': 5.475736996274517e-05, 'lambda_l2': 1.664452778714108e-05, 'learning_rate': 0.014580608061408797, 'non': 18, 'p_c_loss_factor': 1.9295427921254137e-07, 'scale_base': 4.1896572341110385, 'scale_noise': 0.0004955866517775113, 'scale_spline': 0.009157889304146608, 'spline_order': 5}\n",
      "1.6877199393685458                                                               \n",
      "{'activation_scale': 0.22462895407821382, 'grid_eps': 0.00085434741815633, 'grid_size': 5, 'lambda_l1': 2.694229006839457e-05, 'lambda_l2': 2.9555030007912373e-07, 'learning_rate': 0.012337555845047221, 'non': 18, 'p_c_loss_factor': 1.0490337106729975e-07, 'scale_base': 0.69471288168164, 'scale_noise': 0.0007764349455423877, 'scale_spline': 0.0060059541583164806, 'spline_order': 10}\n",
      "0.7373540461108687                                                               \n",
      "{'activation_scale': 0.3533701634934867, 'grid_eps': 4.152141814594002e-06, 'grid_size': 5, 'lambda_l1': 3.075468234884702e-05, 'lambda_l2': 1.1048275641980988e-05, 'learning_rate': 0.09963206470555273, 'non': 18, 'p_c_loss_factor': 1.0645467486936479e-06, 'scale_base': 8.342297168376296, 'scale_noise': 0.0008534675412152975, 'scale_spline': 0.0013165287576868982, 'spline_order': 5}\n",
      "0.6527981488982842                                                               \n",
      "{'activation_scale': 0.46939103751226047, 'grid_eps': 0.0005740848713993179, 'grid_size': 5, 'lambda_l1': 1.3934831265318579e-05, 'lambda_l2': 1.30546564130213e-05, 'learning_rate': 0.08245865850745276, 'non': 18, 'p_c_loss_factor': 8.326860324948135e-07, 'scale_base': 7.391437143158687, 'scale_noise': 0.0010523262197661728, 'scale_spline': 0.021639045588857094, 'spline_order': 5}\n",
      "1.47621643288882                                                                 \n",
      "{'activation_scale': 1.2004849777816518, 'grid_eps': 0.0005516938586529654, 'grid_size': 5, 'lambda_l1': 7.884343679795874e-06, 'lambda_l2': 0.00019976194720947816, 'learning_rate': 0.09702052937533412, 'non': 16, 'p_c_loss_factor': 1.1094003638828963e-07, 'scale_base': 3.7514923546964645, 'scale_noise': 0.000620451172805466, 'scale_spline': 0.03196817172851721, 'spline_order': 5}\n",
      "1.0874908892039161                                                               \n",
      "{'activation_scale': 1.9459060348111745, 'grid_eps': 0.0005212204350130264, 'grid_size': 4, 'lambda_l1': 0.0002830875999625276, 'lambda_l2': 1.8164755628929346e-05, 'learning_rate': 0.016783010146517154, 'non': 20, 'p_c_loss_factor': 7.959201938363403e-07, 'scale_base': 0.6880745050482517, 'scale_noise': 1.0669347301985286e-05, 'scale_spline': 0.02123940472614011, 'spline_order': 6}\n",
      "0.5752271035381027                                                               \n",
      "{'activation_scale': 0.8927580353767607, 'grid_eps': 0.009020478661494833, 'grid_size': 7, 'lambda_l1': 4.1067697463282094e-05, 'lambda_l2': 0.006863454939730831, 'learning_rate': 0.009891930932940773, 'non': 18, 'p_c_loss_factor': 2.0879462688602447e-07, 'scale_base': 1.857848111418894, 'scale_noise': 0.0015144448352069162, 'scale_spline': 0.8391691950592297, 'spline_order': 7}\n",
      "1.3536158500466304                                                               \n",
      "{'activation_scale': 8.138635033757037, 'grid_eps': 0.08595662053688685, 'grid_size': 10, 'lambda_l1': 4.315891217863568e-05, 'lambda_l2': 0.047850996947579195, 'learning_rate': 0.008467050502574803, 'non': 16, 'p_c_loss_factor': 2.067072620081463e-07, 'scale_base': 1.766092722195917, 'scale_noise': 0.0013867213431036824, 'scale_spline': 0.4942729568984884, 'spline_order': 7}\n",
      "0.9071557377996554                                                               \n",
      "{'activation_scale': 0.9647208662860666, 'grid_eps': 0.08307143297801142, 'grid_size': 7, 'lambda_l1': 3.2443225143044534e-06, 'lambda_l2': 0.011248454978414401, 'learning_rate': 0.000752808284430093, 'non': 20, 'p_c_loss_factor': 2.700044897727817e-06, 'scale_base': 0.3894161310892445, 'scale_noise': 0.00014663895502013753, 'scale_spline': 1.2324314780714696, 'spline_order': 9}\n",
      "0.7265950919945134                                                               \n",
      "{'activation_scale': 2.024418966093524, 'grid_eps': 0.007860846079413824, 'grid_size': 7, 'lambda_l1': 5.167541590523562e-05, 'lambda_l2': 0.013825128843148259, 'learning_rate': 0.0210725287748366, 'non': 18, 'p_c_loss_factor': 0.0001430459415467818, 'scale_base': 2.480534912702449, 'scale_noise': 0.00042860397379912494, 'scale_spline': 2.8215800522688532, 'spline_order': 9}\n",
      "0.9005073106031168                                                               \n",
      "{'activation_scale': 3.8272916825926613, 'grid_eps': 0.0014973585331470804, 'grid_size': 8, 'lambda_l1': 0.00034544535181685093, 'lambda_l2': 0.09735569193258861, 'learning_rate': 0.006334890061632299, 'non': 14, 'p_c_loss_factor': 0.00040495790910506635, 'scale_base': 1.3660754226113558, 'scale_noise': 2.742515229714089e-05, 'scale_spline': 0.5836793071137534, 'spline_order': 7}\n",
      "1.6905108782085825                                                               \n",
      "{'activation_scale': 2.6762145916972297, 'grid_eps': 5.2960848263927234e-05, 'grid_size': 9, 'lambda_l1': 0.08882938087553575, 'lambda_l2': 0.0032104308447780663, 'learning_rate': 0.003496321413242194, 'non': 16, 'p_c_loss_factor': 0.0222765881621507, 'scale_base': 3.9961170190865015e-05, 'scale_noise': 0.0016406903271530505, 'scale_spline': 0.00046926787080957255, 'spline_order': 8}\n",
      "1.0458116375090112                                                               \n",
      "{'activation_scale': 0.8211035619889304, 'grid_eps': 0.011441625734784964, 'grid_size': 6, 'lambda_l1': 6.288743437705401e-06, 'lambda_l2': 0.0003860027440896935, 'learning_rate': 0.0006645538931329088, 'non': 18, 'p_c_loss_factor': 2.741949446681789e-07, 'scale_base': 0.0002626702945112662, 'scale_noise': 0.00562044590524773, 'scale_spline': 0.005265591864219507, 'spline_order': 6}\n",
      "2.005544317005517                                                                \n",
      "{'activation_scale': 8.590647887709814, 'grid_eps': 0.02600856094469136, 'grid_size': 10, 'lambda_l1': 0.0007290513899386333, 'lambda_l2': 0.0032758678561581626, 'learning_rate': 0.021890868604479127, 'non': 20, 'p_c_loss_factor': 2.4508424481888627e-06, 'scale_base': 0.0193081153731865, 'scale_noise': 0.03724517057632678, 'scale_spline': 4.140921060459537, 'spline_order': 8}\n",
      "0.9743463841845159                                                               \n",
      "{'activation_scale': 1.6463642333792707, 'grid_eps': 0.00026894271731290784, 'grid_size': 6, 'lambda_l1': 0.0001383310465593855, 'lambda_l2': 7.089425704825577e-06, 'learning_rate': 0.06342428380126199, 'non': 16, 'p_c_loss_factor': 1.007306748692009e-07, 'scale_base': 0.30627501969503984, 'scale_noise': 0.00010848759422181109, 'scale_spline': 0.012860515280263326, 'spline_order': 4}\n",
      "0.8873049541400903                                                               \n",
      "{'activation_scale': 6.1594921756168795, 'grid_eps': 0.0014755798103787763, 'grid_size': 8, 'lambda_l1': 0.006013631248743762, 'lambda_l2': 2.6500601878937573e-05, 'learning_rate': 0.009249882762766568, 'non': 14, 'p_c_loss_factor': 1.8897175781926446e-06, 'scale_base': 4.95661588298492, 'scale_noise': 0.001761917601451973, 'scale_spline': 0.10064903245004361, 'spline_order': 7}\n",
      "1.5524988267123898                                                               \n",
      "{'activation_scale': 4.109033431733113, 'grid_eps': 0.03990674924664197, 'grid_size': 9, 'lambda_l1': 1.7042367489794536e-05, 'lambda_l2': 4.0956870193055615e-07, 'learning_rate': 0.002228962061795706, 'non': 18, 'p_c_loss_factor': 0.036097104844740095, 'scale_base': 0.020701616434612647, 'scale_noise': 2.9069321679416308e-05, 'scale_spline': 0.043838538749538254, 'spline_order': 2}\n",
      "0.9928953201046923                                                               \n",
      "{'activation_scale': 3.0818381680209708, 'grid_eps': 0.0133957740282844, 'grid_size': 4, 'lambda_l1': 5.343283583116611e-07, 'lambda_l2': 0.00026991058046647154, 'learning_rate': 0.05206502418124818, 'non': 12, 'p_c_loss_factor': 0.0002527797993122619, 'scale_base': 0.30086633699250603, 'scale_noise': 0.0005017652717268545, 'scale_spline': 9.00879206259672, 'spline_order': 6}\n",
      "0.8441717332469072                                                               \n",
      "{'activation_scale': 2.2877529011962077, 'grid_eps': 6.708511492708536e-05, 'grid_size': 1, 'lambda_l1': 6.0246820676358866e-05, 'lambda_l2': 3.5617183427439427e-06, 'learning_rate': 0.02600749715507436, 'non': 16, 'p_c_loss_factor': 4.1840483239419e-07, 'scale_base': 0.9478411422569056, 'scale_noise': 0.010647335303082359, 'scale_spline': 0.0005775186203207138, 'spline_order': 5}\n",
      "1.316592079524212                                                                \n",
      "{'activation_scale': 7.0965631716128845, 'grid_eps': 0.0044286915122699125, 'grid_size': 4, 'lambda_l1': 4.05949237479062e-06, 'lambda_l2': 0.00011744841248425677, 'learning_rate': 0.012145488934503703, 'non': 20, 'p_c_loss_factor': 6.282011765595171e-05, 'scale_base': 1.5806225110572243e-05, 'scale_noise': 0.006348205978190354, 'scale_spline': 0.00014166013154818724, 'spline_order': 8}\n",
      "1.6775434428454121                                                               \n",
      "{'activation_scale': 1.4335036003697819, 'grid_eps': 2.831618859953949e-05, 'grid_size': 6, 'lambda_l1': 0.03047350655411731, 'lambda_l2': 0.001767077068099607, 'learning_rate': 0.00115340195456486, 'non': 20, 'p_c_loss_factor': 2.2061005228555576e-07, 'scale_base': 0.029252126257697665, 'scale_noise': 0.0003212258987178588, 'scale_spline': 1.0650316826923949e-05, 'spline_order': 1}\n",
      "1.212922012771504                                                                \n",
      "{'activation_scale': 0.7742554134883106, 'grid_eps': 1.2723908434197085e-05, 'grid_size': 10, 'lambda_l1': 0.0002106852413177495, 'lambda_l2': 3.3543041002983973e-06, 'learning_rate': 0.004010710321888695, 'non': 16, 'p_c_loss_factor': 0.0007091136215316476, 'scale_base': 0.009087755166877693, 'scale_noise': 0.02368821348451302, 'scale_spline': 0.1735794354667717, 'spline_order': 3}\n",
      "15.53125401293015                                                                \n",
      "{'activation_scale': 0.18403663256219704, 'grid_eps': 0.00022033408310011344, 'grid_size': 1, 'lambda_l1': 0.0006998167711463714, 'lambda_l2': 0.0924569782519505, 'learning_rate': 0.00015711207358295169, 'non': 18, 'p_c_loss_factor': 1.4150401554184771e-06, 'scale_base': 0.47992693897548766, 'scale_noise': 0.0021654149584719004, 'scale_spline': 0.0037297360814435177, 'spline_order': 4}\n",
      "1.095295486141204                                                                \n",
      "{'activation_scale': 4.421204576367664, 'grid_eps': 0.0024212461419220034, 'grid_size': 7, 'lambda_l1': 7.239499951859696e-07, 'lambda_l2': 3.246287234160017e-05, 'learning_rate': 0.00038030481118645377, 'non': 14, 'p_c_loss_factor': 3.828991620999358e-05, 'scale_base': 5.62986128057663, 'scale_noise': 0.00010218726545953428, 'scale_spline': 0.9474083409070221, 'spline_order': 2}\n",
      "1.5081167036518317                                                               \n",
      "{'activation_scale': 5.501536274307022, 'grid_eps': 0.05328230234344529, 'grid_size': 12, 'lambda_l1': 3.0515991832748366e-06, 'lambda_l2': 0.007078963427045857, 'learning_rate': 0.0024729622151435367, 'non': 12, 'p_c_loss_factor': 4.117998387095908e-06, 'scale_base': 1.803856325538658, 'scale_noise': 3.8149102538430326e-05, 'scale_spline': 0.00239517344144388, 'spline_order': 7}\n",
      "1.0307381070085235                                                               \n",
      "{'activation_scale': 3.1734997088061956, 'grid_eps': 0.00630770330539692, 'grid_size': 4, 'lambda_l1': 1.5994193603430667e-05, 'lambda_l2': 0.04228076192065274, 'learning_rate': 0.030097525336025343, 'non': 20, 'p_c_loss_factor': 4.2203808465435775e-07, 'scale_base': 7.157857314191611e-05, 'scale_noise': 0.0002657639671208364, 'scale_spline': 3.2609707898576006, 'spline_order': 9}\n",
      "0.9238548946843143                                                               \n",
      "{'activation_scale': 2.440583583094117, 'grid_eps': 0.00011789725467477161, 'grid_size': 3, 'lambda_l1': 0.0011366709900618264, 'lambda_l2': 0.0016425193826943665, 'learning_rate': 0.006532269144881495, 'non': 18, 'p_c_loss_factor': 9.822144922179018e-06, 'scale_base': 0.18950543247978466, 'scale_noise': 0.00018421572098363838, 'scale_spline': 0.011761185409204924, 'spline_order': 4}\n",
      "1.2970785100582065                                                               \n",
      "{'activation_scale': 1.488753171756263, 'grid_eps': 0.018887427485672466, 'grid_size': 8, 'lambda_l1': 7.084549984937586e-05, 'lambda_l2': 7.95807618449412e-05, 'learning_rate': 0.014171580336729139, 'non': 16, 'p_c_loss_factor': 0.955212612232521, 'scale_base': 0.005084792917265403, 'scale_noise': 0.0010294291814078684, 'scale_spline': 0.37692088721353023, 'spline_order': 6}\n",
      "0.5455355553093143                                                               \n",
      "{'activation_scale': 0.10314545801675756, 'grid_eps': 2.5751765794258303e-06, 'grid_size': 11, 'lambda_l1': 8.440478062849228e-07, 'lambda_l2': 1.295039114300473e-07, 'learning_rate': 0.04773206582626786, 'non': 14, 'p_c_loss_factor': 0.13254533964779328, 'scale_base': 0.05800375820235332, 'scale_noise': 1.968870732864251e-05, 'scale_spline': 6.60072855679185e-05, 'spline_order': 7}\n",
      "1.1566860169100288                                                               \n",
      "{'activation_scale': 3.5793169425438123, 'grid_eps': 6.721452628561561e-07, 'grid_size': 12, 'lambda_l1': 1.6460115488267917e-07, 'lambda_l2': 1.7219278853476156e-07, 'learning_rate': 0.039793380828060526, 'non': 12, 'p_c_loss_factor': 0.08549079870022902, 'scale_base': 0.0026278548882659996, 'scale_noise': 1.342231965493006e-05, 'scale_spline': 1.776041424083467e-05, 'spline_order': 10}\n",
      "100%|██████████| 50/50 [43:56<00:00, 52.73s/trial, best loss: 0.5455355553093143]\n",
      "Best hyperparameters: {'activation_scale': 0.10314545801675756, 'grid_eps': 2.5751765794258303e-06, 'grid_size': 11.0, 'lambda_l1': 8.440478062849228e-07, 'lambda_l2': 1.295039114300473e-07, 'learning_rate': 0.04773206582626786, 'non': 14.0, 'p_c_loss_factor': 0.13254533964779328, 'scale_base': 0.05800375820235332, 'scale_noise': 1.968870732864251e-05, 'scale_spline': 6.60072855679185e-05, 'spline_order': 7.0}\n"
     ]
    }
   ],
   "source": [
    "trials = Trials()\n",
    "best_params = fmin(fn=objective,\n",
    "                   space=space,\n",
    "                   algo=tpe.suggest,\n",
    "                   max_evals=50,\n",
    "                   trials=trials)\n",
    "print(\"Best hyperparameters:\", best_params)"
   ]
  },
  {
   "cell_type": "code",
   "execution_count": 22,
   "metadata": {
    "execution": {
     "iopub.execute_input": "2024-08-13T21:43:58.128838Z",
     "iopub.status.busy": "2024-08-13T21:43:58.128838Z",
     "iopub.status.idle": "2024-08-13T21:43:58.465947Z",
     "shell.execute_reply": "2024-08-13T21:43:58.465947Z"
    }
   },
   "outputs": [],
   "source": [
    "param_df.to_csv(f'param_df{current_target}.csv')"
   ]
  },
  {
   "cell_type": "code",
   "execution_count": 23,
   "metadata": {},
   "outputs": [
    {
     "name": "stderr",
     "output_type": "stream",
     "text": [
      "C:\\Users\\Administrator\\AppData\\Local\\Temp\\2\\ipykernel_7028\\836558021.py:1: FutureWarning: You are using `torch.load` with `weights_only=False` (the current default value), which uses the default pickle module implicitly. It is possible to construct malicious pickle data which will execute arbitrary code during unpickling (See https://github.com/pytorch/pytorch/blob/main/SECURITY.md#untrusted-models for more details). In a future release, the default value for `weights_only` will be flipped to `True`. This limits the functions that could be executed during unpickling. Arbitrary objects will no longer be allowed to be loaded via this mode unless they are explicitly allowlisted by the user via `torch.serialization.add_safe_globals`. We recommend you start setting `weights_only=True` for any use case where you don't have full control of the loaded file. Please open an issue on GitHub for any issues related to this experimental feature.\n",
      "  checkpoint = torch.load(f\"{current_target}_bestest_model.pth\")\n"
     ]
    },
    {
     "data": {
      "text/plain": [
       "<All keys matched successfully>"
      ]
     },
     "execution_count": 23,
     "metadata": {},
     "output_type": "execute_result"
    }
   ],
   "source": [
    "checkpoint = torch.load(f\"{current_target}_bestest_model.pth\")\n",
    "params1 = checkpoint['params']\n",
    "model = KAN(\n",
    "    layers_hidden=[8, params1['non'], 1],\n",
    "    grid_size=params1['grid_size'],\n",
    "    spline_order=params1['spline_order'],\n",
    "    scale_noise=params1['scale_noise'],\n",
    "    scale_base=params1['scale_base'],\n",
    "    scale_spline=params1['scale_spline'],\n",
    "    base_activation=nn.SiLU,\n",
    "    grid_eps=params1['grid_eps'],\n",
    "    grid_range=[0, 1],\n",
    "    activation_scale=params1['activation_scale']\n",
    ")\n",
    "model.load_state_dict(checkpoint['model_state_dict'])"
   ]
  },
  {
   "cell_type": "code",
   "execution_count": 24,
   "metadata": {
    "execution": {
     "iopub.execute_input": "2024-08-13T21:46:01.304204Z",
     "iopub.status.busy": "2024-08-13T21:46:01.304204Z",
     "iopub.status.idle": "2024-08-13T21:46:01.331912Z",
     "shell.execute_reply": "2024-08-13T21:46:01.331912Z"
    }
   },
   "outputs": [
    {
     "data": {
      "text/plain": [
       "0.5257814064836649"
      ]
     },
     "execution_count": 24,
     "metadata": {},
     "output_type": "execute_result"
    }
   ],
   "source": [
    "model.eval()\n",
    "with torch.no_grad():\n",
    "    test_predictions = model(dataset['test_input'])\n",
    "mse(dataset['test_label'].numpy(), test_predictions.numpy())**0.5"
   ]
  },
  {
   "cell_type": "code",
   "execution_count": 25,
   "metadata": {
    "execution": {
     "iopub.execute_input": "2024-08-13T21:46:01.331912Z",
     "iopub.status.busy": "2024-08-13T21:46:01.331912Z",
     "iopub.status.idle": "2024-08-13T21:46:01.342743Z",
     "shell.execute_reply": "2024-08-13T21:46:01.342743Z"
    }
   },
   "outputs": [
    {
     "data": {
      "text/plain": [
       "0.9970341373493754"
      ]
     },
     "execution_count": 25,
     "metadata": {},
     "output_type": "execute_result"
    }
   ],
   "source": [
    "r2_score(dataset['test_label'].numpy(), test_predictions.numpy())"
   ]
  }
 ],
 "metadata": {
  "kernelspec": {
   "display_name": "Python 3",
   "language": "python",
   "name": "python3"
  },
  "language_info": {
   "codemirror_mode": {
    "name": "ipython",
    "version": 3
   },
   "file_extension": ".py",
   "mimetype": "text/x-python",
   "name": "python",
   "nbconvert_exporter": "python",
   "pygments_lexer": "ipython3",
   "version": "3.12.6"
  }
 },
 "nbformat": 4,
 "nbformat_minor": 2
}
