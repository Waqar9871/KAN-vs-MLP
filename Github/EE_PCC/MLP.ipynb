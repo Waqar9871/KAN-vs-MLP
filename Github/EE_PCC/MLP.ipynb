{
 "cells": [
  {
   "cell_type": "code",
   "execution_count": 1,
   "metadata": {
    "execution": {
     "iopub.execute_input": "2024-08-13T21:46:07.138373Z",
     "iopub.status.busy": "2024-08-13T21:46:07.138373Z",
     "iopub.status.idle": "2024-08-13T21:46:20.068302Z",
     "shell.execute_reply": "2024-08-13T21:46:20.068302Z"
    }
   },
   "outputs": [],
   "source": [
    "import pandas as pd\n",
    "import torch\n",
    "from sklearn.model_selection import train_test_split\n",
    "import numpy as np\n",
    "from sklearn.metrics import mean_squared_error as mse, r2_score\n",
    "from hyperopt import fmin, tpe, hp, Trials, STATUS_OK\n",
    "from sklearn.preprocessing import MinMaxScaler\n",
    "import torch.nn as nn\n",
    "import random\n",
    "import torch.optim as optim\n",
    "import torch.nn.functional as F\n",
    "\n",
    "torch.set_default_dtype(torch.float64)\n",
    "dtype = torch.get_default_dtype()"
   ]
  },
  {
   "cell_type": "code",
   "execution_count": 2,
   "metadata": {
    "execution": {
     "iopub.execute_input": "2024-08-13T21:46:20.068302Z",
     "iopub.status.busy": "2024-08-13T21:46:20.068302Z",
     "iopub.status.idle": "2024-08-13T21:46:20.105020Z",
     "shell.execute_reply": "2024-08-13T21:46:20.105020Z"
    }
   },
   "outputs": [],
   "source": [
    "df=pd.read_csv('data.csv',header=1)\n",
    "df=df.drop(columns=['cl'])\n",
    "current_target='hl'"
   ]
  },
  {
   "cell_type": "code",
   "execution_count": 3,
   "metadata": {
    "execution": {
     "iopub.execute_input": "2024-08-13T21:46:20.105020Z",
     "iopub.status.busy": "2024-08-13T21:46:20.105020Z",
     "iopub.status.idle": "2024-08-13T21:46:20.121156Z",
     "shell.execute_reply": "2024-08-13T21:46:20.121156Z"
    }
   },
   "outputs": [],
   "source": [
    "df = df.sort_index()\n",
    "x = df.drop(columns=current_target)\n",
    "y = df[current_target]\n",
    "x_train, x_test, y_train, y_test = train_test_split(x, y, test_size=0.3, random_state=17) #81 cl, 17 hl,"
   ]
  },
  {
   "cell_type": "markdown",
   "metadata": {},
   "source": [
    "for n in range(100):\n",
    "    df = df.sort_index()\n",
    "    x = df.drop(columns=current_target)\n",
    "    y = df[current_target]\n",
    "    x_train, x_test, y_train, y_test = train_test_split(x, y, test_size=0.3, random_state=n)\n",
    "    model=CatBoostRegressor(verbose=False)\n",
    "    model.fit(x_train,y_train)\n",
    "    print(f\"{n},{mse(model.predict(x_test),y_test)}\")\n",
    "\n",
    "1. cl\n",
    "0,0.6726237937055908\n",
    "1,0.6551111204528186\n",
    "2,0.5134167792554208\n",
    "3,0.6702404964559748\n",
    "4,0.3963925748445111\n",
    "5,0.4244785272343683\n",
    "6,0.7128779993606781\n",
    "7,0.42448164546650735\n",
    "8,0.5758215699724097\n",
    "9,0.6929274000992075\n",
    "10,0.5241317759101504\n",
    "11,0.5502553447749845\n",
    "12,0.6750870949568888\n",
    "13,0.5918744283393744\n",
    "14,0.3688059156312062\n",
    "15,0.33924429643333115\n",
    "16,0.4933456427221908\n",
    "17,0.6611190753724675\n",
    "18,0.8776379907503337\n",
    "19,0.6418714641400631\n",
    "20,0.47863783450134006\n",
    "21,0.5110820995530742\n",
    "22,0.7599056382572423\n",
    "23,0.6616884552833008\n",
    "24,0.7018338094536908\n",
    "25,0.6651892620050522\n",
    "26,0.542460723048853\n",
    "27,0.43925698458261875\n",
    "28,0.5528020179778033\n",
    "29,0.4881128026914078\n",
    "30,0.5641605587796904\n",
    "31,0.43074406870363807\n",
    "32,0.9513384725135475\n",
    "33,0.6547016720207187\n",
    "34,0.4385436533488978\n",
    "35,0.5133608813629675\n",
    "36,0.5973251884924098\n",
    "37,0.7137358054712505\n",
    "38,0.4472159919128551\n",
    "39,0.5293948727579767\n",
    "40,0.6419645799724142\n",
    "41,0.49753682548396344\n",
    "42,0.48946337510663984\n",
    "43,0.39542504771074677\n",
    "44,0.4229125982091833\n",
    "45,0.5630333736986324\n",
    "46,0.6826538057166728\n",
    "47,0.7045957241567439\n",
    "48,0.9589865159769584\n",
    "49,0.970304926742422\n",
    "50,0.5114439360470149\n",
    "51,0.4564611558849673\n",
    "52,0.41539648054739475\n",
    "53,0.5736707791681147\n",
    "54,0.5602177165490395\n",
    "55,0.5015575788586971\n",
    "56,0.77891950685694\n",
    "57,0.6307812807713166\n",
    "58,0.5642348164581901\n",
    "59,0.45400243254004513\n",
    "60,0.7959933976879333\n",
    "61,0.8882558932204597\n",
    "62,0.6801553869713919\n",
    "63,0.4878988395146996\n",
    "64,0.8252484918439765\n",
    "65,0.5146937422621961\n",
    "66,0.5177163488361217\n",
    "67,0.4885181426357839\n",
    "68,0.5922663079631817\n",
    "69,0.5564526449733648\n",
    "70,0.4632930218203085\n",
    "71,0.6754912162581836\n",
    "72,0.6212396948191566\n",
    "73,0.4971932378757647\n",
    "74,0.45047835422321364\n",
    "75,0.6427462558119769\n",
    "76,0.4554135719629285\n",
    "77,0.4606326995622914\n",
    "78,1.1826245842058944\n",
    "79,0.6157536348277911\n",
    "80,0.8336385973478375\n",
    "81,0.33578481362592855\n",
    "82,0.4720676693788693\n",
    "83,0.5343760903099496\n",
    "84,0.5936119068763387\n",
    "85,0.585729010388912\n",
    "86,0.718412495687104\n",
    "87,0.5506948215987275\n",
    "88,0.45996103660804405\n",
    "89,0.4582340678778356\n",
    "90,0.4476517549558945\n",
    "91,0.7348561801653456\n",
    "92,0.4526448523430189\n",
    "93,1.0544624252486114\n",
    "94,0.5089084491829143\n",
    "95,0.4653337146771206\n",
    "96,0.5308033776319937\n",
    "97,0.6142448731395392\n",
    "98,0.4479745720313298\n",
    "99,0.5441578648255044\n",
    "\n",
    "2. hl\n",
    "0,0.1489341506839013\n",
    "1,0.11505072218481588\n",
    "2,0.1210512197198303\n",
    "3,0.11999413749902414\n",
    "4,0.10305787369378579\n",
    "5,0.10397017898197007\n",
    "6,0.14998818435446742\n",
    "7,0.1333043024447535\n",
    "8,0.11130477843175925\n",
    "9,0.1425725829343789\n",
    "10,0.14855983649539045\n",
    "11,0.15300385725945378\n",
    "12,0.10367149248066052\n",
    "13,0.12381504539201228\n",
    "14,0.10389730166324894\n",
    "15,0.10872396797076571\n",
    "16,0.20766519850225745\n",
    "17,0.07058818947529498\n",
    "18,0.700049445374208\n",
    "19,0.10056803372886693\n",
    "20,0.10028635130254954\n",
    "21,0.09913464572187124\n",
    "22,0.13918253531038705\n",
    "23,0.152417334877583\n",
    "24,0.10746914336867258\n",
    "25,0.14073873695210948\n",
    "26,0.10437584352647893\n",
    "27,0.1382380748781409\n",
    "28,0.11224680357474569\n",
    "29,0.10615251377508314\n",
    "30,0.13518751840365692\n",
    "31,0.11391676156575323\n",
    "32,0.24052476501195155\n",
    "33,0.10836811987254881\n",
    "34,0.1532889724809035\n",
    "35,0.12166964393842336\n",
    "36,0.10683800910364755\n",
    "37,0.15455576338139226\n",
    "38,0.09326644445549408\n",
    "39,0.1289245473198724\n",
    "40,0.3727714612021985\n",
    "41,0.10840153040532234\n",
    "42,0.12612311593925896\n",
    "43,0.08912433585144204\n",
    "44,0.0837212388516493\n",
    "45,0.10978125138486883\n",
    "46,0.11353192341767072\n",
    "47,0.13575952826393678\n",
    "48,0.1933672768331914\n",
    "49,0.12194051706670986\n",
    "50,0.08926803138703238\n",
    "51,0.11989231674540715\n",
    "52,0.1317998367607502\n",
    "53,0.09301372055244184\n",
    "54,0.13915986087774063\n",
    "55,0.09812140696497591\n",
    "56,0.14747867249615648\n",
    "57,0.11377591769998492\n",
    "58,0.20129228730462154\n",
    "59,0.13284501579857613\n",
    "60,0.15462962086018214\n",
    "61,0.44318173792138554\n",
    "62,0.1711135817126508\n",
    "63,0.13622964318496805\n",
    "64,0.1086866976142961\n",
    "65,0.12191195610483656\n",
    "66,0.2147835735484987\n",
    "67,0.1589878393160268\n",
    "68,0.11124986988619477\n",
    "69,0.15522080911252464\n",
    "70,0.09086398813959162\n",
    "71,0.16564674659194586\n",
    "72,0.11909266479980044\n",
    "73,0.16158603320985046\n",
    "74,0.10064173236314371\n",
    "75,0.1490685334283945\n",
    "76,0.09117910394017567\n",
    "77,0.12041289104554949\n",
    "78,0.14479143639649322\n",
    "79,0.09429977426759172\n",
    "80,0.11475943590250344\n",
    "81,0.10803025387581155\n",
    "82,0.10269337962569641\n",
    "83,0.10549190601957907\n",
    "84,0.1013728504560079\n",
    "85,0.27292722663709174\n",
    "86,0.14005984730373597\n",
    "87,0.10788515483840452\n",
    "88,0.1364334823829534\n",
    "89,0.13401319197948594\n",
    "90,0.10530441005104788\n",
    "91,0.11881955494122014\n",
    "92,0.14637669793202007\n",
    "93,0.11208376876773744\n",
    "94,0.0900481568889163\n",
    "95,0.12357887088645979\n",
    "96,0.10210315969061771\n",
    "97,0.284649197516948\n",
    "98,0.13353946279465723\n",
    "99,0.10209304121912875"
   ]
  },
  {
   "cell_type": "code",
   "execution_count": 4,
   "metadata": {
    "execution": {
     "iopub.execute_input": "2024-08-13T21:46:20.121156Z",
     "iopub.status.busy": "2024-08-13T21:46:20.121156Z",
     "iopub.status.idle": "2024-08-13T21:46:20.138602Z",
     "shell.execute_reply": "2024-08-13T21:46:20.138602Z"
    }
   },
   "outputs": [],
   "source": [
    "def set_seed(seed=42):\n",
    "    np.random.seed(seed)\n",
    "    random.seed(seed)\n",
    "    torch.manual_seed(seed)\n",
    "\n",
    "set_seed(42)"
   ]
  },
  {
   "cell_type": "code",
   "execution_count": 5,
   "metadata": {
    "execution": {
     "iopub.execute_input": "2024-08-13T21:46:20.138602Z",
     "iopub.status.busy": "2024-08-13T21:46:20.138602Z",
     "iopub.status.idle": "2024-08-13T21:46:20.151324Z",
     "shell.execute_reply": "2024-08-13T21:46:20.151324Z"
    }
   },
   "outputs": [],
   "source": [
    "class Net(torch.nn.Module):\n",
    "    def __init__(self, n_feature, n_hidden, n_output, activation_fn=nn.ReLU, activation_scale=1.0):\n",
    "        super(Net, self).__init__()\n",
    "        self.hidden = nn.Linear(n_feature, n_hidden)   # hidden layer\n",
    "        self.predict = nn.Linear(n_hidden, n_output)   # output layer\n",
    "        self.activation_fn = activation_fn()           # instantiate the activation function\n",
    "        self.activation_scale = activation_scale       # scaling factor for the activation function\n",
    "\n",
    "    def forward(self, x):\n",
    "        x = self.activation_scale * self.activation_fn(self.hidden(x))  # apply scaled activation function\n",
    "        x = self.predict(x)                                              # linear output\n",
    "        return x"
   ]
  },
  {
   "cell_type": "code",
   "execution_count": 6,
   "metadata": {
    "execution": {
     "iopub.execute_input": "2024-08-13T21:46:20.151324Z",
     "iopub.status.busy": "2024-08-13T21:46:20.151324Z",
     "iopub.status.idle": "2024-08-13T21:46:20.161868Z",
     "shell.execute_reply": "2024-08-13T21:46:20.161868Z"
    }
   },
   "outputs": [],
   "source": [
    "dataset = {}\n",
    "train_input=x_train.to_numpy()\n",
    "train_label=y_train.to_numpy()\n",
    "test_input=x_test.to_numpy()\n",
    "test_label=y_test.to_numpy()"
   ]
  },
  {
   "cell_type": "code",
   "execution_count": 7,
   "metadata": {
    "execution": {
     "iopub.execute_input": "2024-08-13T21:46:20.161868Z",
     "iopub.status.busy": "2024-08-13T21:46:20.161868Z",
     "iopub.status.idle": "2024-08-13T21:46:20.177085Z",
     "shell.execute_reply": "2024-08-13T21:46:20.177085Z"
    }
   },
   "outputs": [],
   "source": [
    "scaler_input = MinMaxScaler()\n",
    "\n",
    "train_input_scaled = scaler_input.fit_transform(train_input)\n",
    "test_input_scaled = scaler_input.transform(test_input)\n",
    "\n",
    "dataset['train_input'] = torch.from_numpy(train_input_scaled).type(dtype)\n",
    "dataset['test_input'] = torch.from_numpy(test_input_scaled).type(dtype)\n",
    "dataset['train_label'] = torch.from_numpy(train_label[:,None]).type(dtype)\n",
    "dataset['test_label'] = torch.from_numpy(test_label[:,None]).type(dtype)"
   ]
  },
  {
   "cell_type": "code",
   "execution_count": 8,
   "metadata": {
    "execution": {
     "iopub.execute_input": "2024-08-13T21:46:20.177085Z",
     "iopub.status.busy": "2024-08-13T21:46:20.177085Z",
     "iopub.status.idle": "2024-08-13T21:46:20.192689Z",
     "shell.execute_reply": "2024-08-13T21:46:20.192689Z"
    }
   },
   "outputs": [],
   "source": [
    "def p_c(x, y, y_hat):\n",
    "    y = y[:, 0]\n",
    "    y_hat = y_hat[:, 0]\n",
    "    differences = []\n",
    "\n",
    "    for i in range(8):\n",
    "        n = x[:, i]\n",
    "        mean_n = torch.mean(n)\n",
    "        mean_y = torch.mean(y)\n",
    "        mean_y_hat = torch.mean(y_hat)\n",
    "\n",
    "        numerator1 = torch.sum((n - mean_n) * (y - mean_y))\n",
    "        denominator1 = torch.sqrt(torch.sum((n - mean_n)**2) * torch.sum((y - mean_y)**2))\n",
    "\n",
    "        numerator2 = torch.sum((n - mean_n) * (y_hat - mean_y_hat))\n",
    "        denominator2 = torch.sqrt(torch.sum((n - mean_n)**2) * torch.sum((y_hat - mean_y_hat)**2))\n",
    "\n",
    "        pc1 = numerator1 / denominator1 if denominator1 != 0 else 0\n",
    "        pc2 = numerator2 / denominator2 if denominator2 != 0 else 0\n",
    "\n",
    "        differences.append(torch.abs(torch.abs(pc1) - torch.abs(pc2)))\n",
    "\n",
    "    return torch.mean(torch.tensor(differences))"
   ]
  },
  {
   "cell_type": "code",
   "execution_count": 9,
   "metadata": {
    "execution": {
     "iopub.execute_input": "2024-08-13T21:46:20.192689Z",
     "iopub.status.busy": "2024-08-13T21:46:20.192689Z",
     "iopub.status.idle": "2024-08-13T21:46:20.205800Z",
     "shell.execute_reply": "2024-08-13T21:46:20.205800Z"
    }
   },
   "outputs": [],
   "source": [
    "space = {\n",
    "    'learning_rate': hp.loguniform('learning_rate', np.log(1e-5), np.log(1e-1)),\n",
    "    'lambda_l1': hp.loguniform('lambda_l1', np.log(1e-7), np.log(1e-1)),\n",
    "    'lambda_l2': hp.loguniform('lambda_l2', np.log(1e-7), np.log(1e-1)),\n",
    "    'non': hp.quniform('non', 8, 20, 2),\n",
    "    'p_c_loss_factor': hp.loguniform('p_c_loss_factor', np.log(1e-7), np.log(1)),\n",
    "    'activation_scale': hp.uniform('activation_scale', 0.1, 10.0)\n",
    "}"
   ]
  },
  {
   "cell_type": "code",
   "execution_count": 10,
   "metadata": {
    "execution": {
     "iopub.execute_input": "2024-08-13T21:46:20.205800Z",
     "iopub.status.busy": "2024-08-13T21:46:20.205800Z",
     "iopub.status.idle": "2024-08-13T21:46:20.234301Z",
     "shell.execute_reply": "2024-08-13T21:46:20.234301Z"
    }
   },
   "outputs": [],
   "source": [
    "param_df = pd.DataFrame(columns=['params', 'loss_curve_train', 'loss_curve_test', 'best_score'])\n",
    "trial_no = 0\n",
    "bestest_score = float('inf')  # Initialize global variable\n",
    "\n",
    "set_seed(42)\n",
    "def objective(params):\n",
    "    set_seed(42)\n",
    "    global trial_no, bestest_score  \n",
    "    trial_no += 1\n",
    "    params['non'] = int(params['non'])\n",
    "    model = Net(\n",
    "        n_feature=8,\n",
    "        n_hidden=params['non'],\n",
    "        n_output=1,\n",
    "        activation_fn=nn.SiLU,\n",
    "        activation_scale=params['activation_scale']\n",
    "    )\n",
    "    \n",
    "    criterion = nn.MSELoss()\n",
    "    optimizer = optim.Adam(model.parameters(), lr=params['learning_rate'], weight_decay=params['lambda_l2'])\n",
    "    num_epochs = 5000\n",
    "    patience = 200\n",
    "    best_loss = float('inf')\n",
    "    epochs_no_improve = 0\n",
    "    param_df['params'].loc[trial_no] = params\n",
    "    training_loss = []\n",
    "    test_loss = []\n",
    "    \n",
    "    for epoch in range(num_epochs):\n",
    "        set_seed(42)\n",
    "        model.train()\n",
    "        optimizer.zero_grad()\n",
    "        predictions = model(dataset['train_input'])\n",
    "        main_loss = criterion(predictions, dataset['train_label'])\n",
    "        l1_loss = sum(p.abs().sum() for p in model.parameters())\n",
    "        pc_loss = p_c(dataset['train_input'], dataset['train_label'], predictions)\n",
    "        loss = main_loss + (params['lambda_l1'] * l1_loss) + (params['p_c_loss_factor'] * pc_loss)\n",
    "        loss.backward()\n",
    "        optimizer.step()\n",
    "        training_loss.append(loss.item())\n",
    "        \n",
    "        model.eval()\n",
    "        with torch.no_grad():\n",
    "            val_predictions = model(dataset['test_input'])\n",
    "            temp_score = mse(dataset['test_label'].numpy(), val_predictions.numpy())  # Move tensors to CPU before numpy\n",
    "        test_loss.append(temp_score)\n",
    "        \n",
    "        if temp_score < best_loss:\n",
    "            best_loss = temp_score\n",
    "            epochs_no_improve = 0\n",
    "            best_model_state = model.state_dict()\n",
    "        else:\n",
    "            epochs_no_improve += 1\n",
    "        \n",
    "        if epochs_no_improve >= patience:\n",
    "            model.load_state_dict(best_model_state)\n",
    "            break\n",
    "        \n",
    "        # Update the bestest score\n",
    "        if temp_score < bestest_score:\n",
    "            bestest_score = temp_score\n",
    "            torch.save({'model_state_dict': best_model_state, 'params': params}, f\"{current_target}_bestest_model.pth\")\n",
    "    \n",
    "    \n",
    "    model.eval()\n",
    "    with torch.no_grad():\n",
    "        test_predictions = model(dataset['test_input'])\n",
    "    score = mse(dataset['test_label'].numpy(), test_predictions.numpy())  # Move tensors to CPU before numpy\n",
    "    param_df.loc[trial_no] = [params, training_loss, test_loss, score]\n",
    "    print(score)\n",
    "    print(params)\n",
    "    return score\n"
   ]
  },
  {
   "cell_type": "code",
   "execution_count": 11,
   "metadata": {
    "execution": {
     "iopub.execute_input": "2024-08-13T21:46:20.234301Z",
     "iopub.status.busy": "2024-08-13T21:46:20.234301Z",
     "iopub.status.idle": "2024-08-13T22:07:57.560180Z",
     "shell.execute_reply": "2024-08-13T22:07:57.560180Z"
    }
   },
   "outputs": [
    {
     "name": "stdout",
     "output_type": "stream",
     "text": [
      "4.37039850239118                                      \n",
      "{'activation_scale': 1.665781938594481, 'lambda_l1': 1.0745642772342121e-05, 'lambda_l2': 2.2852316366868405e-06, 'learning_rate': 0.005434598668024014, 'non': 10, 'p_c_loss_factor': 0.00011254836717134859}\n",
      "0.20605231137330182                                                           \n",
      "{'activation_scale': 4.981229099365267, 'lambda_l1': 2.183977450793556e-06, 'lambda_l2': 0.00012092418192168428, 'learning_rate': 0.09707622699048866, 'non': 12, 'p_c_loss_factor': 0.6358320895002253}\n",
      "17.145321946434592                                                               \n",
      "{'activation_scale': 2.4943332627173747, 'lambda_l1': 2.0948373043930565e-05, 'lambda_l2': 2.708128123236553e-06, 'learning_rate': 0.00014819535547087734, 'non': 12, 'p_c_loss_factor': 0.001921683080465359}\n",
      "430.82685698861445                                                               \n",
      "{'activation_scale': 9.876123228281172, 'lambda_l1': 0.0001890079586371098, 'lambda_l2': 0.05435062749185093, 'learning_rate': 1.3415153974204099e-05, 'non': 14, 'p_c_loss_factor': 0.4759034182856898}\n",
      "4.837258508057032                                                                \n",
      "{'activation_scale': 8.654126130386677, 'lambda_l1': 8.830979404858347e-07, 'lambda_l2': 0.0994949198700683, 'learning_rate': 0.011823173510466033, 'non': 16, 'p_c_loss_factor': 0.0007354448560058071}\n",
      "7.450149600108727                                                                \n",
      "{'activation_scale': 5.107273586001096, 'lambda_l1': 5.646999461564196e-05, 'lambda_l2': 5.86355574327755e-07, 'learning_rate': 0.003771471354118835, 'non': 18, 'p_c_loss_factor': 0.07653028026827319}\n",
      "8.29399342261719                                                                 \n",
      "{'activation_scale': 5.5585334268688396, 'lambda_l1': 1.7567102079346129e-06, 'lambda_l2': 0.0006831788978703881, 'learning_rate': 0.00026869934076859423, 'non': 14, 'p_c_loss_factor': 0.0001827117734254946}\n",
      "8.478693775580254                                                                \n",
      "{'activation_scale': 6.170634832028444, 'lambda_l1': 1.1711236967430423e-05, 'lambda_l2': 5.880452944904434e-06, 'learning_rate': 0.0002315790147111516, 'non': 18, 'p_c_loss_factor': 3.6420108489373313e-06}\n",
      "7.110479681879305                                                                \n",
      "{'activation_scale': 4.78296406793426, 'lambda_l1': 1.242054855289428e-07, 'lambda_l2': 8.629485900208207e-07, 'learning_rate': 0.0014030843203781558, 'non': 10, 'p_c_loss_factor': 0.002332059822412015}\n",
      "6.561025363817768                                                                \n",
      "{'activation_scale': 3.392479489629161, 'lambda_l1': 0.07455102706728049, 'lambda_l2': 0.021883089915144833, 'learning_rate': 0.048475894822316415, 'non': 12, 'p_c_loss_factor': 7.4100561704892586e-06}\n",
      "128.81206379359526                                                                \n",
      "{'activation_scale': 7.818985785079898, 'lambda_l1': 4.280810440257384e-06, 'lambda_l2': 0.0008709038106869797, 'learning_rate': 3.136569877341946e-05, 'non': 18, 'p_c_loss_factor': 0.0010768498673189343}\n",
      "7.777970323652566                                                                 \n",
      "{'activation_scale': 3.608766303557186, 'lambda_l1': 0.08856093036573494, 'lambda_l2': 0.03671682681950127, 'learning_rate': 0.0708388417433483, 'non': 16, 'p_c_loss_factor': 2.2652328013338092e-05}\n",
      "0.833589948370137                                                                 \n",
      "{'activation_scale': 5.032333597683275, 'lambda_l1': 0.003325484755523022, 'lambda_l2': 0.003939010460142378, 'learning_rate': 0.05389155850123472, 'non': 14, 'p_c_loss_factor': 0.00017706493448255408}\n",
      "5.3554491788112975                                                                \n",
      "{'activation_scale': 3.1798621900836634, 'lambda_l1': 0.0009061849407269492, 'lambda_l2': 0.004936568946563018, 'learning_rate': 0.003776499829220929, 'non': 8, 'p_c_loss_factor': 0.5465315628928775}\n",
      "0.2686282685538123                                                                \n",
      "{'activation_scale': 4.933940482329331, 'lambda_l1': 9.385794042088736e-05, 'lambda_l2': 0.00016081390538657262, 'learning_rate': 0.008782704012978234, 'non': 14, 'p_c_loss_factor': 3.961316377815228e-06}\n",
      "7.022454158319121                                                                 \n",
      "{'activation_scale': 9.141681714343404, 'lambda_l1': 0.02427661774063912, 'lambda_l2': 2.463748811172618e-06, 'learning_rate': 0.0013533122622406207, 'non': 14, 'p_c_loss_factor': 1.3149364252876025e-05}\n",
      "1.3644953136499038                                                                \n",
      "{'activation_scale': 1.044465567040205, 'lambda_l1': 9.469485948925256e-06, 'lambda_l2': 0.0010463687032762404, 'learning_rate': 0.04972430672300061, 'non': 12, 'p_c_loss_factor': 0.3053918447158825}\n",
      "6.946735599325932                                                                 \n",
      "{'activation_scale': 2.3831125499334416, 'lambda_l1': 5.433720721148603e-07, 'lambda_l2': 4.5464024751359366e-07, 'learning_rate': 0.0012262307239857442, 'non': 12, 'p_c_loss_factor': 0.4178339751007961}\n",
      "4.713749860223653                                                                 \n",
      "{'activation_scale': 3.7764688617258413, 'lambda_l1': 9.668022528274027e-06, 'lambda_l2': 0.03874604425998035, 'learning_rate': 0.02332625224287932, 'non': 16, 'p_c_loss_factor': 0.0056952906326546105}\n",
      "359.9690784361008                                                                 \n",
      "{'activation_scale': 4.133388551439142, 'lambda_l1': 3.474836111332233e-06, 'lambda_l2': 1.7460747299171832e-06, 'learning_rate': 2.4563953262825723e-05, 'non': 20, 'p_c_loss_factor': 0.0047436239773893454}\n",
      "0.21173086993106596                                                               \n",
      "{'activation_scale': 6.783379499346827, 'lambda_l1': 0.0002988184830942117, 'lambda_l2': 3.2437270681022865e-05, 'learning_rate': 0.014313224096806793, 'non': 10, 'p_c_loss_factor': 1.3196819532972613e-07}\n",
      "1.036719310717879                                                                 \n",
      "{'activation_scale': 7.220692412361343, 'lambda_l1': 0.0005664012881618856, 'lambda_l2': 3.9216440135522895e-05, 'learning_rate': 0.021053203206355002, 'non': 8, 'p_c_loss_factor': 1.0613271044305246e-07}\n",
      "0.2056106864754694                                                                \n",
      "{'activation_scale': 6.6180159629603885, 'lambda_l1': 2.1095389694204057e-07, 'lambda_l2': 2.038997862174505e-05, 'learning_rate': 0.023229194883208, 'non': 10, 'p_c_loss_factor': 1.3966427489243634e-07}\n",
      "0.55340178295084                                                                  \n",
      "{'activation_scale': 6.277357767031375, 'lambda_l1': 1.3307030726638274e-07, 'lambda_l2': 1.6896524154351408e-05, 'learning_rate': 0.09769664708225258, 'non': 10, 'p_c_loss_factor': 6.528438730276625e-07}\n",
      "3.4521556934377666                                                               \n",
      "{'activation_scale': 0.16233425686446523, 'lambda_l1': 3.57436141388597e-07, 'lambda_l2': 0.00015295277893171777, 'learning_rate': 0.03227113583893038, 'non': 8, 'p_c_loss_factor': 0.040117827670275004}\n",
      "0.4105197989237841                                                               \n",
      "{'activation_scale': 8.21593864429071, 'lambda_l1': 1.626625425003348e-07, 'lambda_l2': 1.429793215902146e-07, 'learning_rate': 0.09874604862556888, 'non': 10, 'p_c_loss_factor': 5.998374219723395e-07}\n",
      "7.519076698935239                                                                \n",
      "{'activation_scale': 7.496189060697281, 'lambda_l1': 1.1580343004725826e-06, 'lambda_l2': 9.479854481066123e-06, 'learning_rate': 0.0005343524674917585, 'non': 12, 'p_c_loss_factor': 0.02152774230564299}\n",
      "6.42531268006734                                                                 \n",
      "{'activation_scale': 5.955344079817216, 'lambda_l1': 3.237154647705822e-07, 'lambda_l2': 7.915535707065223e-05, 'learning_rate': 0.0025586086262596552, 'non': 8, 'p_c_loss_factor': 4.624363590848563e-05}\n",
      "0.722861658545181                                                                \n",
      "{'activation_scale': 4.3508282157581615, 'lambda_l1': 4.205267729129062e-05, 'lambda_l2': 0.00032777967613753457, 'learning_rate': 0.006181355730599158, 'non': 10, 'p_c_loss_factor': 7.007663820672008e-07}\n",
      "0.21126307338752975                                                              \n",
      "{'activation_scale': 9.873902380795874, 'lambda_l1': 3.0168514337082383e-06, 'lambda_l2': 6.144628318300452e-05, 'learning_rate': 0.02965520864845676, 'non': 12, 'p_c_loss_factor': 0.1142411220189102}\n",
      "2.966426305881031                                                                \n",
      "{'activation_scale': 6.900394982783805, 'lambda_l1': 2.3201710493492497e-05, 'lambda_l2': 0.0030194555578796785, 'learning_rate': 0.006722640267459316, 'non': 8, 'p_c_loss_factor': 0.013236541591496648}\n",
      "7.865456493902992                                                                \n",
      "{'activation_scale': 1.5706122285606599, 'lambda_l1': 1.0075270998012819e-07, 'lambda_l2': 8.37588790297829e-06, 'learning_rate': 0.0005844689580387655, 'non': 10, 'p_c_loss_factor': 6.500557934798725e-05}\n",
      "20.39665520229438                                                                \n",
      "{'activation_scale': 9.117138091591233, 'lambda_l1': 6.181451863807792e-07, 'lambda_l2': 1.013029126158574e-07, 'learning_rate': 7.393368904673785e-05, 'non': 12, 'p_c_loss_factor': 1.2753956020372085e-06}\n",
      "2.1944099373333064                                                               \n",
      "{'activation_scale': 2.613639485942496, 'lambda_l1': 2.3645230319276968e-07, 'lambda_l2': 1.8849375209312827e-05, 'learning_rate': 0.014078337847734608, 'non': 12, 'p_c_loss_factor': 0.0005867168429080168}\n",
      "4.516431804634077                                                                \n",
      "{'activation_scale': 5.661036134563599, 'lambda_l1': 2.0413340896809054e-06, 'lambda_l2': 0.00046299194445247055, 'learning_rate': 0.0025452746080743983, 'non': 16, 'p_c_loss_factor': 2.1195860511306624e-07}\n",
      "0.46748923436336826                                                              \n",
      "{'activation_scale': 6.57945394310778, 'lambda_l1': 0.003640306893427094, 'lambda_l2': 0.008461917951636025, 'learning_rate': 0.01094427556992965, 'non': 10, 'p_c_loss_factor': 0.9891438532112623}\n",
      "2.7588908979408355                                                               \n",
      "{'activation_scale': 8.369155760265846, 'lambda_l1': 1.026823172634827e-06, 'lambda_l2': 0.00022158078878995135, 'learning_rate': 0.06964880334312543, 'non': 8, 'p_c_loss_factor': 0.14209618866077464}\n",
      "9.915258032394108                                                                \n",
      "{'activation_scale': 5.614675965681958, 'lambda_l1': 2.2289678379672436e-05, 'lambda_l2': 4.761390537682838e-06, 'learning_rate': 0.00013818100179642122, 'non': 14, 'p_c_loss_factor': 1.9007720599371588e-06}\n",
      "4.265692336439023                                                                \n",
      "{'activation_scale': 2.903131270896923, 'lambda_l1': 7.943793841786445e-06, 'lambda_l2': 1.2817819338258401e-06, 'learning_rate': 0.0034652947604909973, 'non': 12, 'p_c_loss_factor': 0.00043167534105008923}\n",
      "7.328452600636014                                                                \n",
      "{'activation_scale': 4.174311193228186, 'lambda_l1': 4.990007839772225e-06, 'lambda_l2': 0.0012056936290552502, 'learning_rate': 0.0006323318131591572, 'non': 16, 'p_c_loss_factor': 0.0017810587925226086}\n",
      "0.2109968007812979                                                               \n",
      "{'activation_scale': 7.739077211393743, 'lambda_l1': 4.459094569854082e-05, 'lambda_l2': 5.0866597255963e-07, 'learning_rate': 0.03436758145164347, 'non': 10, 'p_c_loss_factor': 2.896300258786277e-07}\n",
      "4.624991422590169                                                                \n",
      "{'activation_scale': 9.249937163227056, 'lambda_l1': 0.00014004967874680206, 'lambda_l2': 0.09714064607538, 'learning_rate': 0.01725907665605111, 'non': 12, 'p_c_loss_factor': 0.00010198056597176438}\n",
      "8.367498791213093                                                                \n",
      "{'activation_scale': 4.6189595900360665, 'lambda_l1': 1.589790004683186e-06, 'lambda_l2': 0.002193648924748866, 'learning_rate': 0.0002813290747251111, 'non': 14, 'p_c_loss_factor': 3.20480886607414e-05}\n",
      "6.631661802108964                                                                \n",
      "{'activation_scale': 5.328176252927473, 'lambda_l1': 6.336086139570068e-07, 'lambda_l2': 4.671196651137297e-06, 'learning_rate': 0.0019566064071639953, 'non': 10, 'p_c_loss_factor': 0.0002557682757895393}\n",
      "7.691371663725808                                                                \n",
      "{'activation_scale': 1.8091926159987044, 'lambda_l1': 2.1744261976099104e-07, 'lambda_l2': 2.3287093042885514e-07, 'learning_rate': 0.07878556148523419, 'non': 20, 'p_c_loss_factor': 1.1604807590393457e-05}\n",
      "538.1269893932624                                                                \n",
      "{'activation_scale': 6.289605266578077, 'lambda_l1': 0.0020812612905009463, 'lambda_l2': 0.011615537973815641, 'learning_rate': 1.080948827571467e-05, 'non': 8, 'p_c_loss_factor': 5.367845142419239e-06}\n",
      "0.8389178628713133                                                               \n",
      "{'activation_scale': 9.750183736969378, 'lambda_l1': 0.012354263066926136, 'lambda_l2': 1.8330511451857685e-05, 'learning_rate': 0.0423828957645666, 'non': 14, 'p_c_loss_factor': 0.03445061804150571}\n",
      "7.467990194227621                                                                \n",
      "{'activation_scale': 7.172179862360543, 'lambda_l1': 9.640819123079227e-05, 'lambda_l2': 4.305808873704168e-05, 'learning_rate': 0.005398721345546066, 'non': 18, 'p_c_loss_factor': 0.00646543484767946}\n",
      "2.8942643937501                                                                  \n",
      "{'activation_scale': 3.57340179956039, 'lambda_l1': 6.476647565270632e-06, 'lambda_l2': 0.00011297609141510976, 'learning_rate': 0.008212190642723318, 'non': 12, 'p_c_loss_factor': 0.8749713981996788}\n",
      "0.23581436421446533                                                              \n",
      "{'activation_scale': 4.622772857223355, 'lambda_l1': 1.31762381192436e-05, 'lambda_l2': 0.0005796433767699445, 'learning_rate': 0.05772038097596137, 'non': 14, 'p_c_loss_factor': 0.0013893070923758028}\n",
      "100%|██████████| 50/50 [29:58<00:00, 35.96s/trial, best loss: 0.2056106864754694]\n",
      "Best hyperparameters: {'activation_scale': 6.6180159629603885, 'lambda_l1': 2.1095389694204057e-07, 'lambda_l2': 2.038997862174505e-05, 'learning_rate': 0.023229194883208, 'non': 10.0, 'p_c_loss_factor': 1.3966427489243634e-07}\n"
     ]
    }
   ],
   "source": [
    "trials = Trials()\n",
    "best_params = fmin(fn=objective,\n",
    "                   space=space,\n",
    "                   algo=tpe.suggest,\n",
    "                   max_evals=50,\n",
    "                   trials=trials)\n",
    "print(\"Best hyperparameters:\", best_params)"
   ]
  },
  {
   "cell_type": "code",
   "execution_count": 12,
   "metadata": {
    "execution": {
     "iopub.execute_input": "2024-08-13T22:07:57.560180Z",
     "iopub.status.busy": "2024-08-13T22:07:57.560180Z",
     "iopub.status.idle": "2024-08-13T22:07:58.040105Z",
     "shell.execute_reply": "2024-08-13T22:07:58.040105Z"
    }
   },
   "outputs": [],
   "source": [
    "param_df.to_csv(f'param_df{current_target}.csv')"
   ]
  },
  {
   "cell_type": "code",
   "execution_count": 13,
   "metadata": {
    "execution": {
     "iopub.execute_input": "2024-08-13T22:07:58.040105Z",
     "iopub.status.busy": "2024-08-13T22:07:58.040105Z",
     "iopub.status.idle": "2024-08-13T22:08:55.650665Z",
     "shell.execute_reply": "2024-08-13T22:08:55.650665Z"
    }
   },
   "outputs": [
    {
     "name": "stderr",
     "output_type": "stream",
     "text": [
      "C:\\Users\\Administrator\\AppData\\Local\\Temp\\2\\ipykernel_4028\\90643497.py:1: FutureWarning: You are using `torch.load` with `weights_only=False` (the current default value), which uses the default pickle module implicitly. It is possible to construct malicious pickle data which will execute arbitrary code during unpickling (See https://github.com/pytorch/pytorch/blob/main/SECURITY.md#untrusted-models for more details). In a future release, the default value for `weights_only` will be flipped to `True`. This limits the functions that could be executed during unpickling. Arbitrary objects will no longer be allowed to be loaded via this mode unless they are explicitly allowlisted by the user via `torch.serialization.add_safe_globals`. We recommend you start setting `weights_only=True` for any use case where you don't have full control of the loaded file. Please open an issue on GitHub for any issues related to this experimental feature.\n",
      "  checkpoint = torch.load(f\"{current_target}_bestest_model.pth\")\n"
     ]
    },
    {
     "data": {
      "text/plain": [
       "<All keys matched successfully>"
      ]
     },
     "execution_count": 13,
     "metadata": {},
     "output_type": "execute_result"
    }
   ],
   "source": [
    "checkpoint = torch.load(f\"{current_target}_bestest_model.pth\")\n",
    "params1 = checkpoint['params']\n",
    "model = Net(\n",
    "    n_feature=8,\n",
    "    n_hidden=params1['non'],\n",
    "    n_output=1,\n",
    "    activation_fn=nn.SiLU,\n",
    "    activation_scale=params1['activation_scale']\n",
    ")\n",
    "model.load_state_dict(checkpoint['model_state_dict'])"
   ]
  },
  {
   "cell_type": "code",
   "execution_count": 14,
   "metadata": {
    "execution": {
     "iopub.execute_input": "2024-08-13T22:08:55.650665Z",
     "iopub.status.busy": "2024-08-13T22:08:55.650665Z",
     "iopub.status.idle": "2024-08-13T22:08:55.668687Z",
     "shell.execute_reply": "2024-08-13T22:08:55.668687Z"
    }
   },
   "outputs": [
    {
     "data": {
      "text/plain": [
       "0.20258908693673455"
      ]
     },
     "execution_count": 14,
     "metadata": {},
     "output_type": "execute_result"
    }
   ],
   "source": [
    "model.eval()\n",
    "with torch.no_grad():\n",
    "    test_predictions = model(dataset['test_input'])\n",
    "mse(dataset['test_label'].numpy(), test_predictions.numpy())"
   ]
  },
  {
   "cell_type": "code",
   "execution_count": 15,
   "metadata": {
    "execution": {
     "iopub.execute_input": "2024-08-13T22:08:55.668687Z",
     "iopub.status.busy": "2024-08-13T22:08:55.668687Z",
     "iopub.status.idle": "2024-08-13T22:08:55.679565Z",
     "shell.execute_reply": "2024-08-13T22:08:55.679565Z"
    }
   },
   "outputs": [
    {
     "data": {
      "text/plain": [
       "0.9979729364097856"
      ]
     },
     "execution_count": 15,
     "metadata": {},
     "output_type": "execute_result"
    }
   ],
   "source": [
    "r2_score(dataset['test_label'].numpy(), test_predictions.numpy())"
   ]
  },
  {
   "cell_type": "markdown",
   "metadata": {},
   "source": [
    "# Second Ouput"
   ]
  },
  {
   "cell_type": "code",
   "execution_count": 16,
   "metadata": {
    "execution": {
     "iopub.execute_input": "2024-08-13T22:08:55.679565Z",
     "iopub.status.busy": "2024-08-13T22:08:55.679565Z",
     "iopub.status.idle": "2024-08-13T22:08:55.693984Z",
     "shell.execute_reply": "2024-08-13T22:08:55.693984Z"
    }
   },
   "outputs": [],
   "source": [
    "df=pd.read_csv('data.csv',header=1)\n",
    "df=df.drop(columns=['hl'])\n",
    "current_target='cl'"
   ]
  },
  {
   "cell_type": "code",
   "execution_count": 17,
   "metadata": {
    "execution": {
     "iopub.execute_input": "2024-08-13T22:08:55.693984Z",
     "iopub.status.busy": "2024-08-13T22:08:55.693984Z",
     "iopub.status.idle": "2024-08-13T22:08:55.710865Z",
     "shell.execute_reply": "2024-08-13T22:08:55.710865Z"
    }
   },
   "outputs": [],
   "source": [
    "df = df.sort_index()\n",
    "x = df.drop(columns=current_target)\n",
    "y = df[current_target]\n",
    "x_train, x_test, y_train, y_test = train_test_split(x, y, test_size=0.3, random_state=81) #81 cl, 17 hl,\n",
    "set_seed(42)"
   ]
  },
  {
   "cell_type": "code",
   "execution_count": 18,
   "metadata": {},
   "outputs": [],
   "source": [
    "dataset = {}\n",
    "train_input=x_train.to_numpy()\n",
    "train_label=y_train.to_numpy()\n",
    "test_input=x_test.to_numpy()\n",
    "test_label=y_test.to_numpy()"
   ]
  },
  {
   "cell_type": "code",
   "execution_count": 19,
   "metadata": {
    "execution": {
     "iopub.execute_input": "2024-08-13T22:08:55.710865Z",
     "iopub.status.busy": "2024-08-13T22:08:55.710865Z",
     "iopub.status.idle": "2024-08-13T22:08:55.722721Z",
     "shell.execute_reply": "2024-08-13T22:08:55.722721Z"
    }
   },
   "outputs": [],
   "source": [
    "scaler_input = MinMaxScaler()\n",
    "\n",
    "train_input_scaled = scaler_input.fit_transform(train_input)\n",
    "test_input_scaled = scaler_input.transform(test_input)\n",
    "\n",
    "dataset['train_input'] = torch.from_numpy(train_input_scaled).type(dtype)\n",
    "dataset['test_input'] = torch.from_numpy(test_input_scaled).type(dtype)\n",
    "dataset['train_label'] = torch.from_numpy(train_label[:,None]).type(dtype)\n",
    "dataset['test_label'] = torch.from_numpy(test_label[:,None]).type(dtype)"
   ]
  },
  {
   "cell_type": "code",
   "execution_count": 20,
   "metadata": {
    "execution": {
     "iopub.execute_input": "2024-08-13T22:08:55.722721Z",
     "iopub.status.busy": "2024-08-13T22:08:55.722721Z",
     "iopub.status.idle": "2024-08-13T22:08:55.731776Z",
     "shell.execute_reply": "2024-08-13T22:08:55.731776Z"
    }
   },
   "outputs": [],
   "source": [
    "space = {\n",
    "    'learning_rate': hp.loguniform('learning_rate', np.log(1e-5), np.log(1e-1)),\n",
    "    'lambda_l1': hp.loguniform('lambda_l1', np.log(1e-7), np.log(1e-1)),\n",
    "    'lambda_l2': hp.loguniform('lambda_l2', np.log(1e-7), np.log(1e-1)),\n",
    "    'non': hp.quniform('non', 8, 20, 2),\n",
    "    'p_c_loss_factor': hp.loguniform('p_c_loss_factor', np.log(1e-7), np.log(1)),\n",
    "    'activation_scale': hp.uniform('activation_scale', 0.1, 10.0)\n",
    "}"
   ]
  },
  {
   "cell_type": "code",
   "execution_count": 21,
   "metadata": {
    "execution": {
     "iopub.execute_input": "2024-08-13T22:08:55.731776Z",
     "iopub.status.busy": "2024-08-13T22:08:55.731776Z",
     "iopub.status.idle": "2024-08-13T22:08:55.752511Z",
     "shell.execute_reply": "2024-08-13T22:08:55.752511Z"
    }
   },
   "outputs": [],
   "source": [
    "param_df = pd.DataFrame(columns=['params', 'loss_curve_train', 'loss_curve_test', 'best_score'])\n",
    "trial_no = 0\n",
    "bestest_score = float('inf')  # Initialize global variable\n",
    "\n",
    "set_seed(42)\n",
    "def objective(params):\n",
    "    set_seed(42)\n",
    "    global trial_no, bestest_score  \n",
    "    trial_no += 1\n",
    "    params['non'] = int(params['non'])\n",
    "    model = Net(\n",
    "        n_feature=8,\n",
    "        n_hidden=params['non'],\n",
    "        n_output=1,\n",
    "        activation_fn=nn.SiLU,\n",
    "        activation_scale=params['activation_scale']\n",
    "    )\n",
    "    \n",
    "    criterion = nn.MSELoss()\n",
    "    optimizer = optim.Adam(model.parameters(), lr=params['learning_rate'], weight_decay=params['lambda_l2'])\n",
    "    num_epochs = 5000\n",
    "    patience = 200\n",
    "    best_loss = float('inf')\n",
    "    epochs_no_improve = 0\n",
    "    param_df['params'].loc[trial_no] = params\n",
    "    training_loss = []\n",
    "    test_loss = []\n",
    "    \n",
    "    for epoch in range(num_epochs):\n",
    "        set_seed(42)\n",
    "        model.train()\n",
    "        optimizer.zero_grad()\n",
    "        predictions = model(dataset['train_input'])\n",
    "        main_loss = criterion(predictions, dataset['train_label'])\n",
    "        l1_loss = sum(p.abs().sum() for p in model.parameters())\n",
    "        pc_loss = p_c(dataset['train_input'], dataset['train_label'], predictions)\n",
    "        loss = main_loss + (params['lambda_l1'] * l1_loss) + (params['p_c_loss_factor'] * pc_loss)\n",
    "        loss.backward()\n",
    "        optimizer.step()\n",
    "        training_loss.append(loss.item())\n",
    "        \n",
    "        model.eval()\n",
    "        with torch.no_grad():\n",
    "            val_predictions = model(dataset['test_input'])\n",
    "            temp_score = mse(dataset['test_label'].numpy(), val_predictions.numpy())**0.5  # Move tensors to CPU before numpy\n",
    "        test_loss.append(temp_score)\n",
    "        \n",
    "        if temp_score < best_loss:\n",
    "            best_loss = temp_score\n",
    "            epochs_no_improve = 0\n",
    "            best_model_state = model.state_dict()\n",
    "        else:\n",
    "            epochs_no_improve += 1\n",
    "        \n",
    "        if epochs_no_improve >= patience:\n",
    "            model.load_state_dict(best_model_state)\n",
    "            break\n",
    "        \n",
    "        # Update the bestest score\n",
    "        if temp_score < bestest_score:\n",
    "            bestest_score = temp_score\n",
    "            torch.save({'model_state_dict': best_model_state, 'params': params}, f\"{current_target}_bestest_model.pth\")\n",
    "    \n",
    "    \n",
    "    model.eval()\n",
    "    with torch.no_grad():\n",
    "        test_predictions = model(dataset['test_input'])\n",
    "    score = mse(dataset['test_label'].numpy(), test_predictions.numpy())**0.5  # Move tensors to CPU before numpy\n",
    "    param_df.loc[trial_no] = [params, training_loss, test_loss, score]\n",
    "    print(score)\n",
    "    print(params)\n",
    "    return score\n"
   ]
  },
  {
   "cell_type": "code",
   "execution_count": 22,
   "metadata": {
    "execution": {
     "iopub.execute_input": "2024-08-13T22:08:55.752511Z",
     "iopub.status.busy": "2024-08-13T22:08:55.752511Z",
     "iopub.status.idle": "2024-08-13T22:29:18.467432Z",
     "shell.execute_reply": "2024-08-13T22:29:18.467432Z"
    }
   },
   "outputs": [
    {
     "name": "stdout",
     "output_type": "stream",
     "text": [
      "1.6660204019177005                                    \n",
      "{'activation_scale': 3.0669414699578583, 'lambda_l1': 0.010341530265629865, 'lambda_l2': 5.88009734818134e-07, 'learning_rate': 0.012805041661522258, 'non': 12, 'p_c_loss_factor': 0.0006813743989514367}\n",
      "3.9787898405275963                                                              \n",
      "{'activation_scale': 9.981586709742182, 'lambda_l1': 7.26665831856565e-05, 'lambda_l2': 0.08368886145498249, 'learning_rate': 8.928390095527727e-05, 'non': 14, 'p_c_loss_factor': 1.1866914936287358e-06}\n",
      "15.853942145827247                                                              \n",
      "{'activation_scale': 5.058822242641855, 'lambda_l1': 0.010397884937419213, 'lambda_l2': 2.8814658724898818e-05, 'learning_rate': 3.47197761803447e-05, 'non': 16, 'p_c_loss_factor': 0.004131231076443724}\n",
      "1.6534151554667311                                                              \n",
      "{'activation_scale': 8.383631809566136, 'lambda_l1': 1.5226525499782866e-06, 'lambda_l2': 5.501809062681827e-06, 'learning_rate': 0.01223862909833021, 'non': 16, 'p_c_loss_factor': 4.3572392267513457e-07}\n",
      "2.341005381538314                                                               \n",
      "{'activation_scale': 0.7458897502573567, 'lambda_l1': 0.0006244632850787864, 'lambda_l2': 0.0002462338376835865, 'learning_rate': 0.007610001607727605, 'non': 12, 'p_c_loss_factor': 0.49587273934730053}\n",
      "3.2088564902648384                                                              \n",
      "{'activation_scale': 2.8942794238635847, 'lambda_l1': 0.05383522613611521, 'lambda_l2': 2.50113942463155e-05, 'learning_rate': 0.00047569006879504585, 'non': 10, 'p_c_loss_factor': 8.223966194823424e-06}\n",
      "3.5453419999326723                                                              \n",
      "{'activation_scale': 7.896445020690564, 'lambda_l1': 2.4859106478108496e-05, 'lambda_l2': 0.007545698235126267, 'learning_rate': 0.0001331510746740461, 'non': 14, 'p_c_loss_factor': 6.797935745418527e-06}\n",
      "2.1625901395247262                                                              \n",
      "{'activation_scale': 7.991455323934196, 'lambda_l1': 0.013633633304159226, 'lambda_l2': 4.336899259086791e-06, 'learning_rate': 0.03289813216282601, 'non': 12, 'p_c_loss_factor': 0.0022653741516364782}\n",
      "24.459438438911008                                                              \n",
      "{'activation_scale': 3.940788045663859, 'lambda_l1': 4.879045171219791e-06, 'lambda_l2': 8.279282842978095e-06, 'learning_rate': 1.6442204127255656e-05, 'non': 10, 'p_c_loss_factor': 8.207918642220615e-05}\n",
      "1.646294370283974                                                               \n",
      "{'activation_scale': 4.470357293128538, 'lambda_l1': 2.809996349496164e-07, 'lambda_l2': 0.012993657804161065, 'learning_rate': 0.017859695432261496, 'non': 12, 'p_c_loss_factor': 0.03465629443375357}\n",
      "3.0776590652534814                                                              \n",
      "{'activation_scale': 9.328169654785121, 'lambda_l1': 3.8356507995484095e-07, 'lambda_l2': 4.5654853784744125e-07, 'learning_rate': 0.0003609638281383293, 'non': 18, 'p_c_loss_factor': 4.773318173463532e-07}\n",
      "2.034267294344694                                                               \n",
      "{'activation_scale': 7.52308671400356, 'lambda_l1': 0.0002497826871682338, 'lambda_l2': 3.02154237454893e-05, 'learning_rate': 0.0037817830668850512, 'non': 18, 'p_c_loss_factor': 0.0033345232596368934}\n",
      "3.5305015813386187                                                              \n",
      "{'activation_scale': 2.589975095333402, 'lambda_l1': 0.00011486511892112188, 'lambda_l2': 2.3581457577810434e-06, 'learning_rate': 0.00024304110528006978, 'non': 10, 'p_c_loss_factor': 0.046025993725186044}\n",
      "5.952678789893954                                                               \n",
      "{'activation_scale': 1.1266211312493137, 'lambda_l1': 3.6450944337711074e-05, 'lambda_l2': 1.3716278386457667e-07, 'learning_rate': 0.00015672049826950525, 'non': 14, 'p_c_loss_factor': 0.0045325126880821215}\n",
      "2.6589350056251773                                                              \n",
      "{'activation_scale': 9.455544336758736, 'lambda_l1': 6.179366220301818e-07, 'lambda_l2': 8.831444299823912e-06, 'learning_rate': 0.00292265529246999, 'non': 10, 'p_c_loss_factor': 0.00439734398538338}\n",
      "2.8868918062063433                                                              \n",
      "{'activation_scale': 8.34457693778426, 'lambda_l1': 3.156264858468319e-06, 'lambda_l2': 7.136890966911109e-06, 'learning_rate': 0.001360029267171094, 'non': 10, 'p_c_loss_factor': 0.0017348387419278098}\n",
      "2.2366853235549256                                                              \n",
      "{'activation_scale': 3.714611885925958, 'lambda_l1': 0.0011749800144535943, 'lambda_l2': 1.9857827042109163e-06, 'learning_rate': 0.005785545166453763, 'non': 16, 'p_c_loss_factor': 0.00020661720053087674}\n",
      "3.0656733784209336                                                              \n",
      "{'activation_scale': 6.280278957998094, 'lambda_l1': 2.021441761730697e-05, 'lambda_l2': 2.3051160272420338e-07, 'learning_rate': 0.0006811378258633081, 'non': 8, 'p_c_loss_factor': 0.001382261689005833}\n",
      "3.4189271605447504                                                              \n",
      "{'activation_scale': 5.7813913284055625, 'lambda_l1': 2.0662265790089434e-05, 'lambda_l2': 0.041839977618117856, 'learning_rate': 0.00022959218447055825, 'non': 8, 'p_c_loss_factor': 0.0026996437280203778}\n",
      "2.874027951770287                                                               \n",
      "{'activation_scale': 7.869962081232428, 'lambda_l1': 0.07674420451453301, 'lambda_l2': 1.3684559788510701e-05, 'learning_rate': 0.0365385763762802, 'non': 18, 'p_c_loss_factor': 4.850582973006691e-06}\n",
      "1.8085550171771998                                                              \n",
      "{'activation_scale': 6.712761792620004, 'lambda_l1': 1.0150731744698348e-07, 'lambda_l2': 0.0005608934834354532, 'learning_rate': 0.05455089683475382, 'non': 20, 'p_c_loss_factor': 0.16427233268203073}\n",
      "1.8371366603651151                                                              \n",
      "{'activation_scale': 4.749281956562637, 'lambda_l1': 2.900535883460402e-07, 'lambda_l2': 0.0033328116219837668, 'learning_rate': 0.015692607028173437, 'non': 16, 'p_c_loss_factor': 1.3892209726601873e-07}\n",
      "1.6315675078634355                                                              \n",
      "{'activation_scale': 1.8319075261093154, 'lambda_l1': 2.0337252134842335e-06, 'lambda_l2': 0.0015751543730777176, 'learning_rate': 0.08382280027696572, 'non': 20, 'p_c_loss_factor': 0.0358859622602456}\n",
      "1.7293792064693703                                                               \n",
      "{'activation_scale': 1.2883250976061893, 'lambda_l1': 1.9119336425420055e-07, 'lambda_l2': 0.001884595828302544, 'learning_rate': 0.09425001324146515, 'non': 12, 'p_c_loss_factor': 0.02775228049944254}\n",
      "3.0674459342185                                                                  \n",
      "{'activation_scale': 0.1215340616622238, 'lambda_l1': 4.653871002039803e-06, 'lambda_l2': 0.015946429290335164, 'learning_rate': 0.0903149196847545, 'non': 20, 'p_c_loss_factor': 0.9167347209004393}\n",
      "2.904988007266524                                                                \n",
      "{'activation_scale': 2.5343606226828936, 'lambda_l1': 1.1448517178420263e-06, 'lambda_l2': 0.0009839814004482406, 'learning_rate': 0.0012824445888294871, 'non': 12, 'p_c_loss_factor': 0.019577176370098842}\n",
      "1.6692123803116645                                                               \n",
      "{'activation_scale': 1.7709683794907032, 'lambda_l1': 1.1009790013348831e-05, 'lambda_l2': 0.00015530836421399718, 'learning_rate': 0.024883834816127725, 'non': 14, 'p_c_loss_factor': 0.14022603128157338}\n",
      "2.3061783215694613                                                               \n",
      "{'activation_scale': 4.4326920170990025, 'lambda_l1': 1.2451162688755068e-07, 'lambda_l2': 0.017122394989368853, 'learning_rate': 0.07013670814267901, 'non': 8, 'p_c_loss_factor': 0.16952236667618684}\n",
      "2.0705652632995895                                                               \n",
      "{'activation_scale': 1.931887104361428, 'lambda_l1': 8.493417846089163e-07, 'lambda_l2': 0.005227289278473304, 'learning_rate': 0.021980614462387082, 'non': 12, 'p_c_loss_factor': 0.0003631118816113198}\n",
      "2.8661543012566297                                                               \n",
      "{'activation_scale': 3.3200306184452435, 'lambda_l1': 2.3188587290657302e-06, 'lambda_l2': 0.06446966298848616, 'learning_rate': 0.04587944763839758, 'non': 20, 'p_c_loss_factor': 0.013202031059378953}\n",
      "2.717749813388509                                                                \n",
      "{'activation_scale': 0.32046230959858346, 'lambda_l1': 9.624980762224335e-06, 'lambda_l2': 0.00047858010015186953, 'learning_rate': 0.002256181675586156, 'non': 18, 'p_c_loss_factor': 0.07100980489204096}\n",
      "1.6321417265651443                                                               \n",
      "{'activation_scale': 5.447462383781458, 'lambda_l1': 0.0035090617570824713, 'lambda_l2': 6.0003899659662314e-05, 'learning_rate': 0.008221124506574666, 'non': 14, 'p_c_loss_factor': 6.096240861803144e-05}\n",
      "1.6492629055599104                                                               \n",
      "{'activation_scale': 5.4928532708042255, 'lambda_l1': 0.002985824314444063, 'lambda_l2': 0.00017574884396236417, 'learning_rate': 0.009222841018566522, 'non': 16, 'p_c_loss_factor': 4.2513167070611995e-05}\n",
      "1.6295462506970428                                                               \n",
      "{'activation_scale': 7.083123898165651, 'lambda_l1': 0.0035651831547001034, 'lambda_l2': 4.684089756116087e-05, 'learning_rate': 0.005260424699007598, 'non': 20, 'p_c_loss_factor': 2.8800024823295002e-05}\n",
      "1.826514457793064                                                                \n",
      "{'activation_scale': 6.9248223698555424, 'lambda_l1': 0.03356037063678926, 'lambda_l2': 6.83039835145883e-05, 'learning_rate': 0.004832475122858885, 'non': 20, 'p_c_loss_factor': 2.358281267096404e-06}\n",
      "2.392059224887416                                                                \n",
      "{'activation_scale': 9.780971542438426, 'lambda_l1': 0.00034042199500468697, 'lambda_l2': 0.0004425116187049627, 'learning_rate': 0.0022934751278484633, 'non': 18, 'p_c_loss_factor': 2.8593826615807012e-05}\n",
      "6.0246484790447115                                                               \n",
      "{'activation_scale': 8.89546509440317, 'lambda_l1': 0.00010373880135080055, 'lambda_l2': 0.0013222146690503045, 'learning_rate': 5.515180148465613e-05, 'non': 20, 'p_c_loss_factor': 2.0370811353734923e-05}\n",
      "1.660888747275576                                                                \n",
      "{'activation_scale': 7.104220025143321, 'lambda_l1': 0.004262579659648264, 'lambda_l2': 3.423356636953321e-05, 'learning_rate': 0.013644071540625555, 'non': 20, 'p_c_loss_factor': 0.00022001160682109253}\n",
      "23.650992878540873                                                               \n",
      "{'activation_scale': 6.361320291842962, 'lambda_l1': 0.01592380800548587, 'lambda_l2': 1.519737476935305e-06, 'learning_rate': 1.1505203974428572e-05, 'non': 16, 'p_c_loss_factor': 0.0006572891982873408}\n",
      "14.158977548097958                                                               \n",
      "{'activation_scale': 5.997747889677773, 'lambda_l1': 0.001999839652536609, 'lambda_l2': 0.0001075746384785867, 'learning_rate': 3.1828076999556946e-05, 'non': 18, 'p_c_loss_factor': 1.4715604322117217e-05}\n",
      "1.6683169633753356                                                               \n",
      "{'activation_scale': 4.946142752824613, 'lambda_l1': 0.0006047183582858796, 'lambda_l2': 0.00030593431812580717, 'learning_rate': 0.09985383457615314, 'non': 18, 'p_c_loss_factor': 0.009084247733056806}\n",
      "2.9532819528823575                                                               \n",
      "{'activation_scale': 3.933159106880504, 'lambda_l1': 0.007561040677259367, 'lambda_l2': 0.0031928226923415384, 'learning_rate': 0.0008793704350945124, 'non': 20, 'p_c_loss_factor': 1.4728421007311594e-06}\n",
      "3.045734022137179                                                                \n",
      "{'activation_scale': 8.748322068210781, 'lambda_l1': 4.861041504474232e-05, 'lambda_l2': 8.968528833630578e-07, 'learning_rate': 0.0006190023483669576, 'non': 18, 'p_c_loss_factor': 3.985942324797931e-07}\n",
      "1.5730758803801355                                                               \n",
      "{'activation_scale': 7.51288415419732, 'lambda_l1': 0.00021785212980659788, 'lambda_l2': 1.59401922658383e-05, 'learning_rate': 0.029446452851234605, 'non': 20, 'p_c_loss_factor': 1.581873830829944e-07}\n",
      "1.5900165045448422                                                               \n",
      "{'activation_scale': 7.344247800561988, 'lambda_l1': 0.00020362332362767197, 'lambda_l2': 1.566842564686488e-05, 'learning_rate': 0.009796527933981352, 'non': 16, 'p_c_loss_factor': 2.985791366998832e-07}\n",
      "1.664812593925765                                                                \n",
      "{'activation_scale': 7.491144490865291, 'lambda_l1': 0.0002326852878295596, 'lambda_l2': 1.5919565057536075e-05, 'learning_rate': 0.01083351980404836, 'non': 16, 'p_c_loss_factor': 1.8331014242093207e-07}\n",
      "2.787880152575965                                                                \n",
      "{'activation_scale': 9.953342844740183, 'lambda_l1': 0.0007693208937536542, 'lambda_l2': 4.1286767842461965e-06, 'learning_rate': 0.0016618857318777224, 'non': 14, 'p_c_loss_factor': 6.777989954106003e-07}\n",
      "1.6009406019145263                                                               \n",
      "{'activation_scale': 9.05201193484971, 'lambda_l1': 7.175601345206364e-05, 'lambda_l2': 5.83338451326247e-07, 'learning_rate': 0.029168968582077643, 'non': 16, 'p_c_loss_factor': 2.389096224731219e-07}\n",
      "2.0754823301984464                                                               \n",
      "{'activation_scale': 8.397073867991082, 'lambda_l1': 0.0001733905408588723, 'lambda_l2': 1.102099734056339e-07, 'learning_rate': 0.0037521606018281963, 'non': 14, 'p_c_loss_factor': 3.556793110212633e-06}\n",
      "1.5766023596083407                                                               \n",
      "{'activation_scale': 8.216705852587562, 'lambda_l1': 0.0014042373243863774, 'lambda_l2': 3.090726152132515e-07, 'learning_rate': 0.056212844829532434, 'non': 18, 'p_c_loss_factor': 9.765671604440217e-06}\n",
      "100%|██████████| 50/50 [31:38<00:00, 37.98s/trial, best loss: 1.5730758803801355]\n",
      "Best hyperparameters: {'activation_scale': 7.51288415419732, 'lambda_l1': 0.00021785212980659788, 'lambda_l2': 1.59401922658383e-05, 'learning_rate': 0.029446452851234605, 'non': 20.0, 'p_c_loss_factor': 1.581873830829944e-07}\n"
     ]
    }
   ],
   "source": [
    "trials = Trials()\n",
    "best_params = fmin(fn=objective,\n",
    "                   space=space,\n",
    "                   algo=tpe.suggest,\n",
    "                   max_evals=50,\n",
    "                   trials=trials)\n",
    "print(\"Best hyperparameters:\", best_params)"
   ]
  },
  {
   "cell_type": "code",
   "execution_count": 23,
   "metadata": {
    "execution": {
     "iopub.execute_input": "2024-08-13T22:29:18.467432Z",
     "iopub.status.busy": "2024-08-13T22:29:18.467432Z",
     "iopub.status.idle": "2024-08-13T22:29:18.878016Z",
     "shell.execute_reply": "2024-08-13T22:29:18.878016Z"
    }
   },
   "outputs": [],
   "source": [
    "param_df.to_csv(f'param_df{current_target}.csv')"
   ]
  },
  {
   "cell_type": "code",
   "execution_count": 24,
   "metadata": {
    "execution": {
     "iopub.execute_input": "2024-08-13T22:29:18.878016Z",
     "iopub.status.busy": "2024-08-13T22:29:18.878016Z",
     "iopub.status.idle": "2024-08-13T22:29:42.665745Z",
     "shell.execute_reply": "2024-08-13T22:29:42.665745Z"
    }
   },
   "outputs": [
    {
     "name": "stderr",
     "output_type": "stream",
     "text": [
      "C:\\Users\\Administrator\\AppData\\Local\\Temp\\2\\ipykernel_4028\\90643497.py:1: FutureWarning: You are using `torch.load` with `weights_only=False` (the current default value), which uses the default pickle module implicitly. It is possible to construct malicious pickle data which will execute arbitrary code during unpickling (See https://github.com/pytorch/pytorch/blob/main/SECURITY.md#untrusted-models for more details). In a future release, the default value for `weights_only` will be flipped to `True`. This limits the functions that could be executed during unpickling. Arbitrary objects will no longer be allowed to be loaded via this mode unless they are explicitly allowlisted by the user via `torch.serialization.add_safe_globals`. We recommend you start setting `weights_only=True` for any use case where you don't have full control of the loaded file. Please open an issue on GitHub for any issues related to this experimental feature.\n",
      "  checkpoint = torch.load(f\"{current_target}_bestest_model.pth\")\n"
     ]
    },
    {
     "data": {
      "text/plain": [
       "<All keys matched successfully>"
      ]
     },
     "execution_count": 24,
     "metadata": {},
     "output_type": "execute_result"
    }
   ],
   "source": [
    "checkpoint = torch.load(f\"{current_target}_bestest_model.pth\")\n",
    "params1 = checkpoint['params']\n",
    "model = Net(\n",
    "    n_feature=8,\n",
    "    n_hidden=params1['non'],\n",
    "    n_output=1,\n",
    "    activation_fn=nn.SiLU,\n",
    "    activation_scale=params1['activation_scale']\n",
    ")\n",
    "model.load_state_dict(checkpoint['model_state_dict'])"
   ]
  },
  {
   "cell_type": "code",
   "execution_count": 25,
   "metadata": {
    "execution": {
     "iopub.execute_input": "2024-08-13T22:29:42.665745Z",
     "iopub.status.busy": "2024-08-13T22:29:42.665745Z",
     "iopub.status.idle": "2024-08-13T22:29:42.676812Z",
     "shell.execute_reply": "2024-08-13T22:29:42.676812Z"
    }
   },
   "outputs": [
    {
     "data": {
      "text/plain": [
       "1.562830466122937"
      ]
     },
     "execution_count": 25,
     "metadata": {},
     "output_type": "execute_result"
    }
   ],
   "source": [
    "model.eval()\n",
    "with torch.no_grad():\n",
    "    test_predictions = model(dataset['test_input'])\n",
    "mse(dataset['test_label'].numpy(), test_predictions.numpy())**0.5"
   ]
  },
  {
   "cell_type": "code",
   "execution_count": 26,
   "metadata": {
    "execution": {
     "iopub.execute_input": "2024-08-13T22:29:42.676812Z",
     "iopub.status.busy": "2024-08-13T22:29:42.676812Z",
     "iopub.status.idle": "2024-08-13T22:29:42.685316Z",
     "shell.execute_reply": "2024-08-13T22:29:42.685316Z"
    }
   },
   "outputs": [
    {
     "data": {
      "text/plain": [
       "0.9737961970457457"
      ]
     },
     "execution_count": 26,
     "metadata": {},
     "output_type": "execute_result"
    }
   ],
   "source": [
    "r2_score(dataset['test_label'].numpy(), test_predictions.numpy())"
   ]
  }
 ],
 "metadata": {
  "kernelspec": {
   "display_name": "Python 3",
   "language": "python",
   "name": "python3"
  },
  "language_info": {
   "codemirror_mode": {
    "name": "ipython",
    "version": 3
   },
   "file_extension": ".py",
   "mimetype": "text/x-python",
   "name": "python",
   "nbconvert_exporter": "python",
   "pygments_lexer": "ipython3",
   "version": "3.12.6"
  }
 },
 "nbformat": 4,
 "nbformat_minor": 2
}
